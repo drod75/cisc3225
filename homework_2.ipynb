{
 "cells": [
  {
   "cell_type": "markdown",
   "metadata": {},
   "source": [
    "## Dataset Questions"
   ]
  },
  {
   "cell_type": "code",
   "execution_count": 3,
   "metadata": {},
   "outputs": [
    {
     "data": {
      "application/vnd.microsoft.datawrangler.viewer.v0+json": {
       "columns": [
        {
         "name": "index",
         "rawType": "int64",
         "type": "integer"
        },
        {
         "name": "id",
         "rawType": "object",
         "type": "string"
        },
        {
         "name": "text",
         "rawType": "object",
         "type": "string"
        },
        {
         "name": "text_norm",
         "rawType": "object",
         "type": "string"
        }
       ],
       "conversionMethod": "pd.DataFrame",
       "ref": "a66a4111-2860-4a1d-8b57-b97352b784f1",
       "rows": [
        [
         "13090",
         "LJ050-0269",
         "The essential terms of such memoranda might well be embodied in an Executive order.",
         "The essential terms of such memoranda might well be embodied in an Executive order."
        ],
        [
         "13091",
         "LJ050-0270",
         "This Commission can recommend no procedures for the future protection of our Presidents which will guarantee security.",
         "This Commission can recommend no procedures for the future protection of our Presidents which will guarantee security."
        ],
        [
         "13092",
         "LJ050-0271",
         "The demands on the President in the execution of His responsibilities in today's world are so varied and complex",
         "The demands on the President in the execution of His responsibilities in today's world are so varied and complex"
        ],
        [
         "13093",
         "LJ050-0272",
         "and the traditions of the office in a democracy such as ours are so deep-seated as to preclude absolute security.",
         "and the traditions of the office in a democracy such as ours are so deep-seated as to preclude absolute security."
        ],
        [
         "13094",
         "LJ050-0273",
         "The Commission has, however, from its examination of the facts of President Kennedy's assassination",
         "The Commission has, however, from its examination of the facts of President Kennedy's assassination"
        ],
        [
         "13095",
         "LJ050-0274",
         "made certain recommendations which it believes would, if adopted,",
         "made certain recommendations which it believes would, if adopted,"
        ],
        [
         "13096",
         "LJ050-0275",
         "materially improve upon the procedures in effect at the time of President Kennedy's assassination and result in a substantial lessening of the danger.",
         "materially improve upon the procedures in effect at the time of President Kennedy's assassination and result in a substantial lessening of the danger."
        ],
        [
         "13097",
         "LJ050-0276",
         "As has been pointed out, the Commission has not resolved all the proposals which could be made. The Commission nevertheless is confident that,",
         "As has been pointed out, the Commission has not resolved all the proposals which could be made. The Commission nevertheless is confident that,"
        ],
        [
         "13098",
         "LJ050-0277",
         "with the active cooperation of the responsible agencies and with the understanding of the people of the United States in their demands upon their President,",
         "with the active cooperation of the responsible agencies and with the understanding of the people of the United States in their demands upon their President,"
        ],
        [
         "13099",
         "LJ050-0278",
         "the recommendations we have here suggested would greatly advance the security of the office without any impairment of our fundamental liberties.",
         "the recommendations we have here suggested would greatly advance the security of the office without any impairment of our fundamental liberties."
        ]
       ],
       "shape": {
        "columns": 3,
        "rows": 10
       }
      },
      "text/html": [
       "<div>\n",
       "<style scoped>\n",
       "    .dataframe tbody tr th:only-of-type {\n",
       "        vertical-align: middle;\n",
       "    }\n",
       "\n",
       "    .dataframe tbody tr th {\n",
       "        vertical-align: top;\n",
       "    }\n",
       "\n",
       "    .dataframe thead th {\n",
       "        text-align: right;\n",
       "    }\n",
       "</style>\n",
       "<table border=\"1\" class=\"dataframe\">\n",
       "  <thead>\n",
       "    <tr style=\"text-align: right;\">\n",
       "      <th></th>\n",
       "      <th>id</th>\n",
       "      <th>text</th>\n",
       "      <th>text_norm</th>\n",
       "    </tr>\n",
       "  </thead>\n",
       "  <tbody>\n",
       "    <tr>\n",
       "      <th>13090</th>\n",
       "      <td>LJ050-0269</td>\n",
       "      <td>The essential terms of such memoranda might we...</td>\n",
       "      <td>The essential terms of such memoranda might we...</td>\n",
       "    </tr>\n",
       "    <tr>\n",
       "      <th>13091</th>\n",
       "      <td>LJ050-0270</td>\n",
       "      <td>This Commission can recommend no procedures fo...</td>\n",
       "      <td>This Commission can recommend no procedures fo...</td>\n",
       "    </tr>\n",
       "    <tr>\n",
       "      <th>13092</th>\n",
       "      <td>LJ050-0271</td>\n",
       "      <td>The demands on the President in the execution ...</td>\n",
       "      <td>The demands on the President in the execution ...</td>\n",
       "    </tr>\n",
       "    <tr>\n",
       "      <th>13093</th>\n",
       "      <td>LJ050-0272</td>\n",
       "      <td>and the traditions of the office in a democrac...</td>\n",
       "      <td>and the traditions of the office in a democrac...</td>\n",
       "    </tr>\n",
       "    <tr>\n",
       "      <th>13094</th>\n",
       "      <td>LJ050-0273</td>\n",
       "      <td>The Commission has, however, from its examinat...</td>\n",
       "      <td>The Commission has, however, from its examinat...</td>\n",
       "    </tr>\n",
       "    <tr>\n",
       "      <th>13095</th>\n",
       "      <td>LJ050-0274</td>\n",
       "      <td>made certain recommendations which it believes...</td>\n",
       "      <td>made certain recommendations which it believes...</td>\n",
       "    </tr>\n",
       "    <tr>\n",
       "      <th>13096</th>\n",
       "      <td>LJ050-0275</td>\n",
       "      <td>materially improve upon the procedures in effe...</td>\n",
       "      <td>materially improve upon the procedures in effe...</td>\n",
       "    </tr>\n",
       "    <tr>\n",
       "      <th>13097</th>\n",
       "      <td>LJ050-0276</td>\n",
       "      <td>As has been pointed out, the Commission has no...</td>\n",
       "      <td>As has been pointed out, the Commission has no...</td>\n",
       "    </tr>\n",
       "    <tr>\n",
       "      <th>13098</th>\n",
       "      <td>LJ050-0277</td>\n",
       "      <td>with the active cooperation of the responsible...</td>\n",
       "      <td>with the active cooperation of the responsible...</td>\n",
       "    </tr>\n",
       "    <tr>\n",
       "      <th>13099</th>\n",
       "      <td>LJ050-0278</td>\n",
       "      <td>the recommendations we have here suggested wou...</td>\n",
       "      <td>the recommendations we have here suggested wou...</td>\n",
       "    </tr>\n",
       "  </tbody>\n",
       "</table>\n",
       "</div>"
      ],
      "text/plain": [
       "               id                                               text  \\\n",
       "13090  LJ050-0269  The essential terms of such memoranda might we...   \n",
       "13091  LJ050-0270  This Commission can recommend no procedures fo...   \n",
       "13092  LJ050-0271  The demands on the President in the execution ...   \n",
       "13093  LJ050-0272  and the traditions of the office in a democrac...   \n",
       "13094  LJ050-0273  The Commission has, however, from its examinat...   \n",
       "13095  LJ050-0274  made certain recommendations which it believes...   \n",
       "13096  LJ050-0275  materially improve upon the procedures in effe...   \n",
       "13097  LJ050-0276  As has been pointed out, the Commission has no...   \n",
       "13098  LJ050-0277  with the active cooperation of the responsible...   \n",
       "13099  LJ050-0278  the recommendations we have here suggested wou...   \n",
       "\n",
       "                                               text_norm  \n",
       "13090  The essential terms of such memoranda might we...  \n",
       "13091  This Commission can recommend no procedures fo...  \n",
       "13092  The demands on the President in the execution ...  \n",
       "13093  and the traditions of the office in a democrac...  \n",
       "13094  The Commission has, however, from its examinat...  \n",
       "13095  made certain recommendations which it believes...  \n",
       "13096  materially improve upon the procedures in effe...  \n",
       "13097  As has been pointed out, the Commission has no...  \n",
       "13098  with the active cooperation of the responsible...  \n",
       "13099  the recommendations we have here suggested wou...  "
      ]
     },
     "execution_count": 3,
     "metadata": {},
     "output_type": "execute_result"
    }
   ],
   "source": [
    "import pandas as pd\n",
    "\n",
    "data_url = 'https://raw.githubusercontent.com/CUNY-CISC-3225/datasets/main/ljspeech.csv'\n",
    "df = pd.read_csv(data_url, sep='|')\n",
    "df.tail(10)"
   ]
  },
  {
   "cell_type": "code",
   "execution_count": 4,
   "metadata": {},
   "outputs": [
    {
     "data": {
      "application/vnd.microsoft.datawrangler.viewer.v0+json": {
       "columns": [
        {
         "name": "index",
         "rawType": "int64",
         "type": "integer"
        },
        {
         "name": "id",
         "rawType": "object",
         "type": "string"
        },
        {
         "name": "text",
         "rawType": "object",
         "type": "string"
        },
        {
         "name": "text_norm",
         "rawType": "object",
         "type": "unknown"
        }
       ],
       "conversionMethod": "pd.DataFrame",
       "ref": "3b0c59d5-79ce-41de-8402-d76274944fd7",
       "rows": [
        [
         "6",
         "LJ001-0007",
         "the earliest book printed with movable types, the Gutenberg, or \"forty-two line Bible\" of about 1455,",
         "the earliest book printed with movable types, the Gutenberg, or \"forty-two line Bible\" of about fourteen fifty-five,"
        ],
        [
         "23",
         "LJ001-0024",
         "But the first Bible actually dated (which also was printed at Maintz by Peter Schoeffer in the year 1462)",
         "But the first Bible actually dated (which also was printed at Maintz by Peter Schoeffer in the year fourteen sixty-two)"
        ],
        [
         "30",
         "LJ001-0031",
         "In 1465 Sweynheim and Pannartz began printing in the monastery of Subiaco near Rome,",
         "In fourteen sixty-five Sweynheim and Pannartz began printing in the monastery of Subiaco near Rome,"
        ],
        [
         "33",
         "LJ001-0034",
         "They printed very few books in this type, three only; but in their very first books in Rome, beginning with the year 1468,",
         "They printed very few books in this type, three only; but in their very first books in Rome, beginning with the year fourteen sixty-eight,"
        ],
        [
         "37",
         "LJ001-0038",
         "while in 1470 at Paris Udalric Gering and his associates turned out the first books printed in France, also in Roman character.",
         "while in fourteen seventy at Paris Udalric Gering and his associates turned out the first books printed in France, also in Roman character."
        ],
        [
         "44",
         "LJ001-0045",
         "1469, 1470;",
         "fourteen sixty-nine, fourteen seventy;"
        ],
        [
         "48",
         "LJ001-0049",
         "After his death in the \"fourteen eighties,\" or at least by 1490, printing in Venice had declined very much;",
         "After his death in the \"fourteen eighties,\" or at least by fourteen ninety, printing in Venice had declined very much;"
        ],
        [
         "76",
         "LJ001-0077",
         "In England about this time, an attempt was made (notably by Caslon, who started business in London as a type-founder in 1720)",
         "In England about this time, an attempt was made (notably by Caslon, who started business in London as a type-founder in seventeen twenty)"
        ],
        [
         "90",
         "LJ001-0091",
         "so far as fine printing is concerned, though paper did not get to its worst till about 1840.",
         "so far as fine printing is concerned, though paper did not get to its worst till about eighteen forty."
        ],
        [
         "91",
         "LJ001-0092",
         "The Chiswick press in 1844 revived Caslon's founts, printing for Messrs. Longman the Diary of Lady Willoughby.",
         "The Chiswick press in eighteen forty-four revived Caslon's founts, printing for Messrs. Longman the Diary of Lady Willoughby."
        ],
        [
         "92",
         "LJ001-0093",
         "This experiment was so far successful that about 1850 Messrs. Miller and Richard of Edinburgh",
         "This experiment was so far successful that about eighteen fifty Messrs. Miller and Richard of Edinburgh"
        ],
        [
         "121",
         "LJ001-0122",
         "that he has a 5, an 8, or a 3 before him, unless the press work is of the best:",
         "that he has a five, an eight, or a three before him, unless the press work is of the best:"
        ],
        [
         "186",
         "LJ002-0001",
         "The Chronicles of Newgate, Volume 2. By Arthur Griffiths. Section 4: Newgate down to 1818.",
         "The Chronicles of Newgate, Volume two. By Arthur Griffiths. Section four: Newgate down to eighteen eighteen."
        ],
        [
         "193",
         "LJ002-0008",
         "On the 14th June, 1800, there were 199 debtors and 289 felons in the prison.",
         "On the fourteenth June, eighteen hundred, there were one hundred ninety-nine debtors and two hundred eighty-nine felons in the prison."
        ],
        [
         "194",
         "LJ002-0009",
         "On the 27th April, in the following year,",
         "On the twenty-seventh April, in the following year,"
        ],
        [
         "195",
         "LJ002-0010",
         "these numbers had risen to 275 and 375 respectively, or 650 in all.",
         "these numbers had risen to two hundred seventy-five and three hundred seventy-five respectively, or six hundred fifty in all."
        ],
        [
         "196",
         "LJ002-0011",
         "For two more years these high figures were steadily maintained, and in 1803 the total rose to 710.",
         "For two more years these high figures were steadily maintained, and in eighteen oh three the total rose to seven hundred ten."
        ],
        [
         "198",
         "LJ002-0013",
         "till, 1808, the lowest point was touched of 197 debtors and 182 felons, or 379 in all.",
         "till, eighteen oh eight, the lowest point was touched of one hundred ninety-seven debtors and one hundred eighty-two felons, or three hundred seventy-nine in all."
        ],
        [
         "199",
         "LJ002-0014",
         "The numbers soon increased, however, and by 1811 had again risen to 629; and Mr. Neild was told that there had been at one time",
         "The numbers soon increased, however, and by eighteen eleven had again risen to six hundred twenty-nine; and Mr. Neild was told that there had been at one time"
        ],
        [
         "200",
         "LJ002-0015",
         "300 debtors and 900 criminals in Newgate, or twelve hundred prisoners in all.",
         "three hundred debtors and nine hundred criminals in Newgate, or twelve hundred prisoners in all."
        ],
        [
         "201",
         "LJ002-0016",
         "Previous to that date there had been 700 or 800 frequently, and once, in Mr. Akerman's time, one thousand.",
         "Previous to that date there had been seven hundred or eight hundred frequently, and once, in Mr. Akerman's time, one thousand."
        ],
        [
         "205",
         "LJ002-0020",
         "In 1813",
         "In eighteen thirteen"
        ],
        [
         "206",
         "LJ002-0021",
         "the grand jury made a special presentment to the Court of Common Council, pointing out that on the debtors' side, which was intended for only 100,",
         "the grand jury made a special presentment to the Court of Common Council, pointing out that on the debtors' side, which was intended for only one hundred,"
        ],
        [
         "207",
         "LJ002-0022",
         "no less than 340 were crowded, to the great inconvenience and danger of the inmates.",
         "no less than three hundred forty were crowded, to the great inconvenience and danger of the inmates."
        ],
        [
         "209",
         "LJ002-0024",
         "Quote. the apartments set apart for them, being built to accommodate 60 persons, now contain about 120. End quote.",
         "Quote. the apartments set apart for them, being built to accommodate sixty persons, now contain about one hundred twenty. End quote."
        ],
        [
         "210",
         "LJ002-0025",
         "Returns laid before the House of Commons showed that 6439 persons had been committed to Newgate",
         "Returns laid before the House of Commons showed that six thousand, four hundred thirty-nine persons had been committed to Newgate"
        ],
        [
         "211",
         "LJ002-0026",
         "in the three years between 1813 and 1816,",
         "in the three years between eighteen thirteen and eighteen sixteen,"
        ],
        [
         "214",
         "LJ002-0029",
         "as it was occupied and appropriated in 1810.",
         "as it was occupied and appropriated in eighteen ten."
        ],
        [
         "215",
         "LJ002-0030",
         "Full details of the arrangements are to be found in Mr. Neild's \"State of Prisons in England, Scotland, and Wales,\" published in 1812.",
         "Full details of the arrangements are to be found in Mr. Neild's \"State of Prisons in England, Scotland, and Wales,\" published in eighteen twelve."
        ],
        [
         "217",
         "LJ002-0032",
         "These were: 1. The male debtors' side.",
         "These were: one. The male debtors' side."
        ],
        [
         "218",
         "LJ002-0033",
         "2. The female debtors' side. 3. The chapel yard. 4. The middle yard.",
         "two. The female debtors' side. three. The chapel yard. four. The middle yard."
        ],
        [
         "219",
         "LJ002-0034",
         "5. The master felons' side. 6. The female felons' side. 7. The state side.",
         "five. The master felons' side. six. The female felons' side. seven. The state side."
        ],
        [
         "220",
         "LJ002-0035",
         "8. The press yard.",
         "eight. The press yard."
        ],
        [
         "221",
         "LJ002-0036",
         "1. The male debtors' side consisted of a yard forty-nine feet by thirty-one,",
         "one. The male debtors' side consisted of a yard forty-nine feet by thirty-one,"
        ],
        [
         "233",
         "LJ002-0048",
         "2. The female debtors' side consisted of a court-yard forty-nine by sixteen feet,",
         "two. The female debtors' side consisted of a court-yard forty-nine by sixteen feet,"
        ],
        [
         "237",
         "LJ002-0052",
         "3. The chapel yard was about forty-three feet by twenty-five.",
         "three. The chapel yard was about forty-three feet by twenty-five."
        ],
        [
         "240",
         "LJ002-0055",
         "This arrangement was, however, modified after 1811, and the chapel yard was allotted to misdemeanants and prisoners awaiting trial.",
         "This arrangement was, however, modified after eighteen eleven, and the chapel yard was allotted to misdemeanants and prisoners awaiting trial."
        ],
        [
         "247",
         "LJ002-0062",
         "The middle yard was at first given up to the least heinous offenders. After 1812 it changed functions with the chapel yard.",
         "The middle yard was at first given up to the least heinous offenders. After eighteen twelve it changed functions with the chapel yard."
        ],
        [
         "263",
         "LJ002-0078",
         "7. The press yard was that part set aside for the condemned.",
         "seven. The press yard was that part set aside for the condemned."
        ],
        [
         "274",
         "LJ002-0089",
         "8. The female felons were deprived of part of the space which the architect had intended for them.",
         "eight. The female felons were deprived of part of the space which the architect had intended for them."
        ],
        [
         "302",
         "LJ002-0118",
         "a table showing the figures for the year ending Michaelmas 1802.",
         "a table showing the figures for the year ending Michaelmas eighteen oh two."
        ],
        [
         "303",
         "LJ002-0119",
         "In that period upwards of 200,000 writs",
         "In that period upwards of two hundred thousand writs"
        ],
        [
         "304",
         "LJ002-0120",
         "had been issued for the arrests of debtors in the kingdom, for sums varying from fourpence to £500 and upwards.",
         "had been issued for the arrests of debtors in the kingdom, for sums varying from fourpence to five hundred pounds and upwards."
        ],
        [
         "306",
         "LJ002-0122",
         "The number of arrests actually made was 114,300 for the kingdom, and 7020 for Middlesex.",
         "The number of arrests actually made was one hundred fourteen thousand, three hundred for the kingdom, and seven thousand twenty for Middlesex."
        ],
        [
         "308",
         "LJ002-0124",
         "Quite half of the foregoing writs and arrests applied to sums under £30.",
         "Quite half of the foregoing writs and arrests applied to sums under thirty pounds."
        ],
        [
         "309",
         "LJ002-0125",
         "Neild also says that in 1793,",
         "Neild also says that in seventeen ninety-three,"
        ],
        [
         "310",
         "LJ002-0126",
         "5719 writs and executions for debts between £10 and £20 were issued in Middlesex,",
         "five thousand, seven hundred nineteen writs and executions for debts between ten pounds and twenty pounds were issued in Middlesex,"
        ],
        [
         "311",
         "LJ002-0127",
         "and the aggregate amount of debts sued for was £81,791.",
         "and the aggregate amount of debts sued for was eighty-one thousand, seven hundred ninety-one pounds."
        ],
        [
         "313",
         "LJ002-0129",
         "would have amounted to £68,728, and if defended,",
         "would have amounted to sixty-eight thousand, seven hundred twenty-eight pounds, and if defended,"
        ],
        [
         "314",
         "LJ002-0130",
         "£285,950; in other words, that to recover eighty odd thousand pounds,",
         "two hundred eighty-five thousand, nine hundred fifty pounds; in other words, that to recover eighty odd thousand pounds,"
        ]
       ],
       "shape": {
        "columns": 3,
        "rows": 1521
       }
      },
      "text/html": [
       "<div>\n",
       "<style scoped>\n",
       "    .dataframe tbody tr th:only-of-type {\n",
       "        vertical-align: middle;\n",
       "    }\n",
       "\n",
       "    .dataframe tbody tr th {\n",
       "        vertical-align: top;\n",
       "    }\n",
       "\n",
       "    .dataframe thead th {\n",
       "        text-align: right;\n",
       "    }\n",
       "</style>\n",
       "<table border=\"1\" class=\"dataframe\">\n",
       "  <thead>\n",
       "    <tr style=\"text-align: right;\">\n",
       "      <th></th>\n",
       "      <th>id</th>\n",
       "      <th>text</th>\n",
       "      <th>text_norm</th>\n",
       "    </tr>\n",
       "  </thead>\n",
       "  <tbody>\n",
       "    <tr>\n",
       "      <th>6</th>\n",
       "      <td>LJ001-0007</td>\n",
       "      <td>the earliest book printed with movable types, ...</td>\n",
       "      <td>the earliest book printed with movable types, ...</td>\n",
       "    </tr>\n",
       "    <tr>\n",
       "      <th>23</th>\n",
       "      <td>LJ001-0024</td>\n",
       "      <td>But the first Bible actually dated (which also...</td>\n",
       "      <td>But the first Bible actually dated (which also...</td>\n",
       "    </tr>\n",
       "    <tr>\n",
       "      <th>30</th>\n",
       "      <td>LJ001-0031</td>\n",
       "      <td>In 1465 Sweynheim and Pannartz began printing ...</td>\n",
       "      <td>In fourteen sixty-five Sweynheim and Pannartz ...</td>\n",
       "    </tr>\n",
       "    <tr>\n",
       "      <th>33</th>\n",
       "      <td>LJ001-0034</td>\n",
       "      <td>They printed very few books in this type, thre...</td>\n",
       "      <td>They printed very few books in this type, thre...</td>\n",
       "    </tr>\n",
       "    <tr>\n",
       "      <th>37</th>\n",
       "      <td>LJ001-0038</td>\n",
       "      <td>while in 1470 at Paris Udalric Gering and his ...</td>\n",
       "      <td>while in fourteen seventy at Paris Udalric Ger...</td>\n",
       "    </tr>\n",
       "    <tr>\n",
       "      <th>...</th>\n",
       "      <td>...</td>\n",
       "      <td>...</td>\n",
       "      <td>...</td>\n",
       "    </tr>\n",
       "    <tr>\n",
       "      <th>13057</th>\n",
       "      <td>LJ050-0236</td>\n",
       "      <td>Thus, in the 4 months following the assassinat...</td>\n",
       "      <td>Thus, in the four months following the assassi...</td>\n",
       "    </tr>\n",
       "    <tr>\n",
       "      <th>13058</th>\n",
       "      <td>LJ050-0237</td>\n",
       "      <td>the FBI, on 16 separate occasions, supplied a ...</td>\n",
       "      <td>the FBI, on sixteen separate occasions, suppli...</td>\n",
       "    </tr>\n",
       "    <tr>\n",
       "      <th>13060</th>\n",
       "      <td>LJ050-0239</td>\n",
       "      <td>From February 11 through June 30, 1964,</td>\n",
       "      <td>From February eleven through June thirty, nine...</td>\n",
       "    </tr>\n",
       "    <tr>\n",
       "      <th>13061</th>\n",
       "      <td>LJ050-0240</td>\n",
       "      <td>the Service had the advantage of 9,500 hours o...</td>\n",
       "      <td>the Service had the advantage of nine thousand...</td>\n",
       "    </tr>\n",
       "    <tr>\n",
       "      <th>13087</th>\n",
       "      <td>LJ050-0266</td>\n",
       "      <td>The exchange of letters dated August 31, 1964,</td>\n",
       "      <td>The exchange of letters dated August thirty-on...</td>\n",
       "    </tr>\n",
       "  </tbody>\n",
       "</table>\n",
       "<p>1521 rows × 3 columns</p>\n",
       "</div>"
      ],
      "text/plain": [
       "               id                                               text  \\\n",
       "6      LJ001-0007  the earliest book printed with movable types, ...   \n",
       "23     LJ001-0024  But the first Bible actually dated (which also...   \n",
       "30     LJ001-0031  In 1465 Sweynheim and Pannartz began printing ...   \n",
       "33     LJ001-0034  They printed very few books in this type, thre...   \n",
       "37     LJ001-0038  while in 1470 at Paris Udalric Gering and his ...   \n",
       "...           ...                                                ...   \n",
       "13057  LJ050-0236  Thus, in the 4 months following the assassinat...   \n",
       "13058  LJ050-0237  the FBI, on 16 separate occasions, supplied a ...   \n",
       "13060  LJ050-0239            From February 11 through June 30, 1964,   \n",
       "13061  LJ050-0240  the Service had the advantage of 9,500 hours o...   \n",
       "13087  LJ050-0266     The exchange of letters dated August 31, 1964,   \n",
       "\n",
       "                                               text_norm  \n",
       "6      the earliest book printed with movable types, ...  \n",
       "23     But the first Bible actually dated (which also...  \n",
       "30     In fourteen sixty-five Sweynheim and Pannartz ...  \n",
       "33     They printed very few books in this type, thre...  \n",
       "37     while in fourteen seventy at Paris Udalric Ger...  \n",
       "...                                                  ...  \n",
       "13057  Thus, in the four months following the assassi...  \n",
       "13058  the FBI, on sixteen separate occasions, suppli...  \n",
       "13060  From February eleven through June thirty, nine...  \n",
       "13061  the Service had the advantage of nine thousand...  \n",
       "13087  The exchange of letters dated August thirty-on...  \n",
       "\n",
       "[1521 rows x 3 columns]"
      ]
     },
     "execution_count": 4,
     "metadata": {},
     "output_type": "execute_result"
    }
   ],
   "source": [
    "filter = df['text'] != df[\"text_norm\"] \n",
    "df[filter]"
   ]
  },
  {
   "cell_type": "markdown",
   "metadata": {},
   "source": [
    "## DataFrame Practice"
   ]
  },
  {
   "cell_type": "code",
   "execution_count": 5,
   "metadata": {},
   "outputs": [],
   "source": [
    "df = pd.DataFrame({\n",
    "    'a': [1, 6, 3, -4, 9, 27],\n",
    "    'b': [8, 1, 99, 31, 53, 5],\n",
    "    },\n",
    "    index=[5, 2, 9, 3, 27, 4]\n",
    ")"
   ]
  },
  {
   "cell_type": "code",
   "execution_count": 10,
   "metadata": {},
   "outputs": [
    {
     "name": "stdout",
     "output_type": "stream",
     "text": [
      "a    6\n",
      "b    1\n",
      "Name: 2, dtype: int64\n"
     ]
    },
    {
     "data": {
      "text/plain": [
       "a     3\n",
       "b    99\n",
       "Name: 9, dtype: int64"
      ]
     },
     "execution_count": 10,
     "metadata": {},
     "output_type": "execute_result"
    }
   ],
   "source": [
    "## get row at index 2 and position 2\n",
    "print(df.loc[2,])\n",
    "df.iloc[2, :]"
   ]
  },
  {
   "cell_type": "code",
   "execution_count": 19,
   "metadata": {},
   "outputs": [
    {
     "name": "stdout",
     "output_type": "stream",
     "text": [
      "3\n",
      "3\n"
     ]
    }
   ],
   "source": [
    "# Retrieve the value at row position 3, column index a. Use the row position 2 and column\n",
    "# name ’a’ specifically. Can you perform this operation within a single indexing operation (i.e., use only\n",
    "# .loc or .iloc)?\n",
    "\n",
    "print(df['a'].iloc[2])\n",
    "\n",
    "## one operation\n",
    "print(df.iloc[2, 0])\n"
   ]
  },
  {
   "cell_type": "code",
   "execution_count": 23,
   "metadata": {},
   "outputs": [
    {
     "name": "stdout",
     "output_type": "stream",
     "text": [
      "a   -4\n",
      "b    1\n",
      "dtype: int64 \n",
      "\n",
      "\n",
      "5     1\n",
      "2     1\n",
      "9     3\n",
      "3    -4\n",
      "27    9\n",
      "4     5\n",
      "dtype: int64 \n",
      "\n",
      "\n",
      "-4 \n",
      "\n",
      "\n"
     ]
    }
   ],
   "source": [
    "# Find the smallest value in each column. Then, find the smallest value in each row. Then,\n",
    "# find the smallest value in the whole DataFrame.\n",
    "\n",
    "print(df.min(), '\\n\\n')\n",
    "print(df.min(axis=1), \"\\n\\n\")\n",
    "print(df.min().min(), \"\\n\\n\")"
   ]
  },
  {
   "cell_type": "code",
   "execution_count": 27,
   "metadata": {},
   "outputs": [
    {
     "data": {
      "text/plain": [
       "np.int64(5)"
      ]
     },
     "execution_count": 27,
     "metadata": {},
     "output_type": "execute_result"
    }
   ],
   "source": [
    "# how many values in column ’a’ are less than 10\n",
    "\n",
    "df['a'][df['a'] < 10].count()"
   ]
  },
  {
   "cell_type": "code",
   "execution_count": 28,
   "metadata": {},
   "outputs": [
    {
     "data": {
      "application/vnd.microsoft.datawrangler.viewer.v0+json": {
       "columns": [
        {
         "name": "index",
         "rawType": "int64",
         "type": "integer"
        },
        {
         "name": "a",
         "rawType": "int64",
         "type": "integer"
        },
        {
         "name": "b",
         "rawType": "int64",
         "type": "integer"
        }
       ],
       "conversionMethod": "pd.DataFrame",
       "ref": "4bc5b24c-c547-45d8-a03a-1c88bae3ead9",
       "rows": [
        [
         "5",
         "1",
         "8"
        ],
        [
         "2",
         "6",
         "1"
        ],
        [
         "9",
         "3",
         "99"
        ],
        [
         "3",
         "-4",
         "31"
        ],
        [
         "27",
         "9",
         "53"
        ]
       ],
       "shape": {
        "columns": 2,
        "rows": 5
       }
      },
      "text/html": [
       "<div>\n",
       "<style scoped>\n",
       "    .dataframe tbody tr th:only-of-type {\n",
       "        vertical-align: middle;\n",
       "    }\n",
       "\n",
       "    .dataframe tbody tr th {\n",
       "        vertical-align: top;\n",
       "    }\n",
       "\n",
       "    .dataframe thead th {\n",
       "        text-align: right;\n",
       "    }\n",
       "</style>\n",
       "<table border=\"1\" class=\"dataframe\">\n",
       "  <thead>\n",
       "    <tr style=\"text-align: right;\">\n",
       "      <th></th>\n",
       "      <th>a</th>\n",
       "      <th>b</th>\n",
       "    </tr>\n",
       "  </thead>\n",
       "  <tbody>\n",
       "    <tr>\n",
       "      <th>5</th>\n",
       "      <td>1</td>\n",
       "      <td>8</td>\n",
       "    </tr>\n",
       "    <tr>\n",
       "      <th>2</th>\n",
       "      <td>6</td>\n",
       "      <td>1</td>\n",
       "    </tr>\n",
       "    <tr>\n",
       "      <th>9</th>\n",
       "      <td>3</td>\n",
       "      <td>99</td>\n",
       "    </tr>\n",
       "    <tr>\n",
       "      <th>3</th>\n",
       "      <td>-4</td>\n",
       "      <td>31</td>\n",
       "    </tr>\n",
       "    <tr>\n",
       "      <th>27</th>\n",
       "      <td>9</td>\n",
       "      <td>53</td>\n",
       "    </tr>\n",
       "  </tbody>\n",
       "</table>\n",
       "</div>"
      ],
      "text/plain": [
       "    a   b\n",
       "5   1   8\n",
       "2   6   1\n",
       "9   3  99\n",
       "3  -4  31\n",
       "27  9  53"
      ]
     },
     "execution_count": 28,
     "metadata": {},
     "output_type": "execute_result"
    }
   ],
   "source": [
    "# Retrieve all rows where the value in column ’a’ is less than 10.\n",
    "df[df['a'] < 10]"
   ]
  },
  {
   "cell_type": "code",
   "execution_count": 30,
   "metadata": {},
   "outputs": [
    {
     "name": "stdout",
     "output_type": "stream",
     "text": [
      "32.833333333333336\n"
     ]
    },
    {
     "data": {
      "application/vnd.microsoft.datawrangler.viewer.v0+json": {
       "columns": [
        {
         "name": "index",
         "rawType": "int64",
         "type": "integer"
        },
        {
         "name": "a",
         "rawType": "int64",
         "type": "integer"
        },
        {
         "name": "b",
         "rawType": "int64",
         "type": "integer"
        }
       ],
       "conversionMethod": "pd.DataFrame",
       "ref": "9aad0978-63a2-4310-a43e-28ea7896628a",
       "rows": [
        [
         "5",
         "1",
         "8"
        ],
        [
         "2",
         "6",
         "1"
        ],
        [
         "3",
         "-4",
         "31"
        ],
        [
         "4",
         "27",
         "5"
        ]
       ],
       "shape": {
        "columns": 2,
        "rows": 4
       }
      },
      "text/html": [
       "<div>\n",
       "<style scoped>\n",
       "    .dataframe tbody tr th:only-of-type {\n",
       "        vertical-align: middle;\n",
       "    }\n",
       "\n",
       "    .dataframe tbody tr th {\n",
       "        vertical-align: top;\n",
       "    }\n",
       "\n",
       "    .dataframe thead th {\n",
       "        text-align: right;\n",
       "    }\n",
       "</style>\n",
       "<table border=\"1\" class=\"dataframe\">\n",
       "  <thead>\n",
       "    <tr style=\"text-align: right;\">\n",
       "      <th></th>\n",
       "      <th>a</th>\n",
       "      <th>b</th>\n",
       "    </tr>\n",
       "  </thead>\n",
       "  <tbody>\n",
       "    <tr>\n",
       "      <th>5</th>\n",
       "      <td>1</td>\n",
       "      <td>8</td>\n",
       "    </tr>\n",
       "    <tr>\n",
       "      <th>2</th>\n",
       "      <td>6</td>\n",
       "      <td>1</td>\n",
       "    </tr>\n",
       "    <tr>\n",
       "      <th>3</th>\n",
       "      <td>-4</td>\n",
       "      <td>31</td>\n",
       "    </tr>\n",
       "    <tr>\n",
       "      <th>4</th>\n",
       "      <td>27</td>\n",
       "      <td>5</td>\n",
       "    </tr>\n",
       "  </tbody>\n",
       "</table>\n",
       "</div>"
      ],
      "text/plain": [
       "    a   b\n",
       "5   1   8\n",
       "2   6   1\n",
       "3  -4  31\n",
       "4  27   5"
      ]
     },
     "execution_count": 30,
     "metadata": {},
     "output_type": "execute_result"
    }
   ],
   "source": [
    "# Retrieve all rows where the value in column ’b’ is less than the mean of column ’b’.\n",
    "b_mean = df['b'].mean()\n",
    "print(b_mean)\n",
    "\n",
    "df[df['b'] < b_mean]"
   ]
  },
  {
   "cell_type": "code",
   "execution_count": 32,
   "metadata": {},
   "outputs": [
    {
     "name": "stdout",
     "output_type": "stream",
     "text": [
      "7.0\n"
     ]
    },
    {
     "data": {
      "application/vnd.microsoft.datawrangler.viewer.v0+json": {
       "columns": [
        {
         "name": "index",
         "rawType": "int64",
         "type": "integer"
        },
        {
         "name": "a",
         "rawType": "int64",
         "type": "integer"
        },
        {
         "name": "b",
         "rawType": "int64",
         "type": "integer"
        }
       ],
       "conversionMethod": "pd.DataFrame",
       "ref": "093acaed-5614-4794-8fd5-ab964eec8624",
       "rows": [
        [
         "2",
         "6",
         "1"
        ],
        [
         "4",
         "27",
         "5"
        ]
       ],
       "shape": {
        "columns": 2,
        "rows": 2
       }
      },
      "text/html": [
       "<div>\n",
       "<style scoped>\n",
       "    .dataframe tbody tr th:only-of-type {\n",
       "        vertical-align: middle;\n",
       "    }\n",
       "\n",
       "    .dataframe tbody tr th {\n",
       "        vertical-align: top;\n",
       "    }\n",
       "\n",
       "    .dataframe thead th {\n",
       "        text-align: right;\n",
       "    }\n",
       "</style>\n",
       "<table border=\"1\" class=\"dataframe\">\n",
       "  <thead>\n",
       "    <tr style=\"text-align: right;\">\n",
       "      <th></th>\n",
       "      <th>a</th>\n",
       "      <th>b</th>\n",
       "    </tr>\n",
       "  </thead>\n",
       "  <tbody>\n",
       "    <tr>\n",
       "      <th>2</th>\n",
       "      <td>6</td>\n",
       "      <td>1</td>\n",
       "    </tr>\n",
       "    <tr>\n",
       "      <th>4</th>\n",
       "      <td>27</td>\n",
       "      <td>5</td>\n",
       "    </tr>\n",
       "  </tbody>\n",
       "</table>\n",
       "</div>"
      ],
      "text/plain": [
       "    a  b\n",
       "2   6  1\n",
       "4  27  5"
      ]
     },
     "execution_count": 32,
     "metadata": {},
     "output_type": "execute_result"
    }
   ],
   "source": [
    "# Retrieve all rows where the value in column ’b’ is less than the mean of column ’a’.\n",
    "a_mean = df['a'].mean()\n",
    "print(a_mean)\n",
    "df[df[\"b\"] < a_mean]"
   ]
  },
  {
   "cell_type": "code",
   "execution_count": 38,
   "metadata": {},
   "outputs": [
    {
     "data": {
      "application/vnd.microsoft.datawrangler.viewer.v0+json": {
       "columns": [
        {
         "name": "index",
         "rawType": "int64",
         "type": "integer"
        },
        {
         "name": "b",
         "rawType": "int64",
         "type": "integer"
        }
       ],
       "conversionMethod": "pd.DataFrame",
       "ref": "036a1312-b509-42a7-98d4-3cea523c18c8",
       "rows": [
        [
         "5",
         "8"
        ],
        [
         "2",
         "1"
        ],
        [
         "9",
         "99"
        ],
        [
         "3",
         "31"
        ],
        [
         "27",
         "53"
        ],
        [
         "4",
         "5"
        ]
       ],
       "shape": {
        "columns": 1,
        "rows": 6
       }
      },
      "text/html": [
       "<div>\n",
       "<style scoped>\n",
       "    .dataframe tbody tr th:only-of-type {\n",
       "        vertical-align: middle;\n",
       "    }\n",
       "\n",
       "    .dataframe tbody tr th {\n",
       "        vertical-align: top;\n",
       "    }\n",
       "\n",
       "    .dataframe thead th {\n",
       "        text-align: right;\n",
       "    }\n",
       "</style>\n",
       "<table border=\"1\" class=\"dataframe\">\n",
       "  <thead>\n",
       "    <tr style=\"text-align: right;\">\n",
       "      <th></th>\n",
       "      <th>b</th>\n",
       "    </tr>\n",
       "  </thead>\n",
       "  <tbody>\n",
       "    <tr>\n",
       "      <th>5</th>\n",
       "      <td>8</td>\n",
       "    </tr>\n",
       "    <tr>\n",
       "      <th>2</th>\n",
       "      <td>1</td>\n",
       "    </tr>\n",
       "    <tr>\n",
       "      <th>9</th>\n",
       "      <td>99</td>\n",
       "    </tr>\n",
       "    <tr>\n",
       "      <th>3</th>\n",
       "      <td>31</td>\n",
       "    </tr>\n",
       "    <tr>\n",
       "      <th>27</th>\n",
       "      <td>53</td>\n",
       "    </tr>\n",
       "    <tr>\n",
       "      <th>4</th>\n",
       "      <td>5</td>\n",
       "    </tr>\n",
       "  </tbody>\n",
       "</table>\n",
       "</div>"
      ],
      "text/plain": [
       "     b\n",
       "5    8\n",
       "2    1\n",
       "9   99\n",
       "3   31\n",
       "27  53\n",
       "4    5"
      ]
     },
     "execution_count": 38,
     "metadata": {},
     "output_type": "execute_result"
    }
   ],
   "source": [
    "# Retrieve all columns where the sum is an odd number\n",
    "cols = []\n",
    "for col in df.columns:\n",
    "    if df[col].sum() % 2 == 1:\n",
    "        cols.append(col)\n",
    "df[cols]"
   ]
  },
  {
   "cell_type": "markdown",
   "metadata": {},
   "source": [
    "## Cameras"
   ]
  },
  {
   "cell_type": "code",
   "execution_count": 41,
   "metadata": {},
   "outputs": [
    {
     "data": {
      "application/vnd.microsoft.datawrangler.viewer.v0+json": {
       "columns": [
        {
         "name": "index",
         "rawType": "int64",
         "type": "integer"
        },
        {
         "name": "Model",
         "rawType": "object",
         "type": "string"
        },
        {
         "name": "Release date",
         "rawType": "int64",
         "type": "integer"
        },
        {
         "name": "Max resolution",
         "rawType": "float64",
         "type": "float"
        },
        {
         "name": "Low resolution",
         "rawType": "float64",
         "type": "float"
        },
        {
         "name": "Effective pixels",
         "rawType": "float64",
         "type": "float"
        },
        {
         "name": "Zoom wide (W)",
         "rawType": "float64",
         "type": "float"
        },
        {
         "name": "Zoom tele (T)",
         "rawType": "float64",
         "type": "float"
        },
        {
         "name": "Normal focus range",
         "rawType": "float64",
         "type": "float"
        },
        {
         "name": "Macro focus range",
         "rawType": "float64",
         "type": "float"
        },
        {
         "name": "Storage included",
         "rawType": "float64",
         "type": "float"
        },
        {
         "name": "Weight (inc. batteries)",
         "rawType": "float64",
         "type": "float"
        },
        {
         "name": "Dimensions",
         "rawType": "float64",
         "type": "float"
        },
        {
         "name": "Price",
         "rawType": "float64",
         "type": "float"
        },
        {
         "name": "Brand",
         "rawType": "object",
         "type": "string"
        }
       ],
       "conversionMethod": "pd.DataFrame",
       "ref": "33648c1a-fdef-4b43-9541-e0be6ef27752",
       "rows": [
        [
         "0",
         "Canon PowerShot 350",
         "1997",
         "640.0",
         "0.0",
         "0.0",
         "42.0",
         "42.0",
         "70.0",
         "3.0",
         "2.0",
         "320.0",
         "93.0",
         "149.0",
         "Canon"
        ],
        [
         "1",
         "Canon PowerShot 600",
         "1996",
         "832.0",
         "640.0",
         "0.0",
         "50.0",
         "50.0",
         "40.0",
         "10.0",
         "1.0",
         "460.0",
         "160.0",
         "139.0",
         "Canon"
        ],
        [
         "2",
         "Canon PowerShot A10",
         "2001",
         "1280.0",
         "1024.0",
         "1.0",
         "35.0",
         "105.0",
         "76.0",
         "16.0",
         "8.0",
         "375.0",
         "110.0",
         "139.0",
         "Canon"
        ],
        [
         "3",
         "Canon PowerShot A100",
         "2002",
         "1280.0",
         "1024.0",
         "1.0",
         "39.0",
         "39.0",
         "20.0",
         "5.0",
         "8.0",
         "225.0",
         "110.0",
         "139.0",
         "Canon"
        ],
        [
         "4",
         "Canon PowerShot A20",
         "2001",
         "1600.0",
         "1024.0",
         "1.0",
         "35.0",
         "105.0",
         "76.0",
         "16.0",
         "8.0",
         "375.0",
         "110.0",
         "139.0",
         "Canon"
        ]
       ],
       "shape": {
        "columns": 14,
        "rows": 5
       }
      },
      "text/html": [
       "<div>\n",
       "<style scoped>\n",
       "    .dataframe tbody tr th:only-of-type {\n",
       "        vertical-align: middle;\n",
       "    }\n",
       "\n",
       "    .dataframe tbody tr th {\n",
       "        vertical-align: top;\n",
       "    }\n",
       "\n",
       "    .dataframe thead th {\n",
       "        text-align: right;\n",
       "    }\n",
       "</style>\n",
       "<table border=\"1\" class=\"dataframe\">\n",
       "  <thead>\n",
       "    <tr style=\"text-align: right;\">\n",
       "      <th></th>\n",
       "      <th>Model</th>\n",
       "      <th>Release date</th>\n",
       "      <th>Max resolution</th>\n",
       "      <th>Low resolution</th>\n",
       "      <th>Effective pixels</th>\n",
       "      <th>Zoom wide (W)</th>\n",
       "      <th>Zoom tele (T)</th>\n",
       "      <th>Normal focus range</th>\n",
       "      <th>Macro focus range</th>\n",
       "      <th>Storage included</th>\n",
       "      <th>Weight (inc. batteries)</th>\n",
       "      <th>Dimensions</th>\n",
       "      <th>Price</th>\n",
       "      <th>Brand</th>\n",
       "    </tr>\n",
       "  </thead>\n",
       "  <tbody>\n",
       "    <tr>\n",
       "      <th>0</th>\n",
       "      <td>Canon PowerShot 350</td>\n",
       "      <td>1997</td>\n",
       "      <td>640.0</td>\n",
       "      <td>0.0</td>\n",
       "      <td>0.0</td>\n",
       "      <td>42.0</td>\n",
       "      <td>42.0</td>\n",
       "      <td>70.0</td>\n",
       "      <td>3.0</td>\n",
       "      <td>2.0</td>\n",
       "      <td>320.0</td>\n",
       "      <td>93.0</td>\n",
       "      <td>149.0</td>\n",
       "      <td>Canon</td>\n",
       "    </tr>\n",
       "    <tr>\n",
       "      <th>1</th>\n",
       "      <td>Canon PowerShot 600</td>\n",
       "      <td>1996</td>\n",
       "      <td>832.0</td>\n",
       "      <td>640.0</td>\n",
       "      <td>0.0</td>\n",
       "      <td>50.0</td>\n",
       "      <td>50.0</td>\n",
       "      <td>40.0</td>\n",
       "      <td>10.0</td>\n",
       "      <td>1.0</td>\n",
       "      <td>460.0</td>\n",
       "      <td>160.0</td>\n",
       "      <td>139.0</td>\n",
       "      <td>Canon</td>\n",
       "    </tr>\n",
       "    <tr>\n",
       "      <th>2</th>\n",
       "      <td>Canon PowerShot A10</td>\n",
       "      <td>2001</td>\n",
       "      <td>1280.0</td>\n",
       "      <td>1024.0</td>\n",
       "      <td>1.0</td>\n",
       "      <td>35.0</td>\n",
       "      <td>105.0</td>\n",
       "      <td>76.0</td>\n",
       "      <td>16.0</td>\n",
       "      <td>8.0</td>\n",
       "      <td>375.0</td>\n",
       "      <td>110.0</td>\n",
       "      <td>139.0</td>\n",
       "      <td>Canon</td>\n",
       "    </tr>\n",
       "    <tr>\n",
       "      <th>3</th>\n",
       "      <td>Canon PowerShot A100</td>\n",
       "      <td>2002</td>\n",
       "      <td>1280.0</td>\n",
       "      <td>1024.0</td>\n",
       "      <td>1.0</td>\n",
       "      <td>39.0</td>\n",
       "      <td>39.0</td>\n",
       "      <td>20.0</td>\n",
       "      <td>5.0</td>\n",
       "      <td>8.0</td>\n",
       "      <td>225.0</td>\n",
       "      <td>110.0</td>\n",
       "      <td>139.0</td>\n",
       "      <td>Canon</td>\n",
       "    </tr>\n",
       "    <tr>\n",
       "      <th>4</th>\n",
       "      <td>Canon PowerShot A20</td>\n",
       "      <td>2001</td>\n",
       "      <td>1600.0</td>\n",
       "      <td>1024.0</td>\n",
       "      <td>1.0</td>\n",
       "      <td>35.0</td>\n",
       "      <td>105.0</td>\n",
       "      <td>76.0</td>\n",
       "      <td>16.0</td>\n",
       "      <td>8.0</td>\n",
       "      <td>375.0</td>\n",
       "      <td>110.0</td>\n",
       "      <td>139.0</td>\n",
       "      <td>Canon</td>\n",
       "    </tr>\n",
       "  </tbody>\n",
       "</table>\n",
       "</div>"
      ],
      "text/plain": [
       "                  Model  Release date  Max resolution  Low resolution  \\\n",
       "0   Canon PowerShot 350          1997           640.0             0.0   \n",
       "1   Canon PowerShot 600          1996           832.0           640.0   \n",
       "2   Canon PowerShot A10          2001          1280.0          1024.0   \n",
       "3  Canon PowerShot A100          2002          1280.0          1024.0   \n",
       "4   Canon PowerShot A20          2001          1600.0          1024.0   \n",
       "\n",
       "   Effective pixels  Zoom wide (W)  Zoom tele (T)  Normal focus range  \\\n",
       "0               0.0           42.0           42.0                70.0   \n",
       "1               0.0           50.0           50.0                40.0   \n",
       "2               1.0           35.0          105.0                76.0   \n",
       "3               1.0           39.0           39.0                20.0   \n",
       "4               1.0           35.0          105.0                76.0   \n",
       "\n",
       "   Macro focus range  Storage included  Weight (inc. batteries)  Dimensions  \\\n",
       "0                3.0               2.0                    320.0        93.0   \n",
       "1               10.0               1.0                    460.0       160.0   \n",
       "2               16.0               8.0                    375.0       110.0   \n",
       "3                5.0               8.0                    225.0       110.0   \n",
       "4               16.0               8.0                    375.0       110.0   \n",
       "\n",
       "   Price  Brand  \n",
       "0  149.0  Canon  \n",
       "1  139.0  Canon  \n",
       "2  139.0  Canon  \n",
       "3  139.0  Canon  \n",
       "4  139.0  Canon  "
      ]
     },
     "execution_count": 41,
     "metadata": {},
     "output_type": "execute_result"
    }
   ],
   "source": [
    "cameras_url = 'https://raw.githubusercontent.com/CUNY-CISC-3225/datasets/main/cameras.csv'\n",
    "cameras_df = pd.read_csv(cameras_url)\n",
    "\n",
    "cameras_df.head()"
   ]
  },
  {
   "cell_type": "code",
   "execution_count": 42,
   "metadata": {},
   "outputs": [
    {
     "data": {
      "text/plain": [
       "np.float64(454.94093264248704)"
      ]
     },
     "execution_count": 42,
     "metadata": {},
     "output_type": "execute_result"
    }
   ],
   "source": [
    "# average cost of all cameras\n",
    "cameras_df['Price'].mean()"
   ]
  },
  {
   "cell_type": "code",
   "execution_count": 43,
   "metadata": {},
   "outputs": [
    {
     "data": {
      "application/vnd.microsoft.datawrangler.viewer.v0+json": {
       "columns": [
        {
         "name": "index",
         "rawType": "int64",
         "type": "integer"
        },
        {
         "name": "Model",
         "rawType": "object",
         "type": "string"
        },
        {
         "name": "Release date",
         "rawType": "int64",
         "type": "integer"
        },
        {
         "name": "Max resolution",
         "rawType": "float64",
         "type": "float"
        },
        {
         "name": "Low resolution",
         "rawType": "float64",
         "type": "float"
        },
        {
         "name": "Effective pixels",
         "rawType": "float64",
         "type": "float"
        },
        {
         "name": "Zoom wide (W)",
         "rawType": "float64",
         "type": "float"
        },
        {
         "name": "Zoom tele (T)",
         "rawType": "float64",
         "type": "float"
        },
        {
         "name": "Normal focus range",
         "rawType": "float64",
         "type": "float"
        },
        {
         "name": "Macro focus range",
         "rawType": "float64",
         "type": "float"
        },
        {
         "name": "Storage included",
         "rawType": "float64",
         "type": "float"
        },
        {
         "name": "Weight (inc. batteries)",
         "rawType": "float64",
         "type": "float"
        },
        {
         "name": "Dimensions",
         "rawType": "float64",
         "type": "float"
        },
        {
         "name": "Price",
         "rawType": "float64",
         "type": "float"
        },
        {
         "name": "Brand",
         "rawType": "object",
         "type": "string"
        }
       ],
       "conversionMethod": "pd.DataFrame",
       "ref": "78ad6d41-52ab-4a02-b807-919081a5f7ba",
       "rows": [
        [
         "45",
         "Canon EOS-1Ds",
         "2002",
         "4064.0",
         "2032.0",
         "11.0",
         "0.0",
         "0.0",
         "0.0",
         "0.0",
         "0.0",
         "1585.0",
         "156.0",
         "7999.0",
         "Canon"
        ],
        [
         "46",
         "Canon EOS-1Ds Mark II",
         "2004",
         "4992.0",
         "3600.0",
         "16.0",
         "0.0",
         "0.0",
         "0.0",
         "0.0",
         "0.0",
         "1565.0",
         "156.0",
         "7999.0",
         "Canon"
        ],
        [
         "47",
         "Canon EOS-1Ds Mark III",
         "2007",
         "5616.0",
         "4992.0",
         "21.0",
         "0.0",
         "0.0",
         "0.0",
         "0.0",
         "0.0",
         "1385.0",
         "150.0",
         "7999.0",
         "Canon"
        ]
       ],
       "shape": {
        "columns": 14,
        "rows": 3
       }
      },
      "text/html": [
       "<div>\n",
       "<style scoped>\n",
       "    .dataframe tbody tr th:only-of-type {\n",
       "        vertical-align: middle;\n",
       "    }\n",
       "\n",
       "    .dataframe tbody tr th {\n",
       "        vertical-align: top;\n",
       "    }\n",
       "\n",
       "    .dataframe thead th {\n",
       "        text-align: right;\n",
       "    }\n",
       "</style>\n",
       "<table border=\"1\" class=\"dataframe\">\n",
       "  <thead>\n",
       "    <tr style=\"text-align: right;\">\n",
       "      <th></th>\n",
       "      <th>Model</th>\n",
       "      <th>Release date</th>\n",
       "      <th>Max resolution</th>\n",
       "      <th>Low resolution</th>\n",
       "      <th>Effective pixels</th>\n",
       "      <th>Zoom wide (W)</th>\n",
       "      <th>Zoom tele (T)</th>\n",
       "      <th>Normal focus range</th>\n",
       "      <th>Macro focus range</th>\n",
       "      <th>Storage included</th>\n",
       "      <th>Weight (inc. batteries)</th>\n",
       "      <th>Dimensions</th>\n",
       "      <th>Price</th>\n",
       "      <th>Brand</th>\n",
       "    </tr>\n",
       "  </thead>\n",
       "  <tbody>\n",
       "    <tr>\n",
       "      <th>45</th>\n",
       "      <td>Canon EOS-1Ds</td>\n",
       "      <td>2002</td>\n",
       "      <td>4064.0</td>\n",
       "      <td>2032.0</td>\n",
       "      <td>11.0</td>\n",
       "      <td>0.0</td>\n",
       "      <td>0.0</td>\n",
       "      <td>0.0</td>\n",
       "      <td>0.0</td>\n",
       "      <td>0.0</td>\n",
       "      <td>1585.0</td>\n",
       "      <td>156.0</td>\n",
       "      <td>7999.0</td>\n",
       "      <td>Canon</td>\n",
       "    </tr>\n",
       "    <tr>\n",
       "      <th>46</th>\n",
       "      <td>Canon EOS-1Ds Mark II</td>\n",
       "      <td>2004</td>\n",
       "      <td>4992.0</td>\n",
       "      <td>3600.0</td>\n",
       "      <td>16.0</td>\n",
       "      <td>0.0</td>\n",
       "      <td>0.0</td>\n",
       "      <td>0.0</td>\n",
       "      <td>0.0</td>\n",
       "      <td>0.0</td>\n",
       "      <td>1565.0</td>\n",
       "      <td>156.0</td>\n",
       "      <td>7999.0</td>\n",
       "      <td>Canon</td>\n",
       "    </tr>\n",
       "    <tr>\n",
       "      <th>47</th>\n",
       "      <td>Canon EOS-1Ds Mark III</td>\n",
       "      <td>2007</td>\n",
       "      <td>5616.0</td>\n",
       "      <td>4992.0</td>\n",
       "      <td>21.0</td>\n",
       "      <td>0.0</td>\n",
       "      <td>0.0</td>\n",
       "      <td>0.0</td>\n",
       "      <td>0.0</td>\n",
       "      <td>0.0</td>\n",
       "      <td>1385.0</td>\n",
       "      <td>150.0</td>\n",
       "      <td>7999.0</td>\n",
       "      <td>Canon</td>\n",
       "    </tr>\n",
       "  </tbody>\n",
       "</table>\n",
       "</div>"
      ],
      "text/plain": [
       "                     Model  Release date  Max resolution  Low resolution  \\\n",
       "45           Canon EOS-1Ds          2002          4064.0          2032.0   \n",
       "46   Canon EOS-1Ds Mark II          2004          4992.0          3600.0   \n",
       "47  Canon EOS-1Ds Mark III          2007          5616.0          4992.0   \n",
       "\n",
       "    Effective pixels  Zoom wide (W)  Zoom tele (T)  Normal focus range  \\\n",
       "45              11.0            0.0            0.0                 0.0   \n",
       "46              16.0            0.0            0.0                 0.0   \n",
       "47              21.0            0.0            0.0                 0.0   \n",
       "\n",
       "    Macro focus range  Storage included  Weight (inc. batteries)  Dimensions  \\\n",
       "45                0.0               0.0                   1585.0       156.0   \n",
       "46                0.0               0.0                   1565.0       156.0   \n",
       "47                0.0               0.0                   1385.0       150.0   \n",
       "\n",
       "     Price  Brand  \n",
       "45  7999.0  Canon  \n",
       "46  7999.0  Canon  \n",
       "47  7999.0  Canon  "
      ]
     },
     "execution_count": 43,
     "metadata": {},
     "output_type": "execute_result"
    }
   ],
   "source": [
    "# What is the brand and model name of the most expensive camera? There may be more than one.\n",
    "cameras_max_price = cameras_df[\"Price\"].max()\n",
    "cameras_df[cameras_df[\"Price\"] == cameras_max_price]"
   ]
  },
  {
   "cell_type": "code",
   "execution_count": 47,
   "metadata": {},
   "outputs": [
    {
     "name": "stdout",
     "output_type": "stream",
     "text": [
      "812 \n",
      "\n",
      "\n",
      "\n",
      "153\n"
     ]
    }
   ],
   "source": [
    "# Which are more common, below-average-cost cameras or above-average-cost cameras?\n",
    "print(cameras_df['Price'][cameras_df[\"Price\"] < cameras_df[\"Price\"].mean()].count(), '\\n\\n\\n')\n",
    "print(cameras_df['Price'][cameras_df['Price'] > cameras_df['Price'].mean()].count())"
   ]
  },
  {
   "cell_type": "code",
   "execution_count": 50,
   "metadata": {},
   "outputs": [
    {
     "data": {
      "application/vnd.microsoft.datawrangler.viewer.v0+json": {
       "columns": [
        {
         "name": "index",
         "rawType": "int64",
         "type": "integer"
        },
        {
         "name": "Model",
         "rawType": "object",
         "type": "string"
        },
        {
         "name": "Release date",
         "rawType": "int64",
         "type": "integer"
        },
        {
         "name": "Max resolution",
         "rawType": "float64",
         "type": "float"
        },
        {
         "name": "Low resolution",
         "rawType": "float64",
         "type": "float"
        },
        {
         "name": "Effective pixels",
         "rawType": "float64",
         "type": "float"
        },
        {
         "name": "Zoom wide (W)",
         "rawType": "float64",
         "type": "float"
        },
        {
         "name": "Zoom tele (T)",
         "rawType": "float64",
         "type": "float"
        },
        {
         "name": "Normal focus range",
         "rawType": "float64",
         "type": "float"
        },
        {
         "name": "Macro focus range",
         "rawType": "float64",
         "type": "float"
        },
        {
         "name": "Storage included",
         "rawType": "float64",
         "type": "float"
        },
        {
         "name": "Weight (inc. batteries)",
         "rawType": "float64",
         "type": "float"
        },
        {
         "name": "Dimensions",
         "rawType": "float64",
         "type": "float"
        },
        {
         "name": "Price",
         "rawType": "float64",
         "type": "float"
        },
        {
         "name": "Brand",
         "rawType": "object",
         "type": "string"
        }
       ],
       "conversionMethod": "pd.DataFrame",
       "ref": "4ff16be4-ed90-4b0f-b3a2-45a82b081160",
       "rows": [
        [
         "0",
         "Canon PowerShot 350",
         "1997",
         "640.0",
         "0.0",
         "0.0",
         "42.0",
         "42.0",
         "70.0",
         "3.0",
         "2.0",
         "320.0",
         "93.0",
         "149.0",
         "Canon"
        ],
        [
         "1",
         "Canon PowerShot 600",
         "1996",
         "832.0",
         "640.0",
         "0.0",
         "50.0",
         "50.0",
         "40.0",
         "10.0",
         "1.0",
         "460.0",
         "160.0",
         "139.0",
         "Canon"
        ],
        [
         "2",
         "Canon PowerShot A10",
         "2001",
         "1280.0",
         "1024.0",
         "1.0",
         "35.0",
         "105.0",
         "76.0",
         "16.0",
         "8.0",
         "375.0",
         "110.0",
         "139.0",
         "Canon"
        ],
        [
         "3",
         "Canon PowerShot A100",
         "2002",
         "1280.0",
         "1024.0",
         "1.0",
         "39.0",
         "39.0",
         "20.0",
         "5.0",
         "8.0",
         "225.0",
         "110.0",
         "139.0",
         "Canon"
        ],
        [
         "4",
         "Canon PowerShot A20",
         "2001",
         "1600.0",
         "1024.0",
         "1.0",
         "35.0",
         "105.0",
         "76.0",
         "16.0",
         "8.0",
         "375.0",
         "110.0",
         "139.0",
         "Canon"
        ]
       ],
       "shape": {
        "columns": 14,
        "rows": 5
       }
      },
      "text/html": [
       "<div>\n",
       "<style scoped>\n",
       "    .dataframe tbody tr th:only-of-type {\n",
       "        vertical-align: middle;\n",
       "    }\n",
       "\n",
       "    .dataframe tbody tr th {\n",
       "        vertical-align: top;\n",
       "    }\n",
       "\n",
       "    .dataframe thead th {\n",
       "        text-align: right;\n",
       "    }\n",
       "</style>\n",
       "<table border=\"1\" class=\"dataframe\">\n",
       "  <thead>\n",
       "    <tr style=\"text-align: right;\">\n",
       "      <th></th>\n",
       "      <th>Model</th>\n",
       "      <th>Release date</th>\n",
       "      <th>Max resolution</th>\n",
       "      <th>Low resolution</th>\n",
       "      <th>Effective pixels</th>\n",
       "      <th>Zoom wide (W)</th>\n",
       "      <th>Zoom tele (T)</th>\n",
       "      <th>Normal focus range</th>\n",
       "      <th>Macro focus range</th>\n",
       "      <th>Storage included</th>\n",
       "      <th>Weight (inc. batteries)</th>\n",
       "      <th>Dimensions</th>\n",
       "      <th>Price</th>\n",
       "      <th>Brand</th>\n",
       "    </tr>\n",
       "  </thead>\n",
       "  <tbody>\n",
       "    <tr>\n",
       "      <th>0</th>\n",
       "      <td>Canon PowerShot 350</td>\n",
       "      <td>1997</td>\n",
       "      <td>640.0</td>\n",
       "      <td>0.0</td>\n",
       "      <td>0.0</td>\n",
       "      <td>42.0</td>\n",
       "      <td>42.0</td>\n",
       "      <td>70.0</td>\n",
       "      <td>3.0</td>\n",
       "      <td>2.0</td>\n",
       "      <td>320.0</td>\n",
       "      <td>93.0</td>\n",
       "      <td>149.0</td>\n",
       "      <td>Canon</td>\n",
       "    </tr>\n",
       "    <tr>\n",
       "      <th>1</th>\n",
       "      <td>Canon PowerShot 600</td>\n",
       "      <td>1996</td>\n",
       "      <td>832.0</td>\n",
       "      <td>640.0</td>\n",
       "      <td>0.0</td>\n",
       "      <td>50.0</td>\n",
       "      <td>50.0</td>\n",
       "      <td>40.0</td>\n",
       "      <td>10.0</td>\n",
       "      <td>1.0</td>\n",
       "      <td>460.0</td>\n",
       "      <td>160.0</td>\n",
       "      <td>139.0</td>\n",
       "      <td>Canon</td>\n",
       "    </tr>\n",
       "    <tr>\n",
       "      <th>2</th>\n",
       "      <td>Canon PowerShot A10</td>\n",
       "      <td>2001</td>\n",
       "      <td>1280.0</td>\n",
       "      <td>1024.0</td>\n",
       "      <td>1.0</td>\n",
       "      <td>35.0</td>\n",
       "      <td>105.0</td>\n",
       "      <td>76.0</td>\n",
       "      <td>16.0</td>\n",
       "      <td>8.0</td>\n",
       "      <td>375.0</td>\n",
       "      <td>110.0</td>\n",
       "      <td>139.0</td>\n",
       "      <td>Canon</td>\n",
       "    </tr>\n",
       "    <tr>\n",
       "      <th>3</th>\n",
       "      <td>Canon PowerShot A100</td>\n",
       "      <td>2002</td>\n",
       "      <td>1280.0</td>\n",
       "      <td>1024.0</td>\n",
       "      <td>1.0</td>\n",
       "      <td>39.0</td>\n",
       "      <td>39.0</td>\n",
       "      <td>20.0</td>\n",
       "      <td>5.0</td>\n",
       "      <td>8.0</td>\n",
       "      <td>225.0</td>\n",
       "      <td>110.0</td>\n",
       "      <td>139.0</td>\n",
       "      <td>Canon</td>\n",
       "    </tr>\n",
       "    <tr>\n",
       "      <th>4</th>\n",
       "      <td>Canon PowerShot A20</td>\n",
       "      <td>2001</td>\n",
       "      <td>1600.0</td>\n",
       "      <td>1024.0</td>\n",
       "      <td>1.0</td>\n",
       "      <td>35.0</td>\n",
       "      <td>105.0</td>\n",
       "      <td>76.0</td>\n",
       "      <td>16.0</td>\n",
       "      <td>8.0</td>\n",
       "      <td>375.0</td>\n",
       "      <td>110.0</td>\n",
       "      <td>139.0</td>\n",
       "      <td>Canon</td>\n",
       "    </tr>\n",
       "  </tbody>\n",
       "</table>\n",
       "</div>"
      ],
      "text/plain": [
       "                  Model  Release date  Max resolution  Low resolution  \\\n",
       "0   Canon PowerShot 350          1997           640.0             0.0   \n",
       "1   Canon PowerShot 600          1996           832.0           640.0   \n",
       "2   Canon PowerShot A10          2001          1280.0          1024.0   \n",
       "3  Canon PowerShot A100          2002          1280.0          1024.0   \n",
       "4   Canon PowerShot A20          2001          1600.0          1024.0   \n",
       "\n",
       "   Effective pixels  Zoom wide (W)  Zoom tele (T)  Normal focus range  \\\n",
       "0               0.0           42.0           42.0                70.0   \n",
       "1               0.0           50.0           50.0                40.0   \n",
       "2               1.0           35.0          105.0                76.0   \n",
       "3               1.0           39.0           39.0                20.0   \n",
       "4               1.0           35.0          105.0                76.0   \n",
       "\n",
       "   Macro focus range  Storage included  Weight (inc. batteries)  Dimensions  \\\n",
       "0                3.0               2.0                    320.0        93.0   \n",
       "1               10.0               1.0                    460.0       160.0   \n",
       "2               16.0               8.0                    375.0       110.0   \n",
       "3                5.0               8.0                    225.0       110.0   \n",
       "4               16.0               8.0                    375.0       110.0   \n",
       "\n",
       "   Price  Brand  \n",
       "0  149.0  Canon  \n",
       "1  139.0  Canon  \n",
       "2  139.0  Canon  \n",
       "3  139.0  Canon  \n",
       "4  139.0  Canon  "
      ]
     },
     "execution_count": 50,
     "metadata": {},
     "output_type": "execute_result"
    }
   ],
   "source": [
    "# Digital camera technology improved rapidly during 1997-2007 period. Divide the DataFrame into two\n",
    "# new DataFrames: one with cameras released on or before 2002, and one with cameras released after\n",
    "# 2002. Then answer the following questions\n",
    "\n",
    "cameras_2002 = cameras_df[cameras_df['Release date'] <= 2002]\n",
    "cameras_now = cameras_df[cameras_df['Release date'] > 2002]\n",
    "\n",
    "cameras_2002.head()"
   ]
  },
  {
   "cell_type": "code",
   "execution_count": 51,
   "metadata": {},
   "outputs": [
    {
     "data": {
      "application/vnd.microsoft.datawrangler.viewer.v0+json": {
       "columns": [
        {
         "name": "index",
         "rawType": "int64",
         "type": "integer"
        },
        {
         "name": "Model",
         "rawType": "object",
         "type": "string"
        },
        {
         "name": "Release date",
         "rawType": "int64",
         "type": "integer"
        },
        {
         "name": "Max resolution",
         "rawType": "float64",
         "type": "float"
        },
        {
         "name": "Low resolution",
         "rawType": "float64",
         "type": "float"
        },
        {
         "name": "Effective pixels",
         "rawType": "float64",
         "type": "float"
        },
        {
         "name": "Zoom wide (W)",
         "rawType": "float64",
         "type": "float"
        },
        {
         "name": "Zoom tele (T)",
         "rawType": "float64",
         "type": "float"
        },
        {
         "name": "Normal focus range",
         "rawType": "float64",
         "type": "float"
        },
        {
         "name": "Macro focus range",
         "rawType": "float64",
         "type": "float"
        },
        {
         "name": "Storage included",
         "rawType": "float64",
         "type": "float"
        },
        {
         "name": "Weight (inc. batteries)",
         "rawType": "float64",
         "type": "float"
        },
        {
         "name": "Dimensions",
         "rawType": "float64",
         "type": "float"
        },
        {
         "name": "Price",
         "rawType": "float64",
         "type": "float"
        },
        {
         "name": "Brand",
         "rawType": "object",
         "type": "string"
        }
       ],
       "conversionMethod": "pd.DataFrame",
       "ref": "9586fdc9-4ad2-4924-a716-149d75993794",
       "rows": [
        [
         "7",
         "Canon PowerShot A300",
         "2003",
         "2048.0",
         "1600.0",
         "3.0",
         "33.0",
         "33.0",
         "20.0",
         "5.0",
         "32.0",
         "225.0",
         "111.0",
         "139.0",
         "Canon"
        ],
        [
         "8",
         "Canon PowerShot A310",
         "2004",
         "2048.0",
         "1600.0",
         "3.0",
         "33.0",
         "33.0",
         "0.0",
         "5.0",
         "0.0",
         "205.0",
         "110.0",
         "139.0",
         "Canon"
        ],
        [
         "10",
         "Canon PowerShot A400",
         "2004",
         "2048.0",
         "1600.0",
         "3.0",
         "45.0",
         "100.0",
         "0.0",
         "5.0",
         "16.0",
         "255.0",
         "107.0",
         "139.0",
         "Canon"
        ],
        [
         "11",
         "Canon PowerShot A410",
         "2005",
         "2048.0",
         "1600.0",
         "3.0",
         "41.0",
         "131.0",
         "0.0",
         "1.0",
         "16.0",
         "195.0",
         "103.0",
         "139.0",
         "Canon"
        ],
        [
         "12",
         "Canon PowerShot A420",
         "2006",
         "2272.0",
         "1600.0",
         "4.0",
         "39.0",
         "125.0",
         "47.0",
         "1.0",
         "16.0",
         "200.0",
         "103.0",
         "139.0",
         "Canon"
        ]
       ],
       "shape": {
        "columns": 14,
        "rows": 5
       }
      },
      "text/html": [
       "<div>\n",
       "<style scoped>\n",
       "    .dataframe tbody tr th:only-of-type {\n",
       "        vertical-align: middle;\n",
       "    }\n",
       "\n",
       "    .dataframe tbody tr th {\n",
       "        vertical-align: top;\n",
       "    }\n",
       "\n",
       "    .dataframe thead th {\n",
       "        text-align: right;\n",
       "    }\n",
       "</style>\n",
       "<table border=\"1\" class=\"dataframe\">\n",
       "  <thead>\n",
       "    <tr style=\"text-align: right;\">\n",
       "      <th></th>\n",
       "      <th>Model</th>\n",
       "      <th>Release date</th>\n",
       "      <th>Max resolution</th>\n",
       "      <th>Low resolution</th>\n",
       "      <th>Effective pixels</th>\n",
       "      <th>Zoom wide (W)</th>\n",
       "      <th>Zoom tele (T)</th>\n",
       "      <th>Normal focus range</th>\n",
       "      <th>Macro focus range</th>\n",
       "      <th>Storage included</th>\n",
       "      <th>Weight (inc. batteries)</th>\n",
       "      <th>Dimensions</th>\n",
       "      <th>Price</th>\n",
       "      <th>Brand</th>\n",
       "    </tr>\n",
       "  </thead>\n",
       "  <tbody>\n",
       "    <tr>\n",
       "      <th>7</th>\n",
       "      <td>Canon PowerShot A300</td>\n",
       "      <td>2003</td>\n",
       "      <td>2048.0</td>\n",
       "      <td>1600.0</td>\n",
       "      <td>3.0</td>\n",
       "      <td>33.0</td>\n",
       "      <td>33.0</td>\n",
       "      <td>20.0</td>\n",
       "      <td>5.0</td>\n",
       "      <td>32.0</td>\n",
       "      <td>225.0</td>\n",
       "      <td>111.0</td>\n",
       "      <td>139.0</td>\n",
       "      <td>Canon</td>\n",
       "    </tr>\n",
       "    <tr>\n",
       "      <th>8</th>\n",
       "      <td>Canon PowerShot A310</td>\n",
       "      <td>2004</td>\n",
       "      <td>2048.0</td>\n",
       "      <td>1600.0</td>\n",
       "      <td>3.0</td>\n",
       "      <td>33.0</td>\n",
       "      <td>33.0</td>\n",
       "      <td>0.0</td>\n",
       "      <td>5.0</td>\n",
       "      <td>0.0</td>\n",
       "      <td>205.0</td>\n",
       "      <td>110.0</td>\n",
       "      <td>139.0</td>\n",
       "      <td>Canon</td>\n",
       "    </tr>\n",
       "    <tr>\n",
       "      <th>10</th>\n",
       "      <td>Canon PowerShot A400</td>\n",
       "      <td>2004</td>\n",
       "      <td>2048.0</td>\n",
       "      <td>1600.0</td>\n",
       "      <td>3.0</td>\n",
       "      <td>45.0</td>\n",
       "      <td>100.0</td>\n",
       "      <td>0.0</td>\n",
       "      <td>5.0</td>\n",
       "      <td>16.0</td>\n",
       "      <td>255.0</td>\n",
       "      <td>107.0</td>\n",
       "      <td>139.0</td>\n",
       "      <td>Canon</td>\n",
       "    </tr>\n",
       "    <tr>\n",
       "      <th>11</th>\n",
       "      <td>Canon PowerShot A410</td>\n",
       "      <td>2005</td>\n",
       "      <td>2048.0</td>\n",
       "      <td>1600.0</td>\n",
       "      <td>3.0</td>\n",
       "      <td>41.0</td>\n",
       "      <td>131.0</td>\n",
       "      <td>0.0</td>\n",
       "      <td>1.0</td>\n",
       "      <td>16.0</td>\n",
       "      <td>195.0</td>\n",
       "      <td>103.0</td>\n",
       "      <td>139.0</td>\n",
       "      <td>Canon</td>\n",
       "    </tr>\n",
       "    <tr>\n",
       "      <th>12</th>\n",
       "      <td>Canon PowerShot A420</td>\n",
       "      <td>2006</td>\n",
       "      <td>2272.0</td>\n",
       "      <td>1600.0</td>\n",
       "      <td>4.0</td>\n",
       "      <td>39.0</td>\n",
       "      <td>125.0</td>\n",
       "      <td>47.0</td>\n",
       "      <td>1.0</td>\n",
       "      <td>16.0</td>\n",
       "      <td>200.0</td>\n",
       "      <td>103.0</td>\n",
       "      <td>139.0</td>\n",
       "      <td>Canon</td>\n",
       "    </tr>\n",
       "  </tbody>\n",
       "</table>\n",
       "</div>"
      ],
      "text/plain": [
       "                   Model  Release date  Max resolution  Low resolution  \\\n",
       "7   Canon PowerShot A300          2003          2048.0          1600.0   \n",
       "8   Canon PowerShot A310          2004          2048.0          1600.0   \n",
       "10  Canon PowerShot A400          2004          2048.0          1600.0   \n",
       "11  Canon PowerShot A410          2005          2048.0          1600.0   \n",
       "12  Canon PowerShot A420          2006          2272.0          1600.0   \n",
       "\n",
       "    Effective pixels  Zoom wide (W)  Zoom tele (T)  Normal focus range  \\\n",
       "7                3.0           33.0           33.0                20.0   \n",
       "8                3.0           33.0           33.0                 0.0   \n",
       "10               3.0           45.0          100.0                 0.0   \n",
       "11               3.0           41.0          131.0                 0.0   \n",
       "12               4.0           39.0          125.0                47.0   \n",
       "\n",
       "    Macro focus range  Storage included  Weight (inc. batteries)  Dimensions  \\\n",
       "7                 5.0              32.0                    225.0       111.0   \n",
       "8                 5.0               0.0                    205.0       110.0   \n",
       "10                5.0              16.0                    255.0       107.0   \n",
       "11                1.0              16.0                    195.0       103.0   \n",
       "12                1.0              16.0                    200.0       103.0   \n",
       "\n",
       "    Price  Brand  \n",
       "7   139.0  Canon  \n",
       "8   139.0  Canon  \n",
       "10  139.0  Canon  \n",
       "11  139.0  Canon  \n",
       "12  139.0  Canon  "
      ]
     },
     "execution_count": 51,
     "metadata": {},
     "output_type": "execute_result"
    }
   ],
   "source": [
    "cameras_now.head()"
   ]
  },
  {
   "cell_type": "code",
   "execution_count": 69,
   "metadata": {},
   "outputs": [
    {
     "name": "stdout",
     "output_type": "stream",
     "text": [
      "Cameras Now\n",
      " Max resolution             2837.696746\n",
      "Low resolution             2156.576923\n",
      "Effective pixels              5.970414\n",
      "Zoom wide (W)                32.495562\n",
      "Zoom tele (T)               132.650888\n",
      "Normal focus range           42.531065\n",
      "Macro focus range             6.575444\n",
      "Storage included             20.986686\n",
      "Weight (inc. batteries)     276.736686\n",
      "Dimensions                  101.517751\n",
      "Price                       424.717456\n",
      "dtype: float64 \n",
      "\n",
      "\n",
      "\n",
      "Cameras Then \n",
      " Max resolution             1764.761246\n",
      "Low resolution             1050.408304\n",
      "Effective pixels              1.896194\n",
      "Zoom wide (W)                33.695502\n",
      "Zoom tele (T)               103.653979\n",
      "Normal focus range           46.633218\n",
      "Macro focus range            10.055363\n",
      "Storage included             11.141869\n",
      "Weight (inc. batteries)     430.249135\n",
      "Dimensions                  116.330450\n",
      "Price                       525.636678\n",
      "dtype: float64\n"
     ]
    }
   ],
   "source": [
    "# On average, did any camera characteristics improve over time? Which ones?\n",
    "# On average, did any camera characteristics stay about the same? Which ones?\n",
    "# On average, did any camera characteristics get worse over time? Which ones?\n",
    "\n",
    "print('Cameras Now\\n', cameras_now.iloc[:, 2:-1].mean(), '\\n\\n\\n')\n",
    "\n",
    "print('Cameras Then \\n', cameras_2002.iloc[:, 2:-1].mean())"
   ]
  },
  {
   "cell_type": "code",
   "execution_count": 63,
   "metadata": {},
   "outputs": [
    {
     "data": {
      "text/plain": [
       "374     Kodak DCS SLR/c\n",
       "362       Kodak DCS 14n\n",
       "375     Kodak DCS SLR/n\n",
       "412         Kodak Z1275\n",
       "613      Olympus FE-300\n",
       "778     Ricoh Caplio R7\n",
       "784    Ricoh Caplio GX8\n",
       "837        Samsung S830\n",
       "824        Samsung L830\n",
       "483    Nikon Coolpix P1\n",
       "Name: Model, dtype: object"
      ]
     },
     "execution_count": 63,
     "metadata": {},
     "output_type": "execute_result"
    }
   ],
   "source": [
    "cameras_df['Pixel Price Ratio'] = cameras_df['Effective pixels'] / cameras_df['Price']\n",
    "cameras_df.sort_values('Pixel Price Ratio', ascending=False)['Model'].head(10)"
   ]
  },
  {
   "cell_type": "code",
   "execution_count": 64,
   "metadata": {},
   "outputs": [
    {
     "name": "stdout",
     "output_type": "stream",
     "text": [
      "<class 'pandas.core.frame.DataFrame'>\n",
      "RangeIndex: 965 entries, 0 to 964\n",
      "Data columns (total 15 columns):\n",
      " #   Column                   Non-Null Count  Dtype  \n",
      "---  ------                   --------------  -----  \n",
      " 0   Model                    965 non-null    object \n",
      " 1   Release date             965 non-null    int64  \n",
      " 2   Max resolution           965 non-null    float64\n",
      " 3   Low resolution           965 non-null    float64\n",
      " 4   Effective pixels         965 non-null    float64\n",
      " 5   Zoom wide (W)            965 non-null    float64\n",
      " 6   Zoom tele (T)            965 non-null    float64\n",
      " 7   Normal focus range       965 non-null    float64\n",
      " 8   Macro focus range        965 non-null    float64\n",
      " 9   Storage included         965 non-null    float64\n",
      " 10  Weight (inc. batteries)  965 non-null    float64\n",
      " 11  Dimensions               965 non-null    float64\n",
      " 12  Price                    965 non-null    float64\n",
      " 13  Brand                    965 non-null    object \n",
      " 14  Pixel Price Ratio        965 non-null    float64\n",
      "dtypes: float64(12), int64(1), object(2)\n",
      "memory usage: 113.2+ KB\n"
     ]
    }
   ],
   "source": [
    "cameras_df.info()"
   ]
  },
  {
   "cell_type": "code",
   "execution_count": 66,
   "metadata": {},
   "outputs": [
    {
     "name": "stdout",
     "output_type": "stream",
     "text": [
      "Max resolution 1 \n",
      "\n",
      "Low resolution 51 \n",
      "\n",
      "Effective pixels 26 \n",
      "\n",
      "Zoom wide (W) 80 \n",
      "\n",
      "Zoom tele (T) 80 \n",
      "\n",
      "Normal focus range 127 \n",
      "\n",
      "Macro focus range 113 \n",
      "\n",
      "Storage included 113 \n",
      "\n",
      "Weight (inc. batteries) 13 \n",
      "\n",
      "Dimensions 7 \n",
      "\n",
      "Price 0 \n",
      "\n",
      "Brand 0 \n",
      "\n"
     ]
    }
   ],
   "source": [
    "integer_columns = cameras_df.iloc[:, 2:-1].columns\n",
    "for col in integer_columns:\n",
    "    print(col, (cameras_df[col] == 0).sum(), '\\n')"
   ]
  },
  {
   "cell_type": "markdown",
   "metadata": {},
   "source": [
    "## Pandas Questions"
   ]
  },
  {
   "cell_type": "code",
   "execution_count": 93,
   "metadata": {},
   "outputs": [
    {
     "data": {
      "text/plain": [
       "(6,)"
      ]
     },
     "execution_count": 93,
     "metadata": {},
     "output_type": "execute_result"
    }
   ],
   "source": [
    "## Random pandas series object\n",
    "\n",
    "s = pd.Series([1,2,3,4,5,6])\n",
    "s.shape"
   ]
  },
  {
   "cell_type": "code",
   "execution_count": 95,
   "metadata": {},
   "outputs": [
    {
     "data": {
      "text/plain": [
       "np.int64(4)"
      ]
     },
     "execution_count": 95,
     "metadata": {},
     "output_type": "execute_result"
    }
   ],
   "source": [
    "s.iloc[3]"
   ]
  },
  {
   "cell_type": "code",
   "execution_count": 96,
   "metadata": {},
   "outputs": [
    {
     "data": {
      "text/plain": [
       "Model                      Canon PowerShot 600\n",
       "Release date                              1996\n",
       "Max resolution                           832.0\n",
       "Low resolution                           640.0\n",
       "Effective pixels                           0.0\n",
       "Zoom wide (W)                             50.0\n",
       "Zoom tele (T)                             50.0\n",
       "Normal focus range                        40.0\n",
       "Macro focus range                         10.0\n",
       "Storage included                           1.0\n",
       "Weight (inc. batteries)                  460.0\n",
       "Dimensions                               160.0\n",
       "Price                                    139.0\n",
       "Brand                                    Canon\n",
       "Pixel Price Ratio                          0.0\n",
       "Name: 1, dtype: object"
      ]
     },
     "execution_count": 96,
     "metadata": {},
     "output_type": "execute_result"
    }
   ],
   "source": [
    "cameras_df.iloc[1]"
   ]
  },
  {
   "cell_type": "code",
   "execution_count": null,
   "metadata": {},
   "outputs": [],
   "source": []
  }
 ],
 "metadata": {
  "kernelspec": {
   "display_name": "base",
   "language": "python",
   "name": "python3"
  },
  "language_info": {
   "codemirror_mode": {
    "name": "ipython",
    "version": 3
   },
   "file_extension": ".py",
   "mimetype": "text/x-python",
   "name": "python",
   "nbconvert_exporter": "python",
   "pygments_lexer": "ipython3",
   "version": "3.12.9"
  }
 },
 "nbformat": 4,
 "nbformat_minor": 2
}
