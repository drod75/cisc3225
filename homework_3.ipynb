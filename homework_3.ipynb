{
  "cells": [
    {
      "cell_type": "code",
      "execution_count": 1,
      "metadata": {
        "id": "_IgZIIEjbJBR",
        "outputId": "ad58e3a1-eac6-4b6d-e55d-9e588f79338e",
        "colab": {
          "base_uri": "https://localhost:8080/"
        }
      },
      "outputs": [
        {
          "output_type": "stream",
          "name": "stdout",
          "text": [
            "Collecting fireducks\n",
            "  Downloading fireducks-1.2.4-cp311-cp311-manylinux_2_28_x86_64.whl.metadata (1.0 kB)\n",
            "Collecting firefw==1.2.4 (from fireducks)\n",
            "  Downloading firefw-1.2.4-py3-none-any.whl.metadata (818 bytes)\n",
            "Requirement already satisfied: pandas<2.3.0,>=1.5.3 in /usr/local/lib/python3.11/dist-packages (from fireducks) (2.2.2)\n",
            "Collecting pyarrow<19.1,>=19.0 (from fireducks)\n",
            "  Downloading pyarrow-19.0.1-cp311-cp311-manylinux_2_28_x86_64.whl.metadata (3.3 kB)\n",
            "Requirement already satisfied: numpy>=1.23.2 in /usr/local/lib/python3.11/dist-packages (from pandas<2.3.0,>=1.5.3->fireducks) (1.26.4)\n",
            "Requirement already satisfied: python-dateutil>=2.8.2 in /usr/local/lib/python3.11/dist-packages (from pandas<2.3.0,>=1.5.3->fireducks) (2.8.2)\n",
            "Requirement already satisfied: pytz>=2020.1 in /usr/local/lib/python3.11/dist-packages (from pandas<2.3.0,>=1.5.3->fireducks) (2025.1)\n",
            "Requirement already satisfied: tzdata>=2022.7 in /usr/local/lib/python3.11/dist-packages (from pandas<2.3.0,>=1.5.3->fireducks) (2025.1)\n",
            "Requirement already satisfied: six>=1.5 in /usr/local/lib/python3.11/dist-packages (from python-dateutil>=2.8.2->pandas<2.3.0,>=1.5.3->fireducks) (1.17.0)\n",
            "Downloading fireducks-1.2.4-cp311-cp311-manylinux_2_28_x86_64.whl (7.3 MB)\n",
            "\u001b[2K   \u001b[90m━━━━━━━━━━━━━━━━━━━━━━━━━━━━━━━━━━━━━━━━\u001b[0m \u001b[32m7.3/7.3 MB\u001b[0m \u001b[31m47.3 MB/s\u001b[0m eta \u001b[36m0:00:00\u001b[0m\n",
            "\u001b[?25hDownloading firefw-1.2.4-py3-none-any.whl (12 kB)\n",
            "Downloading pyarrow-19.0.1-cp311-cp311-manylinux_2_28_x86_64.whl (42.1 MB)\n",
            "\u001b[2K   \u001b[90m━━━━━━━━━━━━━━━━━━━━━━━━━━━━━━━━━━━━━━━━\u001b[0m \u001b[32m42.1/42.1 MB\u001b[0m \u001b[31m12.8 MB/s\u001b[0m eta \u001b[36m0:00:00\u001b[0m\n",
            "\u001b[?25hInstalling collected packages: pyarrow, firefw, fireducks\n",
            "  Attempting uninstall: pyarrow\n",
            "    Found existing installation: pyarrow 18.1.0\n",
            "    Uninstalling pyarrow-18.1.0:\n",
            "      Successfully uninstalled pyarrow-18.1.0\n",
            "Successfully installed fireducks-1.2.4 firefw-1.2.4 pyarrow-19.0.1\n"
          ]
        }
      ],
      "source": [
        "!pip install fireducks\n",
        "import fireducks.pandas as pd"
      ]
    },
    {
      "cell_type": "code",
      "source": [
        "planets_df = pd.read_csv('https://raw.githubusercontent.com/CUNY-CISC-3225/datasets/main/planets.csv')\n",
        "planets_df.head()"
      ],
      "metadata": {
        "id": "2IgHHtBUbOVj",
        "outputId": "54d94b3f-57ed-4b5f-ef41-7aaa1ad12e13",
        "colab": {
          "base_uri": "https://localhost:8080/",
          "height": 206
        }
      },
      "execution_count": 2,
      "outputs": [
        {
          "output_type": "display_data",
          "data": {
            "text/html": [
              "<div>\n",
              "<style scoped>\n",
              "    .dataframe tbody tr th:only-of-type {\n",
              "        vertical-align: middle;\n",
              "    }\n",
              "\n",
              "    .dataframe tbody tr th {\n",
              "        vertical-align: top;\n",
              "    }\n",
              "\n",
              "    .dataframe thead th {\n",
              "        text-align: right;\n",
              "    }\n",
              "</style>\n",
              "<table border=\"1\" class=\"dataframe\">\n",
              "  <thead>\n",
              "    <tr style=\"text-align: right;\">\n",
              "      <th></th>\n",
              "      <th>method</th>\n",
              "      <th>number</th>\n",
              "      <th>orbital_period</th>\n",
              "      <th>mass</th>\n",
              "      <th>distance</th>\n",
              "      <th>year</th>\n",
              "    </tr>\n",
              "  </thead>\n",
              "  <tbody>\n",
              "    <tr>\n",
              "      <th>0</th>\n",
              "      <td>Radial Velocity</td>\n",
              "      <td>1</td>\n",
              "      <td>269.300</td>\n",
              "      <td>7.10</td>\n",
              "      <td>77.40</td>\n",
              "      <td>2006</td>\n",
              "    </tr>\n",
              "    <tr>\n",
              "      <th>1</th>\n",
              "      <td>Radial Velocity</td>\n",
              "      <td>1</td>\n",
              "      <td>874.774</td>\n",
              "      <td>2.21</td>\n",
              "      <td>56.95</td>\n",
              "      <td>2008</td>\n",
              "    </tr>\n",
              "    <tr>\n",
              "      <th>2</th>\n",
              "      <td>Radial Velocity</td>\n",
              "      <td>1</td>\n",
              "      <td>763.000</td>\n",
              "      <td>2.60</td>\n",
              "      <td>19.84</td>\n",
              "      <td>2011</td>\n",
              "    </tr>\n",
              "    <tr>\n",
              "      <th>3</th>\n",
              "      <td>Radial Velocity</td>\n",
              "      <td>1</td>\n",
              "      <td>326.030</td>\n",
              "      <td>19.40</td>\n",
              "      <td>110.62</td>\n",
              "      <td>2007</td>\n",
              "    </tr>\n",
              "    <tr>\n",
              "      <th>4</th>\n",
              "      <td>Radial Velocity</td>\n",
              "      <td>1</td>\n",
              "      <td>516.220</td>\n",
              "      <td>10.50</td>\n",
              "      <td>119.47</td>\n",
              "      <td>2009</td>\n",
              "    </tr>\n",
              "  </tbody>\n",
              "</table>\n",
              "</div>"
            ]
          },
          "metadata": {}
        }
      ]
    },
    {
      "cell_type": "code",
      "source": [
        "planets_df.info()"
      ],
      "metadata": {
        "id": "eeHgmqXCb_cL",
        "outputId": "5bdbce03-5ef1-4516-cfed-87204e5a5678",
        "colab": {
          "base_uri": "https://localhost:8080/"
        }
      },
      "execution_count": 20,
      "outputs": [
        {
          "output_type": "stream",
          "name": "stdout",
          "text": [
            "<class 'pandas.core.frame.DataFrame'>\n",
            "RangeIndex: 1035 entries, 0 to 1034\n",
            "Data columns (total 6 columns):\n",
            " #   Column          Non-Null Count  Dtype  \n",
            "---  ------          --------------  -----  \n",
            " 0   method          1035 non-null   object \n",
            " 1   number          1035 non-null   int64  \n",
            " 2   orbital_period  992 non-null    float64\n",
            " 3   mass            513 non-null    float64\n",
            " 4   distance        808 non-null    float64\n",
            " 5   year            1035 non-null   int64  \n",
            "dtypes: float64(3), int64(2), object(1)\n",
            "memory usage: 48.6+ KB\n"
          ]
        }
      ]
    },
    {
      "cell_type": "code",
      "source": [
        "planets_df[planets_df['orbital_period'].isnull()]"
      ],
      "metadata": {
        "id": "Dn8dZATqg8j4",
        "outputId": "d09c2f70-296e-4934-d045-376e451b4cbc",
        "colab": {
          "base_uri": "https://localhost:8080/",
          "height": 1000
        }
      },
      "execution_count": 21,
      "outputs": [
        {
          "output_type": "display_data",
          "data": {
            "text/html": [
              "<div>\n",
              "<style scoped>\n",
              "    .dataframe tbody tr th:only-of-type {\n",
              "        vertical-align: middle;\n",
              "    }\n",
              "\n",
              "    .dataframe tbody tr th {\n",
              "        vertical-align: top;\n",
              "    }\n",
              "\n",
              "    .dataframe thead th {\n",
              "        text-align: right;\n",
              "    }\n",
              "</style>\n",
              "<table border=\"1\" class=\"dataframe\">\n",
              "  <thead>\n",
              "    <tr style=\"text-align: right;\">\n",
              "      <th></th>\n",
              "      <th>method</th>\n",
              "      <th>number</th>\n",
              "      <th>orbital_period</th>\n",
              "      <th>mass</th>\n",
              "      <th>distance</th>\n",
              "      <th>year</th>\n",
              "    </tr>\n",
              "  </thead>\n",
              "  <tbody>\n",
              "    <tr>\n",
              "      <th>29</th>\n",
              "      <td>Imaging</td>\n",
              "      <td>1</td>\n",
              "      <td>NaN</td>\n",
              "      <td>NaN</td>\n",
              "      <td>45.52</td>\n",
              "      <td>2005</td>\n",
              "    </tr>\n",
              "    <tr>\n",
              "      <th>30</th>\n",
              "      <td>Imaging</td>\n",
              "      <td>1</td>\n",
              "      <td>NaN</td>\n",
              "      <td>NaN</td>\n",
              "      <td>165.00</td>\n",
              "      <td>2007</td>\n",
              "    </tr>\n",
              "    <tr>\n",
              "      <th>31</th>\n",
              "      <td>Imaging</td>\n",
              "      <td>1</td>\n",
              "      <td>NaN</td>\n",
              "      <td>NaN</td>\n",
              "      <td>140.00</td>\n",
              "      <td>2004</td>\n",
              "    </tr>\n",
              "    <tr>\n",
              "      <th>33</th>\n",
              "      <td>Imaging</td>\n",
              "      <td>1</td>\n",
              "      <td>NaN</td>\n",
              "      <td>NaN</td>\n",
              "      <td>NaN</td>\n",
              "      <td>2008</td>\n",
              "    </tr>\n",
              "    <tr>\n",
              "      <th>34</th>\n",
              "      <td>Imaging</td>\n",
              "      <td>1</td>\n",
              "      <td>NaN</td>\n",
              "      <td>NaN</td>\n",
              "      <td>145.00</td>\n",
              "      <td>2013</td>\n",
              "    </tr>\n",
              "    <tr>\n",
              "      <th>35</th>\n",
              "      <td>Imaging</td>\n",
              "      <td>1</td>\n",
              "      <td>NaN</td>\n",
              "      <td>NaN</td>\n",
              "      <td>139.00</td>\n",
              "      <td>2004</td>\n",
              "    </tr>\n",
              "    <tr>\n",
              "      <th>36</th>\n",
              "      <td>Imaging</td>\n",
              "      <td>1</td>\n",
              "      <td>NaN</td>\n",
              "      <td>NaN</td>\n",
              "      <td>18.39</td>\n",
              "      <td>2006</td>\n",
              "    </tr>\n",
              "    <tr>\n",
              "      <th>54</th>\n",
              "      <td>Imaging</td>\n",
              "      <td>1</td>\n",
              "      <td>NaN</td>\n",
              "      <td>NaN</td>\n",
              "      <td>52.03</td>\n",
              "      <td>2012</td>\n",
              "    </tr>\n",
              "    <tr>\n",
              "      <th>69</th>\n",
              "      <td>Imaging</td>\n",
              "      <td>1</td>\n",
              "      <td>NaN</td>\n",
              "      <td>NaN</td>\n",
              "      <td>145.00</td>\n",
              "      <td>2008</td>\n",
              "    </tr>\n",
              "    <tr>\n",
              "      <th>70</th>\n",
              "      <td>Imaging</td>\n",
              "      <td>1</td>\n",
              "      <td>NaN</td>\n",
              "      <td>NaN</td>\n",
              "      <td>36.00</td>\n",
              "      <td>2013</td>\n",
              "    </tr>\n",
              "    <tr>\n",
              "      <th>71</th>\n",
              "      <td>Imaging</td>\n",
              "      <td>1</td>\n",
              "      <td>NaN</td>\n",
              "      <td>NaN</td>\n",
              "      <td>140.00</td>\n",
              "      <td>2010</td>\n",
              "    </tr>\n",
              "    <tr>\n",
              "      <th>73</th>\n",
              "      <td>Imaging</td>\n",
              "      <td>1</td>\n",
              "      <td>NaN</td>\n",
              "      <td>NaN</td>\n",
              "      <td>52.40</td>\n",
              "      <td>2004</td>\n",
              "    </tr>\n",
              "    <tr>\n",
              "      <th>90</th>\n",
              "      <td>Imaging</td>\n",
              "      <td>1</td>\n",
              "      <td>NaN</td>\n",
              "      <td>NaN</td>\n",
              "      <td>NaN</td>\n",
              "      <td>2006</td>\n",
              "    </tr>\n",
              "    <tr>\n",
              "      <th>124</th>\n",
              "      <td>Imaging</td>\n",
              "      <td>1</td>\n",
              "      <td>NaN</td>\n",
              "      <td>NaN</td>\n",
              "      <td>17.95</td>\n",
              "      <td>2013</td>\n",
              "    </tr>\n",
              "    <tr>\n",
              "      <th>150</th>\n",
              "      <td>Imaging</td>\n",
              "      <td>1</td>\n",
              "      <td>NaN</td>\n",
              "      <td>NaN</td>\n",
              "      <td>145.00</td>\n",
              "      <td>2010</td>\n",
              "    </tr>\n",
              "    <tr>\n",
              "      <th>392</th>\n",
              "      <td>Imaging</td>\n",
              "      <td>1</td>\n",
              "      <td>NaN</td>\n",
              "      <td>NaN</td>\n",
              "      <td>91.57</td>\n",
              "      <td>2013</td>\n",
              "    </tr>\n",
              "    <tr>\n",
              "      <th>423</th>\n",
              "      <td>Imaging</td>\n",
              "      <td>1</td>\n",
              "      <td>NaN</td>\n",
              "      <td>NaN</td>\n",
              "      <td>91.83</td>\n",
              "      <td>2013</td>\n",
              "    </tr>\n",
              "    <tr>\n",
              "      <th>577</th>\n",
              "      <td>Imaging</td>\n",
              "      <td>1</td>\n",
              "      <td>NaN</td>\n",
              "      <td>NaN</td>\n",
              "      <td>40.85</td>\n",
              "      <td>2006</td>\n",
              "    </tr>\n",
              "    <tr>\n",
              "      <th>635</th>\n",
              "      <td>Imaging</td>\n",
              "      <td>1</td>\n",
              "      <td>NaN</td>\n",
              "      <td>NaN</td>\n",
              "      <td>11.43</td>\n",
              "      <td>2010</td>\n",
              "    </tr>\n",
              "    <tr>\n",
              "      <th>639</th>\n",
              "      <td>Imaging</td>\n",
              "      <td>1</td>\n",
              "      <td>NaN</td>\n",
              "      <td>NaN</td>\n",
              "      <td>131.93</td>\n",
              "      <td>2010</td>\n",
              "    </tr>\n",
              "    <tr>\n",
              "      <th>749</th>\n",
              "      <td>Transit Timing Variations</td>\n",
              "      <td>3</td>\n",
              "      <td>NaN</td>\n",
              "      <td>NaN</td>\n",
              "      <td>NaN</td>\n",
              "      <td>2014</td>\n",
              "    </tr>\n",
              "    <tr>\n",
              "      <th>902</th>\n",
              "      <td>Microlensing</td>\n",
              "      <td>1</td>\n",
              "      <td>NaN</td>\n",
              "      <td>NaN</td>\n",
              "      <td>NaN</td>\n",
              "      <td>2008</td>\n",
              "    </tr>\n",
              "    <tr>\n",
              "      <th>903</th>\n",
              "      <td>Microlensing</td>\n",
              "      <td>1</td>\n",
              "      <td>NaN</td>\n",
              "      <td>NaN</td>\n",
              "      <td>NaN</td>\n",
              "      <td>2008</td>\n",
              "    </tr>\n",
              "    <tr>\n",
              "      <th>904</th>\n",
              "      <td>Microlensing</td>\n",
              "      <td>1</td>\n",
              "      <td>NaN</td>\n",
              "      <td>NaN</td>\n",
              "      <td>NaN</td>\n",
              "      <td>2009</td>\n",
              "    </tr>\n",
              "    <tr>\n",
              "      <th>905</th>\n",
              "      <td>Microlensing</td>\n",
              "      <td>1</td>\n",
              "      <td>NaN</td>\n",
              "      <td>NaN</td>\n",
              "      <td>3600.00</td>\n",
              "      <td>2013</td>\n",
              "    </tr>\n",
              "    <tr>\n",
              "      <th>907</th>\n",
              "      <td>Microlensing</td>\n",
              "      <td>1</td>\n",
              "      <td>NaN</td>\n",
              "      <td>NaN</td>\n",
              "      <td>NaN</td>\n",
              "      <td>2010</td>\n",
              "    </tr>\n",
              "    <tr>\n",
              "      <th>909</th>\n",
              "      <td>Microlensing</td>\n",
              "      <td>1</td>\n",
              "      <td>NaN</td>\n",
              "      <td>NaN</td>\n",
              "      <td>2300.00</td>\n",
              "      <td>2012</td>\n",
              "    </tr>\n",
              "    <tr>\n",
              "      <th>910</th>\n",
              "      <td>Microlensing</td>\n",
              "      <td>1</td>\n",
              "      <td>NaN</td>\n",
              "      <td>NaN</td>\n",
              "      <td>2800.00</td>\n",
              "      <td>2012</td>\n",
              "    </tr>\n",
              "    <tr>\n",
              "      <th>911</th>\n",
              "      <td>Microlensing</td>\n",
              "      <td>1</td>\n",
              "      <td>NaN</td>\n",
              "      <td>NaN</td>\n",
              "      <td>7720.00</td>\n",
              "      <td>2012</td>\n",
              "    </tr>\n",
              "    <tr>\n",
              "      <th>912</th>\n",
              "      <td>Microlensing</td>\n",
              "      <td>1</td>\n",
              "      <td>NaN</td>\n",
              "      <td>NaN</td>\n",
              "      <td>7560.00</td>\n",
              "      <td>2013</td>\n",
              "    </tr>\n",
              "    <tr>\n",
              "      <th>917</th>\n",
              "      <td>Microlensing</td>\n",
              "      <td>1</td>\n",
              "      <td>NaN</td>\n",
              "      <td>NaN</td>\n",
              "      <td>NaN</td>\n",
              "      <td>2004</td>\n",
              "    </tr>\n",
              "    <tr>\n",
              "      <th>923</th>\n",
              "      <td>Microlensing</td>\n",
              "      <td>1</td>\n",
              "      <td>NaN</td>\n",
              "      <td>NaN</td>\n",
              "      <td>NaN</td>\n",
              "      <td>2009</td>\n",
              "    </tr>\n",
              "    <tr>\n",
              "      <th>924</th>\n",
              "      <td>Microlensing</td>\n",
              "      <td>1</td>\n",
              "      <td>NaN</td>\n",
              "      <td>NaN</td>\n",
              "      <td>2570.00</td>\n",
              "      <td>2012</td>\n",
              "    </tr>\n",
              "    <tr>\n",
              "      <th>925</th>\n",
              "      <td>Microlensing</td>\n",
              "      <td>2</td>\n",
              "      <td>NaN</td>\n",
              "      <td>NaN</td>\n",
              "      <td>4080.00</td>\n",
              "      <td>2012</td>\n",
              "    </tr>\n",
              "    <tr>\n",
              "      <th>926</th>\n",
              "      <td>Microlensing</td>\n",
              "      <td>2</td>\n",
              "      <td>NaN</td>\n",
              "      <td>NaN</td>\n",
              "      <td>4080.00</td>\n",
              "      <td>2012</td>\n",
              "    </tr>\n",
              "    <tr>\n",
              "      <th>927</th>\n",
              "      <td>Microlensing</td>\n",
              "      <td>1</td>\n",
              "      <td>NaN</td>\n",
              "      <td>NaN</td>\n",
              "      <td>1760.00</td>\n",
              "      <td>2013</td>\n",
              "    </tr>\n",
              "    <tr>\n",
              "      <th>928</th>\n",
              "      <td>Microlensing</td>\n",
              "      <td>1</td>\n",
              "      <td>NaN</td>\n",
              "      <td>NaN</td>\n",
              "      <td>4970.00</td>\n",
              "      <td>2013</td>\n",
              "    </tr>\n",
              "    <tr>\n",
              "      <th>948</th>\n",
              "      <td>Imaging</td>\n",
              "      <td>1</td>\n",
              "      <td>NaN</td>\n",
              "      <td>NaN</td>\n",
              "      <td>135.00</td>\n",
              "      <td>2013</td>\n",
              "    </tr>\n",
              "    <tr>\n",
              "      <th>949</th>\n",
              "      <td>Imaging</td>\n",
              "      <td>1</td>\n",
              "      <td>NaN</td>\n",
              "      <td>NaN</td>\n",
              "      <td>120.00</td>\n",
              "      <td>2013</td>\n",
              "    </tr>\n",
              "    <tr>\n",
              "      <th>950</th>\n",
              "      <td>Imaging</td>\n",
              "      <td>1</td>\n",
              "      <td>NaN</td>\n",
              "      <td>NaN</td>\n",
              "      <td>NaN</td>\n",
              "      <td>2010</td>\n",
              "    </tr>\n",
              "    <tr>\n",
              "      <th>957</th>\n",
              "      <td>Imaging</td>\n",
              "      <td>1</td>\n",
              "      <td>NaN</td>\n",
              "      <td>NaN</td>\n",
              "      <td>NaN</td>\n",
              "      <td>2008</td>\n",
              "    </tr>\n",
              "    <tr>\n",
              "      <th>1027</th>\n",
              "      <td>Imaging</td>\n",
              "      <td>1</td>\n",
              "      <td>NaN</td>\n",
              "      <td>NaN</td>\n",
              "      <td>19.20</td>\n",
              "      <td>2011</td>\n",
              "    </tr>\n",
              "    <tr>\n",
              "      <th>1029</th>\n",
              "      <td>Imaging</td>\n",
              "      <td>1</td>\n",
              "      <td>NaN</td>\n",
              "      <td>NaN</td>\n",
              "      <td>10.10</td>\n",
              "      <td>2012</td>\n",
              "    </tr>\n",
              "  </tbody>\n",
              "</table>\n",
              "</div>"
            ]
          },
          "metadata": {}
        }
      ]
    },
    {
      "cell_type": "code",
      "source": [
        "print(\"Missing orbital is: \", len(planets_df[planets_df['orbital_period'].isnull()]))\n",
        "print(\"Missing mass is: \", len(planets_df[planets_df['mass'].isnull()]))\n",
        "print(\"Missing distance is: \", len(planets_df[planets_df['distance'].isnull()]))\n",
        "print(\"Missing year is: \", len(planets_df[planets_df['year'].isnull()]))\n",
        "print(\"Missing method is: \", len(planets_df[planets_df['method'].isnull()]))\n",
        "print(\"Missing number is: \", len(planets_df[planets_df['number'].isnull()]))"
      ],
      "metadata": {
        "id": "77KjaJW6cbHt",
        "outputId": "1d1484ee-2962-447a-d2b3-0c97725a72bc",
        "colab": {
          "base_uri": "https://localhost:8080/"
        }
      },
      "execution_count": 15,
      "outputs": [
        {
          "output_type": "stream",
          "name": "stdout",
          "text": [
            "Missing orbital is:  43\n",
            "Missing mass is:  522\n",
            "Missing distance is:  227\n",
            "Missing year is:  0\n",
            "Missing method is:  0\n",
            "Missing number is:  0\n"
          ]
        }
      ]
    },
    {
      "cell_type": "code",
      "source": [
        "len(planets_df[planets_df['orbital_period'].isnull() & planets_df['mass'].isnull()])"
      ],
      "metadata": {
        "id": "GGAgym0hcx-O",
        "outputId": "a4513c2f-6bdb-431a-9da7-bef42c410359",
        "colab": {
          "base_uri": "https://localhost:8080/"
        }
      },
      "execution_count": 19,
      "outputs": [
        {
          "output_type": "execute_result",
          "data": {
            "text/plain": [
              "43"
            ]
          },
          "metadata": {},
          "execution_count": 19
        }
      ]
    },
    {
      "cell_type": "code",
      "source": [
        "len(planets_df[planets_df['orbital_period'].isnull() & planets_df['mass'].isnull() & planets_df['distance'].isnull() ])"
      ],
      "metadata": {
        "id": "HDMNxXolgyP7",
        "outputId": "095fecbc-3c93-465b-88ba-4445aeaaa3ca",
        "colab": {
          "base_uri": "https://localhost:8080/"
        }
      },
      "execution_count": 24,
      "outputs": [
        {
          "output_type": "execute_result",
          "data": {
            "text/plain": [
              "11"
            ]
          },
          "metadata": {},
          "execution_count": 24
        }
      ]
    },
    {
      "cell_type": "code",
      "source": [
        "planets_missing_mass = planets_df[planets_df['mass'].isnull()]\n",
        "planets_missing_mass['method'].value_counts()"
      ],
      "metadata": {
        "id": "hMDeOtWViQPZ",
        "outputId": "dd725e8c-ee11-44d6-f7ec-766aca11bbe3",
        "colab": {
          "base_uri": "https://localhost:8080/"
        }
      },
      "execution_count": 25,
      "outputs": [
        {
          "output_type": "execute_result",
          "data": {
            "text/plain": [
              "method\n",
              "Transit                          396\n",
              "Radial Velocity                   43\n",
              "Imaging                           38\n",
              "Microlensing                      23\n",
              "Eclipse Timing Variations          7\n",
              "Pulsar Timing                      5\n",
              "Transit Timing Variations          4\n",
              "Orbital Brightness Modulation      3\n",
              "Astrometry                         2\n",
              "Pulsation Timing Variations        1\n",
              "Name: count, dtype: int64"
            ]
          },
          "metadata": {},
          "execution_count": 25
        }
      ]
    },
    {
      "cell_type": "code",
      "source": [
        "planets_missing_mass = planets_df[~(planets_df['mass'].isnull())]\n",
        "planets_missing_mass['method'].value_counts()"
      ],
      "metadata": {
        "id": "HrzKYScRiZMa",
        "outputId": "fa7013f9-4577-42c0-a6dd-9a6751cd4f7e",
        "colab": {
          "base_uri": "https://localhost:8080/"
        }
      },
      "execution_count": 28,
      "outputs": [
        {
          "output_type": "execute_result",
          "data": {
            "text/plain": [
              "method\n",
              "Radial Velocity              510\n",
              "Eclipse Timing Variations      2\n",
              "Transit                        1\n",
              "Name: count, dtype: int64"
            ]
          },
          "metadata": {},
          "execution_count": 28
        }
      ]
    },
    {
      "cell_type": "code",
      "source": [
        "links = ['https://raw.githubusercontent.com/CUNY-CISC-3225/datasets/main/college/students.csv'\n",
        ",\n",
        "'https://raw.githubusercontent.com/CUNY-CISC-3225/datasets/main/college/clubs.csv'\n",
        ",\n",
        "'https://raw.githubusercontent.com/CUNY-CISC-3225/datasets/main/college/courses.csv'\n",
        ",\n",
        "'https://raw.githubusercontent.com/CUNY-CISC-3225/datasets/main/college/f15.csv'\n",
        ",\n",
        "'https://raw.githubusercontent.com/CUNY-CISC-3225/datasets/main/college/s16.csv'\n",
        ",\n",
        " 'https://raw.githubusercontent.com/CUNY-CISC-3225/datasets/refs/heads/main/college/careers.csv'\n",
        "]\n",
        "\n",
        "students_df = pd.read_csv(links[0])\n",
        "clubs_df = pd.read_csv(links[1])\n",
        "courses_df = pd.read_csv(links[2])\n",
        "f15_df = pd.read_csv(links[3])\n",
        "s16_df = pd.read_csv(links[4])\n",
        "careers_df = pd.read_csv(links[5])\n",
        "\n",
        "print(students_df.head(),'\\n')\n",
        "print(clubs_df.head(), '\\n')\n",
        "print(courses_df.head(), '\\n')\n",
        "print(f15_df.head(), '\\n')\n",
        "print(s16_df.head(), '\\n')\n",
        "print(careers_df.head())"
      ],
      "metadata": {
        "id": "rSRdUjS1jEPH",
        "outputId": "b061f7a0-be90-4d4c-bead-fdbd57ebeb90",
        "colab": {
          "base_uri": "https://localhost:8080/"
        }
      },
      "execution_count": 32,
      "outputs": [
        {
          "output_type": "stream",
          "name": "stdout",
          "text": [
            "        id     name\n",
            "0  7798814    Keith\n",
            "1  2149193   Denise\n",
            "2  5062031   Edward\n",
            "3  7361386  Jeffery\n",
            "4  5484525  Spencer \n",
            "\n",
            "   student_id                 club\n",
            "0     7798814              CS Club\n",
            "1     2149193              CS Club\n",
            "2     5062031  Cryptocurrency Club\n",
            "3     7361386        Robotics Club\n",
            "4     5484525    Entrepreneur Club \n",
            "\n",
            "     id                            name\n",
            "0  1001  Computing &Quantitative Reason\n",
            "1  1002   The Outer Limits of Reasoning\n",
            "2  1003              Exploring Robotics\n",
            "3  1050  Intro to Computer Applications\n",
            "4  1115       Intro to JAVA Programming \n",
            "\n",
            "   student_id  course grade  points_earned  max_points\n",
            "0     7798814    1600     a              4           4\n",
            "1     7798814    1002     a              4           4\n",
            "2     2149193    1400     a              4           4\n",
            "3     2149193    1003     b              3           4\n",
            "4     2149193    1580     a              4           4 \n",
            "\n",
            "   student_id  course grade  points_earned  max_points\n",
            "0     7798814    2210     a              4           4\n",
            "1     7798814    1215     b              3           4\n",
            "2     2149193    1600     a              4           4\n",
            "3     2149193    1170     b              3           4\n",
            "4     2149193    1597     a              4           4 \n",
            "\n",
            "        id         career\n",
            "0  7798814     publishing\n",
            "1  2149193      education\n",
            "2  5062031       graphics\n",
            "3  7361386  self-employed\n",
            "4  5484525      logistics\n"
          ]
        }
      ]
    },
    {
      "cell_type": "code",
      "source": [
        "student1 = pd.merge(students_df, careers_df, left_on='id', right_on='id')\n",
        "student1.head()"
      ],
      "metadata": {
        "id": "qGeY4h64mGgL",
        "outputId": "ccc4c556-b126-4843-ab4b-03fc26101274",
        "colab": {
          "base_uri": "https://localhost:8080/",
          "height": 206
        }
      },
      "execution_count": 35,
      "outputs": [
        {
          "output_type": "display_data",
          "data": {
            "text/html": [
              "<div>\n",
              "<style scoped>\n",
              "    .dataframe tbody tr th:only-of-type {\n",
              "        vertical-align: middle;\n",
              "    }\n",
              "\n",
              "    .dataframe tbody tr th {\n",
              "        vertical-align: top;\n",
              "    }\n",
              "\n",
              "    .dataframe thead th {\n",
              "        text-align: right;\n",
              "    }\n",
              "</style>\n",
              "<table border=\"1\" class=\"dataframe\">\n",
              "  <thead>\n",
              "    <tr style=\"text-align: right;\">\n",
              "      <th></th>\n",
              "      <th>id</th>\n",
              "      <th>name</th>\n",
              "      <th>career</th>\n",
              "    </tr>\n",
              "  </thead>\n",
              "  <tbody>\n",
              "    <tr>\n",
              "      <th>0</th>\n",
              "      <td>7798814</td>\n",
              "      <td>Keith</td>\n",
              "      <td>publishing</td>\n",
              "    </tr>\n",
              "    <tr>\n",
              "      <th>1</th>\n",
              "      <td>2149193</td>\n",
              "      <td>Denise</td>\n",
              "      <td>education</td>\n",
              "    </tr>\n",
              "    <tr>\n",
              "      <th>2</th>\n",
              "      <td>5062031</td>\n",
              "      <td>Edward</td>\n",
              "      <td>graphics</td>\n",
              "    </tr>\n",
              "    <tr>\n",
              "      <th>3</th>\n",
              "      <td>7361386</td>\n",
              "      <td>Jeffery</td>\n",
              "      <td>self-employed</td>\n",
              "    </tr>\n",
              "    <tr>\n",
              "      <th>4</th>\n",
              "      <td>5484525</td>\n",
              "      <td>Spencer</td>\n",
              "      <td>logistics</td>\n",
              "    </tr>\n",
              "  </tbody>\n",
              "</table>\n",
              "</div>"
            ]
          },
          "metadata": {}
        }
      ]
    },
    {
      "cell_type": "code",
      "source": [
        "f15c = pd.merge(f15_df, courses_df, left_on='course', right_on='id')\n",
        "print(f15c.head(),'\\n\\n')\n",
        "\n",
        "s16c = pd.merge(s16_df, courses_df, left_on='course', right_on='id')\n",
        "print(s16c.head())"
      ],
      "metadata": {
        "id": "mKEgeWp4rVos",
        "outputId": "4b3a062a-2249-4d22-a5a1-648bdd75ccd9",
        "colab": {
          "base_uri": "https://localhost:8080/"
        }
      },
      "execution_count": 51,
      "outputs": [
        {
          "output_type": "stream",
          "name": "stdout",
          "text": [
            "   student_id  course grade  points_earned  max_points    id  \\\n",
            "0     7798814    1600     a              4           4  1600   \n",
            "1     7798814    1002     a              4           4  1002   \n",
            "2     2149193    1400     a              4           4  1400   \n",
            "3     2149193    1003     b              3           4  1003   \n",
            "4     2149193    1580     a              4           4  1580   \n",
            "\n",
            "                            name  \n",
            "0             Intro Multi Comput  \n",
            "1  The Outer Limits of Reasoning  \n",
            "2            Elementary Robotics  \n",
            "3             Exploring Robotics  \n",
            "4       Computer Mangement Games   \n",
            "\n",
            "\n",
            "   student_id  course grade  points_earned  max_points    id  \\\n",
            "0     7798814    2210     a              4           4  2210   \n",
            "1     7798814    1215     b              3           4  1215   \n",
            "2     2149193    1600     a              4           4  1600   \n",
            "3     2149193    1170     b              3           4  1170   \n",
            "4     2149193    1597     a              4           4  1597   \n",
            "\n",
            "                             name  \n",
            "0              Discrete Structure  \n",
            "1  Intro to Programming in Python  \n",
            "2              Intro Multi Comput  \n",
            "3            Java for Programmers  \n",
            "4          New Media and Business  \n"
          ]
        }
      ]
    },
    {
      "cell_type": "code",
      "source": [
        "student2 = pd.merge(student1, clubs_df, left_on='id', right_on='student_id')\n",
        "student2 = student2.drop(columns=['student_id'], axis=1)\n",
        "print(student2.head(),'\\n\\n')\n",
        "\n",
        "fs2526 = pd.merge(f15c, s16c, left_on='student_id', right_on='student_id')\n",
        "print(fs2526.head())"
      ],
      "metadata": {
        "id": "0qMeIpLKpUfU",
        "outputId": "66a8387a-ffc9-470d-c69e-07c357560cf2",
        "colab": {
          "base_uri": "https://localhost:8080/"
        }
      },
      "execution_count": 52,
      "outputs": [
        {
          "output_type": "stream",
          "name": "stdout",
          "text": [
            "        id     name         career                 club\n",
            "0  7798814    Keith     publishing              CS Club\n",
            "1  2149193   Denise      education              CS Club\n",
            "2  5062031   Edward       graphics  Cryptocurrency Club\n",
            "3  7361386  Jeffery  self-employed        Robotics Club\n",
            "4  5484525  Spencer      logistics    Entrepreneur Club \n",
            "\n",
            "\n",
            "   student_id  course_x grade_x  points_earned_x  max_points_x  id_x  \\\n",
            "0     7798814      1600       a                4             4  1600   \n",
            "1     7798814      1600       a                4             4  1600   \n",
            "2     7798814      1002       a                4             4  1002   \n",
            "3     7798814      1002       a                4             4  1002   \n",
            "4     2149193      1400       a                4             4  1400   \n",
            "\n",
            "                          name_x  course_y grade_y  points_earned_y  \\\n",
            "0             Intro Multi Comput      2210       a                4   \n",
            "1             Intro Multi Comput      1215       b                3   \n",
            "2  The Outer Limits of Reasoning      2210       a                4   \n",
            "3  The Outer Limits of Reasoning      1215       b                3   \n",
            "4            Elementary Robotics      1600       a                4   \n",
            "\n",
            "   max_points_y  id_y                          name_y  \n",
            "0             4  2210              Discrete Structure  \n",
            "1             4  1215  Intro to Programming in Python  \n",
            "2             4  2210              Discrete Structure  \n",
            "3             4  1215  Intro to Programming in Python  \n",
            "4             4  1600              Intro Multi Comput  \n"
          ]
        }
      ]
    },
    {
      "cell_type": "code",
      "source": [
        "student_info = pd.merge(student2, fs2526, left_on='id', right_on='student_id')\n",
        "student_info = student_info.drop(columns=['student_id'], axis=1)\n",
        "student_info.head()"
      ],
      "metadata": {
        "id": "yJvXz2-UpvU4",
        "outputId": "2e633b78-94d0-4099-8890-d8670cf17643",
        "colab": {
          "base_uri": "https://localhost:8080/",
          "height": 206
        }
      },
      "execution_count": 53,
      "outputs": [
        {
          "output_type": "display_data",
          "data": {
            "text/html": [
              "<div>\n",
              "<style scoped>\n",
              "    .dataframe tbody tr th:only-of-type {\n",
              "        vertical-align: middle;\n",
              "    }\n",
              "\n",
              "    .dataframe tbody tr th {\n",
              "        vertical-align: top;\n",
              "    }\n",
              "\n",
              "    .dataframe thead th {\n",
              "        text-align: right;\n",
              "    }\n",
              "</style>\n",
              "<table border=\"1\" class=\"dataframe\">\n",
              "  <thead>\n",
              "    <tr style=\"text-align: right;\">\n",
              "      <th></th>\n",
              "      <th>id</th>\n",
              "      <th>name</th>\n",
              "      <th>career</th>\n",
              "      <th>club</th>\n",
              "      <th>course_x</th>\n",
              "      <th>grade_x</th>\n",
              "      <th>points_earned_x</th>\n",
              "      <th>max_points_x</th>\n",
              "      <th>id_x</th>\n",
              "      <th>name_x</th>\n",
              "      <th>course_y</th>\n",
              "      <th>grade_y</th>\n",
              "      <th>points_earned_y</th>\n",
              "      <th>max_points_y</th>\n",
              "      <th>id_y</th>\n",
              "      <th>name_y</th>\n",
              "    </tr>\n",
              "  </thead>\n",
              "  <tbody>\n",
              "    <tr>\n",
              "      <th>0</th>\n",
              "      <td>7798814</td>\n",
              "      <td>Keith</td>\n",
              "      <td>publishing</td>\n",
              "      <td>CS Club</td>\n",
              "      <td>1600</td>\n",
              "      <td>a</td>\n",
              "      <td>4</td>\n",
              "      <td>4</td>\n",
              "      <td>1600</td>\n",
              "      <td>Intro Multi Comput</td>\n",
              "      <td>2210</td>\n",
              "      <td>a</td>\n",
              "      <td>4</td>\n",
              "      <td>4</td>\n",
              "      <td>2210</td>\n",
              "      <td>Discrete Structure</td>\n",
              "    </tr>\n",
              "    <tr>\n",
              "      <th>1</th>\n",
              "      <td>7798814</td>\n",
              "      <td>Keith</td>\n",
              "      <td>publishing</td>\n",
              "      <td>CS Club</td>\n",
              "      <td>1600</td>\n",
              "      <td>a</td>\n",
              "      <td>4</td>\n",
              "      <td>4</td>\n",
              "      <td>1600</td>\n",
              "      <td>Intro Multi Comput</td>\n",
              "      <td>1215</td>\n",
              "      <td>b</td>\n",
              "      <td>3</td>\n",
              "      <td>4</td>\n",
              "      <td>1215</td>\n",
              "      <td>Intro to Programming in Python</td>\n",
              "    </tr>\n",
              "    <tr>\n",
              "      <th>2</th>\n",
              "      <td>7798814</td>\n",
              "      <td>Keith</td>\n",
              "      <td>publishing</td>\n",
              "      <td>CS Club</td>\n",
              "      <td>1002</td>\n",
              "      <td>a</td>\n",
              "      <td>4</td>\n",
              "      <td>4</td>\n",
              "      <td>1002</td>\n",
              "      <td>The Outer Limits of Reasoning</td>\n",
              "      <td>2210</td>\n",
              "      <td>a</td>\n",
              "      <td>4</td>\n",
              "      <td>4</td>\n",
              "      <td>2210</td>\n",
              "      <td>Discrete Structure</td>\n",
              "    </tr>\n",
              "    <tr>\n",
              "      <th>3</th>\n",
              "      <td>7798814</td>\n",
              "      <td>Keith</td>\n",
              "      <td>publishing</td>\n",
              "      <td>CS Club</td>\n",
              "      <td>1002</td>\n",
              "      <td>a</td>\n",
              "      <td>4</td>\n",
              "      <td>4</td>\n",
              "      <td>1002</td>\n",
              "      <td>The Outer Limits of Reasoning</td>\n",
              "      <td>1215</td>\n",
              "      <td>b</td>\n",
              "      <td>3</td>\n",
              "      <td>4</td>\n",
              "      <td>1215</td>\n",
              "      <td>Intro to Programming in Python</td>\n",
              "    </tr>\n",
              "    <tr>\n",
              "      <th>4</th>\n",
              "      <td>2149193</td>\n",
              "      <td>Denise</td>\n",
              "      <td>education</td>\n",
              "      <td>CS Club</td>\n",
              "      <td>1400</td>\n",
              "      <td>a</td>\n",
              "      <td>4</td>\n",
              "      <td>4</td>\n",
              "      <td>1400</td>\n",
              "      <td>Elementary Robotics</td>\n",
              "      <td>1600</td>\n",
              "      <td>a</td>\n",
              "      <td>4</td>\n",
              "      <td>4</td>\n",
              "      <td>1600</td>\n",
              "      <td>Intro Multi Comput</td>\n",
              "    </tr>\n",
              "  </tbody>\n",
              "</table>\n",
              "</div>"
            ]
          },
          "metadata": {}
        }
      ]
    },
    {
      "cell_type": "markdown",
      "source": [
        "#  Use merging to produce a DataFrame showing which students belong to which clubs."
      ],
      "metadata": {
        "id": "Rhuz7n7Ur3Ci"
      }
    },
    {
      "cell_type": "code",
      "source": [
        "students_clubs = pd.merge(students_df, clubs_df, left_on='id', right_on='student_id')\n",
        "students_clubs.head()"
      ],
      "metadata": {
        "id": "15ax0r4aqWQ7",
        "outputId": "367ab104-e94f-4ba9-bd18-e710052c2035",
        "colab": {
          "base_uri": "https://localhost:8080/",
          "height": 206
        }
      },
      "execution_count": 59,
      "outputs": [
        {
          "output_type": "display_data",
          "data": {
            "text/html": [
              "<div>\n",
              "<style scoped>\n",
              "    .dataframe tbody tr th:only-of-type {\n",
              "        vertical-align: middle;\n",
              "    }\n",
              "\n",
              "    .dataframe tbody tr th {\n",
              "        vertical-align: top;\n",
              "    }\n",
              "\n",
              "    .dataframe thead th {\n",
              "        text-align: right;\n",
              "    }\n",
              "</style>\n",
              "<table border=\"1\" class=\"dataframe\">\n",
              "  <thead>\n",
              "    <tr style=\"text-align: right;\">\n",
              "      <th></th>\n",
              "      <th>id</th>\n",
              "      <th>name</th>\n",
              "      <th>student_id</th>\n",
              "      <th>club</th>\n",
              "    </tr>\n",
              "  </thead>\n",
              "  <tbody>\n",
              "    <tr>\n",
              "      <th>0</th>\n",
              "      <td>7798814</td>\n",
              "      <td>Keith</td>\n",
              "      <td>7798814</td>\n",
              "      <td>CS Club</td>\n",
              "    </tr>\n",
              "    <tr>\n",
              "      <th>1</th>\n",
              "      <td>2149193</td>\n",
              "      <td>Denise</td>\n",
              "      <td>2149193</td>\n",
              "      <td>CS Club</td>\n",
              "    </tr>\n",
              "    <tr>\n",
              "      <th>2</th>\n",
              "      <td>5062031</td>\n",
              "      <td>Edward</td>\n",
              "      <td>5062031</td>\n",
              "      <td>Cryptocurrency Club</td>\n",
              "    </tr>\n",
              "    <tr>\n",
              "      <th>3</th>\n",
              "      <td>7361386</td>\n",
              "      <td>Jeffery</td>\n",
              "      <td>7361386</td>\n",
              "      <td>Robotics Club</td>\n",
              "    </tr>\n",
              "    <tr>\n",
              "      <th>4</th>\n",
              "      <td>5484525</td>\n",
              "      <td>Spencer</td>\n",
              "      <td>5484525</td>\n",
              "      <td>Entrepreneur Club</td>\n",
              "    </tr>\n",
              "  </tbody>\n",
              "</table>\n",
              "</div>"
            ]
          },
          "metadata": {}
        }
      ]
    },
    {
      "cell_type": "markdown",
      "source": [
        "# Are there any students who are not in any clubs? If so, how many? Show their names and student ID."
      ],
      "metadata": {
        "id": "LlDnP6bzs42o"
      }
    },
    {
      "cell_type": "code",
      "source": [
        "students_not_in_clubs = students_df[~students_df['id'].isin(clubs_df['student_id'])]\n",
        "students_not_in_clubs\n"
      ],
      "metadata": {
        "id": "GJDtAU5OsFIC",
        "outputId": "8fc54fee-f803-4c1e-f1f9-592f7481ee69",
        "colab": {
          "base_uri": "https://localhost:8080/",
          "height": 424
        }
      },
      "execution_count": 62,
      "outputs": [
        {
          "output_type": "display_data",
          "data": {
            "text/html": [
              "<div>\n",
              "<style scoped>\n",
              "    .dataframe tbody tr th:only-of-type {\n",
              "        vertical-align: middle;\n",
              "    }\n",
              "\n",
              "    .dataframe tbody tr th {\n",
              "        vertical-align: top;\n",
              "    }\n",
              "\n",
              "    .dataframe thead th {\n",
              "        text-align: right;\n",
              "    }\n",
              "</style>\n",
              "<table border=\"1\" class=\"dataframe\">\n",
              "  <thead>\n",
              "    <tr style=\"text-align: right;\">\n",
              "      <th></th>\n",
              "      <th>id</th>\n",
              "      <th>name</th>\n",
              "    </tr>\n",
              "  </thead>\n",
              "  <tbody>\n",
              "    <tr>\n",
              "      <th>8</th>\n",
              "      <td>3822320</td>\n",
              "      <td>Jon</td>\n",
              "    </tr>\n",
              "    <tr>\n",
              "      <th>9</th>\n",
              "      <td>9548347</td>\n",
              "      <td>Jennifer</td>\n",
              "    </tr>\n",
              "    <tr>\n",
              "      <th>10</th>\n",
              "      <td>5131111</td>\n",
              "      <td>Leah</td>\n",
              "    </tr>\n",
              "    <tr>\n",
              "      <th>11</th>\n",
              "      <td>2227757</td>\n",
              "      <td>Grace</td>\n",
              "    </tr>\n",
              "    <tr>\n",
              "      <th>12</th>\n",
              "      <td>1802931</td>\n",
              "      <td>Troy</td>\n",
              "    </tr>\n",
              "    <tr>\n",
              "      <th>...</th>\n",
              "      <td>...</td>\n",
              "      <td>...</td>\n",
              "    </tr>\n",
              "    <tr>\n",
              "      <th>481</th>\n",
              "      <td>8591058</td>\n",
              "      <td>Victor</td>\n",
              "    </tr>\n",
              "    <tr>\n",
              "      <th>485</th>\n",
              "      <td>2155099</td>\n",
              "      <td>Karen</td>\n",
              "    </tr>\n",
              "    <tr>\n",
              "      <th>487</th>\n",
              "      <td>4912478</td>\n",
              "      <td>Cristina</td>\n",
              "    </tr>\n",
              "    <tr>\n",
              "      <th>491</th>\n",
              "      <td>1017481</td>\n",
              "      <td>Danielle</td>\n",
              "    </tr>\n",
              "    <tr>\n",
              "      <th>492</th>\n",
              "      <td>6345509</td>\n",
              "      <td>Robin</td>\n",
              "    </tr>\n",
              "  </tbody>\n",
              "</table>\n",
              "<p>227 rows x 2 columns</p>\n",
              "</div>"
            ]
          },
          "metadata": {}
        }
      ]
    },
    {
      "cell_type": "markdown",
      "source": [
        "# Use merging to produce a DataFrame showing the names of courses that students enrolled in."
      ],
      "metadata": {
        "id": "w1bhbNeltMo-"
      }
    },
    {
      "cell_type": "code",
      "source": [
        "f15_courses = pd.merge(f15_df, courses_df, left_on='course', right_on='id')\n",
        "f15_courses['name'].value_counts()"
      ],
      "metadata": {
        "id": "82m_s_FltDD8",
        "outputId": "3975e7c9-08ac-4184-9ed8-134601acc31d",
        "colab": {
          "base_uri": "https://localhost:8080/"
        }
      },
      "execution_count": 70,
      "outputs": [
        {
          "output_type": "execute_result",
          "data": {
            "text/plain": [
              "name\n",
              "Intro Multi Comput                107\n",
              "Intro to Programming in Python    105\n",
              "The Outer Limits of Reasoning     101\n",
              "Java for Programmers              101\n",
              "Electronic Commerce                97\n",
              "Computing &Quantitative Reason     93\n",
              "Computer Mangement Games           92\n",
              "Intro to Computer Applications     91\n",
              "Intro to JAVA Programming          91\n",
              "New Media and Business             90\n",
              "Elementary Robotics                89\n",
              "Management Information Systems     89\n",
              "Exploring Robotics                 88\n",
              "Name: count, dtype: int64"
            ]
          },
          "metadata": {},
          "execution_count": 70
        }
      ]
    },
    {
      "cell_type": "code",
      "source": [
        "s16_courses = pd.merge(s16_df, courses_df, left_on='course', right_on='id')\n",
        "s16_courses = s16_courses[['student_id', 'name']]\n",
        "s16_courses['name'].value_counts()"
      ],
      "metadata": {
        "id": "1Lev0SrGtV4Y",
        "outputId": "c877f742-7adf-4d18-f7d1-6a94f436a9eb",
        "colab": {
          "base_uri": "https://localhost:8080/"
        }
      },
      "execution_count": 71,
      "outputs": [
        {
          "output_type": "execute_result",
          "data": {
            "text/plain": [
              "name\n",
              "Discrete Structure                82\n",
              "Java for Programmers              80\n",
              "New Media and Business            79\n",
              "Elementary Robotics               78\n",
              "Intro Multi Comput                74\n",
              "The Outer Limits of Reasoning     74\n",
              "Exploring Robotics                73\n",
              "Management Information Systems    73\n",
              "Electronic Commerce               72\n",
              "Computing &Quantitative Reason    70\n",
              "Intro to Computer Applications    68\n",
              "Computer Mangement Games          66\n",
              "Intro to JAVA Programming         60\n",
              "Intro to Programming in Python    57\n",
              "Name: count, dtype: int64"
            ]
          },
          "metadata": {},
          "execution_count": 71
        }
      ]
    },
    {
      "cell_type": "code",
      "source": [],
      "metadata": {
        "id": "lM8djceStWZQ"
      },
      "execution_count": null,
      "outputs": []
    }
  ],
  "metadata": {
    "language_info": {
      "name": "python"
    },
    "colab": {
      "provenance": []
    },
    "kernelspec": {
      "name": "python3",
      "display_name": "Python 3"
    }
  },
  "nbformat": 4,
  "nbformat_minor": 0
}