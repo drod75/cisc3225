{
  "cells": [
    {
      "cell_type": "code",
      "execution_count": 125,
      "metadata": {
        "id": "_IgZIIEjbJBR",
        "outputId": "d36f7b14-30c5-493a-ac16-8e75e22bd6ad",
        "colab": {
          "base_uri": "https://localhost:8080/"
        },
        "collapsed": true
      },
      "outputs": [
        {
          "output_type": "stream",
          "name": "stdout",
          "text": [
            "Requirement already satisfied: fireducks in /usr/local/lib/python3.11/dist-packages (1.2.4)\n",
            "Requirement already satisfied: firefw==1.2.4 in /usr/local/lib/python3.11/dist-packages (from fireducks) (1.2.4)\n",
            "Requirement already satisfied: pandas<2.3.0,>=1.5.3 in /usr/local/lib/python3.11/dist-packages (from fireducks) (2.2.2)\n",
            "Requirement already satisfied: pyarrow<19.1,>=19.0 in /usr/local/lib/python3.11/dist-packages (from fireducks) (19.0.1)\n",
            "Requirement already satisfied: numpy>=1.23.2 in /usr/local/lib/python3.11/dist-packages (from pandas<2.3.0,>=1.5.3->fireducks) (1.26.4)\n",
            "Requirement already satisfied: python-dateutil>=2.8.2 in /usr/local/lib/python3.11/dist-packages (from pandas<2.3.0,>=1.5.3->fireducks) (2.8.2)\n",
            "Requirement already satisfied: pytz>=2020.1 in /usr/local/lib/python3.11/dist-packages (from pandas<2.3.0,>=1.5.3->fireducks) (2025.1)\n",
            "Requirement already satisfied: tzdata>=2022.7 in /usr/local/lib/python3.11/dist-packages (from pandas<2.3.0,>=1.5.3->fireducks) (2025.1)\n",
            "Requirement already satisfied: six>=1.5 in /usr/local/lib/python3.11/dist-packages (from python-dateutil>=2.8.2->pandas<2.3.0,>=1.5.3->fireducks) (1.17.0)\n"
          ]
        }
      ],
      "source": [
        "!pip install fireducks\n",
        "import fireducks.pandas as pd"
      ]
    },
    {
      "cell_type": "markdown",
      "source": [
        "# 1 Planets (12 points)"
      ],
      "metadata": {
        "id": "-30qKBAV6SBR"
      }
    },
    {
      "cell_type": "code",
      "source": [
        "planets_df = pd.read_csv('https://raw.githubusercontent.com/CUNY-CISC-3225/datasets/main/planets.csv')\n",
        "planets_df.head()"
      ],
      "metadata": {
        "id": "2IgHHtBUbOVj",
        "outputId": "577b8869-439a-4e2d-876d-a3871df0fb6a",
        "colab": {
          "base_uri": "https://localhost:8080/",
          "height": 206
        }
      },
      "execution_count": 2,
      "outputs": [
        {
          "output_type": "display_data",
          "data": {
            "text/html": [
              "<div>\n",
              "<style scoped>\n",
              "    .dataframe tbody tr th:only-of-type {\n",
              "        vertical-align: middle;\n",
              "    }\n",
              "\n",
              "    .dataframe tbody tr th {\n",
              "        vertical-align: top;\n",
              "    }\n",
              "\n",
              "    .dataframe thead th {\n",
              "        text-align: right;\n",
              "    }\n",
              "</style>\n",
              "<table border=\"1\" class=\"dataframe\">\n",
              "  <thead>\n",
              "    <tr style=\"text-align: right;\">\n",
              "      <th></th>\n",
              "      <th>method</th>\n",
              "      <th>number</th>\n",
              "      <th>orbital_period</th>\n",
              "      <th>mass</th>\n",
              "      <th>distance</th>\n",
              "      <th>year</th>\n",
              "    </tr>\n",
              "  </thead>\n",
              "  <tbody>\n",
              "    <tr>\n",
              "      <th>0</th>\n",
              "      <td>Radial Velocity</td>\n",
              "      <td>1</td>\n",
              "      <td>269.300</td>\n",
              "      <td>7.10</td>\n",
              "      <td>77.40</td>\n",
              "      <td>2006</td>\n",
              "    </tr>\n",
              "    <tr>\n",
              "      <th>1</th>\n",
              "      <td>Radial Velocity</td>\n",
              "      <td>1</td>\n",
              "      <td>874.774</td>\n",
              "      <td>2.21</td>\n",
              "      <td>56.95</td>\n",
              "      <td>2008</td>\n",
              "    </tr>\n",
              "    <tr>\n",
              "      <th>2</th>\n",
              "      <td>Radial Velocity</td>\n",
              "      <td>1</td>\n",
              "      <td>763.000</td>\n",
              "      <td>2.60</td>\n",
              "      <td>19.84</td>\n",
              "      <td>2011</td>\n",
              "    </tr>\n",
              "    <tr>\n",
              "      <th>3</th>\n",
              "      <td>Radial Velocity</td>\n",
              "      <td>1</td>\n",
              "      <td>326.030</td>\n",
              "      <td>19.40</td>\n",
              "      <td>110.62</td>\n",
              "      <td>2007</td>\n",
              "    </tr>\n",
              "    <tr>\n",
              "      <th>4</th>\n",
              "      <td>Radial Velocity</td>\n",
              "      <td>1</td>\n",
              "      <td>516.220</td>\n",
              "      <td>10.50</td>\n",
              "      <td>119.47</td>\n",
              "      <td>2009</td>\n",
              "    </tr>\n",
              "  </tbody>\n",
              "</table>\n",
              "</div>"
            ]
          },
          "metadata": {}
        }
      ]
    },
    {
      "cell_type": "code",
      "source": [
        "planets_df.info()"
      ],
      "metadata": {
        "id": "eeHgmqXCb_cL",
        "outputId": "c9d3a1da-487e-461c-95cf-e407af80d4ef",
        "colab": {
          "base_uri": "https://localhost:8080/"
        }
      },
      "execution_count": 3,
      "outputs": [
        {
          "output_type": "stream",
          "name": "stdout",
          "text": [
            "<class 'pandas.core.frame.DataFrame'>\n",
            "RangeIndex: 1035 entries, 0 to 1034\n",
            "Data columns (total 6 columns):\n",
            " #   Column          Non-Null Count  Dtype  \n",
            "---  ------          --------------  -----  \n",
            " 0   method          1035 non-null   object \n",
            " 1   number          1035 non-null   int64  \n",
            " 2   orbital_period  992 non-null    float64\n",
            " 3   mass            513 non-null    float64\n",
            " 4   distance        808 non-null    float64\n",
            " 5   year            1035 non-null   int64  \n",
            "dtypes: float64(3), int64(2), object(1)\n",
            "memory usage: 48.6+ KB\n"
          ]
        }
      ]
    },
    {
      "cell_type": "markdown",
      "source": [
        "## 1. How many exoplanets are missing an orbital period? Missing a mass? Missing a distance?"
      ],
      "metadata": {
        "id": "4h_xoQ9m5QwV"
      }
    },
    {
      "cell_type": "code",
      "source": [
        "print(\"Missing orbital is: \", len(planets_df[planets_df['orbital_period'].isnull()]))\n",
        "print(\"Missing mass is: \", len(planets_df[planets_df['mass'].isnull()]))\n",
        "print(\"Missing distance is: \", len(planets_df[planets_df['distance'].isnull()]))\n",
        "print(\"Missing year is: \", len(planets_df[planets_df['year'].isnull()]))\n",
        "print(\"Missing method is: \", len(planets_df[planets_df['method'].isnull()]))\n",
        "print(\"Missing number is: \", len(planets_df[planets_df['number'].isnull()]))"
      ],
      "metadata": {
        "id": "77KjaJW6cbHt",
        "outputId": "d21f76be-3d55-4b8d-f0f4-00cf88ba92f7",
        "colab": {
          "base_uri": "https://localhost:8080/"
        }
      },
      "execution_count": 4,
      "outputs": [
        {
          "output_type": "stream",
          "name": "stdout",
          "text": [
            "Missing orbital is:  43\n",
            "Missing mass is:  522\n",
            "Missing distance is:  227\n",
            "Missing year is:  0\n",
            "Missing method is:  0\n",
            "Missing number is:  0\n"
          ]
        }
      ]
    },
    {
      "cell_type": "markdown",
      "source": [
        "## 2. How many exoplanets are missing both orbital period and mass?\n"
      ],
      "metadata": {
        "id": "1RUSiHrI5bLr"
      }
    },
    {
      "cell_type": "code",
      "source": [
        "len(planets_df[planets_df['orbital_period'].isnull() & planets_df['mass'].isnull()])"
      ],
      "metadata": {
        "id": "GGAgym0hcx-O",
        "outputId": "94b3341d-9813-42c1-d997-de965aaa5a2d",
        "colab": {
          "base_uri": "https://localhost:8080/"
        }
      },
      "execution_count": 5,
      "outputs": [
        {
          "output_type": "execute_result",
          "data": {
            "text/plain": [
              "43"
            ]
          },
          "metadata": {},
          "execution_count": 5
        }
      ]
    },
    {
      "cell_type": "markdown",
      "source": [
        "## 3. How many exoplanets are missing orbital period, mass, and distance?\n"
      ],
      "metadata": {
        "id": "lrw9dTWp5dRR"
      }
    },
    {
      "cell_type": "code",
      "source": [
        "len(planets_df[planets_df['orbital_period'].isnull() & planets_df['mass'].isnull() & planets_df['distance'].isnull() ])"
      ],
      "metadata": {
        "id": "HDMNxXolgyP7",
        "outputId": "0e1d34d7-c7e2-4927-9aee-c8fbc338a1a9",
        "colab": {
          "base_uri": "https://localhost:8080/"
        }
      },
      "execution_count": 6,
      "outputs": [
        {
          "output_type": "execute_result",
          "data": {
            "text/plain": [
              "11"
            ]
          },
          "metadata": {},
          "execution_count": 6
        }
      ]
    },
    {
      "cell_type": "markdown",
      "source": [
        "## 4. Produce a DataFrame containing all exoplanets with missing mass. Which discovery method found the most exoplanets with missing mass?\n"
      ],
      "metadata": {
        "id": "nlEEEM6N5f8v"
      }
    },
    {
      "cell_type": "code",
      "source": [
        "planets_missing_mass = planets_df[planets_df['mass'].isnull()]\n",
        "planets_missing_mass['method'].value_counts()"
      ],
      "metadata": {
        "id": "hMDeOtWViQPZ",
        "outputId": "40711740-a2b4-4c7b-e35f-1eb2c40bbcd6",
        "colab": {
          "base_uri": "https://localhost:8080/"
        }
      },
      "execution_count": 7,
      "outputs": [
        {
          "output_type": "execute_result",
          "data": {
            "text/plain": [
              "method\n",
              "Transit                          396\n",
              "Radial Velocity                   43\n",
              "Imaging                           38\n",
              "Microlensing                      23\n",
              "Eclipse Timing Variations          7\n",
              "Pulsar Timing                      5\n",
              "Transit Timing Variations          4\n",
              "Orbital Brightness Modulation      3\n",
              "Astrometry                         2\n",
              "Pulsation Timing Variations        1\n",
              "Name: count, dtype: int64"
            ]
          },
          "metadata": {},
          "execution_count": 7
        }
      ]
    },
    {
      "cell_type": "markdown",
      "source": [
        "## 5. Did the discovery method from Question 4 find any exoplanets with a known mass?\n"
      ],
      "metadata": {
        "id": "01mp4lMc5iSt"
      }
    },
    {
      "cell_type": "code",
      "source": [
        "planets_mass = planets_df[~(planets_df['mass'].isnull())]\n",
        "planets_mass['method'].value_counts()"
      ],
      "metadata": {
        "id": "HrzKYScRiZMa",
        "outputId": "d07cd554-3525-4cd1-f551-953b8d3b44f4",
        "colab": {
          "base_uri": "https://localhost:8080/"
        }
      },
      "execution_count": 8,
      "outputs": [
        {
          "output_type": "execute_result",
          "data": {
            "text/plain": [
              "method\n",
              "Radial Velocity              510\n",
              "Eclipse Timing Variations      2\n",
              "Transit                        1\n",
              "Name: count, dtype: int64"
            ]
          },
          "metadata": {},
          "execution_count": 8
        }
      ]
    },
    {
      "cell_type": "markdown",
      "source": [
        "# 2 College (16 points)"
      ],
      "metadata": {
        "id": "LKG28oyR6c4V"
      }
    },
    {
      "cell_type": "code",
      "source": [
        "links = ['https://raw.githubusercontent.com/CUNY-CISC-3225/datasets/main/college/students.csv','https://raw.githubusercontent.com/CUNY-CISC-3225/datasets/main/college/clubs.csv'\n",
        ",'https://raw.githubusercontent.com/CUNY-CISC-3225/datasets/main/college/courses.csv','https://raw.githubusercontent.com/CUNY-CISC-3225/datasets/main/college/f15.csv'\n",
        ",'https://raw.githubusercontent.com/CUNY-CISC-3225/datasets/main/college/s16.csv','https://raw.githubusercontent.com/CUNY-CISC-3225/datasets/refs/heads/main/college/careers.csv'\n",
        "]\n",
        "\n",
        "students_df = pd.read_csv(links[0])\n",
        "clubs_df = pd.read_csv(links[1])\n",
        "courses_df = pd.read_csv(links[2])\n",
        "f15_df = pd.read_csv(links[3])\n",
        "s16_df = pd.read_csv(links[4])\n",
        "careers_df = pd.read_csv(links[5])\n",
        "\n",
        "print(students_df.head(),'\\n')\n",
        "print(clubs_df.head(), '\\n')\n",
        "print(courses_df.head(), '\\n')\n",
        "print(f15_df.head(), '\\n')\n",
        "print(s16_df.head(), '\\n')\n",
        "print(careers_df.head())"
      ],
      "metadata": {
        "id": "rSRdUjS1jEPH",
        "outputId": "1ca2f764-4096-4fb5-cb4b-746d2cf6a88b",
        "colab": {
          "base_uri": "https://localhost:8080/"
        }
      },
      "execution_count": 126,
      "outputs": [
        {
          "output_type": "stream",
          "name": "stdout",
          "text": [
            "        id     name\n",
            "0  7798814    Keith\n",
            "1  2149193   Denise\n",
            "2  5062031   Edward\n",
            "3  7361386  Jeffery\n",
            "4  5484525  Spencer \n",
            "\n",
            "   student_id                 club\n",
            "0     7798814              CS Club\n",
            "1     2149193              CS Club\n",
            "2     5062031  Cryptocurrency Club\n",
            "3     7361386        Robotics Club\n",
            "4     5484525    Entrepreneur Club \n",
            "\n",
            "     id                            name\n",
            "0  1001  Computing &Quantitative Reason\n",
            "1  1002   The Outer Limits of Reasoning\n",
            "2  1003              Exploring Robotics\n",
            "3  1050  Intro to Computer Applications\n",
            "4  1115       Intro to JAVA Programming \n",
            "\n",
            "   student_id  course grade  points_earned  max_points\n",
            "0     7798814    1600     a              4           4\n",
            "1     7798814    1002     a              4           4\n",
            "2     2149193    1400     a              4           4\n",
            "3     2149193    1003     b              3           4\n",
            "4     2149193    1580     a              4           4 \n",
            "\n",
            "   student_id  course grade  points_earned  max_points\n",
            "0     7798814    2210     a              4           4\n",
            "1     7798814    1215     b              3           4\n",
            "2     2149193    1600     a              4           4\n",
            "3     2149193    1170     b              3           4\n",
            "4     2149193    1597     a              4           4 \n",
            "\n",
            "        id         career\n",
            "0  7798814     publishing\n",
            "1  2149193      education\n",
            "2  5062031       graphics\n",
            "3  7361386  self-employed\n",
            "4  5484525      logistics\n"
          ]
        }
      ]
    },
    {
      "cell_type": "markdown",
      "source": [
        "##  1. Use merging to produce a DataFrame showing which students belong to which clubs."
      ],
      "metadata": {
        "id": "Rhuz7n7Ur3Ci"
      }
    },
    {
      "cell_type": "code",
      "source": [
        "students_df['id'].info()\n",
        "print('\\n\\n\\n',students_df['id'].nunique())"
      ],
      "metadata": {
        "id": "cJv_MD3o8b0C",
        "outputId": "4b89cbf9-9196-4170-c292-c610bb3dcfae",
        "colab": {
          "base_uri": "https://localhost:8080/"
        }
      },
      "execution_count": 127,
      "outputs": [
        {
          "output_type": "stream",
          "name": "stdout",
          "text": [
            "<class 'pandas.core.series.Series'>\n",
            "RangeIndex: 494 entries, 0 to 493\n",
            "Series name: id\n",
            "Non-Null Count  Dtype\n",
            "--------------  -----\n",
            "494 non-null    int64\n",
            "dtypes: int64(1)\n",
            "memory usage: 4.0 KB\n",
            "\n",
            "\n",
            "\n",
            " 494\n"
          ]
        }
      ]
    },
    {
      "cell_type": "code",
      "source": [
        "clubs_df.info()\n",
        "print('\\n\\n\\n',clubs_df['student_id'].nunique())"
      ],
      "metadata": {
        "id": "GohNNERK8o76",
        "outputId": "69296f21-7276-42d4-9ad8-1eaaba5774d0",
        "colab": {
          "base_uri": "https://localhost:8080/"
        }
      },
      "execution_count": 128,
      "outputs": [
        {
          "output_type": "stream",
          "name": "stdout",
          "text": [
            "<class 'pandas.core.frame.DataFrame'>\n",
            "RangeIndex: 312 entries, 0 to 311\n",
            "Data columns (total 2 columns):\n",
            " #   Column      Non-Null Count  Dtype \n",
            "---  ------      --------------  ----- \n",
            " 0   student_id  312 non-null    int64 \n",
            " 1   club        312 non-null    object\n",
            "dtypes: int64(1), object(1)\n",
            "memory usage: 5.0+ KB\n",
            "\n",
            "\n",
            "\n",
            " 267\n"
          ]
        }
      ]
    },
    {
      "cell_type": "code",
      "source": [
        "students_clubs = pd.merge(clubs_df, students_df, left_on='student_id', right_on='id', how='left')\n",
        "students_clubs.drop('id', axis=1, inplace=True)\n",
        "students_clubs.head()"
      ],
      "metadata": {
        "id": "18avGRty83wY",
        "outputId": "f131eb92-ee07-441f-eaff-16468c79f130",
        "colab": {
          "base_uri": "https://localhost:8080/",
          "height": 206
        }
      },
      "execution_count": 129,
      "outputs": [
        {
          "output_type": "display_data",
          "data": {
            "text/html": [
              "<div>\n",
              "<style scoped>\n",
              "    .dataframe tbody tr th:only-of-type {\n",
              "        vertical-align: middle;\n",
              "    }\n",
              "\n",
              "    .dataframe tbody tr th {\n",
              "        vertical-align: top;\n",
              "    }\n",
              "\n",
              "    .dataframe thead th {\n",
              "        text-align: right;\n",
              "    }\n",
              "</style>\n",
              "<table border=\"1\" class=\"dataframe\">\n",
              "  <thead>\n",
              "    <tr style=\"text-align: right;\">\n",
              "      <th></th>\n",
              "      <th>student_id</th>\n",
              "      <th>club</th>\n",
              "      <th>name</th>\n",
              "    </tr>\n",
              "  </thead>\n",
              "  <tbody>\n",
              "    <tr>\n",
              "      <th>0</th>\n",
              "      <td>7798814</td>\n",
              "      <td>CS Club</td>\n",
              "      <td>Keith</td>\n",
              "    </tr>\n",
              "    <tr>\n",
              "      <th>1</th>\n",
              "      <td>2149193</td>\n",
              "      <td>CS Club</td>\n",
              "      <td>Denise</td>\n",
              "    </tr>\n",
              "    <tr>\n",
              "      <th>2</th>\n",
              "      <td>5062031</td>\n",
              "      <td>Cryptocurrency Club</td>\n",
              "      <td>Edward</td>\n",
              "    </tr>\n",
              "    <tr>\n",
              "      <th>3</th>\n",
              "      <td>7361386</td>\n",
              "      <td>Robotics Club</td>\n",
              "      <td>Jeffery</td>\n",
              "    </tr>\n",
              "    <tr>\n",
              "      <th>4</th>\n",
              "      <td>5484525</td>\n",
              "      <td>Entrepreneur Club</td>\n",
              "      <td>Spencer</td>\n",
              "    </tr>\n",
              "  </tbody>\n",
              "</table>\n",
              "</div>"
            ]
          },
          "metadata": {}
        }
      ]
    },
    {
      "cell_type": "code",
      "source": [
        "students_clubs.info()\n",
        "print('\\n\\n\\n',students_clubs['student_id'].nunique())"
      ],
      "metadata": {
        "id": "CWAQuBTA9CZX",
        "outputId": "44bf5d0b-bacd-492a-a49f-e9794782a372",
        "colab": {
          "base_uri": "https://localhost:8080/"
        }
      },
      "execution_count": 130,
      "outputs": [
        {
          "output_type": "stream",
          "name": "stdout",
          "text": [
            "<class 'pandas.core.frame.DataFrame'>\n",
            "RangeIndex: 312 entries, 0 to 311\n",
            "Data columns (total 3 columns):\n",
            " #   Column      Non-Null Count  Dtype \n",
            "---  ------      --------------  ----- \n",
            " 0   student_id  312 non-null    int64 \n",
            " 1   club        312 non-null    object\n",
            " 2   name        312 non-null    object\n",
            "dtypes: int64(1), object(2)\n",
            "memory usage: 7.4+ KB\n",
            "\n",
            "\n",
            "\n",
            " 267\n"
          ]
        }
      ]
    },
    {
      "cell_type": "markdown",
      "source": [
        "## 2.In Question 1, did you perform a one-to-one, many-to-one, or many-to-many merge? Why?"
      ],
      "metadata": {
        "id": "G4tXS55X7V4F"
      }
    },
    {
      "cell_type": "markdown",
      "source": [
        "I performed many to one because in the students df there are no duplicates, while in the clubs dataframe there are, so by performing many to one we keep the duplicates in clubs and associate each with a student name, this is because students have no reason not to be part of multiple clubs"
      ],
      "metadata": {
        "id": "CwfS82qT9d9r"
      }
    },
    {
      "cell_type": "markdown",
      "source": [
        "## 3. Are there any students who are not in any clubs? If so, how many? Show their names and student ID."
      ],
      "metadata": {
        "id": "LlDnP6bzs42o"
      }
    },
    {
      "cell_type": "code",
      "source": [
        "students_no_clubs = students_df[~(students_df['id'].isin(clubs_df['student_id']))]\n",
        "students_no_clubs.head()"
      ],
      "metadata": {
        "id": "kBD55MoV9uF-",
        "outputId": "73857ad8-d6bf-4a3b-9a8c-7dbd5fa62a5a",
        "colab": {
          "base_uri": "https://localhost:8080/",
          "height": 206
        }
      },
      "execution_count": 131,
      "outputs": [
        {
          "output_type": "display_data",
          "data": {
            "text/html": [
              "<div>\n",
              "<style scoped>\n",
              "    .dataframe tbody tr th:only-of-type {\n",
              "        vertical-align: middle;\n",
              "    }\n",
              "\n",
              "    .dataframe tbody tr th {\n",
              "        vertical-align: top;\n",
              "    }\n",
              "\n",
              "    .dataframe thead th {\n",
              "        text-align: right;\n",
              "    }\n",
              "</style>\n",
              "<table border=\"1\" class=\"dataframe\">\n",
              "  <thead>\n",
              "    <tr style=\"text-align: right;\">\n",
              "      <th></th>\n",
              "      <th>id</th>\n",
              "      <th>name</th>\n",
              "    </tr>\n",
              "  </thead>\n",
              "  <tbody>\n",
              "    <tr>\n",
              "      <th>8</th>\n",
              "      <td>3822320</td>\n",
              "      <td>Jon</td>\n",
              "    </tr>\n",
              "    <tr>\n",
              "      <th>9</th>\n",
              "      <td>9548347</td>\n",
              "      <td>Jennifer</td>\n",
              "    </tr>\n",
              "    <tr>\n",
              "      <th>10</th>\n",
              "      <td>5131111</td>\n",
              "      <td>Leah</td>\n",
              "    </tr>\n",
              "    <tr>\n",
              "      <th>11</th>\n",
              "      <td>2227757</td>\n",
              "      <td>Grace</td>\n",
              "    </tr>\n",
              "    <tr>\n",
              "      <th>12</th>\n",
              "      <td>1802931</td>\n",
              "      <td>Troy</td>\n",
              "    </tr>\n",
              "  </tbody>\n",
              "</table>\n",
              "</div>"
            ]
          },
          "metadata": {}
        }
      ]
    },
    {
      "cell_type": "markdown",
      "source": [
        "## 4. Use merging to produce a DataFrame showing the names of courses that students enrolled in."
      ],
      "metadata": {
        "id": "w1bhbNeltMo-"
      }
    },
    {
      "cell_type": "code",
      "source": [
        "f15_courses = pd.merge(f15_df, courses_df, left_on='course', right_on='id', how='left')\n",
        "f15_courses = f15_courses.merge(students_df, left_on='student_id', right_on='id', how='left').drop(['id_y', 'id_x'], axis=1).rename(columns={'name_x':'course_name', 'name_y':'student_name'})\n",
        "f15_courses.head()"
      ],
      "metadata": {
        "id": "1rXJfPA5-0Pk",
        "outputId": "1e642648-fd04-4084-f733-3af0fd92918b",
        "colab": {
          "base_uri": "https://localhost:8080/",
          "height": 206
        }
      },
      "execution_count": 132,
      "outputs": [
        {
          "output_type": "display_data",
          "data": {
            "text/html": [
              "<div>\n",
              "<style scoped>\n",
              "    .dataframe tbody tr th:only-of-type {\n",
              "        vertical-align: middle;\n",
              "    }\n",
              "\n",
              "    .dataframe tbody tr th {\n",
              "        vertical-align: top;\n",
              "    }\n",
              "\n",
              "    .dataframe thead th {\n",
              "        text-align: right;\n",
              "    }\n",
              "</style>\n",
              "<table border=\"1\" class=\"dataframe\">\n",
              "  <thead>\n",
              "    <tr style=\"text-align: right;\">\n",
              "      <th></th>\n",
              "      <th>student_id</th>\n",
              "      <th>course</th>\n",
              "      <th>grade</th>\n",
              "      <th>points_earned</th>\n",
              "      <th>max_points</th>\n",
              "      <th>course_name</th>\n",
              "      <th>student_name</th>\n",
              "    </tr>\n",
              "  </thead>\n",
              "  <tbody>\n",
              "    <tr>\n",
              "      <th>0</th>\n",
              "      <td>7798814</td>\n",
              "      <td>1600</td>\n",
              "      <td>a</td>\n",
              "      <td>4</td>\n",
              "      <td>4</td>\n",
              "      <td>Intro Multi Comput</td>\n",
              "      <td>Keith</td>\n",
              "    </tr>\n",
              "    <tr>\n",
              "      <th>1</th>\n",
              "      <td>7798814</td>\n",
              "      <td>1002</td>\n",
              "      <td>a</td>\n",
              "      <td>4</td>\n",
              "      <td>4</td>\n",
              "      <td>The Outer Limits of Reasoning</td>\n",
              "      <td>Keith</td>\n",
              "    </tr>\n",
              "    <tr>\n",
              "      <th>2</th>\n",
              "      <td>2149193</td>\n",
              "      <td>1400</td>\n",
              "      <td>a</td>\n",
              "      <td>4</td>\n",
              "      <td>4</td>\n",
              "      <td>Elementary Robotics</td>\n",
              "      <td>Denise</td>\n",
              "    </tr>\n",
              "    <tr>\n",
              "      <th>3</th>\n",
              "      <td>2149193</td>\n",
              "      <td>1003</td>\n",
              "      <td>b</td>\n",
              "      <td>3</td>\n",
              "      <td>4</td>\n",
              "      <td>Exploring Robotics</td>\n",
              "      <td>Denise</td>\n",
              "    </tr>\n",
              "    <tr>\n",
              "      <th>4</th>\n",
              "      <td>2149193</td>\n",
              "      <td>1580</td>\n",
              "      <td>a</td>\n",
              "      <td>4</td>\n",
              "      <td>4</td>\n",
              "      <td>Computer Mangement Games</td>\n",
              "      <td>Denise</td>\n",
              "    </tr>\n",
              "  </tbody>\n",
              "</table>\n",
              "</div>"
            ]
          },
          "metadata": {}
        }
      ]
    },
    {
      "cell_type": "code",
      "source": [
        "s16_courses = pd.merge(s16_df, courses_df, left_on='course', right_on='id', how='left')\n",
        "s16_courses = s16_courses.merge(students_df, left_on='student_id', right_on='id', how='left').drop(['id_y', 'id_x'], axis=1).rename(columns={'name_x':'course_name', 'name_y':'student_name'})\n",
        "s16_courses.head()"
      ],
      "metadata": {
        "id": "xRx_-6LR_Htz",
        "outputId": "dcd0bf76-2cc4-42a2-e883-cac04093b77c",
        "colab": {
          "base_uri": "https://localhost:8080/",
          "height": 206
        }
      },
      "execution_count": 133,
      "outputs": [
        {
          "output_type": "display_data",
          "data": {
            "text/html": [
              "<div>\n",
              "<style scoped>\n",
              "    .dataframe tbody tr th:only-of-type {\n",
              "        vertical-align: middle;\n",
              "    }\n",
              "\n",
              "    .dataframe tbody tr th {\n",
              "        vertical-align: top;\n",
              "    }\n",
              "\n",
              "    .dataframe thead th {\n",
              "        text-align: right;\n",
              "    }\n",
              "</style>\n",
              "<table border=\"1\" class=\"dataframe\">\n",
              "  <thead>\n",
              "    <tr style=\"text-align: right;\">\n",
              "      <th></th>\n",
              "      <th>student_id</th>\n",
              "      <th>course</th>\n",
              "      <th>grade</th>\n",
              "      <th>points_earned</th>\n",
              "      <th>max_points</th>\n",
              "      <th>course_name</th>\n",
              "      <th>student_name</th>\n",
              "    </tr>\n",
              "  </thead>\n",
              "  <tbody>\n",
              "    <tr>\n",
              "      <th>0</th>\n",
              "      <td>7798814</td>\n",
              "      <td>2210</td>\n",
              "      <td>a</td>\n",
              "      <td>4</td>\n",
              "      <td>4</td>\n",
              "      <td>Discrete Structure</td>\n",
              "      <td>Keith</td>\n",
              "    </tr>\n",
              "    <tr>\n",
              "      <th>1</th>\n",
              "      <td>7798814</td>\n",
              "      <td>1215</td>\n",
              "      <td>b</td>\n",
              "      <td>3</td>\n",
              "      <td>4</td>\n",
              "      <td>Intro to Programming in Python</td>\n",
              "      <td>Keith</td>\n",
              "    </tr>\n",
              "    <tr>\n",
              "      <th>2</th>\n",
              "      <td>2149193</td>\n",
              "      <td>1600</td>\n",
              "      <td>a</td>\n",
              "      <td>4</td>\n",
              "      <td>4</td>\n",
              "      <td>Intro Multi Comput</td>\n",
              "      <td>Denise</td>\n",
              "    </tr>\n",
              "    <tr>\n",
              "      <th>3</th>\n",
              "      <td>2149193</td>\n",
              "      <td>1170</td>\n",
              "      <td>b</td>\n",
              "      <td>3</td>\n",
              "      <td>4</td>\n",
              "      <td>Java for Programmers</td>\n",
              "      <td>Denise</td>\n",
              "    </tr>\n",
              "    <tr>\n",
              "      <th>4</th>\n",
              "      <td>2149193</td>\n",
              "      <td>1597</td>\n",
              "      <td>a</td>\n",
              "      <td>4</td>\n",
              "      <td>4</td>\n",
              "      <td>New Media and Business</td>\n",
              "      <td>Denise</td>\n",
              "    </tr>\n",
              "  </tbody>\n",
              "</table>\n",
              "</div>"
            ]
          },
          "metadata": {}
        }
      ]
    },
    {
      "cell_type": "code",
      "source": [
        "fullyear = pd.concat([f15_courses, s16_courses])\n",
        "fullyear.sort_values('student_id', inplace=True)\n",
        "fullyear.reset_index(inplace=True, drop=True)\n",
        "fullyear.head()"
      ],
      "metadata": {
        "id": "PS7dH5elHqXS",
        "outputId": "aa209dc2-2662-47fc-e67d-ec615daec542",
        "colab": {
          "base_uri": "https://localhost:8080/",
          "height": 206
        }
      },
      "execution_count": 134,
      "outputs": [
        {
          "output_type": "display_data",
          "data": {
            "text/html": [
              "<div>\n",
              "<style scoped>\n",
              "    .dataframe tbody tr th:only-of-type {\n",
              "        vertical-align: middle;\n",
              "    }\n",
              "\n",
              "    .dataframe tbody tr th {\n",
              "        vertical-align: top;\n",
              "    }\n",
              "\n",
              "    .dataframe thead th {\n",
              "        text-align: right;\n",
              "    }\n",
              "</style>\n",
              "<table border=\"1\" class=\"dataframe\">\n",
              "  <thead>\n",
              "    <tr style=\"text-align: right;\">\n",
              "      <th></th>\n",
              "      <th>student_id</th>\n",
              "      <th>course</th>\n",
              "      <th>grade</th>\n",
              "      <th>points_earned</th>\n",
              "      <th>max_points</th>\n",
              "      <th>course_name</th>\n",
              "      <th>student_name</th>\n",
              "    </tr>\n",
              "  </thead>\n",
              "  <tbody>\n",
              "    <tr>\n",
              "      <th>0</th>\n",
              "      <td>1015901</td>\n",
              "      <td>1597</td>\n",
              "      <td>a</td>\n",
              "      <td>4</td>\n",
              "      <td>4</td>\n",
              "      <td>New Media and Business</td>\n",
              "      <td>Scott</td>\n",
              "    </tr>\n",
              "    <tr>\n",
              "      <th>1</th>\n",
              "      <td>1015901</td>\n",
              "      <td>1215</td>\n",
              "      <td>a</td>\n",
              "      <td>4</td>\n",
              "      <td>4</td>\n",
              "      <td>Intro to Programming in Python</td>\n",
              "      <td>Scott</td>\n",
              "    </tr>\n",
              "    <tr>\n",
              "      <th>2</th>\n",
              "      <td>1015901</td>\n",
              "      <td>2210</td>\n",
              "      <td>a</td>\n",
              "      <td>4</td>\n",
              "      <td>4</td>\n",
              "      <td>Discrete Structure</td>\n",
              "      <td>Scott</td>\n",
              "    </tr>\n",
              "    <tr>\n",
              "      <th>3</th>\n",
              "      <td>1015901</td>\n",
              "      <td>1590</td>\n",
              "      <td>b</td>\n",
              "      <td>3</td>\n",
              "      <td>4</td>\n",
              "      <td>Management Information Systems</td>\n",
              "      <td>Scott</td>\n",
              "    </tr>\n",
              "    <tr>\n",
              "      <th>4</th>\n",
              "      <td>1017158</td>\n",
              "      <td>1001</td>\n",
              "      <td>a</td>\n",
              "      <td>4</td>\n",
              "      <td>4</td>\n",
              "      <td>Computing &amp;Quantitative Reason</td>\n",
              "      <td>Ernest</td>\n",
              "    </tr>\n",
              "  </tbody>\n",
              "</table>\n",
              "</div>"
            ]
          },
          "metadata": {}
        }
      ]
    },
    {
      "cell_type": "markdown",
      "source": [
        "## 5. In Question 4, did you perform a one-to-one, many-to-one, or many-to-many merge? Why?"
      ],
      "metadata": {
        "id": "gCkfUbVy7gl7"
      }
    },
    {
      "cell_type": "markdown",
      "source": [
        "I performed many to one, students has no duplicate ids but courses does, so many to one attributes the many duplicates in courses with the name of the student in ids, same for courses"
      ],
      "metadata": {
        "id": "KC5iQKeJALMY"
      }
    },
    {
      "cell_type": "markdown",
      "source": [
        "## 6. For the whole F15/S16 academic year, what is the name of the course that is probably the hardest? Which is probably the easiest? Ignore withdrawals when determining the answer"
      ],
      "metadata": {
        "id": "DGKOb3JU7o3V"
      }
    },
    {
      "cell_type": "code",
      "source": [
        "# lambda to identify pass of fail\n",
        "fullyear1516 = fullyear[fullyear['grade'] != 'w']\n",
        "fyc = fullyear1516[['course_name', 'grade']]\n",
        "\n",
        "def pass_or_fail(grade):\n",
        "  if grade in ['a', 'b', 'c']:\n",
        "    return 'pass'\n",
        "  else:\n",
        "    return 'fail'\n",
        "\n",
        "fyc['pass_or_fail'] = fyc['grade'].apply(pass_or_fail)\n",
        "fyc.drop('grade',axis=1, inplace=True)\n",
        "fyc"
      ],
      "metadata": {
        "id": "PxmdBsa0Br1P",
        "outputId": "2c1d48a7-d2f7-4a77-d825-f83f0596d95c",
        "colab": {
          "base_uri": "https://localhost:8080/",
          "height": 424
        }
      },
      "execution_count": 183,
      "outputs": [
        {
          "output_type": "display_data",
          "data": {
            "text/html": [
              "<div>\n",
              "<style scoped>\n",
              "    .dataframe tbody tr th:only-of-type {\n",
              "        vertical-align: middle;\n",
              "    }\n",
              "\n",
              "    .dataframe tbody tr th {\n",
              "        vertical-align: top;\n",
              "    }\n",
              "\n",
              "    .dataframe thead th {\n",
              "        text-align: right;\n",
              "    }\n",
              "</style>\n",
              "<table border=\"1\" class=\"dataframe\">\n",
              "  <thead>\n",
              "    <tr style=\"text-align: right;\">\n",
              "      <th></th>\n",
              "      <th>course_name</th>\n",
              "      <th>pass_or_fail</th>\n",
              "    </tr>\n",
              "  </thead>\n",
              "  <tbody>\n",
              "    <tr>\n",
              "      <th>0</th>\n",
              "      <td>New Media and Business</td>\n",
              "      <td>pass</td>\n",
              "    </tr>\n",
              "    <tr>\n",
              "      <th>1</th>\n",
              "      <td>Intro to Programming in Python</td>\n",
              "      <td>pass</td>\n",
              "    </tr>\n",
              "    <tr>\n",
              "      <th>2</th>\n",
              "      <td>Discrete Structure</td>\n",
              "      <td>pass</td>\n",
              "    </tr>\n",
              "    <tr>\n",
              "      <th>3</th>\n",
              "      <td>Management Information Systems</td>\n",
              "      <td>pass</td>\n",
              "    </tr>\n",
              "    <tr>\n",
              "      <th>4</th>\n",
              "      <td>Computing &amp;Quantitative Reason</td>\n",
              "      <td>pass</td>\n",
              "    </tr>\n",
              "    <tr>\n",
              "      <th>...</th>\n",
              "      <td>...</td>\n",
              "      <td>...</td>\n",
              "    </tr>\n",
              "    <tr>\n",
              "      <th>2235</th>\n",
              "      <td>Computer Mangement Games</td>\n",
              "      <td>pass</td>\n",
              "    </tr>\n",
              "    <tr>\n",
              "      <th>2236</th>\n",
              "      <td>Intro to Programming in Python</td>\n",
              "      <td>pass</td>\n",
              "    </tr>\n",
              "    <tr>\n",
              "      <th>2237</th>\n",
              "      <td>Discrete Structure</td>\n",
              "      <td>pass</td>\n",
              "    </tr>\n",
              "    <tr>\n",
              "      <th>2238</th>\n",
              "      <td>New Media and Business</td>\n",
              "      <td>pass</td>\n",
              "    </tr>\n",
              "    <tr>\n",
              "      <th>2239</th>\n",
              "      <td>Management Information Systems</td>\n",
              "      <td>pass</td>\n",
              "    </tr>\n",
              "  </tbody>\n",
              "</table>\n",
              "<p>2093 rows x 2 columns</p>\n",
              "</div>"
            ]
          },
          "metadata": {}
        }
      ]
    },
    {
      "cell_type": "code",
      "source": [
        "#group by course and value count new column to get pass or fail for each course\n",
        "fyc = fyc.groupby('course_name')['pass_or_fail'].value_counts()\n",
        "fyc"
      ],
      "metadata": {
        "id": "NZhX27ZxQgRe",
        "outputId": "8e61b8c5-ef71-486f-903f-b9a6536f5a75",
        "colab": {
          "base_uri": "https://localhost:8080/"
        }
      },
      "execution_count": 184,
      "outputs": [
        {
          "output_type": "execute_result",
          "data": {
            "text/plain": [
              "course_name                     pass_or_fail\n",
              "Computer Mangement Games        pass            126\n",
              "                                fail             22\n",
              "Computing &Quantitative Reason  pass            127\n",
              "                                fail             29\n",
              "Discrete Structure              pass             68\n",
              "                                fail             10\n",
              "Electronic Commerce             pass            136\n",
              "                                fail             24\n",
              "Elementary Robotics             pass            130\n",
              "                                fail             24\n",
              "Exploring Robotics              pass            120\n",
              "                                fail             27\n",
              "Intro Multi Comput              pass            135\n",
              "                                fail             31\n",
              "Intro to Computer Applications  pass            114\n",
              "                                fail             34\n",
              "Intro to JAVA Programming       pass            120\n",
              "                                fail             20\n",
              "Intro to Programming in Python  pass            131\n",
              "                                fail             22\n",
              "Java for Programmers            pass            147\n",
              "                                fail             25\n",
              "Management Information Systems  pass            134\n",
              "                                fail             19\n",
              "New Media and Business          pass            130\n",
              "                                fail             23\n",
              "The Outer Limits of Reasoning   pass            138\n",
              "                                fail             27\n",
              "Name: count, dtype: int64"
            ]
          },
          "metadata": {},
          "execution_count": 184
        }
      ]
    },
    {
      "cell_type": "code",
      "source": [
        "#qol stuff\n",
        "fyc = pd.DataFrame(fyc)\n",
        "fyc.reset_index(inplace=True)\n",
        "fyc.head()"
      ],
      "metadata": {
        "id": "PLZHqz-gQWSu",
        "outputId": "cfff45a1-2558-460d-ee8b-ad83992ed209",
        "colab": {
          "base_uri": "https://localhost:8080/",
          "height": 206
        }
      },
      "execution_count": 185,
      "outputs": [
        {
          "output_type": "display_data",
          "data": {
            "text/html": [
              "<div>\n",
              "<style scoped>\n",
              "    .dataframe tbody tr th:only-of-type {\n",
              "        vertical-align: middle;\n",
              "    }\n",
              "\n",
              "    .dataframe tbody tr th {\n",
              "        vertical-align: top;\n",
              "    }\n",
              "\n",
              "    .dataframe thead th {\n",
              "        text-align: right;\n",
              "    }\n",
              "</style>\n",
              "<table border=\"1\" class=\"dataframe\">\n",
              "  <thead>\n",
              "    <tr style=\"text-align: right;\">\n",
              "      <th></th>\n",
              "      <th>course_name</th>\n",
              "      <th>pass_or_fail</th>\n",
              "      <th>count</th>\n",
              "    </tr>\n",
              "  </thead>\n",
              "  <tbody>\n",
              "    <tr>\n",
              "      <th>0</th>\n",
              "      <td>Computer Mangement Games</td>\n",
              "      <td>pass</td>\n",
              "      <td>126</td>\n",
              "    </tr>\n",
              "    <tr>\n",
              "      <th>1</th>\n",
              "      <td>Computer Mangement Games</td>\n",
              "      <td>fail</td>\n",
              "      <td>22</td>\n",
              "    </tr>\n",
              "    <tr>\n",
              "      <th>2</th>\n",
              "      <td>Computing &amp;Quantitative Reason</td>\n",
              "      <td>pass</td>\n",
              "      <td>127</td>\n",
              "    </tr>\n",
              "    <tr>\n",
              "      <th>3</th>\n",
              "      <td>Computing &amp;Quantitative Reason</td>\n",
              "      <td>fail</td>\n",
              "      <td>29</td>\n",
              "    </tr>\n",
              "    <tr>\n",
              "      <th>4</th>\n",
              "      <td>Discrete Structure</td>\n",
              "      <td>pass</td>\n",
              "      <td>68</td>\n",
              "    </tr>\n",
              "  </tbody>\n",
              "</table>\n",
              "</div>"
            ]
          },
          "metadata": {}
        }
      ]
    },
    {
      "cell_type": "code",
      "source": [
        "courses = fyc['course_name'].unique()\n",
        "courses"
      ],
      "metadata": {
        "id": "Q_RgAguEQt-f",
        "outputId": "661895a0-39c8-4aa9-bfc9-5bbebbc3c877",
        "colab": {
          "base_uri": "https://localhost:8080/"
        }
      },
      "execution_count": 186,
      "outputs": [
        {
          "output_type": "execute_result",
          "data": {
            "text/plain": [
              "array(['Computer Mangement Games', 'Computing &Quantitative Reason',\n",
              "       'Discrete Structure', 'Electronic Commerce', 'Elementary Robotics',\n",
              "       'Exploring Robotics', 'Intro Multi Comput',\n",
              "       'Intro to Computer Applications', 'Intro to JAVA Programming',\n",
              "       'Intro to Programming in Python', 'Java for Programmers',\n",
              "       'Management Information Systems', 'New Media and Business',\n",
              "       'The Outer Limits of Reasoning'], dtype=object)"
            ]
          },
          "metadata": {},
          "execution_count": 186
        }
      ]
    },
    {
      "cell_type": "code",
      "source": [
        "fyc[fyc['course_name'] == 'Electronic Commerce']"
      ],
      "metadata": {
        "id": "Pz_p5kwmTQZb",
        "outputId": "c61b86f4-2a44-4d78-a10e-0013620d1887",
        "colab": {
          "base_uri": "https://localhost:8080/",
          "height": 112
        }
      },
      "execution_count": 188,
      "outputs": [
        {
          "output_type": "display_data",
          "data": {
            "text/html": [
              "<div>\n",
              "<style scoped>\n",
              "    .dataframe tbody tr th:only-of-type {\n",
              "        vertical-align: middle;\n",
              "    }\n",
              "\n",
              "    .dataframe tbody tr th {\n",
              "        vertical-align: top;\n",
              "    }\n",
              "\n",
              "    .dataframe thead th {\n",
              "        text-align: right;\n",
              "    }\n",
              "</style>\n",
              "<table border=\"1\" class=\"dataframe\">\n",
              "  <thead>\n",
              "    <tr style=\"text-align: right;\">\n",
              "      <th></th>\n",
              "      <th>course_name</th>\n",
              "      <th>pass_or_fail</th>\n",
              "      <th>count</th>\n",
              "    </tr>\n",
              "  </thead>\n",
              "  <tbody>\n",
              "    <tr>\n",
              "      <th>6</th>\n",
              "      <td>Electronic Commerce</td>\n",
              "      <td>pass</td>\n",
              "      <td>136</td>\n",
              "    </tr>\n",
              "    <tr>\n",
              "      <th>7</th>\n",
              "      <td>Electronic Commerce</td>\n",
              "      <td>fail</td>\n",
              "      <td>24</td>\n",
              "    </tr>\n",
              "  </tbody>\n",
              "</table>\n",
              "</div>"
            ]
          },
          "metadata": {}
        }
      ]
    },
    {
      "cell_type": "code",
      "source": [
        "def percentage(row):\n",
        "  course = row['course_name']\n",
        "  p_or_f_count = row['count']\n",
        "  course_count = fyc[(fyc['course_name'] == course)]['count'].sum()\n",
        "\n",
        "  return (p_or_f_count / course_count) * 100\n",
        "\n",
        "\n",
        "fyc['pf_percentage'] = fyc.apply(percentage, axis=1)\n",
        "fyc.head()"
      ],
      "metadata": {
        "id": "F268n0VBQwjl",
        "outputId": "d7ace2e3-424b-4184-b1a5-7574d38a0609",
        "colab": {
          "base_uri": "https://localhost:8080/",
          "height": 206
        }
      },
      "execution_count": 189,
      "outputs": [
        {
          "output_type": "display_data",
          "data": {
            "text/html": [
              "<div>\n",
              "<style scoped>\n",
              "    .dataframe tbody tr th:only-of-type {\n",
              "        vertical-align: middle;\n",
              "    }\n",
              "\n",
              "    .dataframe tbody tr th {\n",
              "        vertical-align: top;\n",
              "    }\n",
              "\n",
              "    .dataframe thead th {\n",
              "        text-align: right;\n",
              "    }\n",
              "</style>\n",
              "<table border=\"1\" class=\"dataframe\">\n",
              "  <thead>\n",
              "    <tr style=\"text-align: right;\">\n",
              "      <th></th>\n",
              "      <th>course_name</th>\n",
              "      <th>pass_or_fail</th>\n",
              "      <th>count</th>\n",
              "      <th>pf_percentage</th>\n",
              "    </tr>\n",
              "  </thead>\n",
              "  <tbody>\n",
              "    <tr>\n",
              "      <th>0</th>\n",
              "      <td>Computer Mangement Games</td>\n",
              "      <td>pass</td>\n",
              "      <td>126</td>\n",
              "      <td>85.135135</td>\n",
              "    </tr>\n",
              "    <tr>\n",
              "      <th>1</th>\n",
              "      <td>Computer Mangement Games</td>\n",
              "      <td>fail</td>\n",
              "      <td>22</td>\n",
              "      <td>14.864865</td>\n",
              "    </tr>\n",
              "    <tr>\n",
              "      <th>2</th>\n",
              "      <td>Computing &amp;Quantitative Reason</td>\n",
              "      <td>pass</td>\n",
              "      <td>127</td>\n",
              "      <td>81.410256</td>\n",
              "    </tr>\n",
              "    <tr>\n",
              "      <th>3</th>\n",
              "      <td>Computing &amp;Quantitative Reason</td>\n",
              "      <td>fail</td>\n",
              "      <td>29</td>\n",
              "      <td>18.589744</td>\n",
              "    </tr>\n",
              "    <tr>\n",
              "      <th>4</th>\n",
              "      <td>Discrete Structure</td>\n",
              "      <td>pass</td>\n",
              "      <td>68</td>\n",
              "      <td>87.179487</td>\n",
              "    </tr>\n",
              "  </tbody>\n",
              "</table>\n",
              "</div>"
            ]
          },
          "metadata": {}
        }
      ]
    },
    {
      "cell_type": "code",
      "source": [
        "fyc[fyc['course_name'] == 'Electronic Commerce']"
      ],
      "metadata": {
        "id": "rzXX5tLATech",
        "outputId": "711a9a9b-60bb-4bac-c0b9-d0073011e905",
        "colab": {
          "base_uri": "https://localhost:8080/",
          "height": 112
        }
      },
      "execution_count": 191,
      "outputs": [
        {
          "output_type": "display_data",
          "data": {
            "text/html": [
              "<div>\n",
              "<style scoped>\n",
              "    .dataframe tbody tr th:only-of-type {\n",
              "        vertical-align: middle;\n",
              "    }\n",
              "\n",
              "    .dataframe tbody tr th {\n",
              "        vertical-align: top;\n",
              "    }\n",
              "\n",
              "    .dataframe thead th {\n",
              "        text-align: right;\n",
              "    }\n",
              "</style>\n",
              "<table border=\"1\" class=\"dataframe\">\n",
              "  <thead>\n",
              "    <tr style=\"text-align: right;\">\n",
              "      <th></th>\n",
              "      <th>course_name</th>\n",
              "      <th>pass_or_fail</th>\n",
              "      <th>count</th>\n",
              "      <th>pf_percentage</th>\n",
              "    </tr>\n",
              "  </thead>\n",
              "  <tbody>\n",
              "    <tr>\n",
              "      <th>6</th>\n",
              "      <td>Electronic Commerce</td>\n",
              "      <td>pass</td>\n",
              "      <td>136</td>\n",
              "      <td>85.0</td>\n",
              "    </tr>\n",
              "    <tr>\n",
              "      <th>7</th>\n",
              "      <td>Electronic Commerce</td>\n",
              "      <td>fail</td>\n",
              "      <td>24</td>\n",
              "      <td>15.0</td>\n",
              "    </tr>\n",
              "  </tbody>\n",
              "</table>\n",
              "</div>"
            ]
          },
          "metadata": {}
        }
      ]
    },
    {
      "cell_type": "code",
      "source": [
        "fyc.sort_values('pf_percentage', ascending=False, inplace=True)\n",
        "fyc.head(30)"
      ],
      "metadata": {
        "id": "zECHE9eyP_X-",
        "outputId": "efe765a0-94e0-4614-c7f2-efde94e947e0",
        "colab": {
          "base_uri": "https://localhost:8080/",
          "height": 927
        }
      },
      "execution_count": 192,
      "outputs": [
        {
          "output_type": "display_data",
          "data": {
            "text/html": [
              "<div>\n",
              "<style scoped>\n",
              "    .dataframe tbody tr th:only-of-type {\n",
              "        vertical-align: middle;\n",
              "    }\n",
              "\n",
              "    .dataframe tbody tr th {\n",
              "        vertical-align: top;\n",
              "    }\n",
              "\n",
              "    .dataframe thead th {\n",
              "        text-align: right;\n",
              "    }\n",
              "</style>\n",
              "<table border=\"1\" class=\"dataframe\">\n",
              "  <thead>\n",
              "    <tr style=\"text-align: right;\">\n",
              "      <th></th>\n",
              "      <th>course_name</th>\n",
              "      <th>pass_or_fail</th>\n",
              "      <th>count</th>\n",
              "      <th>pf_percentage</th>\n",
              "    </tr>\n",
              "  </thead>\n",
              "  <tbody>\n",
              "    <tr>\n",
              "      <th>22</th>\n",
              "      <td>Management Information Systems</td>\n",
              "      <td>pass</td>\n",
              "      <td>134</td>\n",
              "      <td>87.581699</td>\n",
              "    </tr>\n",
              "    <tr>\n",
              "      <th>4</th>\n",
              "      <td>Discrete Structure</td>\n",
              "      <td>pass</td>\n",
              "      <td>68</td>\n",
              "      <td>87.179487</td>\n",
              "    </tr>\n",
              "    <tr>\n",
              "      <th>16</th>\n",
              "      <td>Intro to JAVA Programming</td>\n",
              "      <td>pass</td>\n",
              "      <td>120</td>\n",
              "      <td>85.714286</td>\n",
              "    </tr>\n",
              "    <tr>\n",
              "      <th>18</th>\n",
              "      <td>Intro to Programming in Python</td>\n",
              "      <td>pass</td>\n",
              "      <td>131</td>\n",
              "      <td>85.620915</td>\n",
              "    </tr>\n",
              "    <tr>\n",
              "      <th>20</th>\n",
              "      <td>Java for Programmers</td>\n",
              "      <td>pass</td>\n",
              "      <td>147</td>\n",
              "      <td>85.465116</td>\n",
              "    </tr>\n",
              "    <tr>\n",
              "      <th>0</th>\n",
              "      <td>Computer Mangement Games</td>\n",
              "      <td>pass</td>\n",
              "      <td>126</td>\n",
              "      <td>85.135135</td>\n",
              "    </tr>\n",
              "    <tr>\n",
              "      <th>6</th>\n",
              "      <td>Electronic Commerce</td>\n",
              "      <td>pass</td>\n",
              "      <td>136</td>\n",
              "      <td>85.000000</td>\n",
              "    </tr>\n",
              "    <tr>\n",
              "      <th>24</th>\n",
              "      <td>New Media and Business</td>\n",
              "      <td>pass</td>\n",
              "      <td>130</td>\n",
              "      <td>84.967320</td>\n",
              "    </tr>\n",
              "    <tr>\n",
              "      <th>8</th>\n",
              "      <td>Elementary Robotics</td>\n",
              "      <td>pass</td>\n",
              "      <td>130</td>\n",
              "      <td>84.415584</td>\n",
              "    </tr>\n",
              "    <tr>\n",
              "      <th>26</th>\n",
              "      <td>The Outer Limits of Reasoning</td>\n",
              "      <td>pass</td>\n",
              "      <td>138</td>\n",
              "      <td>83.636364</td>\n",
              "    </tr>\n",
              "    <tr>\n",
              "      <th>10</th>\n",
              "      <td>Exploring Robotics</td>\n",
              "      <td>pass</td>\n",
              "      <td>120</td>\n",
              "      <td>81.632653</td>\n",
              "    </tr>\n",
              "    <tr>\n",
              "      <th>2</th>\n",
              "      <td>Computing &amp;Quantitative Reason</td>\n",
              "      <td>pass</td>\n",
              "      <td>127</td>\n",
              "      <td>81.410256</td>\n",
              "    </tr>\n",
              "    <tr>\n",
              "      <th>12</th>\n",
              "      <td>Intro Multi Comput</td>\n",
              "      <td>pass</td>\n",
              "      <td>135</td>\n",
              "      <td>81.325301</td>\n",
              "    </tr>\n",
              "    <tr>\n",
              "      <th>14</th>\n",
              "      <td>Intro to Computer Applications</td>\n",
              "      <td>pass</td>\n",
              "      <td>114</td>\n",
              "      <td>77.027027</td>\n",
              "    </tr>\n",
              "    <tr>\n",
              "      <th>15</th>\n",
              "      <td>Intro to Computer Applications</td>\n",
              "      <td>fail</td>\n",
              "      <td>34</td>\n",
              "      <td>22.972973</td>\n",
              "    </tr>\n",
              "    <tr>\n",
              "      <th>13</th>\n",
              "      <td>Intro Multi Comput</td>\n",
              "      <td>fail</td>\n",
              "      <td>31</td>\n",
              "      <td>18.674699</td>\n",
              "    </tr>\n",
              "    <tr>\n",
              "      <th>3</th>\n",
              "      <td>Computing &amp;Quantitative Reason</td>\n",
              "      <td>fail</td>\n",
              "      <td>29</td>\n",
              "      <td>18.589744</td>\n",
              "    </tr>\n",
              "    <tr>\n",
              "      <th>11</th>\n",
              "      <td>Exploring Robotics</td>\n",
              "      <td>fail</td>\n",
              "      <td>27</td>\n",
              "      <td>18.367347</td>\n",
              "    </tr>\n",
              "    <tr>\n",
              "      <th>27</th>\n",
              "      <td>The Outer Limits of Reasoning</td>\n",
              "      <td>fail</td>\n",
              "      <td>27</td>\n",
              "      <td>16.363636</td>\n",
              "    </tr>\n",
              "    <tr>\n",
              "      <th>9</th>\n",
              "      <td>Elementary Robotics</td>\n",
              "      <td>fail</td>\n",
              "      <td>24</td>\n",
              "      <td>15.584416</td>\n",
              "    </tr>\n",
              "    <tr>\n",
              "      <th>25</th>\n",
              "      <td>New Media and Business</td>\n",
              "      <td>fail</td>\n",
              "      <td>23</td>\n",
              "      <td>15.032680</td>\n",
              "    </tr>\n",
              "    <tr>\n",
              "      <th>7</th>\n",
              "      <td>Electronic Commerce</td>\n",
              "      <td>fail</td>\n",
              "      <td>24</td>\n",
              "      <td>15.000000</td>\n",
              "    </tr>\n",
              "    <tr>\n",
              "      <th>1</th>\n",
              "      <td>Computer Mangement Games</td>\n",
              "      <td>fail</td>\n",
              "      <td>22</td>\n",
              "      <td>14.864865</td>\n",
              "    </tr>\n",
              "    <tr>\n",
              "      <th>21</th>\n",
              "      <td>Java for Programmers</td>\n",
              "      <td>fail</td>\n",
              "      <td>25</td>\n",
              "      <td>14.534884</td>\n",
              "    </tr>\n",
              "    <tr>\n",
              "      <th>19</th>\n",
              "      <td>Intro to Programming in Python</td>\n",
              "      <td>fail</td>\n",
              "      <td>22</td>\n",
              "      <td>14.379085</td>\n",
              "    </tr>\n",
              "    <tr>\n",
              "      <th>17</th>\n",
              "      <td>Intro to JAVA Programming</td>\n",
              "      <td>fail</td>\n",
              "      <td>20</td>\n",
              "      <td>14.285714</td>\n",
              "    </tr>\n",
              "    <tr>\n",
              "      <th>5</th>\n",
              "      <td>Discrete Structure</td>\n",
              "      <td>fail</td>\n",
              "      <td>10</td>\n",
              "      <td>12.820513</td>\n",
              "    </tr>\n",
              "    <tr>\n",
              "      <th>23</th>\n",
              "      <td>Management Information Systems</td>\n",
              "      <td>fail</td>\n",
              "      <td>19</td>\n",
              "      <td>12.418301</td>\n",
              "    </tr>\n",
              "  </tbody>\n",
              "</table>\n",
              "</div>"
            ]
          },
          "metadata": {}
        }
      ]
    },
    {
      "cell_type": "markdown",
      "source": [
        "## 7. Did any students not enroll in any course during the whole F15/S16 academic year? Who?"
      ],
      "metadata": {
        "id": "IuA99ib17sHx"
      }
    },
    {
      "cell_type": "code",
      "source": [
        "students_unenrolled = students_df[ ~(students_df['id'].isin(f15_df['student_id'])) ]\n",
        "students_unenrolled"
      ],
      "metadata": {
        "id": "o8pTtGY8GJW3",
        "outputId": "e4c3399f-8c93-4100-9213-76ba2517d14c",
        "colab": {
          "base_uri": "https://localhost:8080/",
          "height": 81
        }
      },
      "execution_count": 136,
      "outputs": [
        {
          "output_type": "display_data",
          "data": {
            "text/html": [
              "<div>\n",
              "<style scoped>\n",
              "    .dataframe tbody tr th:only-of-type {\n",
              "        vertical-align: middle;\n",
              "    }\n",
              "\n",
              "    .dataframe tbody tr th {\n",
              "        vertical-align: top;\n",
              "    }\n",
              "\n",
              "    .dataframe thead th {\n",
              "        text-align: right;\n",
              "    }\n",
              "</style>\n",
              "<table border=\"1\" class=\"dataframe\">\n",
              "  <thead>\n",
              "    <tr style=\"text-align: right;\">\n",
              "      <th></th>\n",
              "      <th>id</th>\n",
              "      <th>name</th>\n",
              "    </tr>\n",
              "  </thead>\n",
              "  <tbody>\n",
              "    <tr>\n",
              "      <th>420</th>\n",
              "      <td>9224256</td>\n",
              "      <td>Ron</td>\n",
              "    </tr>\n",
              "  </tbody>\n",
              "</table>\n",
              "</div>"
            ]
          },
          "metadata": {}
        }
      ]
    },
    {
      "cell_type": "code",
      "source": [
        "students_unenrolled = students_df[ ~(students_df['id'].isin(s16_df['student_id'])) ]\n",
        "students_unenrolled"
      ],
      "metadata": {
        "id": "4MVVw01TGbrl",
        "outputId": "38512ace-1c8f-4756-8121-f2a4f8b28895",
        "colab": {
          "base_uri": "https://localhost:8080/",
          "height": 332
        }
      },
      "execution_count": 137,
      "outputs": [
        {
          "output_type": "display_data",
          "data": {
            "text/html": [
              "<div>\n",
              "<style scoped>\n",
              "    .dataframe tbody tr th:only-of-type {\n",
              "        vertical-align: middle;\n",
              "    }\n",
              "\n",
              "    .dataframe tbody tr th {\n",
              "        vertical-align: top;\n",
              "    }\n",
              "\n",
              "    .dataframe thead th {\n",
              "        text-align: right;\n",
              "    }\n",
              "</style>\n",
              "<table border=\"1\" class=\"dataframe\">\n",
              "  <thead>\n",
              "    <tr style=\"text-align: right;\">\n",
              "      <th></th>\n",
              "      <th>id</th>\n",
              "      <th>name</th>\n",
              "    </tr>\n",
              "  </thead>\n",
              "  <tbody>\n",
              "    <tr>\n",
              "      <th>21</th>\n",
              "      <td>7556881</td>\n",
              "      <td>Hannah</td>\n",
              "    </tr>\n",
              "    <tr>\n",
              "      <th>30</th>\n",
              "      <td>3704367</td>\n",
              "      <td>Claudia</td>\n",
              "    </tr>\n",
              "    <tr>\n",
              "      <th>67</th>\n",
              "      <td>7670762</td>\n",
              "      <td>Kristi</td>\n",
              "    </tr>\n",
              "    <tr>\n",
              "      <th>125</th>\n",
              "      <td>1234706</td>\n",
              "      <td>Tasha</td>\n",
              "    </tr>\n",
              "    <tr>\n",
              "      <th>183</th>\n",
              "      <td>8584823</td>\n",
              "      <td>Dustin</td>\n",
              "    </tr>\n",
              "    <tr>\n",
              "      <th>184</th>\n",
              "      <td>3438733</td>\n",
              "      <td>Kelsey</td>\n",
              "    </tr>\n",
              "    <tr>\n",
              "      <th>397</th>\n",
              "      <td>3528815</td>\n",
              "      <td>Raymond</td>\n",
              "    </tr>\n",
              "    <tr>\n",
              "      <th>420</th>\n",
              "      <td>9224256</td>\n",
              "      <td>Ron</td>\n",
              "    </tr>\n",
              "    <tr>\n",
              "      <th>422</th>\n",
              "      <td>7624676</td>\n",
              "      <td>Kate</td>\n",
              "    </tr>\n",
              "  </tbody>\n",
              "</table>\n",
              "</div>"
            ]
          },
          "metadata": {}
        }
      ]
    },
    {
      "cell_type": "code",
      "source": [
        "students_unenrolled = students_df[ ~(students_df['id'].isin(fullyear['student_id'])) ]\n",
        "students_unenrolled"
      ],
      "metadata": {
        "id": "CxsqkMqeNoXe",
        "outputId": "04aa6e9c-9d42-449d-8246-4f42885ca989",
        "colab": {
          "base_uri": "https://localhost:8080/",
          "height": 81
        }
      },
      "execution_count": 141,
      "outputs": [
        {
          "output_type": "display_data",
          "data": {
            "text/html": [
              "<div>\n",
              "<style scoped>\n",
              "    .dataframe tbody tr th:only-of-type {\n",
              "        vertical-align: middle;\n",
              "    }\n",
              "\n",
              "    .dataframe tbody tr th {\n",
              "        vertical-align: top;\n",
              "    }\n",
              "\n",
              "    .dataframe thead th {\n",
              "        text-align: right;\n",
              "    }\n",
              "</style>\n",
              "<table border=\"1\" class=\"dataframe\">\n",
              "  <thead>\n",
              "    <tr style=\"text-align: right;\">\n",
              "      <th></th>\n",
              "      <th>id</th>\n",
              "      <th>name</th>\n",
              "    </tr>\n",
              "  </thead>\n",
              "  <tbody>\n",
              "    <tr>\n",
              "      <th>420</th>\n",
              "      <td>9224256</td>\n",
              "      <td>Ron</td>\n",
              "    </tr>\n",
              "  </tbody>\n",
              "</table>\n",
              "</div>"
            ]
          },
          "metadata": {}
        }
      ]
    },
    {
      "cell_type": "markdown",
      "source": [
        "## 8. Over the whole F15/S16 academic year, what career was most common among students taking 1215?"
      ],
      "metadata": {
        "id": "D4cpiREi7uRC"
      }
    },
    {
      "cell_type": "code",
      "source": [
        "fullyear_careers = pd.merge(fullyear, careers_df, left_on='student_id', right_on='id', how='left').drop('id', axis=1)\n",
        "fullyear_careers[fullyear_careers['course'] == 1215 ]['career'].value_counts()"
      ],
      "metadata": {
        "id": "STwD3I6sG5Fc",
        "outputId": "e615697d-01c6-4669-a759-03f9737cbd9b",
        "colab": {
          "base_uri": "https://localhost:8080/"
        }
      },
      "execution_count": 138,
      "outputs": [
        {
          "output_type": "execute_result",
          "data": {
            "text/plain": [
              "career\n",
              "gamedev          19\n",
              "research         15\n",
              "finance          15\n",
              "consulting       13\n",
              "robotics         13\n",
              "security         12\n",
              "graphics         12\n",
              "publishing       11\n",
              "hardware         11\n",
              "startup          10\n",
              "ecommerce         7\n",
              "education         7\n",
              "manufacturing     6\n",
              "self-employed     6\n",
              "logistics         5\n",
              "Name: count, dtype: int64"
            ]
          },
          "metadata": {},
          "execution_count": 138
        }
      ]
    },
    {
      "cell_type": "markdown",
      "source": [
        "The most common career was gamedev with 19, and then research and finance tied at 15, with third being a tie between consulting and robotics"
      ],
      "metadata": {
        "id": "AMhWD1dsIt-n"
      }
    },
    {
      "cell_type": "markdown",
      "source": [
        "# 3 Concatenation (8 points)"
      ],
      "metadata": {
        "id": "rV8mL-u6O2Hc"
      }
    },
    {
      "cell_type": "markdown",
      "source": [
        "## 1. Show the result if we concatenate df1, df2 with axis=0.\n"
      ],
      "metadata": {
        "id": "2XiBqNajVHi1"
      }
    },
    {
      "cell_type": "code",
      "source": [
        "df1 = pd.DataFrame({'a':[4,5], 'b':[9,3]})\n",
        "df2 = pd.DataFrame({'a':[3,4], 'b':[23,21]})"
      ],
      "metadata": {
        "id": "aO4JezeKHblY"
      },
      "execution_count": 194,
      "outputs": []
    },
    {
      "cell_type": "code",
      "source": [
        "df1.head()"
      ],
      "metadata": {
        "id": "J2Qt1aptUK4p",
        "outputId": "60d2626b-61ea-4f7f-ff2c-0f5420ec1bbf",
        "colab": {
          "base_uri": "https://localhost:8080/",
          "height": 112
        }
      },
      "execution_count": 195,
      "outputs": [
        {
          "output_type": "display_data",
          "data": {
            "text/html": [
              "<div>\n",
              "<style scoped>\n",
              "    .dataframe tbody tr th:only-of-type {\n",
              "        vertical-align: middle;\n",
              "    }\n",
              "\n",
              "    .dataframe tbody tr th {\n",
              "        vertical-align: top;\n",
              "    }\n",
              "\n",
              "    .dataframe thead th {\n",
              "        text-align: right;\n",
              "    }\n",
              "</style>\n",
              "<table border=\"1\" class=\"dataframe\">\n",
              "  <thead>\n",
              "    <tr style=\"text-align: right;\">\n",
              "      <th></th>\n",
              "      <th>a</th>\n",
              "      <th>b</th>\n",
              "    </tr>\n",
              "  </thead>\n",
              "  <tbody>\n",
              "    <tr>\n",
              "      <th>0</th>\n",
              "      <td>4</td>\n",
              "      <td>9</td>\n",
              "    </tr>\n",
              "    <tr>\n",
              "      <th>1</th>\n",
              "      <td>5</td>\n",
              "      <td>3</td>\n",
              "    </tr>\n",
              "  </tbody>\n",
              "</table>\n",
              "</div>"
            ]
          },
          "metadata": {}
        }
      ]
    },
    {
      "cell_type": "code",
      "source": [
        "df2.head()"
      ],
      "metadata": {
        "id": "ociVKPdzUQ91",
        "outputId": "df788fae-77ed-4207-a6b7-8d946088e1cb",
        "colab": {
          "base_uri": "https://localhost:8080/",
          "height": 112
        }
      },
      "execution_count": 196,
      "outputs": [
        {
          "output_type": "display_data",
          "data": {
            "text/html": [
              "<div>\n",
              "<style scoped>\n",
              "    .dataframe tbody tr th:only-of-type {\n",
              "        vertical-align: middle;\n",
              "    }\n",
              "\n",
              "    .dataframe tbody tr th {\n",
              "        vertical-align: top;\n",
              "    }\n",
              "\n",
              "    .dataframe thead th {\n",
              "        text-align: right;\n",
              "    }\n",
              "</style>\n",
              "<table border=\"1\" class=\"dataframe\">\n",
              "  <thead>\n",
              "    <tr style=\"text-align: right;\">\n",
              "      <th></th>\n",
              "      <th>a</th>\n",
              "      <th>b</th>\n",
              "    </tr>\n",
              "  </thead>\n",
              "  <tbody>\n",
              "    <tr>\n",
              "      <th>0</th>\n",
              "      <td>3</td>\n",
              "      <td>23</td>\n",
              "    </tr>\n",
              "    <tr>\n",
              "      <th>1</th>\n",
              "      <td>4</td>\n",
              "      <td>21</td>\n",
              "    </tr>\n",
              "  </tbody>\n",
              "</table>\n",
              "</div>"
            ]
          },
          "metadata": {}
        }
      ]
    },
    {
      "cell_type": "code",
      "source": [
        "df_c1 = pd.concat([df1, df2], axis=0)\n",
        "df_c1"
      ],
      "metadata": {
        "id": "CVEdu3eaUSCM",
        "outputId": "f7c325b2-1453-4aab-8002-29d6f8a6647c",
        "colab": {
          "base_uri": "https://localhost:8080/",
          "height": 175
        }
      },
      "execution_count": 198,
      "outputs": [
        {
          "output_type": "display_data",
          "data": {
            "text/html": [
              "<div>\n",
              "<style scoped>\n",
              "    .dataframe tbody tr th:only-of-type {\n",
              "        vertical-align: middle;\n",
              "    }\n",
              "\n",
              "    .dataframe tbody tr th {\n",
              "        vertical-align: top;\n",
              "    }\n",
              "\n",
              "    .dataframe thead th {\n",
              "        text-align: right;\n",
              "    }\n",
              "</style>\n",
              "<table border=\"1\" class=\"dataframe\">\n",
              "  <thead>\n",
              "    <tr style=\"text-align: right;\">\n",
              "      <th></th>\n",
              "      <th>a</th>\n",
              "      <th>b</th>\n",
              "    </tr>\n",
              "  </thead>\n",
              "  <tbody>\n",
              "    <tr>\n",
              "      <th>0</th>\n",
              "      <td>4</td>\n",
              "      <td>9</td>\n",
              "    </tr>\n",
              "    <tr>\n",
              "      <th>1</th>\n",
              "      <td>5</td>\n",
              "      <td>3</td>\n",
              "    </tr>\n",
              "    <tr>\n",
              "      <th>0</th>\n",
              "      <td>3</td>\n",
              "      <td>23</td>\n",
              "    </tr>\n",
              "    <tr>\n",
              "      <th>1</th>\n",
              "      <td>4</td>\n",
              "      <td>21</td>\n",
              "    </tr>\n",
              "  </tbody>\n",
              "</table>\n",
              "</div>"
            ]
          },
          "metadata": {}
        }
      ]
    },
    {
      "cell_type": "markdown",
      "source": [
        "## 2. Show the result if we concatenate df1, df2 with axis=1.\n"
      ],
      "metadata": {
        "id": "R5g1FMxYVOiz"
      }
    },
    {
      "cell_type": "code",
      "source": [
        "df_c2 = pd.concat([df1, df2], axis=1)\n",
        "df_c2"
      ],
      "metadata": {
        "id": "TsWpPPjGUY4r",
        "outputId": "02eb2564-47af-43d3-f39d-d03d1979060e",
        "colab": {
          "base_uri": "https://localhost:8080/",
          "height": 112
        }
      },
      "execution_count": 199,
      "outputs": [
        {
          "output_type": "display_data",
          "data": {
            "text/html": [
              "<div>\n",
              "<style scoped>\n",
              "    .dataframe tbody tr th:only-of-type {\n",
              "        vertical-align: middle;\n",
              "    }\n",
              "\n",
              "    .dataframe tbody tr th {\n",
              "        vertical-align: top;\n",
              "    }\n",
              "\n",
              "    .dataframe thead th {\n",
              "        text-align: right;\n",
              "    }\n",
              "</style>\n",
              "<table border=\"1\" class=\"dataframe\">\n",
              "  <thead>\n",
              "    <tr style=\"text-align: right;\">\n",
              "      <th></th>\n",
              "      <th>a</th>\n",
              "      <th>b</th>\n",
              "      <th>a</th>\n",
              "      <th>b</th>\n",
              "    </tr>\n",
              "  </thead>\n",
              "  <tbody>\n",
              "    <tr>\n",
              "      <th>0</th>\n",
              "      <td>4</td>\n",
              "      <td>9</td>\n",
              "      <td>3</td>\n",
              "      <td>23</td>\n",
              "    </tr>\n",
              "    <tr>\n",
              "      <th>1</th>\n",
              "      <td>5</td>\n",
              "      <td>3</td>\n",
              "      <td>4</td>\n",
              "      <td>21</td>\n",
              "    </tr>\n",
              "  </tbody>\n",
              "</table>\n",
              "</div>"
            ]
          },
          "metadata": {}
        }
      ]
    },
    {
      "cell_type": "markdown",
      "source": [
        "## 3. Assume df2 has columns ‘c’, ‘d’ instead of ‘a’, ‘b’. Show the result if we concatenate df1, df2 withaxis=0."
      ],
      "metadata": {
        "id": "DYAqXRbtVQI6"
      }
    },
    {
      "cell_type": "code",
      "source": [
        "df2.columns = ['c', 'd']\n",
        "df2.head()\n",
        "\n",
        "pd.concat([df1, df2], axis=0)"
      ],
      "metadata": {
        "id": "HLzgyuCaUimm",
        "outputId": "fe4e4f52-42f4-48a4-dd67-77ab064d4ee0",
        "colab": {
          "base_uri": "https://localhost:8080/",
          "height": 175
        }
      },
      "execution_count": 201,
      "outputs": [
        {
          "output_type": "display_data",
          "data": {
            "text/html": [
              "<div>\n",
              "<style scoped>\n",
              "    .dataframe tbody tr th:only-of-type {\n",
              "        vertical-align: middle;\n",
              "    }\n",
              "\n",
              "    .dataframe tbody tr th {\n",
              "        vertical-align: top;\n",
              "    }\n",
              "\n",
              "    .dataframe thead th {\n",
              "        text-align: right;\n",
              "    }\n",
              "</style>\n",
              "<table border=\"1\" class=\"dataframe\">\n",
              "  <thead>\n",
              "    <tr style=\"text-align: right;\">\n",
              "      <th></th>\n",
              "      <th>a</th>\n",
              "      <th>b</th>\n",
              "      <th>c</th>\n",
              "      <th>d</th>\n",
              "    </tr>\n",
              "  </thead>\n",
              "  <tbody>\n",
              "    <tr>\n",
              "      <th>0</th>\n",
              "      <td>4.0</td>\n",
              "      <td>9.0</td>\n",
              "      <td>NaN</td>\n",
              "      <td>NaN</td>\n",
              "    </tr>\n",
              "    <tr>\n",
              "      <th>1</th>\n",
              "      <td>5.0</td>\n",
              "      <td>3.0</td>\n",
              "      <td>NaN</td>\n",
              "      <td>NaN</td>\n",
              "    </tr>\n",
              "    <tr>\n",
              "      <th>0</th>\n",
              "      <td>NaN</td>\n",
              "      <td>NaN</td>\n",
              "      <td>3.0</td>\n",
              "      <td>23.0</td>\n",
              "    </tr>\n",
              "    <tr>\n",
              "      <th>1</th>\n",
              "      <td>NaN</td>\n",
              "      <td>NaN</td>\n",
              "      <td>4.0</td>\n",
              "      <td>21.0</td>\n",
              "    </tr>\n",
              "  </tbody>\n",
              "</table>\n",
              "</div>"
            ]
          },
          "metadata": {}
        }
      ]
    },
    {
      "cell_type": "markdown",
      "source": [
        "## 4. Assume df2 has columns ‘c’, ‘d’ instead of ‘a’, ‘b’. Show the result if we concatenate df1, df2 withaxis=1."
      ],
      "metadata": {
        "id": "JxqGxiJoVRuF"
      }
    },
    {
      "cell_type": "code",
      "source": [
        "pd.concat([df1, df2], axis=1)"
      ],
      "metadata": {
        "id": "aURuCIgUVa9u",
        "outputId": "753fe88d-672e-45d6-a5aa-14aad59a6cd1",
        "colab": {
          "base_uri": "https://localhost:8080/",
          "height": 112
        }
      },
      "execution_count": 202,
      "outputs": [
        {
          "output_type": "display_data",
          "data": {
            "text/html": [
              "<div>\n",
              "<style scoped>\n",
              "    .dataframe tbody tr th:only-of-type {\n",
              "        vertical-align: middle;\n",
              "    }\n",
              "\n",
              "    .dataframe tbody tr th {\n",
              "        vertical-align: top;\n",
              "    }\n",
              "\n",
              "    .dataframe thead th {\n",
              "        text-align: right;\n",
              "    }\n",
              "</style>\n",
              "<table border=\"1\" class=\"dataframe\">\n",
              "  <thead>\n",
              "    <tr style=\"text-align: right;\">\n",
              "      <th></th>\n",
              "      <th>a</th>\n",
              "      <th>b</th>\n",
              "      <th>c</th>\n",
              "      <th>d</th>\n",
              "    </tr>\n",
              "  </thead>\n",
              "  <tbody>\n",
              "    <tr>\n",
              "      <th>0</th>\n",
              "      <td>4</td>\n",
              "      <td>9</td>\n",
              "      <td>3</td>\n",
              "      <td>23</td>\n",
              "    </tr>\n",
              "    <tr>\n",
              "      <th>1</th>\n",
              "      <td>5</td>\n",
              "      <td>3</td>\n",
              "      <td>4</td>\n",
              "      <td>21</td>\n",
              "    </tr>\n",
              "  </tbody>\n",
              "</table>\n",
              "</div>"
            ]
          },
          "metadata": {}
        }
      ]
    },
    {
      "cell_type": "markdown",
      "source": [
        "# 4 Merging (14 points)"
      ],
      "metadata": {
        "id": "N2gzMbubVntQ"
      }
    },
    {
      "cell_type": "code",
      "source": [
        "books_data = {\n",
        "    'isbn': [119935, 559332, 660352, 2118532],\n",
        "    'title': ['Jane Eyre', 'Fahrenheit 451', 'Lord of the Rings', '1984']\n",
        "}\n",
        "books_df = pd.DataFrame(books_data)\n",
        "\n",
        "# genres DataFrame\n",
        "genres_data = {\n",
        "    'isbn': [119935, 559332, 660352, 2118532],\n",
        "    'genre': ['romance', 'dystopian', 'fantasy', 'dystopian']\n",
        "}\n",
        "genres_df = pd.DataFrame(genres_data)\n",
        "\n",
        "# read DataFrame\n",
        "read_data = {\n",
        "    'isbn': [119935, 559332, 660352, 2118532, 119935],\n",
        "    'name': ['Matt', 'Alice', 'Matt', 'Bob', 'Alice']\n",
        "}\n",
        "read_df = pd.DataFrame(read_data)\n",
        "\n",
        "# favorites DataFrame\n",
        "favorites_data = {\n",
        "    'name': ['Matt', 'Alice', 'Bob', 'Bob', 'Matt', 'Bob'],\n",
        "    'genre': ['sci-fi', 'fantasy', 'history', 'nonfiction', 'dystopian', 'fantasy']\n",
        "}\n",
        "favorites_df = pd.DataFrame(favorites_data)\n",
        "\n",
        "print(books_df)\n",
        "print(\"\\n\\n\\n\", genres_df)\n",
        "print(\"\\n\\n\\n\", read_df)\n",
        "print(\"\\n\\n\\n\", favorites_df)"
      ],
      "metadata": {
        "id": "YOT2z-l4WB4x",
        "outputId": "41feae6c-1f7c-4658-a1de-4caf53a9d0ff",
        "colab": {
          "base_uri": "https://localhost:8080/"
        }
      },
      "execution_count": 204,
      "outputs": [
        {
          "output_type": "stream",
          "name": "stdout",
          "text": [
            "      isbn              title\n",
            "0   119935          Jane Eyre\n",
            "1   559332     Fahrenheit 451\n",
            "2   660352  Lord of the Rings\n",
            "3  2118532               1984\n",
            "\n",
            "\n",
            "\n",
            "       isbn      genre\n",
            "0   119935    romance\n",
            "1   559332  dystopian\n",
            "2   660352    fantasy\n",
            "3  2118532  dystopian\n",
            "\n",
            "\n",
            "\n",
            "       isbn   name\n",
            "0   119935   Matt\n",
            "1   559332  Alice\n",
            "2   660352   Matt\n",
            "3  2118532    Bob\n",
            "4   119935  Alice\n",
            "\n",
            "\n",
            "\n",
            "     name       genre\n",
            "0   Matt      sci-fi\n",
            "1  Alice     fantasy\n",
            "2    Bob     history\n",
            "3    Bob  nonfiction\n",
            "4   Matt   dystopian\n",
            "5    Bob     fantasy\n"
          ]
        }
      ]
    },
    {
      "cell_type": "markdown",
      "source": [
        "## 1. What type (one-to-one, many-to-one, many-to-many) is the merge across books and genres? Why?"
      ],
      "metadata": {
        "id": "zHlobFEmVrSJ"
      }
    },
    {
      "cell_type": "markdown",
      "source": [
        "One to one, as there is is no duplicate values many to one or the reverse is not needed, one to one is just fine"
      ],
      "metadata": {
        "id": "Qqww5HXpW8cu"
      }
    },
    {
      "cell_type": "markdown",
      "source": [
        "## 2. What type (one-to-one, many-to-one, many-to-many) is the merge across genres and favorites? Why?"
      ],
      "metadata": {
        "id": "9JvYL8KAVr1k"
      }
    },
    {
      "cell_type": "markdown",
      "source": [
        "Many to One as we have people with lots of favorites on the left side aka genre and no duplicates on the right so many to one would provide all of the rows on the left with a row on the right, thus not reducing the favorites on the left side."
      ],
      "metadata": {
        "id": "4kGsvPPuXCgI"
      }
    },
    {
      "cell_type": "markdown",
      "source": [
        "## 3. What type (one-to-one, many-to-one, many-to-many) is the merge across genres and read? Why?"
      ],
      "metadata": {
        "id": "yfZB3ngxVsaB"
      }
    },
    {
      "cell_type": "markdown",
      "source": [
        "Many to one becuase while there is no duplicate genre there are duplicate reads to provding the many reads with a genre name that coresponds would be the best option."
      ],
      "metadata": {
        "id": "DSjyB_cOXajo"
      }
    },
    {
      "cell_type": "markdown",
      "source": [
        "## 4. Show the result of performing a merge across genres (left) and favorites (right) for each of the following merges:\n",
        "(a) Left\n",
        "\n",
        "(b) Right\n",
        "\n",
        "(c) Inner\n",
        "\n",
        "(d) Outer"
      ],
      "metadata": {
        "id": "ZCcLHZddVuBl"
      }
    },
    {
      "cell_type": "code",
      "source": [
        "pd.merge(genres_df, favorites_df, how='left', on='genre')"
      ],
      "metadata": {
        "id": "zukHbOjbVeJn",
        "outputId": "0f542b8d-a0e7-4aaf-c54f-feeb65e769b2",
        "colab": {
          "base_uri": "https://localhost:8080/",
          "height": 206
        }
      },
      "execution_count": 205,
      "outputs": [
        {
          "output_type": "display_data",
          "data": {
            "text/html": [
              "<div>\n",
              "<style scoped>\n",
              "    .dataframe tbody tr th:only-of-type {\n",
              "        vertical-align: middle;\n",
              "    }\n",
              "\n",
              "    .dataframe tbody tr th {\n",
              "        vertical-align: top;\n",
              "    }\n",
              "\n",
              "    .dataframe thead th {\n",
              "        text-align: right;\n",
              "    }\n",
              "</style>\n",
              "<table border=\"1\" class=\"dataframe\">\n",
              "  <thead>\n",
              "    <tr style=\"text-align: right;\">\n",
              "      <th></th>\n",
              "      <th>isbn</th>\n",
              "      <th>genre</th>\n",
              "      <th>name</th>\n",
              "    </tr>\n",
              "  </thead>\n",
              "  <tbody>\n",
              "    <tr>\n",
              "      <th>0</th>\n",
              "      <td>119935</td>\n",
              "      <td>romance</td>\n",
              "      <td>None</td>\n",
              "    </tr>\n",
              "    <tr>\n",
              "      <th>1</th>\n",
              "      <td>559332</td>\n",
              "      <td>dystopian</td>\n",
              "      <td>Matt</td>\n",
              "    </tr>\n",
              "    <tr>\n",
              "      <th>2</th>\n",
              "      <td>660352</td>\n",
              "      <td>fantasy</td>\n",
              "      <td>Alice</td>\n",
              "    </tr>\n",
              "    <tr>\n",
              "      <th>3</th>\n",
              "      <td>660352</td>\n",
              "      <td>fantasy</td>\n",
              "      <td>Bob</td>\n",
              "    </tr>\n",
              "    <tr>\n",
              "      <th>4</th>\n",
              "      <td>2118532</td>\n",
              "      <td>dystopian</td>\n",
              "      <td>Matt</td>\n",
              "    </tr>\n",
              "  </tbody>\n",
              "</table>\n",
              "</div>"
            ]
          },
          "metadata": {}
        }
      ]
    },
    {
      "cell_type": "markdown",
      "source": [
        "Left merging provides everything on the left with a match so in this cases all the genres in genre_df are given the matches they have in favorites_Df and in this case they are all either fullfilled or not."
      ],
      "metadata": {
        "id": "vn6L1D9IYhhw"
      }
    },
    {
      "cell_type": "code",
      "source": [
        "pd.merge(genres_df, favorites_df, how='right', on='genre')"
      ],
      "metadata": {
        "id": "Zn_b11A3YYrG",
        "outputId": "0771c34d-8180-4534-a922-861dd2aae3d3",
        "colab": {
          "base_uri": "https://localhost:8080/",
          "height": 269
        }
      },
      "execution_count": 206,
      "outputs": [
        {
          "output_type": "display_data",
          "data": {
            "text/html": [
              "<div>\n",
              "<style scoped>\n",
              "    .dataframe tbody tr th:only-of-type {\n",
              "        vertical-align: middle;\n",
              "    }\n",
              "\n",
              "    .dataframe tbody tr th {\n",
              "        vertical-align: top;\n",
              "    }\n",
              "\n",
              "    .dataframe thead th {\n",
              "        text-align: right;\n",
              "    }\n",
              "</style>\n",
              "<table border=\"1\" class=\"dataframe\">\n",
              "  <thead>\n",
              "    <tr style=\"text-align: right;\">\n",
              "      <th></th>\n",
              "      <th>isbn</th>\n",
              "      <th>genre</th>\n",
              "      <th>name</th>\n",
              "    </tr>\n",
              "  </thead>\n",
              "  <tbody>\n",
              "    <tr>\n",
              "      <th>0</th>\n",
              "      <td>559332.0</td>\n",
              "      <td>dystopian</td>\n",
              "      <td>Matt</td>\n",
              "    </tr>\n",
              "    <tr>\n",
              "      <th>1</th>\n",
              "      <td>660352.0</td>\n",
              "      <td>fantasy</td>\n",
              "      <td>Bob</td>\n",
              "    </tr>\n",
              "    <tr>\n",
              "      <th>2</th>\n",
              "      <td>660352.0</td>\n",
              "      <td>fantasy</td>\n",
              "      <td>Alice</td>\n",
              "    </tr>\n",
              "    <tr>\n",
              "      <th>3</th>\n",
              "      <td>2118532.0</td>\n",
              "      <td>dystopian</td>\n",
              "      <td>Matt</td>\n",
              "    </tr>\n",
              "    <tr>\n",
              "      <th>4</th>\n",
              "      <td>NaN</td>\n",
              "      <td>sci-fi</td>\n",
              "      <td>Matt</td>\n",
              "    </tr>\n",
              "    <tr>\n",
              "      <th>5</th>\n",
              "      <td>NaN</td>\n",
              "      <td>history</td>\n",
              "      <td>Bob</td>\n",
              "    </tr>\n",
              "    <tr>\n",
              "      <th>6</th>\n",
              "      <td>NaN</td>\n",
              "      <td>nonfiction</td>\n",
              "      <td>Bob</td>\n",
              "    </tr>\n",
              "  </tbody>\n",
              "</table>\n",
              "</div>"
            ]
          },
          "metadata": {}
        }
      ]
    },
    {
      "cell_type": "markdown",
      "source": [
        "Right merging provided everything on the right with the match they have in genres or simply has none, so its similat to the left result but instead of name having none isbn has nan because we weren't provided with all the isbns possible or names for the last question."
      ],
      "metadata": {
        "id": "HBBAABYiY_-I"
      }
    },
    {
      "cell_type": "code",
      "source": [
        "pd.merge(genres_df, favorites_df, how='inner', on='genre')"
      ],
      "metadata": {
        "id": "UZF1ylZDYaqs",
        "outputId": "89f59d1b-ee8e-4b1b-cbbc-f7c89af455e6",
        "colab": {
          "base_uri": "https://localhost:8080/",
          "height": 175
        }
      },
      "execution_count": 207,
      "outputs": [
        {
          "output_type": "display_data",
          "data": {
            "text/html": [
              "<div>\n",
              "<style scoped>\n",
              "    .dataframe tbody tr th:only-of-type {\n",
              "        vertical-align: middle;\n",
              "    }\n",
              "\n",
              "    .dataframe tbody tr th {\n",
              "        vertical-align: top;\n",
              "    }\n",
              "\n",
              "    .dataframe thead th {\n",
              "        text-align: right;\n",
              "    }\n",
              "</style>\n",
              "<table border=\"1\" class=\"dataframe\">\n",
              "  <thead>\n",
              "    <tr style=\"text-align: right;\">\n",
              "      <th></th>\n",
              "      <th>isbn</th>\n",
              "      <th>genre</th>\n",
              "      <th>name</th>\n",
              "    </tr>\n",
              "  </thead>\n",
              "  <tbody>\n",
              "    <tr>\n",
              "      <th>0</th>\n",
              "      <td>660352</td>\n",
              "      <td>fantasy</td>\n",
              "      <td>Alice</td>\n",
              "    </tr>\n",
              "    <tr>\n",
              "      <th>1</th>\n",
              "      <td>559332</td>\n",
              "      <td>dystopian</td>\n",
              "      <td>Matt</td>\n",
              "    </tr>\n",
              "    <tr>\n",
              "      <th>2</th>\n",
              "      <td>2118532</td>\n",
              "      <td>dystopian</td>\n",
              "      <td>Matt</td>\n",
              "    </tr>\n",
              "    <tr>\n",
              "      <th>3</th>\n",
              "      <td>660352</td>\n",
              "      <td>fantasy</td>\n",
              "      <td>Bob</td>\n",
              "    </tr>\n",
              "  </tbody>\n",
              "</table>\n",
              "</div>"
            ]
          },
          "metadata": {}
        }
      ]
    },
    {
      "cell_type": "markdown",
      "source": [
        "Inner merging provides everything with a match so we got no none nan values, this is useful for making sure we see the actual matching rows and nothing else."
      ],
      "metadata": {
        "id": "oD2FY2gMZQRk"
      }
    },
    {
      "cell_type": "code",
      "source": [
        "pd.merge(genres_df, favorites_df, how='outer', on='genre')"
      ],
      "metadata": {
        "id": "9a86ypTrYbfl",
        "outputId": "fb22eff1-b93e-4106-d2e9-58f6d73c6d8c",
        "colab": {
          "base_uri": "https://localhost:8080/",
          "height": 300
        }
      },
      "execution_count": 208,
      "outputs": [
        {
          "output_type": "display_data",
          "data": {
            "text/html": [
              "<div>\n",
              "<style scoped>\n",
              "    .dataframe tbody tr th:only-of-type {\n",
              "        vertical-align: middle;\n",
              "    }\n",
              "\n",
              "    .dataframe tbody tr th {\n",
              "        vertical-align: top;\n",
              "    }\n",
              "\n",
              "    .dataframe thead th {\n",
              "        text-align: right;\n",
              "    }\n",
              "</style>\n",
              "<table border=\"1\" class=\"dataframe\">\n",
              "  <thead>\n",
              "    <tr style=\"text-align: right;\">\n",
              "      <th></th>\n",
              "      <th>isbn</th>\n",
              "      <th>genre</th>\n",
              "      <th>name</th>\n",
              "    </tr>\n",
              "  </thead>\n",
              "  <tbody>\n",
              "    <tr>\n",
              "      <th>0</th>\n",
              "      <td>NaN</td>\n",
              "      <td>sci-fi</td>\n",
              "      <td>Matt</td>\n",
              "    </tr>\n",
              "    <tr>\n",
              "      <th>1</th>\n",
              "      <td>NaN</td>\n",
              "      <td>history</td>\n",
              "      <td>Bob</td>\n",
              "    </tr>\n",
              "    <tr>\n",
              "      <th>2</th>\n",
              "      <td>NaN</td>\n",
              "      <td>nonfiction</td>\n",
              "      <td>Bob</td>\n",
              "    </tr>\n",
              "    <tr>\n",
              "      <th>3</th>\n",
              "      <td>559332.0</td>\n",
              "      <td>dystopian</td>\n",
              "      <td>Matt</td>\n",
              "    </tr>\n",
              "    <tr>\n",
              "      <th>4</th>\n",
              "      <td>660352.0</td>\n",
              "      <td>fantasy</td>\n",
              "      <td>Bob</td>\n",
              "    </tr>\n",
              "    <tr>\n",
              "      <th>5</th>\n",
              "      <td>660352.0</td>\n",
              "      <td>fantasy</td>\n",
              "      <td>Alice</td>\n",
              "    </tr>\n",
              "    <tr>\n",
              "      <th>6</th>\n",
              "      <td>2118532.0</td>\n",
              "      <td>dystopian</td>\n",
              "      <td>Matt</td>\n",
              "    </tr>\n",
              "    <tr>\n",
              "      <th>7</th>\n",
              "      <td>119935.0</td>\n",
              "      <td>romance</td>\n",
              "      <td>None</td>\n",
              "    </tr>\n",
              "  </tbody>\n",
              "</table>\n",
              "</div>"
            ]
          },
          "metadata": {}
        }
      ]
    },
    {
      "cell_type": "markdown",
      "source": [
        "Outer merge just shows you everything which can be useful to gain a view on the entier merged data."
      ],
      "metadata": {
        "id": "hUQO4_mvZd-J"
      }
    }
  ],
  "metadata": {
    "language_info": {
      "name": "python"
    },
    "colab": {
      "provenance": [],
      "toc_visible": true
    },
    "kernelspec": {
      "name": "python3",
      "display_name": "Python 3"
    }
  },
  "nbformat": 4,
  "nbformat_minor": 0
}