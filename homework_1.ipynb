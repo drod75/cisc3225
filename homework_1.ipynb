{
  "nbformat": 4,
  "nbformat_minor": 0,
  "metadata": {
    "colab": {
      "provenance": [],
      "toc_visible": true,
      "include_colab_link": true
    },
    "kernelspec": {
      "name": "python3",
      "display_name": "Python 3"
    },
    "language_info": {
      "name": "python"
    }
  },
  "cells": [
    {
      "cell_type": "markdown",
      "metadata": {
        "id": "view-in-github",
        "colab_type": "text"
      },
      "source": [
        "<a href=\"https://colab.research.google.com/github/drod75/cisc3225/blob/main/homework_1.ipynb\" target=\"_parent\"><img src=\"https://colab.research.google.com/assets/colab-badge.svg\" alt=\"Open In Colab\"/></a>"
      ]
    },
    {
      "cell_type": "markdown",
      "source": [
        "# Homework 1 (Numpy)"
      ],
      "metadata": {
        "id": "xQRd7lpUtS-n"
      }
    },
    {
      "cell_type": "markdown",
      "source": [
        "## Vector Matrix Addition"
      ],
      "metadata": {
        "id": "dkNeDHtAn8LS"
      }
    },
    {
      "cell_type": "code",
      "execution_count": 1,
      "metadata": {
        "id": "l2rpjL37eCRv"
      },
      "outputs": [],
      "source": [
        "### 2D Matrix addition function\n",
        "\n",
        "def matrix_add_2d(a, b):\n",
        "  rows, cols = len(a), len(a[0])\n",
        "  new_matrix = []\n",
        "  for i in range(rows):\n",
        "    new_matrix.append([])\n",
        "    for j in range(cols):\n",
        "      new_matrix[i].append(a[i][j] + b[i][j])\n",
        "  return new_matrix"
      ]
    },
    {
      "cell_type": "code",
      "source": [
        "%%timeit\n",
        "\n",
        "a = [[ 4 , 2 , 6 ] ,[ 1 , 9 , 0 ]]\n",
        "\n",
        "b = [[ 1 , 0 , 0 ] ,[ 4 , 0 , 3 ]]\n",
        "\n",
        "matrix_add_2d(a, b)"
      ],
      "metadata": {
        "colab": {
          "base_uri": "https://localhost:8080/"
        },
        "id": "MJkAkOVhexuu",
        "outputId": "8364dbff-e22b-4fdf-e708-23e68376c0f6"
      },
      "execution_count": 3,
      "outputs": [
        {
          "output_type": "stream",
          "name": "stdout",
          "text": [
            "9.39 µs ± 3.97 µs per loop (mean ± std. dev. of 7 runs, 100000 loops each)\n"
          ]
        }
      ]
    },
    {
      "cell_type": "code",
      "source": [
        "%%timeit\n",
        "\n",
        "## testing with larger a/b's\n",
        "\n",
        "a= [[1,2,3,4,5,6,7,8,9],[1,2,3,4,5,6,7,8,9]]\n",
        "\n",
        "b = [[9,8,7,6,5,4,3,2,1],[9,8,7,6,5,4,3,2,1]]\n",
        "\n",
        "matrix_add_2d(a,b)"
      ],
      "metadata": {
        "colab": {
          "base_uri": "https://localhost:8080/"
        },
        "id": "lYGPnPlYgLXf",
        "outputId": "da63d7ca-d1b7-4f87-c1ea-2c0149c0d993"
      },
      "execution_count": null,
      "outputs": [
        {
          "output_type": "stream",
          "name": "stdout",
          "text": [
            "3.93 µs ± 421 ns per loop (mean ± std. dev. of 7 runs, 100000 loops each)\n"
          ]
        }
      ]
    },
    {
      "cell_type": "code",
      "source": [
        "import numpy as np\n",
        "\n",
        "vector_a = np.array(a)\n",
        "vector_b = np.array(b)"
      ],
      "metadata": {
        "id": "quy5BpeOhT_1"
      },
      "execution_count": null,
      "outputs": []
    },
    {
      "cell_type": "code",
      "source": [
        "%%timeit\n",
        "\n",
        "np.add(vector_a, vector_b)"
      ],
      "metadata": {
        "colab": {
          "base_uri": "https://localhost:8080/"
        },
        "collapsed": true,
        "id": "35K_EfJufD6W",
        "outputId": "44217cf0-a276-4080-9143-f3999b2a5b61"
      },
      "execution_count": null,
      "outputs": [
        {
          "output_type": "stream",
          "name": "stdout",
          "text": [
            "989 ns ± 271 ns per loop (mean ± std. dev. of 7 runs, 1000000 loops each)\n"
          ]
        }
      ]
    },
    {
      "cell_type": "markdown",
      "source": [
        "### First time numpy was slower, but now it seems its faster, not sure what changed but numpy seems to be more effecient anyway"
      ],
      "metadata": {
        "id": "8uK_xb7Xsh_m"
      }
    },
    {
      "cell_type": "markdown",
      "source": [
        "## Broadcasting"
      ],
      "metadata": {
        "id": "F_6aGzuGoA-E"
      }
    },
    {
      "cell_type": "code",
      "source": [
        "### Question 1\n",
        "\n",
        "a = np.array([\n",
        "    [1, 1, 2],\n",
        "    [3, 2, 1],\n",
        "    [1, 9, 1]\n",
        "])\n",
        "\n",
        "b = np.array([\n",
        "    [1],\n",
        "    [2],\n",
        "    [3]\n",
        "])\n",
        "\n",
        "a, b"
      ],
      "metadata": {
        "id": "VBradI3HfWmv",
        "colab": {
          "base_uri": "https://localhost:8080/"
        },
        "outputId": "ed1ea714-fc83-4174-8c5c-ec37477dd09c"
      },
      "execution_count": null,
      "outputs": [
        {
          "output_type": "execute_result",
          "data": {
            "text/plain": [
              "(array([[1, 1, 2],\n",
              "        [3, 2, 1],\n",
              "        [1, 9, 1]]),\n",
              " array([[1],\n",
              "        [2],\n",
              "        [3]]))"
            ]
          },
          "metadata": {},
          "execution_count": 7
        }
      ]
    },
    {
      "cell_type": "code",
      "source": [
        "np.add(a, b)"
      ],
      "metadata": {
        "colab": {
          "base_uri": "https://localhost:8080/"
        },
        "id": "SEu5aKnCp0FC",
        "outputId": "a95dd658-1f57-49b6-d6b8-13f7196ed49e"
      },
      "execution_count": null,
      "outputs": [
        {
          "output_type": "execute_result",
          "data": {
            "text/plain": [
              "array([[ 2,  2,  3],\n",
              "       [ 5,  4,  3],\n",
              "       [ 4, 12,  4]])"
            ]
          },
          "metadata": {},
          "execution_count": 8
        }
      ]
    },
    {
      "cell_type": "code",
      "source": [
        "### Question 2\n",
        "\n",
        "a = np.array([\n",
        "[\n",
        "[ 1 , 2 ] ,\n",
        "[ 3 , 1 ]\n",
        "] ,\n",
        "[\n",
        "[ 8 , 7 ] ,\n",
        "[ 9 , 1 ]\n",
        "]\n",
        "] )\n",
        "b = np.array( [ 10 , 11 ] )\n",
        "\n",
        "a.shape,b.shape"
      ],
      "metadata": {
        "colab": {
          "base_uri": "https://localhost:8080/"
        },
        "id": "hchNQFHYp1Zq",
        "outputId": "35015f4f-89d1-4ce0-89c2-a58b8e012421"
      },
      "execution_count": null,
      "outputs": [
        {
          "output_type": "execute_result",
          "data": {
            "text/plain": [
              "((2, 2, 2), (2,))"
            ]
          },
          "metadata": {},
          "execution_count": 9
        }
      ]
    },
    {
      "cell_type": "code",
      "source": [
        "np.add(a,b)"
      ],
      "metadata": {
        "colab": {
          "base_uri": "https://localhost:8080/"
        },
        "id": "G0T4exwZp4Pz",
        "outputId": "d383eba6-5908-4514-ec15-0795879382cd"
      },
      "execution_count": null,
      "outputs": [
        {
          "output_type": "execute_result",
          "data": {
            "text/plain": [
              "array([[[11, 13],\n",
              "        [13, 12]],\n",
              "\n",
              "       [[18, 18],\n",
              "        [19, 12]]])"
            ]
          },
          "metadata": {},
          "execution_count": 10
        }
      ]
    },
    {
      "cell_type": "code",
      "source": [
        "### Question 3\n",
        "\n",
        "a=np.array([1,2,3])\n",
        "b=np.array([\n",
        "    [10],\n",
        "    [11],\n",
        "    [12]\n",
        "])\n",
        "\n",
        "a.shape,b.shape"
      ],
      "metadata": {
        "colab": {
          "base_uri": "https://localhost:8080/"
        },
        "id": "ktqeDxKup5Wo",
        "outputId": "b8a4f06c-b144-4401-f57e-cb4e514a33ad"
      },
      "execution_count": null,
      "outputs": [
        {
          "output_type": "execute_result",
          "data": {
            "text/plain": [
              "((3,), (3, 1))"
            ]
          },
          "metadata": {},
          "execution_count": 11
        }
      ]
    },
    {
      "cell_type": "code",
      "source": [
        "np.add(a ,b)"
      ],
      "metadata": {
        "colab": {
          "base_uri": "https://localhost:8080/"
        },
        "id": "HpJKFigup9s7",
        "outputId": "eb96a6c6-1bce-4018-f944-edc60e571cfe"
      },
      "execution_count": null,
      "outputs": [
        {
          "output_type": "execute_result",
          "data": {
            "text/plain": [
              "array([[11, 12, 13],\n",
              "       [12, 13, 14],\n",
              "       [13, 14, 15]])"
            ]
          },
          "metadata": {},
          "execution_count": 12
        }
      ]
    },
    {
      "cell_type": "code",
      "source": [
        "### Question 4\n",
        "\n",
        "a = np.array([\n",
        "[\n",
        "[ 1 , 2 ] ,\n",
        "[ 3 , 1 ]\n",
        "] ,\n",
        "[\n",
        "[ 8 , 7 ] ,\n",
        "[ 9 , 1 ]\n",
        "]\n",
        "] )\n",
        "b = np.array( [ 10 , 11,12,13 ] )\n",
        "\n",
        "a.shape,b.shape"
      ],
      "metadata": {
        "colab": {
          "base_uri": "https://localhost:8080/"
        },
        "id": "zK-VgrqTp-FT",
        "outputId": "ca6dd9b8-84f2-4cb1-d88a-2eca34a11b17"
      },
      "execution_count": null,
      "outputs": [
        {
          "output_type": "execute_result",
          "data": {
            "text/plain": [
              "((2, 2, 2), (4,))"
            ]
          },
          "metadata": {},
          "execution_count": 13
        }
      ]
    },
    {
      "cell_type": "code",
      "source": [
        "np.add(a,b)"
      ],
      "metadata": {
        "colab": {
          "base_uri": "https://localhost:8080/",
          "height": 141
        },
        "id": "HpCFC3-Bp_mR",
        "outputId": "6838b46e-1fae-4c1b-d875-d501fbf7c7c5"
      },
      "execution_count": null,
      "outputs": [
        {
          "output_type": "error",
          "ename": "ValueError",
          "evalue": "operands could not be broadcast together with shapes (2,2,2) (4,) ",
          "traceback": [
            "\u001b[0;31m---------------------------------------------------------------------------\u001b[0m",
            "\u001b[0;31mValueError\u001b[0m                                Traceback (most recent call last)",
            "\u001b[0;32m<ipython-input-14-d5ce9f282037>\u001b[0m in \u001b[0;36m<cell line: 0>\u001b[0;34m()\u001b[0m\n\u001b[0;32m----> 1\u001b[0;31m \u001b[0mnp\u001b[0m\u001b[0;34m.\u001b[0m\u001b[0madd\u001b[0m\u001b[0;34m(\u001b[0m\u001b[0ma\u001b[0m\u001b[0;34m,\u001b[0m\u001b[0mb\u001b[0m\u001b[0;34m)\u001b[0m\u001b[0;34m\u001b[0m\u001b[0;34m\u001b[0m\u001b[0m\n\u001b[0m",
            "\u001b[0;31mValueError\u001b[0m: operands could not be broadcast together with shapes (2,2,2) (4,) "
          ]
        }
      ]
    },
    {
      "cell_type": "code",
      "source": [
        "### Question 5\n",
        "\n",
        "a = np.array([\n",
        "    [\n",
        "        [\n",
        "            [ 1 ] ,\n",
        "        ]\n",
        "    ] ,\n",
        "    [\n",
        "        [\n",
        "            [ 2 ]\n",
        "        ]\n",
        "    ]\n",
        "])\n",
        "b = np.array( [ 3 , 4 ] )\n",
        "\n",
        "a.shape,b.shape"
      ],
      "metadata": {
        "colab": {
          "base_uri": "https://localhost:8080/"
        },
        "id": "yQSGiL-TqCpb",
        "outputId": "71b8b1d9-31c5-4c2f-cc39-81cff7ae0829"
      },
      "execution_count": null,
      "outputs": [
        {
          "output_type": "execute_result",
          "data": {
            "text/plain": [
              "((2, 1, 1, 1), (2,))"
            ]
          },
          "metadata": {},
          "execution_count": 15
        }
      ]
    },
    {
      "cell_type": "code",
      "source": [
        "np.add(a,b)"
      ],
      "metadata": {
        "id": "-vXO9bmPqElW",
        "outputId": "ca4aede4-849f-4349-dfa9-c069b4bd46b9",
        "colab": {
          "base_uri": "https://localhost:8080/"
        }
      },
      "execution_count": null,
      "outputs": [
        {
          "output_type": "execute_result",
          "data": {
            "text/plain": [
              "array([[[[4, 5]]],\n",
              "\n",
              "\n",
              "       [[[5, 6]]]])"
            ]
          },
          "metadata": {},
          "execution_count": 16
        }
      ]
    },
    {
      "cell_type": "markdown",
      "source": [
        "### Broadcasting is kinda weird and its making my head hurt trying to see which element goes where for these examples but I get it"
      ],
      "metadata": {
        "id": "n62073PLtIGt"
      }
    },
    {
      "cell_type": "markdown",
      "source": [
        "## Answering Questions with NumPy"
      ],
      "metadata": {
        "id": "knzLVkeXoI1t"
      }
    },
    {
      "cell_type": "code",
      "source": [
        "### Loading in data\n",
        "\n",
        "solardata = np.loadtxt('solar.txt')\n",
        "solardata.shape"
      ],
      "metadata": {
        "id": "0aAeNieCqGwW",
        "colab": {
          "base_uri": "https://localhost:8080/"
        },
        "outputId": "e134a690-557a-4df0-a215-5704ed2ca537"
      },
      "execution_count": null,
      "outputs": [
        {
          "output_type": "execute_result",
          "data": {
            "text/plain": [
              "(365, 3)"
            ]
          },
          "metadata": {},
          "execution_count": 18
        }
      ]
    },
    {
      "cell_type": "code",
      "source": [
        "testing = np.array([[1,2,3],\n",
        "                    [4,5,6],\n",
        "                    [7,8,9]])\n",
        "testing.shape"
      ],
      "metadata": {
        "colab": {
          "base_uri": "https://localhost:8080/"
        },
        "id": "zvQcz2xorAcM",
        "outputId": "6e245a47-2d12-438d-9f1f-62109d8d1ba4"
      },
      "execution_count": null,
      "outputs": [
        {
          "output_type": "execute_result",
          "data": {
            "text/plain": [
              "(3, 3)"
            ]
          },
          "metadata": {},
          "execution_count": 19
        }
      ]
    },
    {
      "cell_type": "code",
      "source": [
        "np.mean(testing, axis=0)"
      ],
      "metadata": {
        "colab": {
          "base_uri": "https://localhost:8080/"
        },
        "id": "03biakyNt294",
        "outputId": "22807a6c-acbc-4576-c8c6-d3949cfa6a43"
      },
      "execution_count": null,
      "outputs": [
        {
          "output_type": "execute_result",
          "data": {
            "text/plain": [
              "array([4., 5., 6.])"
            ]
          },
          "metadata": {},
          "execution_count": 20
        }
      ]
    },
    {
      "cell_type": "code",
      "source": [
        "np.mean(testing, axis=1)"
      ],
      "metadata": {
        "colab": {
          "base_uri": "https://localhost:8080/"
        },
        "id": "gtTH7M7ct6x5",
        "outputId": "50426ef3-ea8d-40eb-b2d4-fdc234123242"
      },
      "execution_count": null,
      "outputs": [
        {
          "output_type": "execute_result",
          "data": {
            "text/plain": [
              "array([2., 5., 8.])"
            ]
          },
          "metadata": {},
          "execution_count": 21
        }
      ]
    },
    {
      "cell_type": "markdown",
      "source": [
        "### Axis=0 aggregates based on the column, Axis=1 is based on the row"
      ],
      "metadata": {
        "id": "2X3az9l0rJKn"
      }
    },
    {
      "cell_type": "code",
      "source": [
        "### Sum of all wattage events\n",
        "\n",
        "np.sum(solardata)"
      ],
      "metadata": {
        "colab": {
          "base_uri": "https://localhost:8080/"
        },
        "id": "RvcEP-9Gt-JQ",
        "outputId": "81d0fc44-1bb1-41c8-fdcb-fa1e721f74c3"
      },
      "execution_count": null,
      "outputs": [
        {
          "output_type": "execute_result",
          "data": {
            "text/plain": [
              "218010.26201750195"
            ]
          },
          "metadata": {},
          "execution_count": 22
        }
      ]
    },
    {
      "cell_type": "code",
      "source": [
        "### Max and min of wattage per morning, afternoon, and evening\n",
        "\n",
        "print(np.max(solardata, axis=0))\n",
        "print(np.min(solardata, axis=0))"
      ],
      "metadata": {
        "colab": {
          "base_uri": "https://localhost:8080/"
        },
        "id": "z6xXSnS2umHd",
        "outputId": "12495161-4af6-44bd-9c8e-a96b1b0f4210"
      },
      "execution_count": null,
      "outputs": [
        {
          "output_type": "stream",
          "name": "stdout",
          "text": [
            "[446.40434207 450.23976606 247.01509894]\n",
            "[166.23303073   0.           0.        ]\n"
          ]
        }
      ]
    },
    {
      "cell_type": "markdown",
      "source": [
        "### Answer should be correct since theres only three elements per vector, meaning only the max/min per column was considered, elese there would be 356 elements per vector"
      ],
      "metadata": {
        "id": "YCbpDGPKrWnY"
      }
    },
    {
      "cell_type": "code",
      "source": [
        "### Testing for January\n",
        "\n",
        "solardata[:31]"
      ],
      "metadata": {
        "colab": {
          "base_uri": "https://localhost:8080/"
        },
        "id": "R2DobCYbr5ZV",
        "outputId": "01e2d11b-34f7-4d27-f795-dbeb6ecc7bed"
      },
      "execution_count": null,
      "outputs": [
        {
          "output_type": "execute_result",
          "data": {
            "text/plain": [
              "array([[277.97178749, 290.87848694,  16.27913217],\n",
              "       [276.79002882,   0.        ,  92.19335012],\n",
              "       [196.02083865, 126.81410304, 127.24963504],\n",
              "       [298.0649882 , 164.5728768 ,  91.70748532],\n",
              "       [257.07155815, 215.55290601, 110.39199191],\n",
              "       [323.3315445 , 274.99102062, 164.72685376],\n",
              "       [354.72384951, 149.2298412 , 109.88570971],\n",
              "       [305.53166165, 134.7595065 ,  54.78380076],\n",
              "       [247.08196228, 394.87484257, 143.70416869],\n",
              "       [250.0727405 , 103.39336636,  91.29678034],\n",
              "       [360.41314527, 351.14251327, 149.3079375 ],\n",
              "       [320.67253413, 193.92241443, 181.76496417],\n",
              "       [297.39000994, 355.23036427,  45.84034965],\n",
              "       [281.8230464 , 187.14855859, 145.85264378],\n",
              "       [296.57061378,   0.        ,  22.97553758],\n",
              "       [280.60487936, 261.12396767,  41.7863011 ],\n",
              "       [281.21314398, 339.26397477, 162.04189884],\n",
              "       [291.57324724, 181.9679668 ,  46.21146056],\n",
              "       [254.92957753, 251.81593663,  78.90395902],\n",
              "       [266.46231132, 240.30437055, 112.68183855],\n",
              "       [345.83453839, 177.19214391, 110.30525568],\n",
              "       [281.95477835, 129.3254856 ,  96.62431599],\n",
              "       [226.33411278, 261.60300139,  76.50649124],\n",
              "       [287.58506279, 289.07287973,  92.09674176],\n",
              "       [349.02474298, 211.79353556, 188.95956863],\n",
              "       [314.70930858, 250.45656514,  73.89746465],\n",
              "       [345.89214387, 274.36398197,  26.24018571],\n",
              "       [298.16135496, 126.09641033,  89.93219395],\n",
              "       [402.49143062, 336.60365442, 102.57406237],\n",
              "       [244.26786802, 232.61755236,  65.84051339],\n",
              "       [331.79256436, 187.86620906,  84.42366137]])"
            ]
          },
          "metadata": {},
          "execution_count": 29
        }
      ]
    },
    {
      "cell_type": "code",
      "source": [
        "### Average wattage for January\n",
        "\n",
        "january_afternoons = solardata[:31, 1:2]\n",
        "np.average(january_afternoons)"
      ],
      "metadata": {
        "colab": {
          "base_uri": "https://localhost:8080/"
        },
        "id": "VpgD2qIXvG0h",
        "outputId": "2da7b380-2998-406d-fcfa-7d752a9595a4"
      },
      "execution_count": null,
      "outputs": [
        {
          "output_type": "execute_result",
          "data": {
            "text/plain": [
              "215.93478827333328"
            ]
          },
          "metadata": {},
          "execution_count": 28
        }
      ]
    },
    {
      "cell_type": "markdown",
      "source": [
        "### First slice is to only get the first 31 days, the next is to get only the afternoon (Did it wrong the first time lol)"
      ],
      "metadata": {
        "id": "kJnNfuYXrtI1"
      }
    },
    {
      "cell_type": "code",
      "source": [
        "solardata < 50"
      ],
      "metadata": {
        "colab": {
          "base_uri": "https://localhost:8080/"
        },
        "id": "jIcjTBA3vXqg",
        "outputId": "aead5ed0-4c88-418b-fcc4-ad5746fd8429"
      },
      "execution_count": null,
      "outputs": [
        {
          "output_type": "execute_result",
          "data": {
            "text/plain": [
              "array([[False, False,  True],\n",
              "       [False,  True, False],\n",
              "       [False, False, False],\n",
              "       ...,\n",
              "       [False, False, False],\n",
              "       [False, False, False],\n",
              "       [False, False, False]])"
            ]
          },
          "metadata": {},
          "execution_count": 25
        }
      ]
    },
    {
      "cell_type": "code",
      "source": [
        "### Days where wattage is less than 500\n",
        "\n",
        "solar_500 = solardata[solardata.sum(axis=1) < 500]\n",
        "solar_500.shape"
      ],
      "metadata": {
        "colab": {
          "base_uri": "https://localhost:8080/"
        },
        "id": "S4tg6Gh2wgHN",
        "outputId": "f692c887-d3a3-45be-eb16-e96d9c891b01"
      },
      "execution_count": null,
      "outputs": [
        {
          "output_type": "execute_result",
          "data": {
            "text/plain": [
              "(89, 3)"
            ]
          },
          "metadata": {},
          "execution_count": 26
        }
      ]
    },
    {
      "cell_type": "markdown",
      "source": [
        "### To explain, inside the brackets the rows in solar data are selected based on if there sum is less than 500, this way we get less rows and then we can use shape"
      ],
      "metadata": {
        "id": "QzqA9RFvsTGA"
      }
    },
    {
      "cell_type": "code",
      "source": [
        "## Average for day, evening, and night\n",
        "\n",
        "np.average(solardata, axis=0)"
      ],
      "metadata": {
        "colab": {
          "base_uri": "https://localhost:8080/"
        },
        "id": "RgwsZJ4Vvy9V",
        "outputId": "22e0496c-d0af-4cf1-81fe-b52b057a5cf0"
      },
      "execution_count": null,
      "outputs": [
        {
          "output_type": "execute_result",
          "data": {
            "text/plain": [
              "array([300.38834891, 198.39523217,  98.50480801])"
            ]
          },
          "metadata": {},
          "execution_count": 27
        }
      ]
    },
    {
      "cell_type": "code",
      "source": [],
      "metadata": {
        "id": "zqUWktofwLOJ"
      },
      "execution_count": null,
      "outputs": []
    }
  ]
}