{
  "nbformat": 4,
  "nbformat_minor": 0,
  "metadata": {
    "colab": {
      "provenance": [],
      "include_colab_link": true
    },
    "kernelspec": {
      "name": "python3",
      "display_name": "Python 3"
    },
    "language_info": {
      "name": "python"
    }
  },
  "cells": [
    {
      "cell_type": "markdown",
      "metadata": {
        "id": "view-in-github",
        "colab_type": "text"
      },
      "source": [
        "<a href=\"https://colab.research.google.com/github/drod75/cisc3225/blob/main/homework_1.ipynb\" target=\"_parent\"><img src=\"https://colab.research.google.com/assets/colab-badge.svg\" alt=\"Open In Colab\"/></a>"
      ]
    },
    {
      "cell_type": "markdown",
      "source": [
        "# Homework 1 (Numpy)"
      ],
      "metadata": {
        "id": "xQRd7lpUtS-n"
      }
    },
    {
      "cell_type": "markdown",
      "source": [
        "## Vector Matrix Addition"
      ],
      "metadata": {
        "id": "dkNeDHtAn8LS"
      }
    },
    {
      "cell_type": "code",
      "execution_count": 1,
      "metadata": {
        "id": "l2rpjL37eCRv"
      },
      "outputs": [],
      "source": [
        "### 2D Matrix addition function\n",
        "\n",
        "def matrix_add_2d(a, b):\n",
        "  rows, cols = len(a), len(a[0])\n",
        "  new_matrix = []\n",
        "  for i in range(rows):\n",
        "    new_matrix.append([])\n",
        "    for j in range(cols):\n",
        "      new_matrix[i].append(a[i][j] + b[i][j])\n",
        "  return new_matrix"
      ]
    },
    {
      "cell_type": "code",
      "source": [
        "a = [[ 4 , 2 , 6 ] ,[ 1 , 9 , 0 ]]\n",
        "\n",
        "b = [[ 1 , 0 , 0 ] ,[ 4 , 0 , 3 ]]\n",
        "\n",
        "%timeit -n 10 matrix_add_2d(a, b)"
      ],
      "metadata": {
        "colab": {
          "base_uri": "https://localhost:8080/"
        },
        "id": "MJkAkOVhexuu",
        "outputId": "72e8edcd-8123-46a9-e894-800e51e08544"
      },
      "execution_count": 2,
      "outputs": [
        {
          "output_type": "stream",
          "name": "stdout",
          "text": [
            "2.02 µs ± 403 ns per loop (mean ± std. dev. of 7 runs, 10 loops each)\n"
          ]
        }
      ]
    },
    {
      "cell_type": "code",
      "source": [
        "## testing with larger a/b's\n",
        "\n",
        "a= [[1,2,3,4,5,6,7,8,9],[1,2,3,4,5,6,7,8,9]]\n",
        "\n",
        "b = [[9,8,7,6,5,4,3,2,1],[9,8,7,6,5,4,3,2,1]]\n",
        "\n",
        "%timeit -n 10 matrix_add_2d(a,b)"
      ],
      "metadata": {
        "colab": {
          "base_uri": "https://localhost:8080/"
        },
        "id": "lYGPnPlYgLXf",
        "outputId": "24c8fefe-3df7-4092-bc1c-40846813d57a"
      },
      "execution_count": 3,
      "outputs": [
        {
          "output_type": "stream",
          "name": "stdout",
          "text": [
            "3.93 µs ± 722 ns per loop (mean ± std. dev. of 7 runs, 10 loops each)\n"
          ]
        }
      ]
    },
    {
      "cell_type": "code",
      "source": [
        "import numpy as np\n",
        "\n",
        "vector_a = np.array(a)\n",
        "vector_b = np.array(b)"
      ],
      "metadata": {
        "id": "quy5BpeOhT_1"
      },
      "execution_count": 4,
      "outputs": []
    },
    {
      "cell_type": "code",
      "source": [
        "%timeit -n 10 np.add(vector_a, vector_b)"
      ],
      "metadata": {
        "colab": {
          "base_uri": "https://localhost:8080/"
        },
        "collapsed": true,
        "id": "35K_EfJufD6W",
        "outputId": "755cc0ed-7dde-4f8d-a60c-40e21b3de277"
      },
      "execution_count": 5,
      "outputs": [
        {
          "output_type": "stream",
          "name": "stdout",
          "text": [
            "The slowest run took 543.32 times longer than the fastest. This could mean that an intermediate result is being cached.\n",
            "82.1 µs ± 198 µs per loop (mean ± std. dev. of 7 runs, 10 loops each)\n"
          ]
        }
      ]
    },
    {
      "cell_type": "markdown",
      "source": [
        "### First time numpy was slower, but now it seems its faster, not sure what changed but numpy seems to be more effecient anyway"
      ],
      "metadata": {
        "id": "8uK_xb7Xsh_m"
      }
    },
    {
      "cell_type": "markdown",
      "source": [
        "## Broadcasting"
      ],
      "metadata": {
        "id": "F_6aGzuGoA-E"
      }
    },
    {
      "cell_type": "code",
      "source": [
        "### Question 1\n",
        "\n",
        "a = np.array([\n",
        "    [1, 1, 2],\n",
        "    [3, 2, 1],\n",
        "    [1, 9, 1]\n",
        "])\n",
        "\n",
        "b = np.array([\n",
        "    [1],\n",
        "    [2],\n",
        "    [3]\n",
        "])\n",
        "\n",
        "a, b"
      ],
      "metadata": {
        "id": "VBradI3HfWmv",
        "colab": {
          "base_uri": "https://localhost:8080/"
        },
        "outputId": "3e1edeea-76c2-49fe-bba4-05a28b15ff93"
      },
      "execution_count": 6,
      "outputs": [
        {
          "output_type": "execute_result",
          "data": {
            "text/plain": [
              "(array([[1, 1, 2],\n",
              "        [3, 2, 1],\n",
              "        [1, 9, 1]]),\n",
              " array([[1],\n",
              "        [2],\n",
              "        [3]]))"
            ]
          },
          "metadata": {},
          "execution_count": 6
        }
      ]
    },
    {
      "cell_type": "code",
      "source": [
        "np.add(a, b)"
      ],
      "metadata": {
        "colab": {
          "base_uri": "https://localhost:8080/"
        },
        "id": "SEu5aKnCp0FC",
        "outputId": "ccd9be6b-222b-4385-b146-e790b82bd213"
      },
      "execution_count": 7,
      "outputs": [
        {
          "output_type": "execute_result",
          "data": {
            "text/plain": [
              "array([[ 2,  2,  3],\n",
              "       [ 5,  4,  3],\n",
              "       [ 4, 12,  4]])"
            ]
          },
          "metadata": {},
          "execution_count": 7
        }
      ]
    },
    {
      "cell_type": "code",
      "source": [
        "### Question 2\n",
        "\n",
        "a = np.array([\n",
        "[\n",
        "[ 1 , 2 ] ,\n",
        "[ 3 , 1 ]\n",
        "] ,\n",
        "[\n",
        "[ 8 , 7 ] ,\n",
        "[ 9 , 1 ]\n",
        "]\n",
        "] )\n",
        "b = np.array( [ 10 , 11 ] )\n",
        "\n",
        "a.shape,b.shape"
      ],
      "metadata": {
        "colab": {
          "base_uri": "https://localhost:8080/"
        },
        "id": "hchNQFHYp1Zq",
        "outputId": "39860662-d9ff-46b3-e831-55cfa15cfa2e"
      },
      "execution_count": 8,
      "outputs": [
        {
          "output_type": "execute_result",
          "data": {
            "text/plain": [
              "((2, 2, 2), (2,))"
            ]
          },
          "metadata": {},
          "execution_count": 8
        }
      ]
    },
    {
      "cell_type": "code",
      "source": [
        "np.add(a,b)"
      ],
      "metadata": {
        "colab": {
          "base_uri": "https://localhost:8080/"
        },
        "id": "G0T4exwZp4Pz",
        "outputId": "c5a93da4-08dd-450e-833f-c52ad438985f"
      },
      "execution_count": 9,
      "outputs": [
        {
          "output_type": "execute_result",
          "data": {
            "text/plain": [
              "array([[[11, 13],\n",
              "        [13, 12]],\n",
              "\n",
              "       [[18, 18],\n",
              "        [19, 12]]])"
            ]
          },
          "metadata": {},
          "execution_count": 9
        }
      ]
    },
    {
      "cell_type": "code",
      "source": [
        "### Question 3\n",
        "\n",
        "a=np.array([1,2,3])\n",
        "b=np.array([\n",
        "    [10],\n",
        "    [11],\n",
        "    [12]\n",
        "])\n",
        "\n",
        "a.shape,b.shape"
      ],
      "metadata": {
        "colab": {
          "base_uri": "https://localhost:8080/"
        },
        "id": "ktqeDxKup5Wo",
        "outputId": "0a003496-cc11-40e5-93c4-36dffc7b0d72"
      },
      "execution_count": 10,
      "outputs": [
        {
          "output_type": "execute_result",
          "data": {
            "text/plain": [
              "((3,), (3, 1))"
            ]
          },
          "metadata": {},
          "execution_count": 10
        }
      ]
    },
    {
      "cell_type": "code",
      "source": [
        "np.add(a ,b)"
      ],
      "metadata": {
        "colab": {
          "base_uri": "https://localhost:8080/"
        },
        "id": "HpJKFigup9s7",
        "outputId": "c528d17a-ed16-4ae6-e3b2-5468d76441ac"
      },
      "execution_count": 11,
      "outputs": [
        {
          "output_type": "execute_result",
          "data": {
            "text/plain": [
              "array([[11, 12, 13],\n",
              "       [12, 13, 14],\n",
              "       [13, 14, 15]])"
            ]
          },
          "metadata": {},
          "execution_count": 11
        }
      ]
    },
    {
      "cell_type": "code",
      "source": [
        "### Question 4\n",
        "\n",
        "a = np.array([\n",
        "[\n",
        "[ 1 , 2 ] ,\n",
        "[ 3 , 1 ]\n",
        "] ,\n",
        "[\n",
        "[ 8 , 7 ] ,\n",
        "[ 9 , 1 ]\n",
        "]\n",
        "] )\n",
        "b = np.array( [ 10 , 11,12,13 ] )\n",
        "\n",
        "a.shape,b.shape"
      ],
      "metadata": {
        "colab": {
          "base_uri": "https://localhost:8080/"
        },
        "id": "zK-VgrqTp-FT",
        "outputId": "431494be-cdfd-46d6-b3e8-f322f5c8ef8b"
      },
      "execution_count": 12,
      "outputs": [
        {
          "output_type": "execute_result",
          "data": {
            "text/plain": [
              "((2, 2, 2), (4,))"
            ]
          },
          "metadata": {},
          "execution_count": 12
        }
      ]
    },
    {
      "cell_type": "code",
      "source": [
        "np.add(a,b)"
      ],
      "metadata": {
        "colab": {
          "base_uri": "https://localhost:8080/",
          "height": 141
        },
        "id": "HpCFC3-Bp_mR",
        "outputId": "024220fa-f24f-467b-949e-862e1739b620"
      },
      "execution_count": 13,
      "outputs": [
        {
          "output_type": "error",
          "ename": "ValueError",
          "evalue": "operands could not be broadcast together with shapes (2,2,2) (4,) ",
          "traceback": [
            "\u001b[0;31m---------------------------------------------------------------------------\u001b[0m",
            "\u001b[0;31mValueError\u001b[0m                                Traceback (most recent call last)",
            "\u001b[0;32m<ipython-input-13-d5ce9f282037>\u001b[0m in \u001b[0;36m<cell line: 0>\u001b[0;34m()\u001b[0m\n\u001b[0;32m----> 1\u001b[0;31m \u001b[0mnp\u001b[0m\u001b[0;34m.\u001b[0m\u001b[0madd\u001b[0m\u001b[0;34m(\u001b[0m\u001b[0ma\u001b[0m\u001b[0;34m,\u001b[0m\u001b[0mb\u001b[0m\u001b[0;34m)\u001b[0m\u001b[0;34m\u001b[0m\u001b[0;34m\u001b[0m\u001b[0m\n\u001b[0m",
            "\u001b[0;31mValueError\u001b[0m: operands could not be broadcast together with shapes (2,2,2) (4,) "
          ]
        }
      ]
    },
    {
      "cell_type": "code",
      "source": [
        "### Question 5\n",
        "\n",
        "a = np.array([\n",
        "    [\n",
        "        [\n",
        "            [ 1 ] ,\n",
        "        ]\n",
        "    ] ,\n",
        "    [\n",
        "        [\n",
        "            [ 2 ]\n",
        "        ]\n",
        "    ]\n",
        "])\n",
        "b = np.array( [ 3 , 4 ] )\n",
        "\n",
        "a.shape,b.shape"
      ],
      "metadata": {
        "colab": {
          "base_uri": "https://localhost:8080/"
        },
        "id": "yQSGiL-TqCpb",
        "outputId": "6c38e589-cc85-47b1-bea8-b1b48f324704"
      },
      "execution_count": 14,
      "outputs": [
        {
          "output_type": "execute_result",
          "data": {
            "text/plain": [
              "((2, 1, 1, 1), (2,))"
            ]
          },
          "metadata": {},
          "execution_count": 14
        }
      ]
    },
    {
      "cell_type": "code",
      "source": [
        "np.add(a,b)"
      ],
      "metadata": {
        "id": "-vXO9bmPqElW",
        "outputId": "4ccfe584-2f11-4d56-de85-fdbcd262a3ee",
        "colab": {
          "base_uri": "https://localhost:8080/"
        }
      },
      "execution_count": 15,
      "outputs": [
        {
          "output_type": "execute_result",
          "data": {
            "text/plain": [
              "array([[[[4, 5]]],\n",
              "\n",
              "\n",
              "       [[[5, 6]]]])"
            ]
          },
          "metadata": {},
          "execution_count": 15
        }
      ]
    },
    {
      "cell_type": "markdown",
      "source": [
        "### Broadcasting is kinda weird and its making my head hurt trying to see which element goes where for these examples but I get it"
      ],
      "metadata": {
        "id": "n62073PLtIGt"
      }
    },
    {
      "cell_type": "markdown",
      "source": [
        "## Answering Questions with NumPy"
      ],
      "metadata": {
        "id": "knzLVkeXoI1t"
      }
    },
    {
      "cell_type": "code",
      "source": [
        "### Loading in data\n",
        "\n",
        "solardata = np.loadtxt('solar.txt')\n",
        "solardata.shape"
      ],
      "metadata": {
        "id": "0aAeNieCqGwW",
        "colab": {
          "base_uri": "https://localhost:8080/"
        },
        "outputId": "b41666c5-4784-4b4a-f490-1826cbb11483"
      },
      "execution_count": 22,
      "outputs": [
        {
          "output_type": "execute_result",
          "data": {
            "text/plain": [
              "(365, 3)"
            ]
          },
          "metadata": {},
          "execution_count": 22
        }
      ]
    },
    {
      "cell_type": "code",
      "source": [
        "testing = np.array([[1,2,3],\n",
        "                    [4,5,6],\n",
        "                    [7,8,9]])\n",
        "testing.shape"
      ],
      "metadata": {
        "colab": {
          "base_uri": "https://localhost:8080/"
        },
        "id": "zvQcz2xorAcM",
        "outputId": "dc40c4fe-cad9-426c-b596-44965d996fd2"
      },
      "execution_count": 23,
      "outputs": [
        {
          "output_type": "execute_result",
          "data": {
            "text/plain": [
              "(3, 3)"
            ]
          },
          "metadata": {},
          "execution_count": 23
        }
      ]
    },
    {
      "cell_type": "code",
      "source": [
        "np.mean(testing, axis=0)"
      ],
      "metadata": {
        "colab": {
          "base_uri": "https://localhost:8080/"
        },
        "id": "03biakyNt294",
        "outputId": "2d680f34-eb3b-47dd-cb29-740731a72b30"
      },
      "execution_count": 24,
      "outputs": [
        {
          "output_type": "execute_result",
          "data": {
            "text/plain": [
              "array([4., 5., 6.])"
            ]
          },
          "metadata": {},
          "execution_count": 24
        }
      ]
    },
    {
      "cell_type": "code",
      "source": [
        "np.mean(testing, axis=1)"
      ],
      "metadata": {
        "colab": {
          "base_uri": "https://localhost:8080/"
        },
        "id": "gtTH7M7ct6x5",
        "outputId": "a375f89a-ce26-460f-a03f-d29c9df6be02"
      },
      "execution_count": 25,
      "outputs": [
        {
          "output_type": "execute_result",
          "data": {
            "text/plain": [
              "array([2., 5., 8.])"
            ]
          },
          "metadata": {},
          "execution_count": 25
        }
      ]
    },
    {
      "cell_type": "markdown",
      "source": [
        "### Axis=0 aggregates based on the column, Axis=1 is based on the row"
      ],
      "metadata": {
        "id": "2X3az9l0rJKn"
      }
    },
    {
      "cell_type": "code",
      "source": [
        "### Sum of all wattage events\n",
        "\n",
        "np.sum(solardata)"
      ],
      "metadata": {
        "colab": {
          "base_uri": "https://localhost:8080/"
        },
        "id": "RvcEP-9Gt-JQ",
        "outputId": "527f20af-cb6a-4911-a0b2-5bd24d16c659"
      },
      "execution_count": 26,
      "outputs": [
        {
          "output_type": "execute_result",
          "data": {
            "text/plain": [
              "218010.26201750195"
            ]
          },
          "metadata": {},
          "execution_count": 26
        }
      ]
    },
    {
      "cell_type": "code",
      "source": [
        "### Max and min of wattage per morning, afternoon, and evening\n",
        "\n",
        "print(np.max(solardata, axis=0))\n",
        "print(np.min(solardata, axis=0))"
      ],
      "metadata": {
        "colab": {
          "base_uri": "https://localhost:8080/"
        },
        "id": "z6xXSnS2umHd",
        "outputId": "e94f829b-246d-44a4-b707-fe8907444b11"
      },
      "execution_count": 27,
      "outputs": [
        {
          "output_type": "stream",
          "name": "stdout",
          "text": [
            "[446.40434207 450.23976606 247.01509894]\n",
            "[166.23303073   0.           0.        ]\n"
          ]
        }
      ]
    },
    {
      "cell_type": "markdown",
      "source": [
        "### Answer should be correct since theres only three elements per vector, meaning only the max/min per column was considered, elese there would be 356 elements per vector"
      ],
      "metadata": {
        "id": "YCbpDGPKrWnY"
      }
    },
    {
      "cell_type": "code",
      "source": [
        "### Testing for January\n",
        "\n",
        "solardata[:31]"
      ],
      "metadata": {
        "colab": {
          "base_uri": "https://localhost:8080/"
        },
        "id": "R2DobCYbr5ZV",
        "outputId": "f7e2e1f6-b881-4297-dd19-07868d2c337b"
      },
      "execution_count": 28,
      "outputs": [
        {
          "output_type": "execute_result",
          "data": {
            "text/plain": [
              "array([[277.97178749, 290.87848694,  16.27913217],\n",
              "       [276.79002882,   0.        ,  92.19335012],\n",
              "       [196.02083865, 126.81410304, 127.24963504],\n",
              "       [298.0649882 , 164.5728768 ,  91.70748532],\n",
              "       [257.07155815, 215.55290601, 110.39199191],\n",
              "       [323.3315445 , 274.99102062, 164.72685376],\n",
              "       [354.72384951, 149.2298412 , 109.88570971],\n",
              "       [305.53166165, 134.7595065 ,  54.78380076],\n",
              "       [247.08196228, 394.87484257, 143.70416869],\n",
              "       [250.0727405 , 103.39336636,  91.29678034],\n",
              "       [360.41314527, 351.14251327, 149.3079375 ],\n",
              "       [320.67253413, 193.92241443, 181.76496417],\n",
              "       [297.39000994, 355.23036427,  45.84034965],\n",
              "       [281.8230464 , 187.14855859, 145.85264378],\n",
              "       [296.57061378,   0.        ,  22.97553758],\n",
              "       [280.60487936, 261.12396767,  41.7863011 ],\n",
              "       [281.21314398, 339.26397477, 162.04189884],\n",
              "       [291.57324724, 181.9679668 ,  46.21146056],\n",
              "       [254.92957753, 251.81593663,  78.90395902],\n",
              "       [266.46231132, 240.30437055, 112.68183855],\n",
              "       [345.83453839, 177.19214391, 110.30525568],\n",
              "       [281.95477835, 129.3254856 ,  96.62431599],\n",
              "       [226.33411278, 261.60300139,  76.50649124],\n",
              "       [287.58506279, 289.07287973,  92.09674176],\n",
              "       [349.02474298, 211.79353556, 188.95956863],\n",
              "       [314.70930858, 250.45656514,  73.89746465],\n",
              "       [345.89214387, 274.36398197,  26.24018571],\n",
              "       [298.16135496, 126.09641033,  89.93219395],\n",
              "       [402.49143062, 336.60365442, 102.57406237],\n",
              "       [244.26786802, 232.61755236,  65.84051339],\n",
              "       [331.79256436, 187.86620906,  84.42366137]])"
            ]
          },
          "metadata": {},
          "execution_count": 28
        }
      ]
    },
    {
      "cell_type": "code",
      "source": [
        "### Average wattage for January\n",
        "\n",
        "january_afternoons = solardata[:31, 1:2]\n",
        "np.average(january_afternoons)"
      ],
      "metadata": {
        "colab": {
          "base_uri": "https://localhost:8080/"
        },
        "id": "VpgD2qIXvG0h",
        "outputId": "3b241406-7a81-4839-b45e-d910fcb8d441"
      },
      "execution_count": 29,
      "outputs": [
        {
          "output_type": "execute_result",
          "data": {
            "text/plain": [
              "215.93478827333328"
            ]
          },
          "metadata": {},
          "execution_count": 29
        }
      ]
    },
    {
      "cell_type": "markdown",
      "source": [
        "### First slice is to only get the first 31 days, the next is to get only the afternoon (Did it wrong the first time lol)"
      ],
      "metadata": {
        "id": "kJnNfuYXrtI1"
      }
    },
    {
      "cell_type": "code",
      "source": [
        "solardata < 50"
      ],
      "metadata": {
        "colab": {
          "base_uri": "https://localhost:8080/"
        },
        "id": "jIcjTBA3vXqg",
        "outputId": "733afd6a-786e-4703-80e7-0e4aab1d92bc"
      },
      "execution_count": 30,
      "outputs": [
        {
          "output_type": "execute_result",
          "data": {
            "text/plain": [
              "array([[False, False,  True],\n",
              "       [False,  True, False],\n",
              "       [False, False, False],\n",
              "       ...,\n",
              "       [False, False, False],\n",
              "       [False, False, False],\n",
              "       [False, False, False]])"
            ]
          },
          "metadata": {},
          "execution_count": 30
        }
      ]
    },
    {
      "cell_type": "code",
      "source": [
        "### Days where wattage is less than 500\n",
        "\n",
        "solar_500 = solardata[solardata.sum(axis=1) < 500]\n",
        "solar_500.shape"
      ],
      "metadata": {
        "colab": {
          "base_uri": "https://localhost:8080/"
        },
        "id": "S4tg6Gh2wgHN",
        "outputId": "4f8fc03e-6d83-465c-f52c-3877e63f3490"
      },
      "execution_count": 31,
      "outputs": [
        {
          "output_type": "execute_result",
          "data": {
            "text/plain": [
              "(89, 3)"
            ]
          },
          "metadata": {},
          "execution_count": 31
        }
      ]
    },
    {
      "cell_type": "markdown",
      "source": [
        "### To explain, inside the brackets the rows in solar data are selected based on if there sum is less than 500, this way we get less rows and then we can use shape"
      ],
      "metadata": {
        "id": "QzqA9RFvsTGA"
      }
    },
    {
      "cell_type": "code",
      "source": [
        "## Average for day, evening, and night\n",
        "\n",
        "np.average(solardata, axis=0)"
      ],
      "metadata": {
        "colab": {
          "base_uri": "https://localhost:8080/"
        },
        "id": "RgwsZJ4Vvy9V",
        "outputId": "67da2270-ffc5-42d1-ae9d-e7d53dd7a7b1"
      },
      "execution_count": 32,
      "outputs": [
        {
          "output_type": "execute_result",
          "data": {
            "text/plain": [
              "array([300.38834891, 198.39523217,  98.50480801])"
            ]
          },
          "metadata": {},
          "execution_count": 32
        }
      ]
    },
    {
      "cell_type": "code",
      "source": [],
      "metadata": {
        "id": "zqUWktofwLOJ"
      },
      "execution_count": 32,
      "outputs": []
    }
  ]
}