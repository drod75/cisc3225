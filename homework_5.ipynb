{
  "cells": [
    {
      "cell_type": "markdown",
      "id": "71ffbdda",
      "metadata": {
        "id": "71ffbdda"
      },
      "source": [
        "## 1 Pokémon Visualizations (10 points)\n",
        "\n",
        "For this section, download the Pokémon dataset from here: `https://raw.githubusercontent.com/CUNY-CISC-3225/datasets/refs/heads/main/pokemon.csv`\n",
        "\n",
        "If you like, you may experiment with different color schemes: see `https://matplotlib.org/stable/users/explain/colors/colormaps.html` for a listing of color maps available in Matplotlib. When plotting, you can indicate your chosen colors with the `cmap` argument. For example, if you want to use the \"viridis\" map, include `cmap=\"viridis\"` into the plotting function."
      ]
    },
    {
      "cell_type": "code",
      "execution_count": null,
      "id": "4b1a8e39",
      "metadata": {
        "id": "4b1a8e39",
        "outputId": "a76c0120-5956-4294-8c26-560aa2203c26"
      },
      "outputs": [
        {
          "data": {
            "application/vnd.microsoft.datawrangler.viewer.v0+json": {
              "columns": [
                {
                  "name": "index",
                  "rawType": "int64",
                  "type": "integer"
                },
                {
                  "name": "attack",
                  "rawType": "int64",
                  "type": "integer"
                },
                {
                  "name": "base_happiness",
                  "rawType": "int64",
                  "type": "integer"
                },
                {
                  "name": "cap_rate",
                  "rawType": "int64",
                  "type": "integer"
                },
                {
                  "name": "defense",
                  "rawType": "int64",
                  "type": "integer"
                },
                {
                  "name": "exp_growth",
                  "rawType": "int64",
                  "type": "integer"
                },
                {
                  "name": "height",
                  "rawType": "float64",
                  "type": "float"
                },
                {
                  "name": "hp",
                  "rawType": "int64",
                  "type": "integer"
                },
                {
                  "name": "name",
                  "rawType": "object",
                  "type": "string"
                },
                {
                  "name": "pokedex_number",
                  "rawType": "int64",
                  "type": "integer"
                },
                {
                  "name": "speed",
                  "rawType": "int64",
                  "type": "integer"
                },
                {
                  "name": "type_1",
                  "rawType": "object",
                  "type": "string"
                },
                {
                  "name": "type_2",
                  "rawType": "object",
                  "type": "unknown"
                },
                {
                  "name": "weight",
                  "rawType": "float64",
                  "type": "float"
                },
                {
                  "name": "generation",
                  "rawType": "int64",
                  "type": "integer"
                },
                {
                  "name": "is_legendary",
                  "rawType": "int64",
                  "type": "integer"
                }
              ],
              "conversionMethod": "pd.DataFrame",
              "ref": "8aa970f1-40c1-4c8d-adc4-fcd98f082410",
              "rows": [
                [
                  "0",
                  "49",
                  "70",
                  "45",
                  "49",
                  "1059860",
                  "0.7",
                  "45",
                  "Bulbasaur",
                  "1",
                  "45",
                  "grass",
                  "poison",
                  "6.9",
                  "1",
                  "0"
                ],
                [
                  "1",
                  "62",
                  "70",
                  "45",
                  "63",
                  "1059860",
                  "1.0",
                  "60",
                  "Ivysaur",
                  "2",
                  "60",
                  "grass",
                  "poison",
                  "13.0",
                  "1",
                  "0"
                ],
                [
                  "2",
                  "100",
                  "70",
                  "45",
                  "123",
                  "1059860",
                  "2.0",
                  "80",
                  "Venusaur",
                  "3",
                  "80",
                  "grass",
                  "poison",
                  "100.0",
                  "1",
                  "0"
                ],
                [
                  "3",
                  "52",
                  "70",
                  "45",
                  "43",
                  "1059860",
                  "0.6",
                  "39",
                  "Charmander",
                  "4",
                  "65",
                  "fire",
                  null,
                  "8.5",
                  "1",
                  "0"
                ],
                [
                  "4",
                  "64",
                  "70",
                  "45",
                  "58",
                  "1059860",
                  "1.1",
                  "58",
                  "Charmeleon",
                  "5",
                  "80",
                  "fire",
                  null,
                  "19.0",
                  "1",
                  "0"
                ]
              ],
              "shape": {
                "columns": 15,
                "rows": 5
              }
            },
            "text/html": [
              "<div>\n",
              "<style scoped>\n",
              "    .dataframe tbody tr th:only-of-type {\n",
              "        vertical-align: middle;\n",
              "    }\n",
              "\n",
              "    .dataframe tbody tr th {\n",
              "        vertical-align: top;\n",
              "    }\n",
              "\n",
              "    .dataframe thead th {\n",
              "        text-align: right;\n",
              "    }\n",
              "</style>\n",
              "<table border=\"1\" class=\"dataframe\">\n",
              "  <thead>\n",
              "    <tr style=\"text-align: right;\">\n",
              "      <th></th>\n",
              "      <th>attack</th>\n",
              "      <th>base_happiness</th>\n",
              "      <th>cap_rate</th>\n",
              "      <th>defense</th>\n",
              "      <th>exp_growth</th>\n",
              "      <th>height</th>\n",
              "      <th>hp</th>\n",
              "      <th>name</th>\n",
              "      <th>pokedex_number</th>\n",
              "      <th>speed</th>\n",
              "      <th>type_1</th>\n",
              "      <th>type_2</th>\n",
              "      <th>weight</th>\n",
              "      <th>generation</th>\n",
              "      <th>is_legendary</th>\n",
              "    </tr>\n",
              "  </thead>\n",
              "  <tbody>\n",
              "    <tr>\n",
              "      <th>0</th>\n",
              "      <td>49</td>\n",
              "      <td>70</td>\n",
              "      <td>45</td>\n",
              "      <td>49</td>\n",
              "      <td>1059860</td>\n",
              "      <td>0.7</td>\n",
              "      <td>45</td>\n",
              "      <td>Bulbasaur</td>\n",
              "      <td>1</td>\n",
              "      <td>45</td>\n",
              "      <td>grass</td>\n",
              "      <td>poison</td>\n",
              "      <td>6.9</td>\n",
              "      <td>1</td>\n",
              "      <td>0</td>\n",
              "    </tr>\n",
              "    <tr>\n",
              "      <th>1</th>\n",
              "      <td>62</td>\n",
              "      <td>70</td>\n",
              "      <td>45</td>\n",
              "      <td>63</td>\n",
              "      <td>1059860</td>\n",
              "      <td>1.0</td>\n",
              "      <td>60</td>\n",
              "      <td>Ivysaur</td>\n",
              "      <td>2</td>\n",
              "      <td>60</td>\n",
              "      <td>grass</td>\n",
              "      <td>poison</td>\n",
              "      <td>13.0</td>\n",
              "      <td>1</td>\n",
              "      <td>0</td>\n",
              "    </tr>\n",
              "    <tr>\n",
              "      <th>2</th>\n",
              "      <td>100</td>\n",
              "      <td>70</td>\n",
              "      <td>45</td>\n",
              "      <td>123</td>\n",
              "      <td>1059860</td>\n",
              "      <td>2.0</td>\n",
              "      <td>80</td>\n",
              "      <td>Venusaur</td>\n",
              "      <td>3</td>\n",
              "      <td>80</td>\n",
              "      <td>grass</td>\n",
              "      <td>poison</td>\n",
              "      <td>100.0</td>\n",
              "      <td>1</td>\n",
              "      <td>0</td>\n",
              "    </tr>\n",
              "    <tr>\n",
              "      <th>3</th>\n",
              "      <td>52</td>\n",
              "      <td>70</td>\n",
              "      <td>45</td>\n",
              "      <td>43</td>\n",
              "      <td>1059860</td>\n",
              "      <td>0.6</td>\n",
              "      <td>39</td>\n",
              "      <td>Charmander</td>\n",
              "      <td>4</td>\n",
              "      <td>65</td>\n",
              "      <td>fire</td>\n",
              "      <td>NaN</td>\n",
              "      <td>8.5</td>\n",
              "      <td>1</td>\n",
              "      <td>0</td>\n",
              "    </tr>\n",
              "    <tr>\n",
              "      <th>4</th>\n",
              "      <td>64</td>\n",
              "      <td>70</td>\n",
              "      <td>45</td>\n",
              "      <td>58</td>\n",
              "      <td>1059860</td>\n",
              "      <td>1.1</td>\n",
              "      <td>58</td>\n",
              "      <td>Charmeleon</td>\n",
              "      <td>5</td>\n",
              "      <td>80</td>\n",
              "      <td>fire</td>\n",
              "      <td>NaN</td>\n",
              "      <td>19.0</td>\n",
              "      <td>1</td>\n",
              "      <td>0</td>\n",
              "    </tr>\n",
              "  </tbody>\n",
              "</table>\n",
              "</div>"
            ],
            "text/plain": [
              "   attack  base_happiness  cap_rate  defense  exp_growth  height  hp  \\\n",
              "0      49              70        45       49     1059860     0.7  45   \n",
              "1      62              70        45       63     1059860     1.0  60   \n",
              "2     100              70        45      123     1059860     2.0  80   \n",
              "3      52              70        45       43     1059860     0.6  39   \n",
              "4      64              70        45       58     1059860     1.1  58   \n",
              "\n",
              "         name  pokedex_number  speed type_1  type_2  weight  generation  \\\n",
              "0   Bulbasaur               1     45  grass  poison     6.9           1   \n",
              "1     Ivysaur               2     60  grass  poison    13.0           1   \n",
              "2    Venusaur               3     80  grass  poison   100.0           1   \n",
              "3  Charmander               4     65   fire     NaN     8.5           1   \n",
              "4  Charmeleon               5     80   fire     NaN    19.0           1   \n",
              "\n",
              "   is_legendary  \n",
              "0             0  \n",
              "1             0  \n",
              "2             0  \n",
              "3             0  \n",
              "4             0  "
            ]
          },
          "execution_count": 10,
          "metadata": {},
          "output_type": "execute_result"
        }
      ],
      "source": [
        "import pandas as pd\n",
        "\n",
        "df = pd.read_csv('https://raw.githubusercontent.com/CUNY-CISC-3225/datasets/refs/heads/main/pokemon.csv')\n",
        "df.head()"
      ]
    },
    {
      "cell_type": "markdown",
      "id": "4a527f22",
      "metadata": {
        "id": "4a527f22"
      },
      "source": [
        "### 1.1 Height across generations (10 points)\n",
        "\n",
        "For this part, constrain the dataset to fire, water, and grass Pokémon (use the `type1` column).\n",
        "\n",
        "1.  Produce a line plot of generation (x axis) and mean height per generation (y axis). Include a title and appropriate axis labels. Which generation has the tallest Pokemon? The shortest?\n",
        "2.  In Part 1, you should see a large spike in height at generation 3. Revise your previous plot so it shows lines for fire, grass, and water Pokémon separately. Include a legend in addition to an appropriate title and axis labels. Which type is responsible for the unusually tall Pokémon in generation 3?\n",
        "\n"
      ]
    },
    {
      "cell_type": "code",
      "execution_count": null,
      "id": "885f2956",
      "metadata": {
        "id": "885f2956",
        "outputId": "4c7e712e-a529-4937-892c-556b3485b665"
      },
      "outputs": [
        {
          "data": {
            "application/vnd.microsoft.datawrangler.viewer.v0+json": {
              "columns": [
                {
                  "name": "index",
                  "rawType": "int64",
                  "type": "integer"
                },
                {
                  "name": "generation",
                  "rawType": "int64",
                  "type": "integer"
                },
                {
                  "name": "height",
                  "rawType": "float64",
                  "type": "float"
                }
              ],
              "conversionMethod": "pd.DataFrame",
              "ref": "8f84c62d-a7f5-40d5-a933-7d966dd731f0",
              "rows": [
                [
                  "0",
                  "1",
                  "1.241"
                ],
                [
                  "1",
                  "2",
                  "1.163"
                ],
                [
                  "2",
                  "3",
                  "1.23"
                ],
                [
                  "3",
                  "4",
                  "1.134"
                ],
                [
                  "4",
                  "5",
                  "1.032"
                ]
              ],
              "shape": {
                "columns": 2,
                "rows": 5
              }
            },
            "text/html": [
              "<div>\n",
              "<style scoped>\n",
              "    .dataframe tbody tr th:only-of-type {\n",
              "        vertical-align: middle;\n",
              "    }\n",
              "\n",
              "    .dataframe tbody tr th {\n",
              "        vertical-align: top;\n",
              "    }\n",
              "\n",
              "    .dataframe thead th {\n",
              "        text-align: right;\n",
              "    }\n",
              "</style>\n",
              "<table border=\"1\" class=\"dataframe\">\n",
              "  <thead>\n",
              "    <tr style=\"text-align: right;\">\n",
              "      <th></th>\n",
              "      <th>generation</th>\n",
              "      <th>height</th>\n",
              "    </tr>\n",
              "  </thead>\n",
              "  <tbody>\n",
              "    <tr>\n",
              "      <th>0</th>\n",
              "      <td>1</td>\n",
              "      <td>1.241</td>\n",
              "    </tr>\n",
              "    <tr>\n",
              "      <th>1</th>\n",
              "      <td>2</td>\n",
              "      <td>1.163</td>\n",
              "    </tr>\n",
              "    <tr>\n",
              "      <th>2</th>\n",
              "      <td>3</td>\n",
              "      <td>1.230</td>\n",
              "    </tr>\n",
              "    <tr>\n",
              "      <th>3</th>\n",
              "      <td>4</td>\n",
              "      <td>1.134</td>\n",
              "    </tr>\n",
              "    <tr>\n",
              "      <th>4</th>\n",
              "      <td>5</td>\n",
              "      <td>1.032</td>\n",
              "    </tr>\n",
              "  </tbody>\n",
              "</table>\n",
              "</div>"
            ],
            "text/plain": [
              "   generation  height\n",
              "0           1   1.241\n",
              "1           2   1.163\n",
              "2           3   1.230\n",
              "3           4   1.134\n",
              "4           5   1.032"
            ]
          },
          "execution_count": 11,
          "metadata": {},
          "output_type": "execute_result"
        }
      ],
      "source": [
        "df_height_generation = df.groupby(\"generation\", as_index=False)['height'].mean().round(3)\n",
        "df_height_generation.head()"
      ]
    },
    {
      "cell_type": "code",
      "execution_count": null,
      "id": "df977bbd",
      "metadata": {
        "id": "df977bbd",
        "outputId": "e150914a-1bbd-41ca-c1d3-bddae2b6a516"
      },
      "outputs": [
        {
          "data": {
            "image/png": "[encoded data removed]",
            "text/plain": [
              "<Figure size 2000x1000 with 1 Axes>"
            ]
          },
          "metadata": {},
          "output_type": "display_data"
        }
      ],
      "source": [
        "import seaborn as sns\n",
        "import matplotlib.pyplot as plt\n",
        "sns.set_theme()\n",
        "\n",
        "plt.figure(figsize=(20,10))\n",
        "sns.lineplot(data=df_height_generation, x='generation', y='height')\n",
        "\n",
        "plt.xlabel(\"Pokemon Generation\")\n",
        "plt.ylabel(\"Generation Average Height\")\n",
        "plt.title(\"Average height by generation\")\n",
        "\n",
        "plt.show()"
      ]
    },
    {
      "cell_type": "markdown",
      "id": "744f4d5c",
      "metadata": {
        "id": "744f4d5c"
      },
      "source": [
        "It seems the pokemon with the tallest is gen 7, while the pokemon with the shortest is gen 5."
      ]
    },
    {
      "cell_type": "code",
      "execution_count": null,
      "id": "3a808e11",
      "metadata": {
        "id": "3a808e11",
        "outputId": "35accb2b-0e4e-45a2-b1b1-84d5418fa94d"
      },
      "outputs": [
        {
          "data": {
            "application/vnd.microsoft.datawrangler.viewer.v0+json": {
              "columns": [
                {
                  "name": "index",
                  "rawType": "int64",
                  "type": "integer"
                },
                {
                  "name": "generation",
                  "rawType": "int64",
                  "type": "integer"
                },
                {
                  "name": "type_1",
                  "rawType": "object",
                  "type": "string"
                },
                {
                  "name": "height",
                  "rawType": "float64",
                  "type": "float"
                }
              ],
              "conversionMethod": "pd.DataFrame",
              "ref": "d7588f09-4ddf-4234-884d-87a2eb938312",
              "rows": [
                [
                  "5",
                  "1",
                  "fire",
                  "1.29"
                ],
                [
                  "7",
                  "1",
                  "grass",
                  "1.0"
                ],
                [
                  "14",
                  "1",
                  "water",
                  "1.3"
                ],
                [
                  "20",
                  "2",
                  "fire",
                  "1.4"
                ],
                [
                  "22",
                  "2",
                  "grass",
                  "0.8"
                ]
              ],
              "shape": {
                "columns": 3,
                "rows": 5
              }
            },
            "text/html": [
              "<div>\n",
              "<style scoped>\n",
              "    .dataframe tbody tr th:only-of-type {\n",
              "        vertical-align: middle;\n",
              "    }\n",
              "\n",
              "    .dataframe tbody tr th {\n",
              "        vertical-align: top;\n",
              "    }\n",
              "\n",
              "    .dataframe thead th {\n",
              "        text-align: right;\n",
              "    }\n",
              "</style>\n",
              "<table border=\"1\" class=\"dataframe\">\n",
              "  <thead>\n",
              "    <tr style=\"text-align: right;\">\n",
              "      <th></th>\n",
              "      <th>generation</th>\n",
              "      <th>type_1</th>\n",
              "      <th>height</th>\n",
              "    </tr>\n",
              "  </thead>\n",
              "  <tbody>\n",
              "    <tr>\n",
              "      <th>5</th>\n",
              "      <td>1</td>\n",
              "      <td>fire</td>\n",
              "      <td>1.29</td>\n",
              "    </tr>\n",
              "    <tr>\n",
              "      <th>7</th>\n",
              "      <td>1</td>\n",
              "      <td>grass</td>\n",
              "      <td>1.00</td>\n",
              "    </tr>\n",
              "    <tr>\n",
              "      <th>14</th>\n",
              "      <td>1</td>\n",
              "      <td>water</td>\n",
              "      <td>1.30</td>\n",
              "    </tr>\n",
              "    <tr>\n",
              "      <th>20</th>\n",
              "      <td>2</td>\n",
              "      <td>fire</td>\n",
              "      <td>1.40</td>\n",
              "    </tr>\n",
              "    <tr>\n",
              "      <th>22</th>\n",
              "      <td>2</td>\n",
              "      <td>grass</td>\n",
              "      <td>0.80</td>\n",
              "    </tr>\n",
              "  </tbody>\n",
              "</table>\n",
              "</div>"
            ],
            "text/plain": [
              "    generation type_1  height\n",
              "5            1   fire    1.29\n",
              "7            1  grass    1.00\n",
              "14           1  water    1.30\n",
              "20           2   fire    1.40\n",
              "22           2  grass    0.80"
            ]
          },
          "execution_count": 13,
          "metadata": {},
          "output_type": "execute_result"
        }
      ],
      "source": [
        "df_height_trio = df.groupby(['generation', 'type_1'], as_index=False)['height'].mean()\n",
        "df_height_trio = df_height_trio[(df_height_trio['type_1'] == 'fire') | (df_height_trio['type_1'] == 'grass') | (df_height_trio['type_1'] == 'water')]\n",
        "df_height_trio.head()"
      ]
    },
    {
      "cell_type": "code",
      "execution_count": null,
      "id": "722f7d3c",
      "metadata": {
        "id": "722f7d3c",
        "outputId": "d008ada3-d5e7-4f40-879a-65024aefa408"
      },
      "outputs": [
        {
          "data": {
            "image/png": "[encoded data removed]",
            "text/plain": [
              "<Figure size 2000x1000 with 1 Axes>"
            ]
          },
          "metadata": {},
          "output_type": "display_data"
        }
      ],
      "source": [
        "plt.figure(figsize=(20,10))\n",
        "sns.lineplot(data=df_height_trio, x='generation', y='height', hue='type_1')\n",
        "\n",
        "plt.xlabel(\"Pokemon Generation\")\n",
        "plt.ylabel(\"Generation Average Height\")\n",
        "plt.title(\"Average height by Generation and Type\")\n",
        "\n",
        "plt.show()\n"
      ]
    },
    {
      "cell_type": "markdown",
      "id": "ca9a8092",
      "metadata": {
        "id": "ca9a8092"
      },
      "source": [
        "It seems for generation 3 the pokemon with the skewed height from fire, grass, and water is water."
      ]
    },
    {
      "cell_type": "markdown",
      "id": "c0d11122",
      "metadata": {
        "id": "c0d11122"
      },
      "source": [
        "## 2 Statistical Tools (20 points)\n",
        "\n",
        "For this section, use the camera dataset: `https://raw.githubusercontent.com/CUNY-CISC-3225/datasets/refs/heads/main/cameras.csv`.\n",
        "\n",
        "You may constrain your analysis to the following columns: `Release date`, `Max resolution`, `Effective pixels`, `Normal focus range`, `Weight (inc. batteries)`, and `Dimensions`.\n",
        "\n",
        "For each statistical test you perform, give the null and alternative hypothesis. Use a significance level of 5% when evaluating p values, and indicate whether you are justified in rejecting the null hypothesis.\n",
        "\n",
        "1.  Create a correlation matrix of the dataset. Find 1 interesting strong correlation and 1 interesting weak correlation. Briefly discuss what each correlation means. As part of your discussion, indicate whether each correlation is significant.\n",
        "2.  How much does max resolution increase each year? By how much?\n",
        "3.  Split the dataset in two: one for cameras released on or after 2004, and one for cameras released before 2004. Is the mean camera weight different across these time periods? Is it significant?\n",
        "4.  Using the before/after 2004 split, create a contingency table showing how many cameras were released for each brand (rows) in each time period (columns). Are there significant differences in brand distribution before and after 2004? Which brands released a very different number of cameras than expected?\n"
      ]
    },
    {
      "cell_type": "code",
      "execution_count": null,
      "id": "9bda91eb",
      "metadata": {
        "id": "9bda91eb",
        "outputId": "a8b9e66d-6eff-49b6-c6e0-271c7c4b847d"
      },
      "outputs": [
        {
          "data": {
            "application/vnd.microsoft.datawrangler.viewer.v0+json": {
              "columns": [
                {
                  "name": "index",
                  "rawType": "int64",
                  "type": "integer"
                },
                {
                  "name": "Model",
                  "rawType": "object",
                  "type": "string"
                },
                {
                  "name": "Release date",
                  "rawType": "int64",
                  "type": "integer"
                },
                {
                  "name": "Max resolution",
                  "rawType": "float64",
                  "type": "float"
                },
                {
                  "name": "Low resolution",
                  "rawType": "float64",
                  "type": "float"
                },
                {
                  "name": "Effective pixels",
                  "rawType": "float64",
                  "type": "float"
                },
                {
                  "name": "Zoom wide (W)",
                  "rawType": "float64",
                  "type": "float"
                },
                {
                  "name": "Zoom tele (T)",
                  "rawType": "float64",
                  "type": "float"
                },
                {
                  "name": "Normal focus range",
                  "rawType": "float64",
                  "type": "float"
                },
                {
                  "name": "Macro focus range",
                  "rawType": "float64",
                  "type": "float"
                },
                {
                  "name": "Storage included",
                  "rawType": "float64",
                  "type": "float"
                },
                {
                  "name": "Weight (inc. batteries)",
                  "rawType": "float64",
                  "type": "float"
                },
                {
                  "name": "Dimensions",
                  "rawType": "float64",
                  "type": "float"
                },
                {
                  "name": "Price",
                  "rawType": "float64",
                  "type": "float"
                },
                {
                  "name": "Brand",
                  "rawType": "object",
                  "type": "string"
                }
              ],
              "conversionMethod": "pd.DataFrame",
              "ref": "44dfb7cd-e779-42d3-a42d-89dc79f046ef",
              "rows": [
                [
                  "0",
                  "Canon PowerShot 350",
                  "1997",
                  "640.0",
                  "0.0",
                  "0.0",
                  "42.0",
                  "42.0",
                  "70.0",
                  "3.0",
                  "2.0",
                  "320.0",
                  "93.0",
                  "149.0",
                  "Canon"
                ],
                [
                  "1",
                  "Canon PowerShot 600",
                  "1996",
                  "832.0",
                  "640.0",
                  "0.0",
                  "50.0",
                  "50.0",
                  "40.0",
                  "10.0",
                  "1.0",
                  "460.0",
                  "160.0",
                  "139.0",
                  "Canon"
                ],
                [
                  "2",
                  "Canon PowerShot A10",
                  "2001",
                  "1280.0",
                  "1024.0",
                  "1.0",
                  "35.0",
                  "105.0",
                  "76.0",
                  "16.0",
                  "8.0",
                  "375.0",
                  "110.0",
                  "139.0",
                  "Canon"
                ],
                [
                  "3",
                  "Canon PowerShot A100",
                  "2002",
                  "1280.0",
                  "1024.0",
                  "1.0",
                  "39.0",
                  "39.0",
                  "20.0",
                  "5.0",
                  "8.0",
                  "225.0",
                  "110.0",
                  "139.0",
                  "Canon"
                ],
                [
                  "4",
                  "Canon PowerShot A20",
                  "2001",
                  "1600.0",
                  "1024.0",
                  "1.0",
                  "35.0",
                  "105.0",
                  "76.0",
                  "16.0",
                  "8.0",
                  "375.0",
                  "110.0",
                  "139.0",
                  "Canon"
                ]
              ],
              "shape": {
                "columns": 14,
                "rows": 5
              }
            },
            "text/html": [
              "<div>\n",
              "<style scoped>\n",
              "    .dataframe tbody tr th:only-of-type {\n",
              "        vertical-align: middle;\n",
              "    }\n",
              "\n",
              "    .dataframe tbody tr th {\n",
              "        vertical-align: top;\n",
              "    }\n",
              "\n",
              "    .dataframe thead th {\n",
              "        text-align: right;\n",
              "    }\n",
              "</style>\n",
              "<table border=\"1\" class=\"dataframe\">\n",
              "  <thead>\n",
              "    <tr style=\"text-align: right;\">\n",
              "      <th></th>\n",
              "      <th>Model</th>\n",
              "      <th>Release date</th>\n",
              "      <th>Max resolution</th>\n",
              "      <th>Low resolution</th>\n",
              "      <th>Effective pixels</th>\n",
              "      <th>Zoom wide (W)</th>\n",
              "      <th>Zoom tele (T)</th>\n",
              "      <th>Normal focus range</th>\n",
              "      <th>Macro focus range</th>\n",
              "      <th>Storage included</th>\n",
              "      <th>Weight (inc. batteries)</th>\n",
              "      <th>Dimensions</th>\n",
              "      <th>Price</th>\n",
              "      <th>Brand</th>\n",
              "    </tr>\n",
              "  </thead>\n",
              "  <tbody>\n",
              "    <tr>\n",
              "      <th>0</th>\n",
              "      <td>Canon PowerShot 350</td>\n",
              "      <td>1997</td>\n",
              "      <td>640.0</td>\n",
              "      <td>0.0</td>\n",
              "      <td>0.0</td>\n",
              "      <td>42.0</td>\n",
              "      <td>42.0</td>\n",
              "      <td>70.0</td>\n",
              "      <td>3.0</td>\n",
              "      <td>2.0</td>\n",
              "      <td>320.0</td>\n",
              "      <td>93.0</td>\n",
              "      <td>149.0</td>\n",
              "      <td>Canon</td>\n",
              "    </tr>\n",
              "    <tr>\n",
              "      <th>1</th>\n",
              "      <td>Canon PowerShot 600</td>\n",
              "      <td>1996</td>\n",
              "      <td>832.0</td>\n",
              "      <td>640.0</td>\n",
              "      <td>0.0</td>\n",
              "      <td>50.0</td>\n",
              "      <td>50.0</td>\n",
              "      <td>40.0</td>\n",
              "      <td>10.0</td>\n",
              "      <td>1.0</td>\n",
              "      <td>460.0</td>\n",
              "      <td>160.0</td>\n",
              "      <td>139.0</td>\n",
              "      <td>Canon</td>\n",
              "    </tr>\n",
              "    <tr>\n",
              "      <th>2</th>\n",
              "      <td>Canon PowerShot A10</td>\n",
              "      <td>2001</td>\n",
              "      <td>1280.0</td>\n",
              "      <td>1024.0</td>\n",
              "      <td>1.0</td>\n",
              "      <td>35.0</td>\n",
              "      <td>105.0</td>\n",
              "      <td>76.0</td>\n",
              "      <td>16.0</td>\n",
              "      <td>8.0</td>\n",
              "      <td>375.0</td>\n",
              "      <td>110.0</td>\n",
              "      <td>139.0</td>\n",
              "      <td>Canon</td>\n",
              "    </tr>\n",
              "    <tr>\n",
              "      <th>3</th>\n",
              "      <td>Canon PowerShot A100</td>\n",
              "      <td>2002</td>\n",
              "      <td>1280.0</td>\n",
              "      <td>1024.0</td>\n",
              "      <td>1.0</td>\n",
              "      <td>39.0</td>\n",
              "      <td>39.0</td>\n",
              "      <td>20.0</td>\n",
              "      <td>5.0</td>\n",
              "      <td>8.0</td>\n",
              "      <td>225.0</td>\n",
              "      <td>110.0</td>\n",
              "      <td>139.0</td>\n",
              "      <td>Canon</td>\n",
              "    </tr>\n",
              "    <tr>\n",
              "      <th>4</th>\n",
              "      <td>Canon PowerShot A20</td>\n",
              "      <td>2001</td>\n",
              "      <td>1600.0</td>\n",
              "      <td>1024.0</td>\n",
              "      <td>1.0</td>\n",
              "      <td>35.0</td>\n",
              "      <td>105.0</td>\n",
              "      <td>76.0</td>\n",
              "      <td>16.0</td>\n",
              "      <td>8.0</td>\n",
              "      <td>375.0</td>\n",
              "      <td>110.0</td>\n",
              "      <td>139.0</td>\n",
              "      <td>Canon</td>\n",
              "    </tr>\n",
              "  </tbody>\n",
              "</table>\n",
              "</div>"
            ],
            "text/plain": [
              "                  Model  Release date  Max resolution  Low resolution  \\\n",
              "0   Canon PowerShot 350          1997           640.0             0.0   \n",
              "1   Canon PowerShot 600          1996           832.0           640.0   \n",
              "2   Canon PowerShot A10          2001          1280.0          1024.0   \n",
              "3  Canon PowerShot A100          2002          1280.0          1024.0   \n",
              "4   Canon PowerShot A20          2001          1600.0          1024.0   \n",
              "\n",
              "   Effective pixels  Zoom wide (W)  Zoom tele (T)  Normal focus range  \\\n",
              "0               0.0           42.0           42.0                70.0   \n",
              "1               0.0           50.0           50.0                40.0   \n",
              "2               1.0           35.0          105.0                76.0   \n",
              "3               1.0           39.0           39.0                20.0   \n",
              "4               1.0           35.0          105.0                76.0   \n",
              "\n",
              "   Macro focus range  Storage included  Weight (inc. batteries)  Dimensions  \\\n",
              "0                3.0               2.0                    320.0        93.0   \n",
              "1               10.0               1.0                    460.0       160.0   \n",
              "2               16.0               8.0                    375.0       110.0   \n",
              "3                5.0               8.0                    225.0       110.0   \n",
              "4               16.0               8.0                    375.0       110.0   \n",
              "\n",
              "   Price  Brand  \n",
              "0  149.0  Canon  \n",
              "1  139.0  Canon  \n",
              "2  139.0  Canon  \n",
              "3  139.0  Canon  \n",
              "4  139.0  Canon  "
            ]
          },
          "execution_count": 15,
          "metadata": {},
          "output_type": "execute_result"
        }
      ],
      "source": [
        "df_cameras = pd.read_csv('https://raw.githubusercontent.com/CUNY-CISC-3225/datasets/refs/heads/main/cameras.csv')\n",
        "\n",
        "df_cameras.head()"
      ]
    },
    {
      "cell_type": "code",
      "execution_count": null,
      "id": "8d8d78c0",
      "metadata": {
        "id": "8d8d78c0",
        "outputId": "080fb7df-5e26-4255-95d1-dcf8a5f7526f"
      },
      "outputs": [
        {
          "data": {
            "application/vnd.microsoft.datawrangler.viewer.v0+json": {
              "columns": [
                {
                  "name": "index",
                  "rawType": "int64",
                  "type": "integer"
                },
                {
                  "name": "Release date",
                  "rawType": "int64",
                  "type": "integer"
                },
                {
                  "name": "Max resolution",
                  "rawType": "float64",
                  "type": "float"
                },
                {
                  "name": "Effective pixels",
                  "rawType": "float64",
                  "type": "float"
                },
                {
                  "name": "Normal focus range",
                  "rawType": "float64",
                  "type": "float"
                },
                {
                  "name": "Weight (inc. batteries)",
                  "rawType": "float64",
                  "type": "float"
                },
                {
                  "name": "Dimensions",
                  "rawType": "float64",
                  "type": "float"
                }
              ],
              "conversionMethod": "pd.DataFrame",
              "ref": "feec8d33-28bb-4acd-a2c2-7e1323c29941",
              "rows": [
                [
                  "0",
                  "1997",
                  "640.0",
                  "0.0",
                  "70.0",
                  "320.0",
                  "93.0"
                ],
                [
                  "1",
                  "1996",
                  "832.0",
                  "0.0",
                  "40.0",
                  "460.0",
                  "160.0"
                ],
                [
                  "2",
                  "2001",
                  "1280.0",
                  "1.0",
                  "76.0",
                  "375.0",
                  "110.0"
                ],
                [
                  "3",
                  "2002",
                  "1280.0",
                  "1.0",
                  "20.0",
                  "225.0",
                  "110.0"
                ],
                [
                  "4",
                  "2001",
                  "1600.0",
                  "1.0",
                  "76.0",
                  "375.0",
                  "110.0"
                ]
              ],
              "shape": {
                "columns": 6,
                "rows": 5
              }
            },
            "text/html": [
              "<div>\n",
              "<style scoped>\n",
              "    .dataframe tbody tr th:only-of-type {\n",
              "        vertical-align: middle;\n",
              "    }\n",
              "\n",
              "    .dataframe tbody tr th {\n",
              "        vertical-align: top;\n",
              "    }\n",
              "\n",
              "    .dataframe thead th {\n",
              "        text-align: right;\n",
              "    }\n",
              "</style>\n",
              "<table border=\"1\" class=\"dataframe\">\n",
              "  <thead>\n",
              "    <tr style=\"text-align: right;\">\n",
              "      <th></th>\n",
              "      <th>Release date</th>\n",
              "      <th>Max resolution</th>\n",
              "      <th>Effective pixels</th>\n",
              "      <th>Normal focus range</th>\n",
              "      <th>Weight (inc. batteries)</th>\n",
              "      <th>Dimensions</th>\n",
              "    </tr>\n",
              "  </thead>\n",
              "  <tbody>\n",
              "    <tr>\n",
              "      <th>0</th>\n",
              "      <td>1997</td>\n",
              "      <td>640.0</td>\n",
              "      <td>0.0</td>\n",
              "      <td>70.0</td>\n",
              "      <td>320.0</td>\n",
              "      <td>93.0</td>\n",
              "    </tr>\n",
              "    <tr>\n",
              "      <th>1</th>\n",
              "      <td>1996</td>\n",
              "      <td>832.0</td>\n",
              "      <td>0.0</td>\n",
              "      <td>40.0</td>\n",
              "      <td>460.0</td>\n",
              "      <td>160.0</td>\n",
              "    </tr>\n",
              "    <tr>\n",
              "      <th>2</th>\n",
              "      <td>2001</td>\n",
              "      <td>1280.0</td>\n",
              "      <td>1.0</td>\n",
              "      <td>76.0</td>\n",
              "      <td>375.0</td>\n",
              "      <td>110.0</td>\n",
              "    </tr>\n",
              "    <tr>\n",
              "      <th>3</th>\n",
              "      <td>2002</td>\n",
              "      <td>1280.0</td>\n",
              "      <td>1.0</td>\n",
              "      <td>20.0</td>\n",
              "      <td>225.0</td>\n",
              "      <td>110.0</td>\n",
              "    </tr>\n",
              "    <tr>\n",
              "      <th>4</th>\n",
              "      <td>2001</td>\n",
              "      <td>1600.0</td>\n",
              "      <td>1.0</td>\n",
              "      <td>76.0</td>\n",
              "      <td>375.0</td>\n",
              "      <td>110.0</td>\n",
              "    </tr>\n",
              "  </tbody>\n",
              "</table>\n",
              "</div>"
            ],
            "text/plain": [
              "   Release date  Max resolution  Effective pixels  Normal focus range  \\\n",
              "0          1997           640.0               0.0                70.0   \n",
              "1          1996           832.0               0.0                40.0   \n",
              "2          2001          1280.0               1.0                76.0   \n",
              "3          2002          1280.0               1.0                20.0   \n",
              "4          2001          1600.0               1.0                76.0   \n",
              "\n",
              "   Weight (inc. batteries)  Dimensions  \n",
              "0                    320.0        93.0  \n",
              "1                    460.0       160.0  \n",
              "2                    375.0       110.0  \n",
              "3                    225.0       110.0  \n",
              "4                    375.0       110.0  "
            ]
          },
          "execution_count": 16,
          "metadata": {},
          "output_type": "execute_result"
        }
      ],
      "source": [
        "restriction_columns = ['Release date', 'Max resolution', 'Effective pixels', 'Normal focus range', 'Weight (inc. batteries)', 'Dimensions']\n",
        "df_cameras = df_cameras[restriction_columns]\n",
        "df_cameras.head()"
      ]
    },
    {
      "cell_type": "code",
      "execution_count": null,
      "id": "87f96887",
      "metadata": {
        "id": "87f96887",
        "outputId": "4a60e9fb-666f-4562-8cc4-275e0dfe5fc9"
      },
      "outputs": [
        {
          "data": {
            "text/plain": [
              "<Axes: >"
            ]
          },
          "execution_count": 17,
          "metadata": {},
          "output_type": "execute_result"
        },
        {
          "data": {
            "image/png": "[encoded data removed]",
            "text/plain": [
              "<Figure size 1000x1000 with 2 Axes>"
            ]
          },
          "metadata": {},
          "output_type": "display_data"
        }
      ],
      "source": [
        "plt.figure(figsize=(10,10))\n",
        "sns.heatmap(df_cameras.corr(), annot=True)"
      ]
    },
    {
      "cell_type": "code",
      "execution_count": null,
      "id": "8f18bef6",
      "metadata": {
        "id": "8f18bef6"
      },
      "outputs": [],
      "source": [
        "from scipy import stats"
      ]
    },
    {
      "cell_type": "markdown",
      "source": [
        "The alternate hypothesis is that the correlation between the given variables is nonzero.\n",
        "\n",
        "The null hypothesis is that there is no coorelation."
      ],
      "metadata": {
        "id": "n5mv4YzmjcUG"
      },
      "id": "n5mv4YzmjcUG"
    },
    {
      "cell_type": "code",
      "execution_count": null,
      "id": "6586a6cf",
      "metadata": {
        "id": "6586a6cf",
        "outputId": "740ebc48-1f09-4b46-d3a0-3c1299a6834f"
      },
      "outputs": [
        {
          "data": {
            "text/plain": [
              "PearsonRResult(statistic=np.float64(0.9528890975221673), pvalue=np.float64(0.0))"
            ]
          },
          "execution_count": 19,
          "metadata": {},
          "output_type": "execute_result"
        }
      ],
      "source": [
        "stats.pearsonr(df_cameras['Effective pixels'], df_cameras['Max resolution'])"
      ]
    },
    {
      "cell_type": "markdown",
      "source": [
        "Based on the text it seems that the two are coorelated and the p value is so low we can throw out the null hypothesis."
      ],
      "metadata": {
        "id": "AsSlQw4Lj2wk"
      },
      "id": "AsSlQw4Lj2wk"
    },
    {
      "cell_type": "markdown",
      "source": [
        "---"
      ],
      "metadata": {
        "id": "ff5KAccSkC__"
      },
      "id": "ff5KAccSkC__"
    },
    {
      "cell_type": "markdown",
      "source": [
        "The alternate hypothesis is that the correlation between the given variables is nonzero.\n",
        "\n",
        "The null hypothesis is that there is no coorelation."
      ],
      "metadata": {
        "id": "YX2I5I6mkfGN"
      },
      "id": "YX2I5I6mkfGN"
    },
    {
      "cell_type": "code",
      "execution_count": null,
      "id": "c3050e71",
      "metadata": {
        "id": "c3050e71",
        "outputId": "b229375a-7e4c-4628-e603-55e9cbe9019c"
      },
      "outputs": [
        {
          "data": {
            "text/plain": [
              "PearsonRResult(statistic=np.float64(0.0679107088217356), pvalue=np.float64(0.03491783831350693))"
            ]
          },
          "execution_count": 20,
          "metadata": {},
          "output_type": "execute_result"
        }
      ],
      "source": [
        "stats.pearsonr(df_cameras['Effective pixels'], df_cameras['Weight (inc. batteries)'])"
      ]
    },
    {
      "cell_type": "markdown",
      "source": [
        "so it seems the p value is less that 5% so we cant throw it out, we can say that is barely coorelated.\n",
        "\n",
        "---"
      ],
      "metadata": {
        "id": "MFfJRIRxkscf"
      },
      "id": "MFfJRIRxkscf"
    },
    {
      "cell_type": "markdown",
      "id": "a262729b",
      "metadata": {
        "id": "a262729b"
      },
      "source": [
        "For this problem the strong and weak correlations respectiely are:\n",
        "- ***Strong***\n",
        "\n",
        "    It seems the strongest is effective pixels and max resolution, it seems as either goes up the other does to. Since the correlation is 95% it is very strong!\n",
        "\n",
        "<br>\n",
        "\n",
        "- ***Weak***\n",
        "\n",
        "    It seems the weakest is pixels and weight, the correlation is just 6.8%, the correlation is definetly not statisically significant, neither has a major effective on another and is simlpy considence."
      ]
    },
    {
      "cell_type": "markdown",
      "source": [
        "---"
      ],
      "metadata": {
        "id": "takrJ6a3kF--"
      },
      "id": "takrJ6a3kF--"
    },
    {
      "cell_type": "code",
      "execution_count": null,
      "id": "7dcbdf2b",
      "metadata": {
        "id": "7dcbdf2b",
        "outputId": "7634708d-59ac-4ddd-e006-38e98571c265"
      },
      "outputs": [
        {
          "data": {
            "application/vnd.microsoft.datawrangler.viewer.v0+json": {
              "columns": [
                {
                  "name": "index",
                  "rawType": "int64",
                  "type": "integer"
                },
                {
                  "name": "Release date",
                  "rawType": "int64",
                  "type": "integer"
                },
                {
                  "name": "Max resolution",
                  "rawType": "float64",
                  "type": "float"
                }
              ],
              "conversionMethod": "pd.DataFrame",
              "ref": "38fc3dce-d756-478d-822a-832d0ddb2996",
              "rows": [
                [
                  "0",
                  "1994",
                  "1524.0"
                ],
                [
                  "1",
                  "1995",
                  "3060.0"
                ],
                [
                  "2",
                  "1996",
                  "784.0"
                ],
                [
                  "3",
                  "1997",
                  "859.4285714285714"
                ],
                [
                  "4",
                  "1998",
                  "1282.857142857143"
                ]
              ],
              "shape": {
                "columns": 2,
                "rows": 5
              }
            },
            "text/html": [
              "<div>\n",
              "<style scoped>\n",
              "    .dataframe tbody tr th:only-of-type {\n",
              "        vertical-align: middle;\n",
              "    }\n",
              "\n",
              "    .dataframe tbody tr th {\n",
              "        vertical-align: top;\n",
              "    }\n",
              "\n",
              "    .dataframe thead th {\n",
              "        text-align: right;\n",
              "    }\n",
              "</style>\n",
              "<table border=\"1\" class=\"dataframe\">\n",
              "  <thead>\n",
              "    <tr style=\"text-align: right;\">\n",
              "      <th></th>\n",
              "      <th>Release date</th>\n",
              "      <th>Max resolution</th>\n",
              "    </tr>\n",
              "  </thead>\n",
              "  <tbody>\n",
              "    <tr>\n",
              "      <th>0</th>\n",
              "      <td>1994</td>\n",
              "      <td>1524.000000</td>\n",
              "    </tr>\n",
              "    <tr>\n",
              "      <th>1</th>\n",
              "      <td>1995</td>\n",
              "      <td>3060.000000</td>\n",
              "    </tr>\n",
              "    <tr>\n",
              "      <th>2</th>\n",
              "      <td>1996</td>\n",
              "      <td>784.000000</td>\n",
              "    </tr>\n",
              "    <tr>\n",
              "      <th>3</th>\n",
              "      <td>1997</td>\n",
              "      <td>859.428571</td>\n",
              "    </tr>\n",
              "    <tr>\n",
              "      <th>4</th>\n",
              "      <td>1998</td>\n",
              "      <td>1282.857143</td>\n",
              "    </tr>\n",
              "  </tbody>\n",
              "</table>\n",
              "</div>"
            ],
            "text/plain": [
              "   Release date  Max resolution\n",
              "0          1994     1524.000000\n",
              "1          1995     3060.000000\n",
              "2          1996      784.000000\n",
              "3          1997      859.428571\n",
              "4          1998     1282.857143"
            ]
          },
          "execution_count": 21,
          "metadata": {},
          "output_type": "execute_result"
        }
      ],
      "source": [
        "df_max_yearly = df_cameras.groupby(['Release date'], as_index=False)['Max resolution'].mean()\n",
        "df_max_yearly.head()"
      ]
    },
    {
      "cell_type": "code",
      "execution_count": null,
      "id": "a0ac0b35",
      "metadata": {
        "id": "a0ac0b35",
        "outputId": "e7a2a168-aec9-4645-86e3-3a521b62052d"
      },
      "outputs": [
        {
          "data": {
            "text/plain": [
              "<Axes: xlabel='Release date', ylabel='Max resolution'>"
            ]
          },
          "execution_count": 22,
          "metadata": {},
          "output_type": "execute_result"
        },
        {
          "data": {
            "image/png": "[encoded data removed]",
            "text/plain": [
              "<Figure size 2000x1000 with 1 Axes>"
            ]
          },
          "metadata": {},
          "output_type": "display_data"
        }
      ],
      "source": [
        "plt.figure(figsize=(20,10))\n",
        "sns.regplot(data=df_max_yearly, x='Release date', y='Max resolution', line_kws={'color': 'black'})"
      ]
    },
    {
      "cell_type": "code",
      "execution_count": null,
      "id": "31b9d481",
      "metadata": {
        "id": "31b9d481",
        "outputId": "713725c2-e371-4f0f-bbb4-ae37cec56c14"
      },
      "outputs": [
        {
          "data": {
            "text/plain": [
              "LinregressResult(slope=np.float64(129.290102382717), intercept=np.float64(-256600.07053962146), rvalue=np.float64(0.6657118117376637), pvalue=np.float64(0.009355163144205678), stderr=np.float64(41.83587358913661), intercept_stderr=np.float64(83692.83503065282))"
            ]
          },
          "execution_count": 23,
          "metadata": {},
          "output_type": "execute_result"
        }
      ],
      "source": [
        "linregress_results = stats.linregress(df_max_yearly['Release date'], df_max_yearly['Max resolution'])\n",
        "linregress_results"
      ]
    },
    {
      "cell_type": "markdown",
      "id": "2573909a",
      "metadata": {
        "id": "2573909a"
      },
      "source": [
        "The alternate hypothesis is that the correlation between the given variables is nonzero.\n",
        "\n",
        "The null hypothesis is that there is no coorelation.\n",
        "\n",
        "Max resolution increases by 129.290102382717 yearly as by the stats.\n",
        "\n",
        "The p value is not greater than 5% so we can throw out the null hypothesis, meaning there is a coorelation\n",
        "\n",
        "\n",
        "---"
      ]
    },
    {
      "cell_type": "markdown",
      "id": "ff9caeda",
      "metadata": {
        "id": "ff9caeda"
      },
      "source": [
        "3.  Split the dataset in two: one for cameras released on or after 2004, and one for cameras released before 2004. Is the mean camera weight different across these time periods? Is it significant?\n",
        "4.  Using the before/after 2004 split, create a contingency table showing how many cameras were released for each brand (rows) in each time period (columns). Are there significant differences in brand distribution before and after 2004? Which brands released a very different number of cameras than expected?"
      ]
    },
    {
      "cell_type": "code",
      "execution_count": null,
      "id": "de8f19fc",
      "metadata": {
        "id": "de8f19fc",
        "outputId": "f5f43fb4-1fa2-47a2-ff12-4239d03a4403"
      },
      "outputs": [
        {
          "data": {
            "application/vnd.microsoft.datawrangler.viewer.v0+json": {
              "columns": [
                {
                  "name": "index",
                  "rawType": "int64",
                  "type": "integer"
                },
                {
                  "name": "Brand",
                  "rawType": "object",
                  "type": "string"
                },
                {
                  "name": "Release date",
                  "rawType": "int64",
                  "type": "integer"
                },
                {
                  "name": "Max resolution",
                  "rawType": "float64",
                  "type": "float"
                },
                {
                  "name": "Effective pixels",
                  "rawType": "float64",
                  "type": "float"
                },
                {
                  "name": "Normal focus range",
                  "rawType": "float64",
                  "type": "float"
                },
                {
                  "name": "Weight (inc. batteries)",
                  "rawType": "float64",
                  "type": "float"
                },
                {
                  "name": "Dimensions",
                  "rawType": "float64",
                  "type": "float"
                }
              ],
              "conversionMethod": "pd.DataFrame",
              "ref": "40ed5888-ce30-4d83-91ed-895ddaece4f6",
              "rows": [
                [
                  "0",
                  "Canon",
                  "1997",
                  "640.0",
                  "0.0",
                  "70.0",
                  "320.0",
                  "93.0"
                ],
                [
                  "1",
                  "Canon",
                  "1996",
                  "832.0",
                  "0.0",
                  "40.0",
                  "460.0",
                  "160.0"
                ],
                [
                  "2",
                  "Canon",
                  "2001",
                  "1280.0",
                  "1.0",
                  "76.0",
                  "375.0",
                  "110.0"
                ],
                [
                  "3",
                  "Canon",
                  "2002",
                  "1280.0",
                  "1.0",
                  "20.0",
                  "225.0",
                  "110.0"
                ],
                [
                  "4",
                  "Canon",
                  "2001",
                  "1600.0",
                  "1.0",
                  "76.0",
                  "375.0",
                  "110.0"
                ]
              ],
              "shape": {
                "columns": 7,
                "rows": 5
              }
            },
            "text/html": [
              "<div>\n",
              "<style scoped>\n",
              "    .dataframe tbody tr th:only-of-type {\n",
              "        vertical-align: middle;\n",
              "    }\n",
              "\n",
              "    .dataframe tbody tr th {\n",
              "        vertical-align: top;\n",
              "    }\n",
              "\n",
              "    .dataframe thead th {\n",
              "        text-align: right;\n",
              "    }\n",
              "</style>\n",
              "<table border=\"1\" class=\"dataframe\">\n",
              "  <thead>\n",
              "    <tr style=\"text-align: right;\">\n",
              "      <th></th>\n",
              "      <th>Brand</th>\n",
              "      <th>Release date</th>\n",
              "      <th>Max resolution</th>\n",
              "      <th>Effective pixels</th>\n",
              "      <th>Normal focus range</th>\n",
              "      <th>Weight (inc. batteries)</th>\n",
              "      <th>Dimensions</th>\n",
              "    </tr>\n",
              "  </thead>\n",
              "  <tbody>\n",
              "    <tr>\n",
              "      <th>0</th>\n",
              "      <td>Canon</td>\n",
              "      <td>1997</td>\n",
              "      <td>640.0</td>\n",
              "      <td>0.0</td>\n",
              "      <td>70.0</td>\n",
              "      <td>320.0</td>\n",
              "      <td>93.0</td>\n",
              "    </tr>\n",
              "    <tr>\n",
              "      <th>1</th>\n",
              "      <td>Canon</td>\n",
              "      <td>1996</td>\n",
              "      <td>832.0</td>\n",
              "      <td>0.0</td>\n",
              "      <td>40.0</td>\n",
              "      <td>460.0</td>\n",
              "      <td>160.0</td>\n",
              "    </tr>\n",
              "    <tr>\n",
              "      <th>2</th>\n",
              "      <td>Canon</td>\n",
              "      <td>2001</td>\n",
              "      <td>1280.0</td>\n",
              "      <td>1.0</td>\n",
              "      <td>76.0</td>\n",
              "      <td>375.0</td>\n",
              "      <td>110.0</td>\n",
              "    </tr>\n",
              "    <tr>\n",
              "      <th>3</th>\n",
              "      <td>Canon</td>\n",
              "      <td>2002</td>\n",
              "      <td>1280.0</td>\n",
              "      <td>1.0</td>\n",
              "      <td>20.0</td>\n",
              "      <td>225.0</td>\n",
              "      <td>110.0</td>\n",
              "    </tr>\n",
              "    <tr>\n",
              "      <th>4</th>\n",
              "      <td>Canon</td>\n",
              "      <td>2001</td>\n",
              "      <td>1600.0</td>\n",
              "      <td>1.0</td>\n",
              "      <td>76.0</td>\n",
              "      <td>375.0</td>\n",
              "      <td>110.0</td>\n",
              "    </tr>\n",
              "  </tbody>\n",
              "</table>\n",
              "</div>"
            ],
            "text/plain": [
              "   Brand  Release date  Max resolution  Effective pixels  Normal focus range  \\\n",
              "0  Canon          1997           640.0               0.0                70.0   \n",
              "1  Canon          1996           832.0               0.0                40.0   \n",
              "2  Canon          2001          1280.0               1.0                76.0   \n",
              "3  Canon          2002          1280.0               1.0                20.0   \n",
              "4  Canon          2001          1600.0               1.0                76.0   \n",
              "\n",
              "   Weight (inc. batteries)  Dimensions  \n",
              "0                    320.0        93.0  \n",
              "1                    460.0       160.0  \n",
              "2                    375.0       110.0  \n",
              "3                    225.0       110.0  \n",
              "4                    375.0       110.0  "
            ]
          },
          "execution_count": 25,
          "metadata": {},
          "output_type": "execute_result"
        }
      ],
      "source": [
        "df_cameras = pd.read_csv('https://raw.githubusercontent.com/CUNY-CISC-3225/datasets/refs/heads/main/cameras.csv')\n",
        "restriction_columns = ['Brand','Release date', 'Max resolution', 'Effective pixels', 'Normal focus range', 'Weight (inc. batteries)', 'Dimensions']\n",
        "df_cameras = df_cameras[restriction_columns]\n",
        "df_cameras.head()"
      ]
    },
    {
      "cell_type": "code",
      "execution_count": null,
      "id": "aebd37a0",
      "metadata": {
        "id": "aebd37a0",
        "outputId": "6c939156-80fb-4836-f822-65770e1d787e"
      },
      "outputs": [
        {
          "data": {
            "application/vnd.microsoft.datawrangler.viewer.v0+json": {
              "columns": [
                {
                  "name": "index",
                  "rawType": "int64",
                  "type": "integer"
                },
                {
                  "name": "Brand",
                  "rawType": "object",
                  "type": "string"
                },
                {
                  "name": "Release date",
                  "rawType": "int64",
                  "type": "integer"
                },
                {
                  "name": "Max resolution",
                  "rawType": "float64",
                  "type": "float"
                },
                {
                  "name": "Effective pixels",
                  "rawType": "float64",
                  "type": "float"
                },
                {
                  "name": "Normal focus range",
                  "rawType": "float64",
                  "type": "float"
                },
                {
                  "name": "Weight (inc. batteries)",
                  "rawType": "float64",
                  "type": "float"
                },
                {
                  "name": "Dimensions",
                  "rawType": "float64",
                  "type": "float"
                },
                {
                  "name": "Time",
                  "rawType": "object",
                  "type": "string"
                }
              ],
              "conversionMethod": "pd.DataFrame",
              "ref": "5397aef1-3426-4e01-8279-9c521776c145",
              "rows": [
                [
                  "0",
                  "Canon",
                  "1997",
                  "640.0",
                  "0.0",
                  "70.0",
                  "320.0",
                  "93.0",
                  "Pre"
                ],
                [
                  "1",
                  "Canon",
                  "1996",
                  "832.0",
                  "0.0",
                  "40.0",
                  "460.0",
                  "160.0",
                  "Pre"
                ],
                [
                  "2",
                  "Canon",
                  "2001",
                  "1280.0",
                  "1.0",
                  "76.0",
                  "375.0",
                  "110.0",
                  "Pre"
                ],
                [
                  "3",
                  "Canon",
                  "2002",
                  "1280.0",
                  "1.0",
                  "20.0",
                  "225.0",
                  "110.0",
                  "Pre"
                ],
                [
                  "4",
                  "Canon",
                  "2001",
                  "1600.0",
                  "1.0",
                  "76.0",
                  "375.0",
                  "110.0",
                  "Pre"
                ]
              ],
              "shape": {
                "columns": 8,
                "rows": 5
              }
            },
            "text/html": [
              "<div>\n",
              "<style scoped>\n",
              "    .dataframe tbody tr th:only-of-type {\n",
              "        vertical-align: middle;\n",
              "    }\n",
              "\n",
              "    .dataframe tbody tr th {\n",
              "        vertical-align: top;\n",
              "    }\n",
              "\n",
              "    .dataframe thead th {\n",
              "        text-align: right;\n",
              "    }\n",
              "</style>\n",
              "<table border=\"1\" class=\"dataframe\">\n",
              "  <thead>\n",
              "    <tr style=\"text-align: right;\">\n",
              "      <th></th>\n",
              "      <th>Brand</th>\n",
              "      <th>Release date</th>\n",
              "      <th>Max resolution</th>\n",
              "      <th>Effective pixels</th>\n",
              "      <th>Normal focus range</th>\n",
              "      <th>Weight (inc. batteries)</th>\n",
              "      <th>Dimensions</th>\n",
              "      <th>Time</th>\n",
              "    </tr>\n",
              "  </thead>\n",
              "  <tbody>\n",
              "    <tr>\n",
              "      <th>0</th>\n",
              "      <td>Canon</td>\n",
              "      <td>1997</td>\n",
              "      <td>640.0</td>\n",
              "      <td>0.0</td>\n",
              "      <td>70.0</td>\n",
              "      <td>320.0</td>\n",
              "      <td>93.0</td>\n",
              "      <td>Pre</td>\n",
              "    </tr>\n",
              "    <tr>\n",
              "      <th>1</th>\n",
              "      <td>Canon</td>\n",
              "      <td>1996</td>\n",
              "      <td>832.0</td>\n",
              "      <td>0.0</td>\n",
              "      <td>40.0</td>\n",
              "      <td>460.0</td>\n",
              "      <td>160.0</td>\n",
              "      <td>Pre</td>\n",
              "    </tr>\n",
              "    <tr>\n",
              "      <th>2</th>\n",
              "      <td>Canon</td>\n",
              "      <td>2001</td>\n",
              "      <td>1280.0</td>\n",
              "      <td>1.0</td>\n",
              "      <td>76.0</td>\n",
              "      <td>375.0</td>\n",
              "      <td>110.0</td>\n",
              "      <td>Pre</td>\n",
              "    </tr>\n",
              "    <tr>\n",
              "      <th>3</th>\n",
              "      <td>Canon</td>\n",
              "      <td>2002</td>\n",
              "      <td>1280.0</td>\n",
              "      <td>1.0</td>\n",
              "      <td>20.0</td>\n",
              "      <td>225.0</td>\n",
              "      <td>110.0</td>\n",
              "      <td>Pre</td>\n",
              "    </tr>\n",
              "    <tr>\n",
              "      <th>4</th>\n",
              "      <td>Canon</td>\n",
              "      <td>2001</td>\n",
              "      <td>1600.0</td>\n",
              "      <td>1.0</td>\n",
              "      <td>76.0</td>\n",
              "      <td>375.0</td>\n",
              "      <td>110.0</td>\n",
              "      <td>Pre</td>\n",
              "    </tr>\n",
              "  </tbody>\n",
              "</table>\n",
              "</div>"
            ],
            "text/plain": [
              "   Brand  Release date  Max resolution  Effective pixels  Normal focus range  \\\n",
              "0  Canon          1997           640.0               0.0                70.0   \n",
              "1  Canon          1996           832.0               0.0                40.0   \n",
              "2  Canon          2001          1280.0               1.0                76.0   \n",
              "3  Canon          2002          1280.0               1.0                20.0   \n",
              "4  Canon          2001          1600.0               1.0                76.0   \n",
              "\n",
              "   Weight (inc. batteries)  Dimensions Time  \n",
              "0                    320.0        93.0  Pre  \n",
              "1                    460.0       160.0  Pre  \n",
              "2                    375.0       110.0  Pre  \n",
              "3                    225.0       110.0  Pre  \n",
              "4                    375.0       110.0  Pre  "
            ]
          },
          "execution_count": 28,
          "metadata": {},
          "output_type": "execute_result"
        }
      ],
      "source": [
        "def time(x):\n",
        "    if x < 2004:\n",
        "        return 'Pre'\n",
        "    else:\n",
        "        return 'Post'\n",
        "\n",
        "df_cameras['Time'] = df_cameras['Release date'].apply(time)\n",
        "df_cameras.head()"
      ]
    },
    {
      "cell_type": "code",
      "execution_count": null,
      "id": "789f1060",
      "metadata": {
        "id": "789f1060"
      },
      "outputs": [],
      "source": [
        "before = df_cameras[df_cameras['Release date'] < 2004]['Weight (inc. batteries)']\n",
        "after = df_cameras[df_cameras['Release date'] > 2003]['Weight (inc. batteries)']"
      ]
    },
    {
      "cell_type": "code",
      "execution_count": null,
      "id": "3508551b",
      "metadata": {
        "id": "3508551b",
        "outputId": "d0604bf2-5e2c-445d-ddad-c5ca94b7ec31"
      },
      "outputs": [
        {
          "data": {
            "text/plain": [
              "np.float64(400.1220159151194)"
            ]
          },
          "execution_count": 54,
          "metadata": {},
          "output_type": "execute_result"
        }
      ],
      "source": [
        "before.mean()"
      ]
    },
    {
      "cell_type": "code",
      "execution_count": null,
      "id": "5d976595",
      "metadata": {
        "id": "5d976595",
        "outputId": "7a02103a-30d1-4c7e-b168-26f90482c216"
      },
      "outputs": [
        {
          "data": {
            "text/plain": [
              "np.float64(273.078231292517)"
            ]
          },
          "execution_count": 55,
          "metadata": {},
          "output_type": "execute_result"
        }
      ],
      "source": [
        "after.mean()"
      ]
    },
    {
      "cell_type": "markdown",
      "source": [
        "The alternate hypothesis is that the correlation between the given variables is nonzero.\n",
        "\n",
        "The null hypothesis is that there is no coorelation."
      ],
      "metadata": {
        "id": "ih2cDK8Klpoe"
      },
      "id": "ih2cDK8Klpoe"
    },
    {
      "cell_type": "code",
      "execution_count": null,
      "id": "e9d459b6",
      "metadata": {
        "id": "e9d459b6",
        "outputId": "896a3a29-4df6-4aaa-94c8-3f858378c5e1"
      },
      "outputs": [
        {
          "data": {
            "text/plain": [
              "TtestResult(statistic=np.float64(7.460698907839023), pvalue=np.float64(1.9201713638516244e-13), df=np.float64(963.0))"
            ]
          },
          "execution_count": 56,
          "metadata": {},
          "output_type": "execute_result"
        }
      ],
      "source": [
        "stats.ttest_ind(before, after)"
      ]
    },
    {
      "cell_type": "markdown",
      "id": "887e21aa",
      "metadata": {
        "id": "887e21aa"
      },
      "source": [
        "Since the p value is low we reject the null hypothesis, so we can say there is a signifcant difference in weight based on time period.\n",
        "\n",
        "---"
      ]
    },
    {
      "cell_type": "code",
      "execution_count": null,
      "id": "3e183d32",
      "metadata": {
        "id": "3e183d32",
        "outputId": "c9678e61-e08a-4b6b-fac5-9af8fcee22ff"
      },
      "outputs": [
        {
          "data": {
            "application/vnd.microsoft.datawrangler.viewer.v0+json": {
              "columns": [
                {
                  "name": "Brand",
                  "rawType": "object",
                  "type": "string"
                },
                {
                  "name": "Post",
                  "rawType": "int64",
                  "type": "integer"
                },
                {
                  "name": "Pre",
                  "rawType": "int64",
                  "type": "integer"
                }
              ],
              "conversionMethod": "pd.DataFrame",
              "ref": "93a4f39e-66b1-4177-8410-c9a168bc4fc6",
              "rows": [
                [
                  "Canon",
                  "73",
                  "42"
                ],
                [
                  "Casio",
                  "36",
                  "27"
                ],
                [
                  "Fujifilm",
                  "50",
                  "49"
                ],
                [
                  "HP",
                  "25",
                  "19"
                ],
                [
                  "Kodak",
                  "54",
                  "48"
                ],
                [
                  "Leica",
                  "6",
                  "5"
                ],
                [
                  "Nikon",
                  "60",
                  "30"
                ],
                [
                  "Olympus",
                  "72",
                  "50"
                ],
                [
                  "Panasonic",
                  "44",
                  "11"
                ],
                [
                  "Pentax",
                  "50",
                  "18"
                ],
                [
                  "Ricoh",
                  "16",
                  "10"
                ],
                [
                  "Samsung",
                  "48",
                  "6"
                ],
                [
                  "Sony",
                  "54",
                  "62"
                ]
              ],
              "shape": {
                "columns": 2,
                "rows": 13
              }
            },
            "text/html": [
              "<div>\n",
              "<style scoped>\n",
              "    .dataframe tbody tr th:only-of-type {\n",
              "        vertical-align: middle;\n",
              "    }\n",
              "\n",
              "    .dataframe tbody tr th {\n",
              "        vertical-align: top;\n",
              "    }\n",
              "\n",
              "    .dataframe thead th {\n",
              "        text-align: right;\n",
              "    }\n",
              "</style>\n",
              "<table border=\"1\" class=\"dataframe\">\n",
              "  <thead>\n",
              "    <tr style=\"text-align: right;\">\n",
              "      <th>Time</th>\n",
              "      <th>Post</th>\n",
              "      <th>Pre</th>\n",
              "    </tr>\n",
              "    <tr>\n",
              "      <th>Brand</th>\n",
              "      <th></th>\n",
              "      <th></th>\n",
              "    </tr>\n",
              "  </thead>\n",
              "  <tbody>\n",
              "    <tr>\n",
              "      <th>Canon</th>\n",
              "      <td>73</td>\n",
              "      <td>42</td>\n",
              "    </tr>\n",
              "    <tr>\n",
              "      <th>Casio</th>\n",
              "      <td>36</td>\n",
              "      <td>27</td>\n",
              "    </tr>\n",
              "    <tr>\n",
              "      <th>Fujifilm</th>\n",
              "      <td>50</td>\n",
              "      <td>49</td>\n",
              "    </tr>\n",
              "    <tr>\n",
              "      <th>HP</th>\n",
              "      <td>25</td>\n",
              "      <td>19</td>\n",
              "    </tr>\n",
              "    <tr>\n",
              "      <th>Kodak</th>\n",
              "      <td>54</td>\n",
              "      <td>48</td>\n",
              "    </tr>\n",
              "    <tr>\n",
              "      <th>Leica</th>\n",
              "      <td>6</td>\n",
              "      <td>5</td>\n",
              "    </tr>\n",
              "    <tr>\n",
              "      <th>Nikon</th>\n",
              "      <td>60</td>\n",
              "      <td>30</td>\n",
              "    </tr>\n",
              "    <tr>\n",
              "      <th>Olympus</th>\n",
              "      <td>72</td>\n",
              "      <td>50</td>\n",
              "    </tr>\n",
              "    <tr>\n",
              "      <th>Panasonic</th>\n",
              "      <td>44</td>\n",
              "      <td>11</td>\n",
              "    </tr>\n",
              "    <tr>\n",
              "      <th>Pentax</th>\n",
              "      <td>50</td>\n",
              "      <td>18</td>\n",
              "    </tr>\n",
              "    <tr>\n",
              "      <th>Ricoh</th>\n",
              "      <td>16</td>\n",
              "      <td>10</td>\n",
              "    </tr>\n",
              "    <tr>\n",
              "      <th>Samsung</th>\n",
              "      <td>48</td>\n",
              "      <td>6</td>\n",
              "    </tr>\n",
              "    <tr>\n",
              "      <th>Sony</th>\n",
              "      <td>54</td>\n",
              "      <td>62</td>\n",
              "    </tr>\n",
              "  </tbody>\n",
              "</table>\n",
              "</div>"
            ],
            "text/plain": [
              "Time       Post  Pre\n",
              "Brand               \n",
              "Canon        73   42\n",
              "Casio        36   27\n",
              "Fujifilm     50   49\n",
              "HP           25   19\n",
              "Kodak        54   48\n",
              "Leica         6    5\n",
              "Nikon        60   30\n",
              "Olympus      72   50\n",
              "Panasonic    44   11\n",
              "Pentax       50   18\n",
              "Ricoh        16   10\n",
              "Samsung      48    6\n",
              "Sony         54   62"
            ]
          },
          "execution_count": 41,
          "metadata": {},
          "output_type": "execute_result"
        }
      ],
      "source": [
        "cross_time = pd.crosstab(df_cameras['Brand'], df_cameras['Time'])\n",
        "cross_time.head(15)"
      ]
    },
    {
      "cell_type": "markdown",
      "source": [
        "The alternate hypothesis is that the correlation between the given variables is nonzero.\n",
        "\n",
        "The null hypothesis is that there is no coorelation."
      ],
      "metadata": {
        "id": "0fONEZZwl3cz"
      },
      "id": "0fONEZZwl3cz"
    },
    {
      "cell_type": "code",
      "execution_count": null,
      "id": "0a099395",
      "metadata": {
        "id": "0a099395",
        "outputId": "bb0d6170-3b31-4b77-e7b8-5cf4efa13bcd"
      },
      "outputs": [
        {
          "data": {
            "text/plain": [
              "Chi2ContingencyResult(statistic=np.float64(50.62814512707472), pvalue=np.float64(1.0832670382400556e-06), dof=12, expected_freq=array([[70.07253886, 44.92746114],\n",
              "       [38.38756477, 24.61243523],\n",
              "       [60.32331606, 38.67668394],\n",
              "       [26.81036269, 17.18963731],\n",
              "       [62.15129534, 39.84870466],\n",
              "       [ 6.70259067,  4.29740933],\n",
              "       [54.83937824, 35.16062176],\n",
              "       [74.33782383, 47.66217617],\n",
              "       [33.51295337, 21.48704663],\n",
              "       [41.43419689, 26.56580311],\n",
              "       [15.84248705, 10.15751295],\n",
              "       [32.90362694, 21.09637306],\n",
              "       [70.68186528, 45.31813472]]))"
            ]
          },
          "execution_count": 39,
          "metadata": {},
          "output_type": "execute_result"
        }
      ],
      "source": [
        "results = stats.chi2_contingency(cross_time)\n",
        "results"
      ]
    },
    {
      "cell_type": "markdown",
      "source": [
        "Since the p value is not greater than 5% we can throw out the null hypothesis meaning, there is a coorelation between brands the time period.\n",
        "\n",
        "---"
      ],
      "metadata": {
        "id": "ZwO4EGN9l7d2"
      },
      "id": "ZwO4EGN9l7d2"
    },
    {
      "cell_type": "code",
      "execution_count": null,
      "id": "ec84e299",
      "metadata": {
        "id": "ec84e299",
        "outputId": "13e54979-e414-4bad-fdad-9a4f03ecea2b"
      },
      "outputs": [
        {
          "data": {
            "text/plain": [
              "<Axes: xlabel='Time', ylabel='Brand'>"
            ]
          },
          "execution_count": 40,
          "metadata": {},
          "output_type": "execute_result"
        },
        {
          "data": {
            "image/png": "[encoded data removed]",
            "text/plain": [
              "<Figure size 640x480 with 2 Axes>"
            ]
          },
          "metadata": {},
          "output_type": "display_data"
        }
      ],
      "source": [
        "sns.heatmap(\n",
        "    cross_time - results.expected_freq,\n",
        "    cmap='vlag',\n",
        "    annot=True\n",
        ")"
      ]
    },
    {
      "cell_type": "markdown",
      "id": "c3cbdf4c",
      "metadata": {
        "id": "c3cbdf4c"
      },
      "source": [
        "Since the p value is small it seems there is a difference between time and how much releases each camere had. It seems sony, samsung, pentax, panasonic, kodak, and fujifilms had a difference in amount released that expected. Sony seems to have relases lower than expected post 2004 while fujifilm and kodak have also, while the rest mentioned have higher than expected."
      ]
    },
    {
      "cell_type": "code",
      "execution_count": null,
      "id": "5a20c170",
      "metadata": {
        "id": "5a20c170"
      },
      "outputs": [],
      "source": []
    }
  ],
  "metadata": {
    "kernelspec": {
      "display_name": ".venv",
      "language": "python",
      "name": "python3"
    },
    "language_info": {
      "codemirror_mode": {
        "name": "ipython",
        "version": 3
      },
      "file_extension": ".py",
      "mimetype": "text/x-python",
      "name": "python",
      "nbconvert_exporter": "python",
      "pygments_lexer": "ipython3",
      "version": "3.12.3"
    },
    "colab": {
      "provenance": []
    }
  },
  "nbformat": 4,
  "nbformat_minor": 5
}