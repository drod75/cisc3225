{
 "cells": [
  {
   "cell_type": "markdown",
   "id": "71ffbdda",
   "metadata": {},
   "source": [
    "## 1 Pokémon Visualizations (10 points)\n",
    "\n",
    "For this section, download the Pokémon dataset from here: `https://raw.githubusercontent.com/CUNY-CISC-3225/datasets/refs/heads/main/pokemon.csv`\n",
    "\n",
    "If you like, you may experiment with different color schemes: see `https://matplotlib.org/stable/users/explain/colors/colormaps.html` for a listing of color maps available in Matplotlib. When plotting, you can indicate your chosen colors with the `cmap` argument. For example, if you want to use the \"viridis\" map, include `cmap=\"viridis\"` into the plotting function."
   ]
  },
  {
   "cell_type": "code",
   "execution_count": 1,
   "id": "4b1a8e39",
   "metadata": {},
   "outputs": [
    {
     "data": {
      "application/vnd.microsoft.datawrangler.viewer.v0+json": {
       "columns": [
        {
         "name": "index",
         "rawType": "int64",
         "type": "integer"
        },
        {
         "name": "attack",
         "rawType": "int64",
         "type": "integer"
        },
        {
         "name": "base_happiness",
         "rawType": "int64",
         "type": "integer"
        },
        {
         "name": "cap_rate",
         "rawType": "int64",
         "type": "integer"
        },
        {
         "name": "defense",
         "rawType": "int64",
         "type": "integer"
        },
        {
         "name": "exp_growth",
         "rawType": "int64",
         "type": "integer"
        },
        {
         "name": "height",
         "rawType": "float64",
         "type": "float"
        },
        {
         "name": "hp",
         "rawType": "int64",
         "type": "integer"
        },
        {
         "name": "name",
         "rawType": "object",
         "type": "string"
        },
        {
         "name": "pokedex_number",
         "rawType": "int64",
         "type": "integer"
        },
        {
         "name": "speed",
         "rawType": "int64",
         "type": "integer"
        },
        {
         "name": "type_1",
         "rawType": "object",
         "type": "string"
        },
        {
         "name": "type_2",
         "rawType": "object",
         "type": "unknown"
        },
        {
         "name": "weight",
         "rawType": "float64",
         "type": "float"
        },
        {
         "name": "generation",
         "rawType": "int64",
         "type": "integer"
        },
        {
         "name": "is_legendary",
         "rawType": "int64",
         "type": "integer"
        }
       ],
       "conversionMethod": "pd.DataFrame",
       "ref": "c0b9ffec-a2b3-4ab4-979a-aa838e914ce6",
       "rows": [
        [
         "0",
         "49",
         "70",
         "45",
         "49",
         "1059860",
         "0.7",
         "45",
         "Bulbasaur",
         "1",
         "45",
         "grass",
         "poison",
         "6.9",
         "1",
         "0"
        ],
        [
         "1",
         "62",
         "70",
         "45",
         "63",
         "1059860",
         "1.0",
         "60",
         "Ivysaur",
         "2",
         "60",
         "grass",
         "poison",
         "13.0",
         "1",
         "0"
        ],
        [
         "2",
         "100",
         "70",
         "45",
         "123",
         "1059860",
         "2.0",
         "80",
         "Venusaur",
         "3",
         "80",
         "grass",
         "poison",
         "100.0",
         "1",
         "0"
        ],
        [
         "3",
         "52",
         "70",
         "45",
         "43",
         "1059860",
         "0.6",
         "39",
         "Charmander",
         "4",
         "65",
         "fire",
         null,
         "8.5",
         "1",
         "0"
        ],
        [
         "4",
         "64",
         "70",
         "45",
         "58",
         "1059860",
         "1.1",
         "58",
         "Charmeleon",
         "5",
         "80",
         "fire",
         null,
         "19.0",
         "1",
         "0"
        ]
       ],
       "shape": {
        "columns": 15,
        "rows": 5
       }
      },
      "text/html": [
       "<div>\n",
       "<style scoped>\n",
       "    .dataframe tbody tr th:only-of-type {\n",
       "        vertical-align: middle;\n",
       "    }\n",
       "\n",
       "    .dataframe tbody tr th {\n",
       "        vertical-align: top;\n",
       "    }\n",
       "\n",
       "    .dataframe thead th {\n",
       "        text-align: right;\n",
       "    }\n",
       "</style>\n",
       "<table border=\"1\" class=\"dataframe\">\n",
       "  <thead>\n",
       "    <tr style=\"text-align: right;\">\n",
       "      <th></th>\n",
       "      <th>attack</th>\n",
       "      <th>base_happiness</th>\n",
       "      <th>cap_rate</th>\n",
       "      <th>defense</th>\n",
       "      <th>exp_growth</th>\n",
       "      <th>height</th>\n",
       "      <th>hp</th>\n",
       "      <th>name</th>\n",
       "      <th>pokedex_number</th>\n",
       "      <th>speed</th>\n",
       "      <th>type_1</th>\n",
       "      <th>type_2</th>\n",
       "      <th>weight</th>\n",
       "      <th>generation</th>\n",
       "      <th>is_legendary</th>\n",
       "    </tr>\n",
       "  </thead>\n",
       "  <tbody>\n",
       "    <tr>\n",
       "      <th>0</th>\n",
       "      <td>49</td>\n",
       "      <td>70</td>\n",
       "      <td>45</td>\n",
       "      <td>49</td>\n",
       "      <td>1059860</td>\n",
       "      <td>0.7</td>\n",
       "      <td>45</td>\n",
       "      <td>Bulbasaur</td>\n",
       "      <td>1</td>\n",
       "      <td>45</td>\n",
       "      <td>grass</td>\n",
       "      <td>poison</td>\n",
       "      <td>6.9</td>\n",
       "      <td>1</td>\n",
       "      <td>0</td>\n",
       "    </tr>\n",
       "    <tr>\n",
       "      <th>1</th>\n",
       "      <td>62</td>\n",
       "      <td>70</td>\n",
       "      <td>45</td>\n",
       "      <td>63</td>\n",
       "      <td>1059860</td>\n",
       "      <td>1.0</td>\n",
       "      <td>60</td>\n",
       "      <td>Ivysaur</td>\n",
       "      <td>2</td>\n",
       "      <td>60</td>\n",
       "      <td>grass</td>\n",
       "      <td>poison</td>\n",
       "      <td>13.0</td>\n",
       "      <td>1</td>\n",
       "      <td>0</td>\n",
       "    </tr>\n",
       "    <tr>\n",
       "      <th>2</th>\n",
       "      <td>100</td>\n",
       "      <td>70</td>\n",
       "      <td>45</td>\n",
       "      <td>123</td>\n",
       "      <td>1059860</td>\n",
       "      <td>2.0</td>\n",
       "      <td>80</td>\n",
       "      <td>Venusaur</td>\n",
       "      <td>3</td>\n",
       "      <td>80</td>\n",
       "      <td>grass</td>\n",
       "      <td>poison</td>\n",
       "      <td>100.0</td>\n",
       "      <td>1</td>\n",
       "      <td>0</td>\n",
       "    </tr>\n",
       "    <tr>\n",
       "      <th>3</th>\n",
       "      <td>52</td>\n",
       "      <td>70</td>\n",
       "      <td>45</td>\n",
       "      <td>43</td>\n",
       "      <td>1059860</td>\n",
       "      <td>0.6</td>\n",
       "      <td>39</td>\n",
       "      <td>Charmander</td>\n",
       "      <td>4</td>\n",
       "      <td>65</td>\n",
       "      <td>fire</td>\n",
       "      <td>NaN</td>\n",
       "      <td>8.5</td>\n",
       "      <td>1</td>\n",
       "      <td>0</td>\n",
       "    </tr>\n",
       "    <tr>\n",
       "      <th>4</th>\n",
       "      <td>64</td>\n",
       "      <td>70</td>\n",
       "      <td>45</td>\n",
       "      <td>58</td>\n",
       "      <td>1059860</td>\n",
       "      <td>1.1</td>\n",
       "      <td>58</td>\n",
       "      <td>Charmeleon</td>\n",
       "      <td>5</td>\n",
       "      <td>80</td>\n",
       "      <td>fire</td>\n",
       "      <td>NaN</td>\n",
       "      <td>19.0</td>\n",
       "      <td>1</td>\n",
       "      <td>0</td>\n",
       "    </tr>\n",
       "  </tbody>\n",
       "</table>\n",
       "</div>"
      ],
      "text/plain": [
       "   attack  base_happiness  cap_rate  defense  exp_growth  height  hp  \\\n",
       "0      49              70        45       49     1059860     0.7  45   \n",
       "1      62              70        45       63     1059860     1.0  60   \n",
       "2     100              70        45      123     1059860     2.0  80   \n",
       "3      52              70        45       43     1059860     0.6  39   \n",
       "4      64              70        45       58     1059860     1.1  58   \n",
       "\n",
       "         name  pokedex_number  speed type_1  type_2  weight  generation  \\\n",
       "0   Bulbasaur               1     45  grass  poison     6.9           1   \n",
       "1     Ivysaur               2     60  grass  poison    13.0           1   \n",
       "2    Venusaur               3     80  grass  poison   100.0           1   \n",
       "3  Charmander               4     65   fire     NaN     8.5           1   \n",
       "4  Charmeleon               5     80   fire     NaN    19.0           1   \n",
       "\n",
       "   is_legendary  \n",
       "0             0  \n",
       "1             0  \n",
       "2             0  \n",
       "3             0  \n",
       "4             0  "
      ]
     },
     "execution_count": 1,
     "metadata": {},
     "output_type": "execute_result"
    }
   ],
   "source": [
    "import pandas as pd\n",
    "\n",
    "df = pd.read_csv('https://raw.githubusercontent.com/CUNY-CISC-3225/datasets/refs/heads/main/pokemon.csv')\n",
    "df.head()"
   ]
  },
  {
   "cell_type": "markdown",
   "id": "4a527f22",
   "metadata": {},
   "source": [
    "### 1.1 Height across generations (10 points)\n",
    "\n",
    "For this part, constrain the dataset to fire, water, and grass Pokémon (use the `type1` column).\n",
    "\n",
    "1.  Produce a line plot of generation (x axis) and mean height per generation (y axis). Include a title and appropriate axis labels. Which generation has the tallest Pokemon? The shortest?\n",
    "2.  In Part 1, you should see a large spike in height at generation 3. Revise your previous plot so it shows lines for fire, grass, and water Pokémon separately. Include a legend in addition to an appropriate title and axis labels. Which type is responsible for the unusually tall Pokémon in generation 3?\n",
    "\n"
   ]
  },
  {
   "cell_type": "code",
   "execution_count": 8,
   "id": "885f2956",
   "metadata": {},
   "outputs": [
    {
     "data": {
      "application/vnd.microsoft.datawrangler.viewer.v0+json": {
       "columns": [
        {
         "name": "index",
         "rawType": "int64",
         "type": "integer"
        },
        {
         "name": "generation",
         "rawType": "int64",
         "type": "integer"
        },
        {
         "name": "height",
         "rawType": "float64",
         "type": "float"
        }
       ],
       "conversionMethod": "pd.DataFrame",
       "ref": "2a5b8554-a2b0-4d08-ad9b-973c93a2d495",
       "rows": [
        [
         "0",
         "1",
         "1.241"
        ],
        [
         "1",
         "2",
         "1.163"
        ],
        [
         "2",
         "3",
         "1.23"
        ],
        [
         "3",
         "4",
         "1.134"
        ],
        [
         "4",
         "5",
         "1.032"
        ]
       ],
       "shape": {
        "columns": 2,
        "rows": 5
       }
      },
      "text/html": [
       "<div>\n",
       "<style scoped>\n",
       "    .dataframe tbody tr th:only-of-type {\n",
       "        vertical-align: middle;\n",
       "    }\n",
       "\n",
       "    .dataframe tbody tr th {\n",
       "        vertical-align: top;\n",
       "    }\n",
       "\n",
       "    .dataframe thead th {\n",
       "        text-align: right;\n",
       "    }\n",
       "</style>\n",
       "<table border=\"1\" class=\"dataframe\">\n",
       "  <thead>\n",
       "    <tr style=\"text-align: right;\">\n",
       "      <th></th>\n",
       "      <th>generation</th>\n",
       "      <th>height</th>\n",
       "    </tr>\n",
       "  </thead>\n",
       "  <tbody>\n",
       "    <tr>\n",
       "      <th>0</th>\n",
       "      <td>1</td>\n",
       "      <td>1.241</td>\n",
       "    </tr>\n",
       "    <tr>\n",
       "      <th>1</th>\n",
       "      <td>2</td>\n",
       "      <td>1.163</td>\n",
       "    </tr>\n",
       "    <tr>\n",
       "      <th>2</th>\n",
       "      <td>3</td>\n",
       "      <td>1.230</td>\n",
       "    </tr>\n",
       "    <tr>\n",
       "      <th>3</th>\n",
       "      <td>4</td>\n",
       "      <td>1.134</td>\n",
       "    </tr>\n",
       "    <tr>\n",
       "      <th>4</th>\n",
       "      <td>5</td>\n",
       "      <td>1.032</td>\n",
       "    </tr>\n",
       "  </tbody>\n",
       "</table>\n",
       "</div>"
      ],
      "text/plain": [
       "   generation  height\n",
       "0           1   1.241\n",
       "1           2   1.163\n",
       "2           3   1.230\n",
       "3           4   1.134\n",
       "4           5   1.032"
      ]
     },
     "execution_count": 8,
     "metadata": {},
     "output_type": "execute_result"
    }
   ],
   "source": [
    "df_height_generation = df.groupby(\"generation\", as_index=False)['height'].mean().round(3)\n",
    "df_height_generation.head()"
   ]
  },
  {
   "cell_type": "code",
   "execution_count": 19,
   "id": "df977bbd",
   "metadata": {},
   "outputs": [
    {
     "data": {
      "image/png": "[encoded data removed]",
      "text/plain": [
       "<Figure size 2000x1000 with 1 Axes>"
      ]
     },
     "metadata": {},
     "output_type": "display_data"
    }
   ],
   "source": [
    "import seaborn as sns\n",
    "import matplotlib.pyplot as plt\n",
    "sns.set_theme()\n",
    "\n",
    "plt.figure(figsize=(20,10))\n",
    "sns.lineplot(data=df_height_generation, x='generation', y='height')\n",
    "\n",
    "plt.xlabel(\"Pokemon Generation\")\n",
    "plt.ylabel(\"Generation Average Height\")\n",
    "plt.title(\"Average height by generation\")\n",
    "\n",
    "plt.show()"
   ]
  },
  {
   "cell_type": "markdown",
   "id": "744f4d5c",
   "metadata": {},
   "source": [
    "It seems the pokemon with the tallest is gen 7, while the pokemon with the shortest is gen 5."
   ]
  },
  {
   "cell_type": "code",
   "execution_count": 16,
   "id": "3a808e11",
   "metadata": {},
   "outputs": [
    {
     "data": {
      "application/vnd.microsoft.datawrangler.viewer.v0+json": {
       "columns": [
        {
         "name": "index",
         "rawType": "int64",
         "type": "integer"
        },
        {
         "name": "generation",
         "rawType": "int64",
         "type": "integer"
        },
        {
         "name": "type_1",
         "rawType": "object",
         "type": "string"
        },
        {
         "name": "height",
         "rawType": "float64",
         "type": "float"
        }
       ],
       "conversionMethod": "pd.DataFrame",
       "ref": "e55deb4c-5329-40ad-82c2-77d7fb68cfd2",
       "rows": [
        [
         "5",
         "1",
         "fire",
         "1.29"
        ],
        [
         "7",
         "1",
         "grass",
         "1.0"
        ],
        [
         "14",
         "1",
         "water",
         "1.3"
        ],
        [
         "20",
         "2",
         "fire",
         "1.4"
        ],
        [
         "22",
         "2",
         "grass",
         "0.8"
        ]
       ],
       "shape": {
        "columns": 3,
        "rows": 5
       }
      },
      "text/html": [
       "<div>\n",
       "<style scoped>\n",
       "    .dataframe tbody tr th:only-of-type {\n",
       "        vertical-align: middle;\n",
       "    }\n",
       "\n",
       "    .dataframe tbody tr th {\n",
       "        vertical-align: top;\n",
       "    }\n",
       "\n",
       "    .dataframe thead th {\n",
       "        text-align: right;\n",
       "    }\n",
       "</style>\n",
       "<table border=\"1\" class=\"dataframe\">\n",
       "  <thead>\n",
       "    <tr style=\"text-align: right;\">\n",
       "      <th></th>\n",
       "      <th>generation</th>\n",
       "      <th>type_1</th>\n",
       "      <th>height</th>\n",
       "    </tr>\n",
       "  </thead>\n",
       "  <tbody>\n",
       "    <tr>\n",
       "      <th>5</th>\n",
       "      <td>1</td>\n",
       "      <td>fire</td>\n",
       "      <td>1.29</td>\n",
       "    </tr>\n",
       "    <tr>\n",
       "      <th>7</th>\n",
       "      <td>1</td>\n",
       "      <td>grass</td>\n",
       "      <td>1.00</td>\n",
       "    </tr>\n",
       "    <tr>\n",
       "      <th>14</th>\n",
       "      <td>1</td>\n",
       "      <td>water</td>\n",
       "      <td>1.30</td>\n",
       "    </tr>\n",
       "    <tr>\n",
       "      <th>20</th>\n",
       "      <td>2</td>\n",
       "      <td>fire</td>\n",
       "      <td>1.40</td>\n",
       "    </tr>\n",
       "    <tr>\n",
       "      <th>22</th>\n",
       "      <td>2</td>\n",
       "      <td>grass</td>\n",
       "      <td>0.80</td>\n",
       "    </tr>\n",
       "  </tbody>\n",
       "</table>\n",
       "</div>"
      ],
      "text/plain": [
       "    generation type_1  height\n",
       "5            1   fire    1.29\n",
       "7            1  grass    1.00\n",
       "14           1  water    1.30\n",
       "20           2   fire    1.40\n",
       "22           2  grass    0.80"
      ]
     },
     "execution_count": 16,
     "metadata": {},
     "output_type": "execute_result"
    }
   ],
   "source": [
    "df_height_trio = df.groupby(['generation', 'type_1'], as_index=False)['height'].mean()\n",
    "df_height_trio = df_height_trio[(df_height_trio['type_1'] == 'fire') | (df_height_trio['type_1'] == 'grass') | (df_height_trio['type_1'] == 'water')]\n",
    "df_height_trio.head()"
   ]
  },
  {
   "cell_type": "code",
   "execution_count": 20,
   "id": "722f7d3c",
   "metadata": {},
   "outputs": [
    {
     "data": {
      "image/png": "[encoded data removed]",
      "text/plain": [
       "<Figure size 2000x1000 with 1 Axes>"
      ]
     },
     "metadata": {},
     "output_type": "display_data"
    }
   ],
   "source": [
    "plt.figure(figsize=(20,10))\n",
    "sns.lineplot(data=df_height_trio, x='generation', y='height', hue='type_1')\n",
    "\n",
    "plt.xlabel(\"Pokemon Generation\")\n",
    "plt.ylabel(\"Generation Average Height\")\n",
    "plt.title(\"Average height by Generation and Type\")\n",
    "\n",
    "plt.show()\n"
   ]
  },
  {
   "cell_type": "markdown",
   "id": "ca9a8092",
   "metadata": {},
   "source": [
    "It seems for generation 3 the pokemon with the skewed height from fire, grass, and water is water."
   ]
  },
  {
   "cell_type": "markdown",
   "id": "c0d11122",
   "metadata": {},
   "source": [
    "## 2 Statistical Tools (20 points)\n",
    "\n",
    "For this section, use the camera dataset: `https://raw.githubusercontent.com/CUNY-CISC-3225/datasets/refs/heads/main/cameras.csv`.\n",
    "\n",
    "You may constrain your analysis to the following columns: `Release date`, `Max resolution`, `Effective pixels`, `Normal focus range`, `Weight (inc. batteries)`, and `Dimensions`.\n",
    "\n",
    "For each statistical test you perform, give the null and alternative hypothesis. Use a significance level of 5% when evaluating p values, and indicate whether you are justified in rejecting the null hypothesis.\n",
    "\n",
    "1.  Create a correlation matrix of the dataset. Find 1 interesting strong correlation and 1 interesting weak correlation. Briefly discuss what each correlation means. As part of your discussion, indicate whether each correlation is significant.\n",
    "2.  How much does max resolution increase each year? By how much?\n",
    "3.  Split the dataset in two: one for cameras released on or after 2004, and one for cameras released before 2004. Is the mean camera weight different across these time periods? Is it significant?\n",
    "4.  Using the before/after 2004 split, create a contingency table showing how many cameras were released for each brand (rows) in each time period (columns). Are there significant differences in brand distribution before and after 2004? Which brands released a very different number of cameras than expected?\n"
   ]
  },
  {
   "cell_type": "code",
   "execution_count": 28,
   "id": "9bda91eb",
   "metadata": {},
   "outputs": [
    {
     "data": {
      "application/vnd.microsoft.datawrangler.viewer.v0+json": {
       "columns": [
        {
         "name": "index",
         "rawType": "int64",
         "type": "integer"
        },
        {
         "name": "Model",
         "rawType": "object",
         "type": "string"
        },
        {
         "name": "Release date",
         "rawType": "int64",
         "type": "integer"
        },
        {
         "name": "Max resolution",
         "rawType": "float64",
         "type": "float"
        },
        {
         "name": "Low resolution",
         "rawType": "float64",
         "type": "float"
        },
        {
         "name": "Effective pixels",
         "rawType": "float64",
         "type": "float"
        },
        {
         "name": "Zoom wide (W)",
         "rawType": "float64",
         "type": "float"
        },
        {
         "name": "Zoom tele (T)",
         "rawType": "float64",
         "type": "float"
        },
        {
         "name": "Normal focus range",
         "rawType": "float64",
         "type": "float"
        },
        {
         "name": "Macro focus range",
         "rawType": "float64",
         "type": "float"
        },
        {
         "name": "Storage included",
         "rawType": "float64",
         "type": "float"
        },
        {
         "name": "Weight (inc. batteries)",
         "rawType": "float64",
         "type": "float"
        },
        {
         "name": "Dimensions",
         "rawType": "float64",
         "type": "float"
        },
        {
         "name": "Price",
         "rawType": "float64",
         "type": "float"
        },
        {
         "name": "Brand",
         "rawType": "object",
         "type": "string"
        }
       ],
       "conversionMethod": "pd.DataFrame",
       "ref": "e38ec9e5-93f7-47a7-945b-89a454c7bc69",
       "rows": [
        [
         "0",
         "Canon PowerShot 350",
         "1997",
         "640.0",
         "0.0",
         "0.0",
         "42.0",
         "42.0",
         "70.0",
         "3.0",
         "2.0",
         "320.0",
         "93.0",
         "149.0",
         "Canon"
        ],
        [
         "1",
         "Canon PowerShot 600",
         "1996",
         "832.0",
         "640.0",
         "0.0",
         "50.0",
         "50.0",
         "40.0",
         "10.0",
         "1.0",
         "460.0",
         "160.0",
         "139.0",
         "Canon"
        ],
        [
         "2",
         "Canon PowerShot A10",
         "2001",
         "1280.0",
         "1024.0",
         "1.0",
         "35.0",
         "105.0",
         "76.0",
         "16.0",
         "8.0",
         "375.0",
         "110.0",
         "139.0",
         "Canon"
        ],
        [
         "3",
         "Canon PowerShot A100",
         "2002",
         "1280.0",
         "1024.0",
         "1.0",
         "39.0",
         "39.0",
         "20.0",
         "5.0",
         "8.0",
         "225.0",
         "110.0",
         "139.0",
         "Canon"
        ],
        [
         "4",
         "Canon PowerShot A20",
         "2001",
         "1600.0",
         "1024.0",
         "1.0",
         "35.0",
         "105.0",
         "76.0",
         "16.0",
         "8.0",
         "375.0",
         "110.0",
         "139.0",
         "Canon"
        ]
       ],
       "shape": {
        "columns": 14,
        "rows": 5
       }
      },
      "text/html": [
       "<div>\n",
       "<style scoped>\n",
       "    .dataframe tbody tr th:only-of-type {\n",
       "        vertical-align: middle;\n",
       "    }\n",
       "\n",
       "    .dataframe tbody tr th {\n",
       "        vertical-align: top;\n",
       "    }\n",
       "\n",
       "    .dataframe thead th {\n",
       "        text-align: right;\n",
       "    }\n",
       "</style>\n",
       "<table border=\"1\" class=\"dataframe\">\n",
       "  <thead>\n",
       "    <tr style=\"text-align: right;\">\n",
       "      <th></th>\n",
       "      <th>Model</th>\n",
       "      <th>Release date</th>\n",
       "      <th>Max resolution</th>\n",
       "      <th>Low resolution</th>\n",
       "      <th>Effective pixels</th>\n",
       "      <th>Zoom wide (W)</th>\n",
       "      <th>Zoom tele (T)</th>\n",
       "      <th>Normal focus range</th>\n",
       "      <th>Macro focus range</th>\n",
       "      <th>Storage included</th>\n",
       "      <th>Weight (inc. batteries)</th>\n",
       "      <th>Dimensions</th>\n",
       "      <th>Price</th>\n",
       "      <th>Brand</th>\n",
       "    </tr>\n",
       "  </thead>\n",
       "  <tbody>\n",
       "    <tr>\n",
       "      <th>0</th>\n",
       "      <td>Canon PowerShot 350</td>\n",
       "      <td>1997</td>\n",
       "      <td>640.0</td>\n",
       "      <td>0.0</td>\n",
       "      <td>0.0</td>\n",
       "      <td>42.0</td>\n",
       "      <td>42.0</td>\n",
       "      <td>70.0</td>\n",
       "      <td>3.0</td>\n",
       "      <td>2.0</td>\n",
       "      <td>320.0</td>\n",
       "      <td>93.0</td>\n",
       "      <td>149.0</td>\n",
       "      <td>Canon</td>\n",
       "    </tr>\n",
       "    <tr>\n",
       "      <th>1</th>\n",
       "      <td>Canon PowerShot 600</td>\n",
       "      <td>1996</td>\n",
       "      <td>832.0</td>\n",
       "      <td>640.0</td>\n",
       "      <td>0.0</td>\n",
       "      <td>50.0</td>\n",
       "      <td>50.0</td>\n",
       "      <td>40.0</td>\n",
       "      <td>10.0</td>\n",
       "      <td>1.0</td>\n",
       "      <td>460.0</td>\n",
       "      <td>160.0</td>\n",
       "      <td>139.0</td>\n",
       "      <td>Canon</td>\n",
       "    </tr>\n",
       "    <tr>\n",
       "      <th>2</th>\n",
       "      <td>Canon PowerShot A10</td>\n",
       "      <td>2001</td>\n",
       "      <td>1280.0</td>\n",
       "      <td>1024.0</td>\n",
       "      <td>1.0</td>\n",
       "      <td>35.0</td>\n",
       "      <td>105.0</td>\n",
       "      <td>76.0</td>\n",
       "      <td>16.0</td>\n",
       "      <td>8.0</td>\n",
       "      <td>375.0</td>\n",
       "      <td>110.0</td>\n",
       "      <td>139.0</td>\n",
       "      <td>Canon</td>\n",
       "    </tr>\n",
       "    <tr>\n",
       "      <th>3</th>\n",
       "      <td>Canon PowerShot A100</td>\n",
       "      <td>2002</td>\n",
       "      <td>1280.0</td>\n",
       "      <td>1024.0</td>\n",
       "      <td>1.0</td>\n",
       "      <td>39.0</td>\n",
       "      <td>39.0</td>\n",
       "      <td>20.0</td>\n",
       "      <td>5.0</td>\n",
       "      <td>8.0</td>\n",
       "      <td>225.0</td>\n",
       "      <td>110.0</td>\n",
       "      <td>139.0</td>\n",
       "      <td>Canon</td>\n",
       "    </tr>\n",
       "    <tr>\n",
       "      <th>4</th>\n",
       "      <td>Canon PowerShot A20</td>\n",
       "      <td>2001</td>\n",
       "      <td>1600.0</td>\n",
       "      <td>1024.0</td>\n",
       "      <td>1.0</td>\n",
       "      <td>35.0</td>\n",
       "      <td>105.0</td>\n",
       "      <td>76.0</td>\n",
       "      <td>16.0</td>\n",
       "      <td>8.0</td>\n",
       "      <td>375.0</td>\n",
       "      <td>110.0</td>\n",
       "      <td>139.0</td>\n",
       "      <td>Canon</td>\n",
       "    </tr>\n",
       "  </tbody>\n",
       "</table>\n",
       "</div>"
      ],
      "text/plain": [
       "                  Model  Release date  Max resolution  Low resolution  \\\n",
       "0   Canon PowerShot 350          1997           640.0             0.0   \n",
       "1   Canon PowerShot 600          1996           832.0           640.0   \n",
       "2   Canon PowerShot A10          2001          1280.0          1024.0   \n",
       "3  Canon PowerShot A100          2002          1280.0          1024.0   \n",
       "4   Canon PowerShot A20          2001          1600.0          1024.0   \n",
       "\n",
       "   Effective pixels  Zoom wide (W)  Zoom tele (T)  Normal focus range  \\\n",
       "0               0.0           42.0           42.0                70.0   \n",
       "1               0.0           50.0           50.0                40.0   \n",
       "2               1.0           35.0          105.0                76.0   \n",
       "3               1.0           39.0           39.0                20.0   \n",
       "4               1.0           35.0          105.0                76.0   \n",
       "\n",
       "   Macro focus range  Storage included  Weight (inc. batteries)  Dimensions  \\\n",
       "0                3.0               2.0                    320.0        93.0   \n",
       "1               10.0               1.0                    460.0       160.0   \n",
       "2               16.0               8.0                    375.0       110.0   \n",
       "3                5.0               8.0                    225.0       110.0   \n",
       "4               16.0               8.0                    375.0       110.0   \n",
       "\n",
       "   Price  Brand  \n",
       "0  149.0  Canon  \n",
       "1  139.0  Canon  \n",
       "2  139.0  Canon  \n",
       "3  139.0  Canon  \n",
       "4  139.0  Canon  "
      ]
     },
     "execution_count": 28,
     "metadata": {},
     "output_type": "execute_result"
    }
   ],
   "source": [
    "df_cameras = pd.read_csv('https://raw.githubusercontent.com/CUNY-CISC-3225/datasets/refs/heads/main/cameras.csv')\n",
    "\n",
    "df_cameras.head()"
   ]
  },
  {
   "cell_type": "code",
   "execution_count": 22,
   "id": "8d8d78c0",
   "metadata": {},
   "outputs": [
    {
     "data": {
      "application/vnd.microsoft.datawrangler.viewer.v0+json": {
       "columns": [
        {
         "name": "index",
         "rawType": "int64",
         "type": "integer"
        },
        {
         "name": "Release date",
         "rawType": "int64",
         "type": "integer"
        },
        {
         "name": "Max resolution",
         "rawType": "float64",
         "type": "float"
        },
        {
         "name": "Effective pixels",
         "rawType": "float64",
         "type": "float"
        },
        {
         "name": "Normal focus range",
         "rawType": "float64",
         "type": "float"
        },
        {
         "name": "Weight (inc. batteries)",
         "rawType": "float64",
         "type": "float"
        },
        {
         "name": "Dimensions",
         "rawType": "float64",
         "type": "float"
        }
       ],
       "conversionMethod": "pd.DataFrame",
       "ref": "8fc39311-9d78-4576-95a5-696496f0b67d",
       "rows": [
        [
         "0",
         "1997",
         "640.0",
         "0.0",
         "70.0",
         "320.0",
         "93.0"
        ],
        [
         "1",
         "1996",
         "832.0",
         "0.0",
         "40.0",
         "460.0",
         "160.0"
        ],
        [
         "2",
         "2001",
         "1280.0",
         "1.0",
         "76.0",
         "375.0",
         "110.0"
        ],
        [
         "3",
         "2002",
         "1280.0",
         "1.0",
         "20.0",
         "225.0",
         "110.0"
        ],
        [
         "4",
         "2001",
         "1600.0",
         "1.0",
         "76.0",
         "375.0",
         "110.0"
        ]
       ],
       "shape": {
        "columns": 6,
        "rows": 5
       }
      },
      "text/html": [
       "<div>\n",
       "<style scoped>\n",
       "    .dataframe tbody tr th:only-of-type {\n",
       "        vertical-align: middle;\n",
       "    }\n",
       "\n",
       "    .dataframe tbody tr th {\n",
       "        vertical-align: top;\n",
       "    }\n",
       "\n",
       "    .dataframe thead th {\n",
       "        text-align: right;\n",
       "    }\n",
       "</style>\n",
       "<table border=\"1\" class=\"dataframe\">\n",
       "  <thead>\n",
       "    <tr style=\"text-align: right;\">\n",
       "      <th></th>\n",
       "      <th>Release date</th>\n",
       "      <th>Max resolution</th>\n",
       "      <th>Effective pixels</th>\n",
       "      <th>Normal focus range</th>\n",
       "      <th>Weight (inc. batteries)</th>\n",
       "      <th>Dimensions</th>\n",
       "    </tr>\n",
       "  </thead>\n",
       "  <tbody>\n",
       "    <tr>\n",
       "      <th>0</th>\n",
       "      <td>1997</td>\n",
       "      <td>640.0</td>\n",
       "      <td>0.0</td>\n",
       "      <td>70.0</td>\n",
       "      <td>320.0</td>\n",
       "      <td>93.0</td>\n",
       "    </tr>\n",
       "    <tr>\n",
       "      <th>1</th>\n",
       "      <td>1996</td>\n",
       "      <td>832.0</td>\n",
       "      <td>0.0</td>\n",
       "      <td>40.0</td>\n",
       "      <td>460.0</td>\n",
       "      <td>160.0</td>\n",
       "    </tr>\n",
       "    <tr>\n",
       "      <th>2</th>\n",
       "      <td>2001</td>\n",
       "      <td>1280.0</td>\n",
       "      <td>1.0</td>\n",
       "      <td>76.0</td>\n",
       "      <td>375.0</td>\n",
       "      <td>110.0</td>\n",
       "    </tr>\n",
       "    <tr>\n",
       "      <th>3</th>\n",
       "      <td>2002</td>\n",
       "      <td>1280.0</td>\n",
       "      <td>1.0</td>\n",
       "      <td>20.0</td>\n",
       "      <td>225.0</td>\n",
       "      <td>110.0</td>\n",
       "    </tr>\n",
       "    <tr>\n",
       "      <th>4</th>\n",
       "      <td>2001</td>\n",
       "      <td>1600.0</td>\n",
       "      <td>1.0</td>\n",
       "      <td>76.0</td>\n",
       "      <td>375.0</td>\n",
       "      <td>110.0</td>\n",
       "    </tr>\n",
       "  </tbody>\n",
       "</table>\n",
       "</div>"
      ],
      "text/plain": [
       "   Release date  Max resolution  Effective pixels  Normal focus range  \\\n",
       "0          1997           640.0               0.0                70.0   \n",
       "1          1996           832.0               0.0                40.0   \n",
       "2          2001          1280.0               1.0                76.0   \n",
       "3          2002          1280.0               1.0                20.0   \n",
       "4          2001          1600.0               1.0                76.0   \n",
       "\n",
       "   Weight (inc. batteries)  Dimensions  \n",
       "0                    320.0        93.0  \n",
       "1                    460.0       160.0  \n",
       "2                    375.0       110.0  \n",
       "3                    225.0       110.0  \n",
       "4                    375.0       110.0  "
      ]
     },
     "execution_count": 22,
     "metadata": {},
     "output_type": "execute_result"
    }
   ],
   "source": [
    "restriction_columns = ['Release date', 'Max resolution', 'Effective pixels', 'Normal focus range', 'Weight (inc. batteries)', 'Dimensions']\n",
    "df_cameras = df_cameras[restriction_columns]\n",
    "df_cameras.head()"
   ]
  },
  {
   "cell_type": "code",
   "execution_count": null,
   "id": "87f96887",
   "metadata": {},
   "outputs": [
    {
     "data": {
      "text/plain": [
       "<Axes: >"
      ]
     },
     "execution_count": 26,
     "metadata": {},
     "output_type": "execute_result"
    },
    {
     "data": {
      "image/png": "[encoded data removed]",
      "text/plain": [
       "<Figure size 1000x1000 with 2 Axes>"
      ]
     },
     "metadata": {},
     "output_type": "display_data"
    }
   ],
   "source": [
    "plt.figure(figsize=(10,10))\n",
    "sns.heatmap(df_cameras.corr(), annot=True)"
   ]
  },
  {
   "cell_type": "code",
   "execution_count": 44,
   "id": "8f18bef6",
   "metadata": {},
   "outputs": [],
   "source": [
    "from scipy import stats"
   ]
  },
  {
   "cell_type": "code",
   "execution_count": 45,
   "id": "6586a6cf",
   "metadata": {},
   "outputs": [
    {
     "data": {
      "text/plain": [
       "PearsonRResult(statistic=np.float64(0.9528890975221673), pvalue=np.float64(0.0))"
      ]
     },
     "execution_count": 45,
     "metadata": {},
     "output_type": "execute_result"
    }
   ],
   "source": [
    "stats.pearsonr(df_cameras['Effective pixels'], df_cameras['Max resolution'])"
   ]
  },
  {
   "cell_type": "code",
   "execution_count": 46,
   "id": "c3050e71",
   "metadata": {},
   "outputs": [
    {
     "data": {
      "text/plain": [
       "PearsonRResult(statistic=np.float64(0.0679107088217356), pvalue=np.float64(0.03491783831350693))"
      ]
     },
     "execution_count": 46,
     "metadata": {},
     "output_type": "execute_result"
    }
   ],
   "source": [
    "stats.pearsonr(df_cameras['Effective pixels'], df_cameras['Weight (inc. batteries)'])"
   ]
  },
  {
   "cell_type": "markdown",
   "id": "a262729b",
   "metadata": {},
   "source": [
    "For this problem the strong and weak correlations respectiely are:\n",
    "- ***Strong***\n",
    "\n",
    "    It seems the strongest is effective pixels and max resolution, it seems as either goes up the other does to. Since the correlation is 95% it is very strong!\n",
    "\n",
    "<br>\n",
    "\n",
    "- ***Weak***\n",
    "\n",
    "    It seems the weakest is pixels and weight, the correlation is just 6.8%, the correlation is definetly not statisically significant, neither has a major effective on another and is simlpy considence."
   ]
  },
  {
   "cell_type": "code",
   "execution_count": 29,
   "id": "7dcbdf2b",
   "metadata": {},
   "outputs": [
    {
     "data": {
      "application/vnd.microsoft.datawrangler.viewer.v0+json": {
       "columns": [
        {
         "name": "index",
         "rawType": "int64",
         "type": "integer"
        },
        {
         "name": "Release date",
         "rawType": "int64",
         "type": "integer"
        },
        {
         "name": "Max resolution",
         "rawType": "float64",
         "type": "float"
        }
       ],
       "conversionMethod": "pd.DataFrame",
       "ref": "92a5e361-bee3-44e5-b27b-6a326d217905",
       "rows": [
        [
         "0",
         "1994",
         "1524.0"
        ],
        [
         "1",
         "1995",
         "3060.0"
        ],
        [
         "2",
         "1996",
         "784.0"
        ],
        [
         "3",
         "1997",
         "859.4285714285714"
        ],
        [
         "4",
         "1998",
         "1282.857142857143"
        ]
       ],
       "shape": {
        "columns": 2,
        "rows": 5
       }
      },
      "text/html": [
       "<div>\n",
       "<style scoped>\n",
       "    .dataframe tbody tr th:only-of-type {\n",
       "        vertical-align: middle;\n",
       "    }\n",
       "\n",
       "    .dataframe tbody tr th {\n",
       "        vertical-align: top;\n",
       "    }\n",
       "\n",
       "    .dataframe thead th {\n",
       "        text-align: right;\n",
       "    }\n",
       "</style>\n",
       "<table border=\"1\" class=\"dataframe\">\n",
       "  <thead>\n",
       "    <tr style=\"text-align: right;\">\n",
       "      <th></th>\n",
       "      <th>Release date</th>\n",
       "      <th>Max resolution</th>\n",
       "    </tr>\n",
       "  </thead>\n",
       "  <tbody>\n",
       "    <tr>\n",
       "      <th>0</th>\n",
       "      <td>1994</td>\n",
       "      <td>1524.000000</td>\n",
       "    </tr>\n",
       "    <tr>\n",
       "      <th>1</th>\n",
       "      <td>1995</td>\n",
       "      <td>3060.000000</td>\n",
       "    </tr>\n",
       "    <tr>\n",
       "      <th>2</th>\n",
       "      <td>1996</td>\n",
       "      <td>784.000000</td>\n",
       "    </tr>\n",
       "    <tr>\n",
       "      <th>3</th>\n",
       "      <td>1997</td>\n",
       "      <td>859.428571</td>\n",
       "    </tr>\n",
       "    <tr>\n",
       "      <th>4</th>\n",
       "      <td>1998</td>\n",
       "      <td>1282.857143</td>\n",
       "    </tr>\n",
       "  </tbody>\n",
       "</table>\n",
       "</div>"
      ],
      "text/plain": [
       "   Release date  Max resolution\n",
       "0          1994     1524.000000\n",
       "1          1995     3060.000000\n",
       "2          1996      784.000000\n",
       "3          1997      859.428571\n",
       "4          1998     1282.857143"
      ]
     },
     "execution_count": 29,
     "metadata": {},
     "output_type": "execute_result"
    }
   ],
   "source": [
    "df_max_yearly = df_cameras.groupby(['Release date'], as_index=False)['Max resolution'].mean()\n",
    "df_max_yearly.head()"
   ]
  },
  {
   "cell_type": "code",
   "execution_count": 31,
   "id": "a0ac0b35",
   "metadata": {},
   "outputs": [
    {
     "data": {
      "text/plain": [
       "<Axes: xlabel='Release date', ylabel='Max resolution'>"
      ]
     },
     "execution_count": 31,
     "metadata": {},
     "output_type": "execute_result"
    },
    {
     "data": {
      "image/png": "[encoded data removed]",
      "text/plain": [
       "<Figure size 2000x1000 with 1 Axes>"
      ]
     },
     "metadata": {},
     "output_type": "display_data"
    }
   ],
   "source": [
    "plt.figure(figsize=(20,10))\n",
    "sns.regplot(data=df_max_yearly, x='Release date', y='Max resolution', line_kws={'color': 'black'})"
   ]
  },
  {
   "cell_type": "code",
   "execution_count": 32,
   "id": "31b9d481",
   "metadata": {},
   "outputs": [
    {
     "data": {
      "text/plain": [
       "LinregressResult(slope=np.float64(129.290102382717), intercept=np.float64(-256600.07053962146), rvalue=np.float64(0.6657118117376637), pvalue=np.float64(0.009355163144205678), stderr=np.float64(41.83587358913661), intercept_stderr=np.float64(83692.83503065282))"
      ]
     },
     "execution_count": 32,
     "metadata": {},
     "output_type": "execute_result"
    }
   ],
   "source": [
    "linregress_results = stats.linregress(df_max_yearly['Release date'], df_max_yearly['Max resolution'])\n",
    "linregress_results"
   ]
  },
  {
   "cell_type": "markdown",
   "id": "2573909a",
   "metadata": {},
   "source": [
    "Max resolution increases by 129.290102382717 yearly as by the stats."
   ]
  },
  {
   "cell_type": "code",
   "execution_count": 33,
   "id": "4eb76ac9",
   "metadata": {},
   "outputs": [],
   "source": [
    "df_cameras_pre_2004 = df_cameras[df_cameras['Release date'] <= 2004]\n",
    "df_cameras_post_2004 = df_cameras[df_cameras['Release date'] > 2004]"
   ]
  },
  {
   "cell_type": "code",
   "execution_count": 34,
   "id": "e4a90ad0",
   "metadata": {},
   "outputs": [
    {
     "data": {
      "application/vnd.microsoft.datawrangler.viewer.v0+json": {
       "columns": [
        {
         "name": "index",
         "rawType": "int64",
         "type": "integer"
        },
        {
         "name": "Model",
         "rawType": "object",
         "type": "string"
        },
        {
         "name": "Release date",
         "rawType": "int64",
         "type": "integer"
        },
        {
         "name": "Max resolution",
         "rawType": "float64",
         "type": "float"
        },
        {
         "name": "Low resolution",
         "rawType": "float64",
         "type": "float"
        },
        {
         "name": "Effective pixels",
         "rawType": "float64",
         "type": "float"
        },
        {
         "name": "Zoom wide (W)",
         "rawType": "float64",
         "type": "float"
        },
        {
         "name": "Zoom tele (T)",
         "rawType": "float64",
         "type": "float"
        },
        {
         "name": "Normal focus range",
         "rawType": "float64",
         "type": "float"
        },
        {
         "name": "Macro focus range",
         "rawType": "float64",
         "type": "float"
        },
        {
         "name": "Storage included",
         "rawType": "float64",
         "type": "float"
        },
        {
         "name": "Weight (inc. batteries)",
         "rawType": "float64",
         "type": "float"
        },
        {
         "name": "Dimensions",
         "rawType": "float64",
         "type": "float"
        },
        {
         "name": "Price",
         "rawType": "float64",
         "type": "float"
        },
        {
         "name": "Brand",
         "rawType": "object",
         "type": "string"
        }
       ],
       "conversionMethod": "pd.DataFrame",
       "ref": "7192e445-9c11-4668-b0f9-8404c7370812",
       "rows": [
        [
         "0",
         "Canon PowerShot 350",
         "1997",
         "640.0",
         "0.0",
         "0.0",
         "42.0",
         "42.0",
         "70.0",
         "3.0",
         "2.0",
         "320.0",
         "93.0",
         "149.0",
         "Canon"
        ],
        [
         "1",
         "Canon PowerShot 600",
         "1996",
         "832.0",
         "640.0",
         "0.0",
         "50.0",
         "50.0",
         "40.0",
         "10.0",
         "1.0",
         "460.0",
         "160.0",
         "139.0",
         "Canon"
        ],
        [
         "2",
         "Canon PowerShot A10",
         "2001",
         "1280.0",
         "1024.0",
         "1.0",
         "35.0",
         "105.0",
         "76.0",
         "16.0",
         "8.0",
         "375.0",
         "110.0",
         "139.0",
         "Canon"
        ],
        [
         "3",
         "Canon PowerShot A100",
         "2002",
         "1280.0",
         "1024.0",
         "1.0",
         "39.0",
         "39.0",
         "20.0",
         "5.0",
         "8.0",
         "225.0",
         "110.0",
         "139.0",
         "Canon"
        ],
        [
         "4",
         "Canon PowerShot A20",
         "2001",
         "1600.0",
         "1024.0",
         "1.0",
         "35.0",
         "105.0",
         "76.0",
         "16.0",
         "8.0",
         "375.0",
         "110.0",
         "139.0",
         "Canon"
        ]
       ],
       "shape": {
        "columns": 14,
        "rows": 5
       }
      },
      "text/html": [
       "<div>\n",
       "<style scoped>\n",
       "    .dataframe tbody tr th:only-of-type {\n",
       "        vertical-align: middle;\n",
       "    }\n",
       "\n",
       "    .dataframe tbody tr th {\n",
       "        vertical-align: top;\n",
       "    }\n",
       "\n",
       "    .dataframe thead th {\n",
       "        text-align: right;\n",
       "    }\n",
       "</style>\n",
       "<table border=\"1\" class=\"dataframe\">\n",
       "  <thead>\n",
       "    <tr style=\"text-align: right;\">\n",
       "      <th></th>\n",
       "      <th>Model</th>\n",
       "      <th>Release date</th>\n",
       "      <th>Max resolution</th>\n",
       "      <th>Low resolution</th>\n",
       "      <th>Effective pixels</th>\n",
       "      <th>Zoom wide (W)</th>\n",
       "      <th>Zoom tele (T)</th>\n",
       "      <th>Normal focus range</th>\n",
       "      <th>Macro focus range</th>\n",
       "      <th>Storage included</th>\n",
       "      <th>Weight (inc. batteries)</th>\n",
       "      <th>Dimensions</th>\n",
       "      <th>Price</th>\n",
       "      <th>Brand</th>\n",
       "    </tr>\n",
       "  </thead>\n",
       "  <tbody>\n",
       "    <tr>\n",
       "      <th>0</th>\n",
       "      <td>Canon PowerShot 350</td>\n",
       "      <td>1997</td>\n",
       "      <td>640.0</td>\n",
       "      <td>0.0</td>\n",
       "      <td>0.0</td>\n",
       "      <td>42.0</td>\n",
       "      <td>42.0</td>\n",
       "      <td>70.0</td>\n",
       "      <td>3.0</td>\n",
       "      <td>2.0</td>\n",
       "      <td>320.0</td>\n",
       "      <td>93.0</td>\n",
       "      <td>149.0</td>\n",
       "      <td>Canon</td>\n",
       "    </tr>\n",
       "    <tr>\n",
       "      <th>1</th>\n",
       "      <td>Canon PowerShot 600</td>\n",
       "      <td>1996</td>\n",
       "      <td>832.0</td>\n",
       "      <td>640.0</td>\n",
       "      <td>0.0</td>\n",
       "      <td>50.0</td>\n",
       "      <td>50.0</td>\n",
       "      <td>40.0</td>\n",
       "      <td>10.0</td>\n",
       "      <td>1.0</td>\n",
       "      <td>460.0</td>\n",
       "      <td>160.0</td>\n",
       "      <td>139.0</td>\n",
       "      <td>Canon</td>\n",
       "    </tr>\n",
       "    <tr>\n",
       "      <th>2</th>\n",
       "      <td>Canon PowerShot A10</td>\n",
       "      <td>2001</td>\n",
       "      <td>1280.0</td>\n",
       "      <td>1024.0</td>\n",
       "      <td>1.0</td>\n",
       "      <td>35.0</td>\n",
       "      <td>105.0</td>\n",
       "      <td>76.0</td>\n",
       "      <td>16.0</td>\n",
       "      <td>8.0</td>\n",
       "      <td>375.0</td>\n",
       "      <td>110.0</td>\n",
       "      <td>139.0</td>\n",
       "      <td>Canon</td>\n",
       "    </tr>\n",
       "    <tr>\n",
       "      <th>3</th>\n",
       "      <td>Canon PowerShot A100</td>\n",
       "      <td>2002</td>\n",
       "      <td>1280.0</td>\n",
       "      <td>1024.0</td>\n",
       "      <td>1.0</td>\n",
       "      <td>39.0</td>\n",
       "      <td>39.0</td>\n",
       "      <td>20.0</td>\n",
       "      <td>5.0</td>\n",
       "      <td>8.0</td>\n",
       "      <td>225.0</td>\n",
       "      <td>110.0</td>\n",
       "      <td>139.0</td>\n",
       "      <td>Canon</td>\n",
       "    </tr>\n",
       "    <tr>\n",
       "      <th>4</th>\n",
       "      <td>Canon PowerShot A20</td>\n",
       "      <td>2001</td>\n",
       "      <td>1600.0</td>\n",
       "      <td>1024.0</td>\n",
       "      <td>1.0</td>\n",
       "      <td>35.0</td>\n",
       "      <td>105.0</td>\n",
       "      <td>76.0</td>\n",
       "      <td>16.0</td>\n",
       "      <td>8.0</td>\n",
       "      <td>375.0</td>\n",
       "      <td>110.0</td>\n",
       "      <td>139.0</td>\n",
       "      <td>Canon</td>\n",
       "    </tr>\n",
       "  </tbody>\n",
       "</table>\n",
       "</div>"
      ],
      "text/plain": [
       "                  Model  Release date  Max resolution  Low resolution  \\\n",
       "0   Canon PowerShot 350          1997           640.0             0.0   \n",
       "1   Canon PowerShot 600          1996           832.0           640.0   \n",
       "2   Canon PowerShot A10          2001          1280.0          1024.0   \n",
       "3  Canon PowerShot A100          2002          1280.0          1024.0   \n",
       "4   Canon PowerShot A20          2001          1600.0          1024.0   \n",
       "\n",
       "   Effective pixels  Zoom wide (W)  Zoom tele (T)  Normal focus range  \\\n",
       "0               0.0           42.0           42.0                70.0   \n",
       "1               0.0           50.0           50.0                40.0   \n",
       "2               1.0           35.0          105.0                76.0   \n",
       "3               1.0           39.0           39.0                20.0   \n",
       "4               1.0           35.0          105.0                76.0   \n",
       "\n",
       "   Macro focus range  Storage included  Weight (inc. batteries)  Dimensions  \\\n",
       "0                3.0               2.0                    320.0        93.0   \n",
       "1               10.0               1.0                    460.0       160.0   \n",
       "2               16.0               8.0                    375.0       110.0   \n",
       "3                5.0               8.0                    225.0       110.0   \n",
       "4               16.0               8.0                    375.0       110.0   \n",
       "\n",
       "   Price  Brand  \n",
       "0  149.0  Canon  \n",
       "1  139.0  Canon  \n",
       "2  139.0  Canon  \n",
       "3  139.0  Canon  \n",
       "4  139.0  Canon  "
      ]
     },
     "execution_count": 34,
     "metadata": {},
     "output_type": "execute_result"
    }
   ],
   "source": [
    "df_cameras_pre_2004.head()"
   ]
  },
  {
   "cell_type": "code",
   "execution_count": 35,
   "id": "31c58e96",
   "metadata": {},
   "outputs": [
    {
     "data": {
      "application/vnd.microsoft.datawrangler.viewer.v0+json": {
       "columns": [
        {
         "name": "index",
         "rawType": "int64",
         "type": "integer"
        },
        {
         "name": "Model",
         "rawType": "object",
         "type": "string"
        },
        {
         "name": "Release date",
         "rawType": "int64",
         "type": "integer"
        },
        {
         "name": "Max resolution",
         "rawType": "float64",
         "type": "float"
        },
        {
         "name": "Low resolution",
         "rawType": "float64",
         "type": "float"
        },
        {
         "name": "Effective pixels",
         "rawType": "float64",
         "type": "float"
        },
        {
         "name": "Zoom wide (W)",
         "rawType": "float64",
         "type": "float"
        },
        {
         "name": "Zoom tele (T)",
         "rawType": "float64",
         "type": "float"
        },
        {
         "name": "Normal focus range",
         "rawType": "float64",
         "type": "float"
        },
        {
         "name": "Macro focus range",
         "rawType": "float64",
         "type": "float"
        },
        {
         "name": "Storage included",
         "rawType": "float64",
         "type": "float"
        },
        {
         "name": "Weight (inc. batteries)",
         "rawType": "float64",
         "type": "float"
        },
        {
         "name": "Dimensions",
         "rawType": "float64",
         "type": "float"
        },
        {
         "name": "Price",
         "rawType": "float64",
         "type": "float"
        },
        {
         "name": "Brand",
         "rawType": "object",
         "type": "string"
        }
       ],
       "conversionMethod": "pd.DataFrame",
       "ref": "2cd5c863-0c1f-4a2c-8474-e97d4657b213",
       "rows": [
        [
         "11",
         "Canon PowerShot A410",
         "2005",
         "2048.0",
         "1600.0",
         "3.0",
         "41.0",
         "131.0",
         "0.0",
         "1.0",
         "16.0",
         "195.0",
         "103.0",
         "139.0",
         "Canon"
        ],
        [
         "12",
         "Canon PowerShot A420",
         "2006",
         "2272.0",
         "1600.0",
         "4.0",
         "39.0",
         "125.0",
         "47.0",
         "1.0",
         "16.0",
         "200.0",
         "103.0",
         "139.0",
         "Canon"
        ],
        [
         "13",
         "Canon PowerShot A430",
         "2006",
         "2272.0",
         "1600.0",
         "4.0",
         "39.0",
         "156.0",
         "47.0",
         "1.0",
         "16.0",
         "210.0",
         "103.0",
         "139.0",
         "Canon"
        ],
        [
         "14",
         "Canon PowerShot A450",
         "2007",
         "2592.0",
         "2048.0",
         "5.0",
         "38.0",
         "122.0",
         "47.0",
         "1.0",
         "16.0",
         "215.0",
         "106.0",
         "139.0",
         "Canon"
        ],
        [
         "15",
         "Canon PowerShot A460",
         "2007",
         "2592.0",
         "2048.0",
         "5.0",
         "38.0",
         "152.0",
         "47.0",
         "1.0",
         "16.0",
         "215.0",
         "106.0",
         "139.0",
         "Canon"
        ]
       ],
       "shape": {
        "columns": 14,
        "rows": 5
       }
      },
      "text/html": [
       "<div>\n",
       "<style scoped>\n",
       "    .dataframe tbody tr th:only-of-type {\n",
       "        vertical-align: middle;\n",
       "    }\n",
       "\n",
       "    .dataframe tbody tr th {\n",
       "        vertical-align: top;\n",
       "    }\n",
       "\n",
       "    .dataframe thead th {\n",
       "        text-align: right;\n",
       "    }\n",
       "</style>\n",
       "<table border=\"1\" class=\"dataframe\">\n",
       "  <thead>\n",
       "    <tr style=\"text-align: right;\">\n",
       "      <th></th>\n",
       "      <th>Model</th>\n",
       "      <th>Release date</th>\n",
       "      <th>Max resolution</th>\n",
       "      <th>Low resolution</th>\n",
       "      <th>Effective pixels</th>\n",
       "      <th>Zoom wide (W)</th>\n",
       "      <th>Zoom tele (T)</th>\n",
       "      <th>Normal focus range</th>\n",
       "      <th>Macro focus range</th>\n",
       "      <th>Storage included</th>\n",
       "      <th>Weight (inc. batteries)</th>\n",
       "      <th>Dimensions</th>\n",
       "      <th>Price</th>\n",
       "      <th>Brand</th>\n",
       "    </tr>\n",
       "  </thead>\n",
       "  <tbody>\n",
       "    <tr>\n",
       "      <th>11</th>\n",
       "      <td>Canon PowerShot A410</td>\n",
       "      <td>2005</td>\n",
       "      <td>2048.0</td>\n",
       "      <td>1600.0</td>\n",
       "      <td>3.0</td>\n",
       "      <td>41.0</td>\n",
       "      <td>131.0</td>\n",
       "      <td>0.0</td>\n",
       "      <td>1.0</td>\n",
       "      <td>16.0</td>\n",
       "      <td>195.0</td>\n",
       "      <td>103.0</td>\n",
       "      <td>139.0</td>\n",
       "      <td>Canon</td>\n",
       "    </tr>\n",
       "    <tr>\n",
       "      <th>12</th>\n",
       "      <td>Canon PowerShot A420</td>\n",
       "      <td>2006</td>\n",
       "      <td>2272.0</td>\n",
       "      <td>1600.0</td>\n",
       "      <td>4.0</td>\n",
       "      <td>39.0</td>\n",
       "      <td>125.0</td>\n",
       "      <td>47.0</td>\n",
       "      <td>1.0</td>\n",
       "      <td>16.0</td>\n",
       "      <td>200.0</td>\n",
       "      <td>103.0</td>\n",
       "      <td>139.0</td>\n",
       "      <td>Canon</td>\n",
       "    </tr>\n",
       "    <tr>\n",
       "      <th>13</th>\n",
       "      <td>Canon PowerShot A430</td>\n",
       "      <td>2006</td>\n",
       "      <td>2272.0</td>\n",
       "      <td>1600.0</td>\n",
       "      <td>4.0</td>\n",
       "      <td>39.0</td>\n",
       "      <td>156.0</td>\n",
       "      <td>47.0</td>\n",
       "      <td>1.0</td>\n",
       "      <td>16.0</td>\n",
       "      <td>210.0</td>\n",
       "      <td>103.0</td>\n",
       "      <td>139.0</td>\n",
       "      <td>Canon</td>\n",
       "    </tr>\n",
       "    <tr>\n",
       "      <th>14</th>\n",
       "      <td>Canon PowerShot A450</td>\n",
       "      <td>2007</td>\n",
       "      <td>2592.0</td>\n",
       "      <td>2048.0</td>\n",
       "      <td>5.0</td>\n",
       "      <td>38.0</td>\n",
       "      <td>122.0</td>\n",
       "      <td>47.0</td>\n",
       "      <td>1.0</td>\n",
       "      <td>16.0</td>\n",
       "      <td>215.0</td>\n",
       "      <td>106.0</td>\n",
       "      <td>139.0</td>\n",
       "      <td>Canon</td>\n",
       "    </tr>\n",
       "    <tr>\n",
       "      <th>15</th>\n",
       "      <td>Canon PowerShot A460</td>\n",
       "      <td>2007</td>\n",
       "      <td>2592.0</td>\n",
       "      <td>2048.0</td>\n",
       "      <td>5.0</td>\n",
       "      <td>38.0</td>\n",
       "      <td>152.0</td>\n",
       "      <td>47.0</td>\n",
       "      <td>1.0</td>\n",
       "      <td>16.0</td>\n",
       "      <td>215.0</td>\n",
       "      <td>106.0</td>\n",
       "      <td>139.0</td>\n",
       "      <td>Canon</td>\n",
       "    </tr>\n",
       "  </tbody>\n",
       "</table>\n",
       "</div>"
      ],
      "text/plain": [
       "                   Model  Release date  Max resolution  Low resolution  \\\n",
       "11  Canon PowerShot A410          2005          2048.0          1600.0   \n",
       "12  Canon PowerShot A420          2006          2272.0          1600.0   \n",
       "13  Canon PowerShot A430          2006          2272.0          1600.0   \n",
       "14  Canon PowerShot A450          2007          2592.0          2048.0   \n",
       "15  Canon PowerShot A460          2007          2592.0          2048.0   \n",
       "\n",
       "    Effective pixels  Zoom wide (W)  Zoom tele (T)  Normal focus range  \\\n",
       "11               3.0           41.0          131.0                 0.0   \n",
       "12               4.0           39.0          125.0                47.0   \n",
       "13               4.0           39.0          156.0                47.0   \n",
       "14               5.0           38.0          122.0                47.0   \n",
       "15               5.0           38.0          152.0                47.0   \n",
       "\n",
       "    Macro focus range  Storage included  Weight (inc. batteries)  Dimensions  \\\n",
       "11                1.0              16.0                    195.0       103.0   \n",
       "12                1.0              16.0                    200.0       103.0   \n",
       "13                1.0              16.0                    210.0       103.0   \n",
       "14                1.0              16.0                    215.0       106.0   \n",
       "15                1.0              16.0                    215.0       106.0   \n",
       "\n",
       "    Price  Brand  \n",
       "11  139.0  Canon  \n",
       "12  139.0  Canon  \n",
       "13  139.0  Canon  \n",
       "14  139.0  Canon  \n",
       "15  139.0  Canon  "
      ]
     },
     "execution_count": 35,
     "metadata": {},
     "output_type": "execute_result"
    }
   ],
   "source": [
    "df_cameras_post_2004.head()"
   ]
  },
  {
   "cell_type": "code",
   "execution_count": 37,
   "id": "42aeaedb",
   "metadata": {},
   "outputs": [],
   "source": [
    "pre_2004_weight = df_cameras_pre_2004.groupby('Release date', as_index=False)['Weight (inc. batteries)'].mean()\n",
    "post_2004_weight = df_cameras_post_2004.groupby('Release date', as_index=False)['Weight (inc. batteries)'].mean()"
   ]
  },
  {
   "cell_type": "code",
   "execution_count": 41,
   "id": "869e1af7",
   "metadata": {},
   "outputs": [
    {
     "name": "stdout",
     "output_type": "stream",
     "text": [
      "373.7627450980392\n",
      "265.4879120879121\n"
     ]
    }
   ],
   "source": [
    "print(df_cameras_pre_2004['Weight (inc. batteries)'].mean())\n",
    "print(df_cameras_post_2004['Weight (inc. batteries)'].mean())"
   ]
  },
  {
   "cell_type": "code",
   "execution_count": 39,
   "id": "2d3238df",
   "metadata": {},
   "outputs": [
    {
     "data": {
      "application/vnd.microsoft.datawrangler.viewer.v0+json": {
       "columns": [
        {
         "name": "index",
         "rawType": "int64",
         "type": "integer"
        },
        {
         "name": "Release date",
         "rawType": "int64",
         "type": "integer"
        },
        {
         "name": "Weight (inc. batteries)",
         "rawType": "float64",
         "type": "float"
        }
       ],
       "conversionMethod": "pd.DataFrame",
       "ref": "95aa4849-ca09-463c-abcc-64472fe81177",
       "rows": [
        [
         "0",
         "1994",
         "1700.0"
        ],
        [
         "1",
         "1995",
         "1700.0"
        ],
        [
         "2",
         "1996",
         "347.5"
        ],
        [
         "3",
         "1997",
         "321.42857142857144"
        ],
        [
         "4",
         "1998",
         "563.9285714285714"
        ]
       ],
       "shape": {
        "columns": 2,
        "rows": 5
       }
      },
      "text/html": [
       "<div>\n",
       "<style scoped>\n",
       "    .dataframe tbody tr th:only-of-type {\n",
       "        vertical-align: middle;\n",
       "    }\n",
       "\n",
       "    .dataframe tbody tr th {\n",
       "        vertical-align: top;\n",
       "    }\n",
       "\n",
       "    .dataframe thead th {\n",
       "        text-align: right;\n",
       "    }\n",
       "</style>\n",
       "<table border=\"1\" class=\"dataframe\">\n",
       "  <thead>\n",
       "    <tr style=\"text-align: right;\">\n",
       "      <th></th>\n",
       "      <th>Release date</th>\n",
       "      <th>Weight (inc. batteries)</th>\n",
       "    </tr>\n",
       "  </thead>\n",
       "  <tbody>\n",
       "    <tr>\n",
       "      <th>0</th>\n",
       "      <td>1994</td>\n",
       "      <td>1700.000000</td>\n",
       "    </tr>\n",
       "    <tr>\n",
       "      <th>1</th>\n",
       "      <td>1995</td>\n",
       "      <td>1700.000000</td>\n",
       "    </tr>\n",
       "    <tr>\n",
       "      <th>2</th>\n",
       "      <td>1996</td>\n",
       "      <td>347.500000</td>\n",
       "    </tr>\n",
       "    <tr>\n",
       "      <th>3</th>\n",
       "      <td>1997</td>\n",
       "      <td>321.428571</td>\n",
       "    </tr>\n",
       "    <tr>\n",
       "      <th>4</th>\n",
       "      <td>1998</td>\n",
       "      <td>563.928571</td>\n",
       "    </tr>\n",
       "  </tbody>\n",
       "</table>\n",
       "</div>"
      ],
      "text/plain": [
       "   Release date  Weight (inc. batteries)\n",
       "0          1994              1700.000000\n",
       "1          1995              1700.000000\n",
       "2          1996               347.500000\n",
       "3          1997               321.428571\n",
       "4          1998               563.928571"
      ]
     },
     "execution_count": 39,
     "metadata": {},
     "output_type": "execute_result"
    }
   ],
   "source": [
    "pre_2004_weight.head()"
   ]
  },
  {
   "cell_type": "code",
   "execution_count": 40,
   "id": "947ef4bb",
   "metadata": {},
   "outputs": [
    {
     "data": {
      "application/vnd.microsoft.datawrangler.viewer.v0+json": {
       "columns": [
        {
         "name": "index",
         "rawType": "int64",
         "type": "integer"
        },
        {
         "name": "Release date",
         "rawType": "int64",
         "type": "integer"
        },
        {
         "name": "Weight (inc. batteries)",
         "rawType": "float64",
         "type": "float"
        }
       ],
       "conversionMethod": "pd.DataFrame",
       "ref": "2dd0c8ba-b5b0-455b-a035-917e24886f8f",
       "rows": [
        [
         "0",
         "2005",
         "273.72027972027973"
        ],
        [
         "1",
         "2006",
         "274.78"
        ],
        [
         "2",
         "2007",
         "249.6172839506173"
        ]
       ],
       "shape": {
        "columns": 2,
        "rows": 3
       }
      },
      "text/html": [
       "<div>\n",
       "<style scoped>\n",
       "    .dataframe tbody tr th:only-of-type {\n",
       "        vertical-align: middle;\n",
       "    }\n",
       "\n",
       "    .dataframe tbody tr th {\n",
       "        vertical-align: top;\n",
       "    }\n",
       "\n",
       "    .dataframe thead th {\n",
       "        text-align: right;\n",
       "    }\n",
       "</style>\n",
       "<table border=\"1\" class=\"dataframe\">\n",
       "  <thead>\n",
       "    <tr style=\"text-align: right;\">\n",
       "      <th></th>\n",
       "      <th>Release date</th>\n",
       "      <th>Weight (inc. batteries)</th>\n",
       "    </tr>\n",
       "  </thead>\n",
       "  <tbody>\n",
       "    <tr>\n",
       "      <th>0</th>\n",
       "      <td>2005</td>\n",
       "      <td>273.720280</td>\n",
       "    </tr>\n",
       "    <tr>\n",
       "      <th>1</th>\n",
       "      <td>2006</td>\n",
       "      <td>274.780000</td>\n",
       "    </tr>\n",
       "    <tr>\n",
       "      <th>2</th>\n",
       "      <td>2007</td>\n",
       "      <td>249.617284</td>\n",
       "    </tr>\n",
       "  </tbody>\n",
       "</table>\n",
       "</div>"
      ],
      "text/plain": [
       "   Release date  Weight (inc. batteries)\n",
       "0          2005               273.720280\n",
       "1          2006               274.780000\n",
       "2          2007               249.617284"
      ]
     },
     "execution_count": 40,
     "metadata": {},
     "output_type": "execute_result"
    }
   ],
   "source": [
    "post_2004_weight.head()"
   ]
  },
  {
   "cell_type": "markdown",
   "id": "132252d0",
   "metadata": {},
   "source": [
    "It seems not only generally is the mean weight of the time periods greater in the pre 2004 era, but every year after is lower than any year in the pre time period but around the same weight."
   ]
  },
  {
   "cell_type": "code",
   "execution_count": null,
   "id": "bae058db",
   "metadata": {},
   "outputs": [],
   "source": []
  }
 ],
 "metadata": {
  "kernelspec": {
   "display_name": ".venv",
   "language": "python",
   "name": "python3"
  },
  "language_info": {
   "codemirror_mode": {
    "name": "ipython",
    "version": 3
   },
   "file_extension": ".py",
   "mimetype": "text/x-python",
   "name": "python",
   "nbconvert_exporter": "python",
   "pygments_lexer": "ipython3",
   "version": "3.12.3"
  }
 },
 "nbformat": 4,
 "nbformat_minor": 5
}
